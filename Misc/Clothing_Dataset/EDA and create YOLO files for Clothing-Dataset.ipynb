{
 "cells": [
  {
   "cell_type": "code",
   "execution_count": 1,
   "id": "seventh-healthcare",
   "metadata": {},
   "outputs": [],
   "source": [
    "import gzip\n",
    "import zipfile\n",
    "import pandas as pd\n",
    "import numpy as np\n",
    "import matplotlib.pyplot as plt\n",
    "import cv2\n",
    "from tqdm.notebook import tqdm\n",
    "from PIL import Image\n",
    "import os\n",
    "import shutil\n",
    "import json\n",
    "import io"
   ]
  },
  {
   "cell_type": "markdown",
   "id": "ranking-orientation",
   "metadata": {},
   "source": [
    "# Inspect full image archive without extracting all files"
   ]
  },
  {
   "cell_type": "code",
   "execution_count": 2,
   "id": "heard-toyota",
   "metadata": {},
   "outputs": [
    {
     "name": "stdout",
     "output_type": "stream",
     "text": [
      "CPU times: user 105 ms, sys: 5.26 ms, total: 110 ms\n",
      "Wall time: 110 ms\n"
     ]
    }
   ],
   "source": [
    "%%time\n",
    "# https://github.com/alexeygrigorev/clothing-dataset\n",
    "zipf = zipfile.ZipFile('clothing_dataset.zip')"
   ]
  },
  {
   "cell_type": "code",
   "execution_count": 3,
   "id": "addressed-prevention",
   "metadata": {},
   "outputs": [],
   "source": [
    "filenames = zipf.namelist()\n",
    "df = pd.DataFrame([x.split('/') for x in filenames[:]], columns=['root_path', 'filename'])\n",
    "df['path'] = filenames"
   ]
  },
  {
   "cell_type": "code",
   "execution_count": 4,
   "id": "pressed-following",
   "metadata": {},
   "outputs": [
    {
     "name": "stdout",
     "output_type": "stream",
     "text": [
      "11524\n"
     ]
    },
    {
     "data": {
      "text/html": [
       "<div>\n",
       "<style scoped>\n",
       "    .dataframe tbody tr th:only-of-type {\n",
       "        vertical-align: middle;\n",
       "    }\n",
       "\n",
       "    .dataframe tbody tr th {\n",
       "        vertical-align: top;\n",
       "    }\n",
       "\n",
       "    .dataframe thead th {\n",
       "        text-align: right;\n",
       "    }\n",
       "</style>\n",
       "<table border=\"1\" class=\"dataframe\">\n",
       "  <thead>\n",
       "    <tr style=\"text-align: right;\">\n",
       "      <th></th>\n",
       "      <th>index</th>\n",
       "      <th>root_path</th>\n",
       "      <th>filename</th>\n",
       "      <th>path</th>\n",
       "      <th>image</th>\n",
       "    </tr>\n",
       "  </thead>\n",
       "  <tbody>\n",
       "    <tr>\n",
       "      <th>6020</th>\n",
       "      <td>6021</td>\n",
       "      <td>images_original</td>\n",
       "      <td>0b1cc7a6-be78-45e6-be22-2ad00b107328.jpg</td>\n",
       "      <td>images_original/0b1cc7a6-be78-45e6-be22-2ad00b...</td>\n",
       "      <td>0b1cc7a6-be78-45e6-be22-2ad00b107328</td>\n",
       "    </tr>\n",
       "    <tr>\n",
       "      <th>11312</th>\n",
       "      <td>11313</td>\n",
       "      <td>images_original</td>\n",
       "      <td>f774012e-46d4-4cd6-a22b-b16f1262e613.jpg</td>\n",
       "      <td>images_original/f774012e-46d4-4cd6-a22b-b16f12...</td>\n",
       "      <td>f774012e-46d4-4cd6-a22b-b16f1262e613</td>\n",
       "    </tr>\n",
       "    <tr>\n",
       "      <th>371</th>\n",
       "      <td>372</td>\n",
       "      <td>images_compressed</td>\n",
       "      <td>106b79da-fc83-4be8-b138-0dc23b701541.jpg</td>\n",
       "      <td>images_compressed/106b79da-fc83-4be8-b138-0dc2...</td>\n",
       "      <td>106b79da-fc83-4be8-b138-0dc23b701541</td>\n",
       "    </tr>\n",
       "    <tr>\n",
       "      <th>7646</th>\n",
       "      <td>7647</td>\n",
       "      <td>images_original</td>\n",
       "      <td>5369c103-dfa5-4484-af22-17b7adbf55f9.jpg</td>\n",
       "      <td>images_original/5369c103-dfa5-4484-af22-17b7ad...</td>\n",
       "      <td>5369c103-dfa5-4484-af22-17b7adbf55f9</td>\n",
       "    </tr>\n",
       "    <tr>\n",
       "      <th>11384</th>\n",
       "      <td>11385</td>\n",
       "      <td>images_original</td>\n",
       "      <td>fa5fe172-a5b0-465a-bf25-7e22e7af43cf.jpg</td>\n",
       "      <td>images_original/fa5fe172-a5b0-465a-bf25-7e22e7...</td>\n",
       "      <td>fa5fe172-a5b0-465a-bf25-7e22e7af43cf</td>\n",
       "    </tr>\n",
       "  </tbody>\n",
       "</table>\n",
       "</div>"
      ],
      "text/plain": [
       "       index          root_path                                  filename  \\\n",
       "6020    6021    images_original  0b1cc7a6-be78-45e6-be22-2ad00b107328.jpg   \n",
       "11312  11313    images_original  f774012e-46d4-4cd6-a22b-b16f1262e613.jpg   \n",
       "371      372  images_compressed  106b79da-fc83-4be8-b138-0dc23b701541.jpg   \n",
       "7646    7647    images_original  5369c103-dfa5-4484-af22-17b7adbf55f9.jpg   \n",
       "11384  11385    images_original  fa5fe172-a5b0-465a-bf25-7e22e7af43cf.jpg   \n",
       "\n",
       "                                                    path  \\\n",
       "6020   images_original/0b1cc7a6-be78-45e6-be22-2ad00b...   \n",
       "11312  images_original/f774012e-46d4-4cd6-a22b-b16f12...   \n",
       "371    images_compressed/106b79da-fc83-4be8-b138-0dc2...   \n",
       "7646   images_original/5369c103-dfa5-4484-af22-17b7ad...   \n",
       "11384  images_original/fa5fe172-a5b0-465a-bf25-7e22e7...   \n",
       "\n",
       "                                      image  \n",
       "6020   0b1cc7a6-be78-45e6-be22-2ad00b107328  \n",
       "11312  f774012e-46d4-4cd6-a22b-b16f1262e613  \n",
       "371    106b79da-fc83-4be8-b138-0dc23b701541  \n",
       "7646   5369c103-dfa5-4484-af22-17b7adbf55f9  \n",
       "11384  fa5fe172-a5b0-465a-bf25-7e22e7af43cf  "
      ]
     },
     "execution_count": 4,
     "metadata": {},
     "output_type": "execute_result"
    }
   ],
   "source": [
    "df = df.dropna()\n",
    "df = df[df.filename != '']\n",
    "df = df.reset_index()\n",
    "df['image'] = df.filename.apply(lambda x: x.split('.')[0])\n",
    "print(len(df))\n",
    "df.sample(n=5)"
   ]
  },
  {
   "cell_type": "code",
   "execution_count": 5,
   "id": "silver-phrase",
   "metadata": {},
   "outputs": [
    {
     "name": "stdout",
     "output_type": "stream",
     "text": [
      "uncompressed size = 7.07 GB\n"
     ]
    }
   ],
   "source": [
    "osize = 0 \n",
    "for item in zipf.infolist():\n",
    "    osize += item.file_size\n",
    "print('uncompressed size =',round(osize/1000000000,2),'GB')"
   ]
  },
  {
   "cell_type": "markdown",
   "id": "adaptive-tackle",
   "metadata": {},
   "source": [
    "### Load category data"
   ]
  },
  {
   "cell_type": "code",
   "execution_count": 6,
   "id": "caring-block",
   "metadata": {},
   "outputs": [],
   "source": [
    "df_meta = pd.read_csv('clothing-dataset.csv')"
   ]
  },
  {
   "cell_type": "code",
   "execution_count": 7,
   "id": "stupid-moses",
   "metadata": {},
   "outputs": [],
   "source": [
    "df = pd.merge(df, df_meta, on='image')"
   ]
  },
  {
   "cell_type": "markdown",
   "id": "russian-armstrong",
   "metadata": {},
   "source": [
    "# Basic EDA\n"
   ]
  },
  {
   "cell_type": "code",
   "execution_count": 8,
   "id": "premier-birthday",
   "metadata": {},
   "outputs": [
    {
     "name": "stdout",
     "output_type": "stream",
     "text": [
      "['Blazer' 'Blouse' 'Body' 'Dress' 'Hat' 'Hoodie' 'Longsleeve' 'Not sure'\n",
      " 'Other' 'Outwear' 'Pants' 'Polo' 'Shirt' 'Shoes' 'Shorts' 'Skip' 'Skirt'\n",
      " 'T-Shirt' 'Top' 'Undershirt']\n"
     ]
    },
    {
     "data": {
      "text/plain": [
       "20"
      ]
     },
     "execution_count": 8,
     "metadata": {},
     "output_type": "execute_result"
    }
   ],
   "source": [
    "print(np.unique(df.label.values))\n",
    "len(np.unique(df.label.values))"
   ]
  },
  {
   "cell_type": "code",
   "execution_count": 9,
   "id": "individual-experiment",
   "metadata": {},
   "outputs": [
    {
     "data": {
      "text/html": [
       "<div>\n",
       "<style scoped>\n",
       "    .dataframe tbody tr th:only-of-type {\n",
       "        vertical-align: middle;\n",
       "    }\n",
       "\n",
       "    .dataframe tbody tr th {\n",
       "        vertical-align: top;\n",
       "    }\n",
       "\n",
       "    .dataframe thead th {\n",
       "        text-align: right;\n",
       "    }\n",
       "</style>\n",
       "<table border=\"1\" class=\"dataframe\">\n",
       "  <thead>\n",
       "    <tr style=\"text-align: right;\">\n",
       "      <th></th>\n",
       "      <th>index</th>\n",
       "      <th>root_path</th>\n",
       "      <th>filename</th>\n",
       "      <th>path</th>\n",
       "      <th>image</th>\n",
       "      <th>sender_id</th>\n",
       "      <th>kids</th>\n",
       "    </tr>\n",
       "    <tr>\n",
       "      <th>label</th>\n",
       "      <th></th>\n",
       "      <th></th>\n",
       "      <th></th>\n",
       "      <th></th>\n",
       "      <th></th>\n",
       "      <th></th>\n",
       "      <th></th>\n",
       "    </tr>\n",
       "  </thead>\n",
       "  <tbody>\n",
       "    <tr>\n",
       "      <th>T-Shirt</th>\n",
       "      <td>2022</td>\n",
       "      <td>2022</td>\n",
       "      <td>2022</td>\n",
       "      <td>2022</td>\n",
       "      <td>2022</td>\n",
       "      <td>2022</td>\n",
       "      <td>2022</td>\n",
       "    </tr>\n",
       "    <tr>\n",
       "      <th>Longsleeve</th>\n",
       "      <td>1398</td>\n",
       "      <td>1398</td>\n",
       "      <td>1398</td>\n",
       "      <td>1398</td>\n",
       "      <td>1398</td>\n",
       "      <td>1398</td>\n",
       "      <td>1398</td>\n",
       "    </tr>\n",
       "    <tr>\n",
       "      <th>Pants</th>\n",
       "      <td>1384</td>\n",
       "      <td>1384</td>\n",
       "      <td>1384</td>\n",
       "      <td>1384</td>\n",
       "      <td>1384</td>\n",
       "      <td>1384</td>\n",
       "      <td>1384</td>\n",
       "    </tr>\n",
       "    <tr>\n",
       "      <th>Shoes</th>\n",
       "      <td>862</td>\n",
       "      <td>862</td>\n",
       "      <td>862</td>\n",
       "      <td>862</td>\n",
       "      <td>862</td>\n",
       "      <td>862</td>\n",
       "      <td>862</td>\n",
       "    </tr>\n",
       "    <tr>\n",
       "      <th>Shirt</th>\n",
       "      <td>756</td>\n",
       "      <td>756</td>\n",
       "      <td>756</td>\n",
       "      <td>756</td>\n",
       "      <td>756</td>\n",
       "      <td>756</td>\n",
       "      <td>756</td>\n",
       "    </tr>\n",
       "    <tr>\n",
       "      <th>Dress</th>\n",
       "      <td>714</td>\n",
       "      <td>714</td>\n",
       "      <td>714</td>\n",
       "      <td>714</td>\n",
       "      <td>714</td>\n",
       "      <td>714</td>\n",
       "      <td>714</td>\n",
       "    </tr>\n",
       "    <tr>\n",
       "      <th>Outwear</th>\n",
       "      <td>624</td>\n",
       "      <td>624</td>\n",
       "      <td>624</td>\n",
       "      <td>624</td>\n",
       "      <td>624</td>\n",
       "      <td>624</td>\n",
       "      <td>624</td>\n",
       "    </tr>\n",
       "    <tr>\n",
       "      <th>Shorts</th>\n",
       "      <td>616</td>\n",
       "      <td>616</td>\n",
       "      <td>616</td>\n",
       "      <td>616</td>\n",
       "      <td>616</td>\n",
       "      <td>616</td>\n",
       "      <td>616</td>\n",
       "    </tr>\n",
       "    <tr>\n",
       "      <th>Not sure</th>\n",
       "      <td>456</td>\n",
       "      <td>456</td>\n",
       "      <td>456</td>\n",
       "      <td>456</td>\n",
       "      <td>456</td>\n",
       "      <td>456</td>\n",
       "      <td>456</td>\n",
       "    </tr>\n",
       "    <tr>\n",
       "      <th>Hat</th>\n",
       "      <td>342</td>\n",
       "      <td>342</td>\n",
       "      <td>342</td>\n",
       "      <td>342</td>\n",
       "      <td>342</td>\n",
       "      <td>342</td>\n",
       "      <td>342</td>\n",
       "    </tr>\n",
       "    <tr>\n",
       "      <th>Skirt</th>\n",
       "      <td>310</td>\n",
       "      <td>310</td>\n",
       "      <td>310</td>\n",
       "      <td>310</td>\n",
       "      <td>310</td>\n",
       "      <td>310</td>\n",
       "      <td>310</td>\n",
       "    </tr>\n",
       "    <tr>\n",
       "      <th>Polo</th>\n",
       "      <td>240</td>\n",
       "      <td>240</td>\n",
       "      <td>240</td>\n",
       "      <td>240</td>\n",
       "      <td>240</td>\n",
       "      <td>240</td>\n",
       "      <td>240</td>\n",
       "    </tr>\n",
       "    <tr>\n",
       "      <th>Undershirt</th>\n",
       "      <td>236</td>\n",
       "      <td>236</td>\n",
       "      <td>236</td>\n",
       "      <td>236</td>\n",
       "      <td>236</td>\n",
       "      <td>236</td>\n",
       "      <td>236</td>\n",
       "    </tr>\n",
       "    <tr>\n",
       "      <th>Blazer</th>\n",
       "      <td>218</td>\n",
       "      <td>218</td>\n",
       "      <td>218</td>\n",
       "      <td>218</td>\n",
       "      <td>218</td>\n",
       "      <td>218</td>\n",
       "      <td>218</td>\n",
       "    </tr>\n",
       "    <tr>\n",
       "      <th>Hoodie</th>\n",
       "      <td>200</td>\n",
       "      <td>200</td>\n",
       "      <td>200</td>\n",
       "      <td>200</td>\n",
       "      <td>200</td>\n",
       "      <td>200</td>\n",
       "      <td>200</td>\n",
       "    </tr>\n",
       "  </tbody>\n",
       "</table>\n",
       "</div>"
      ],
      "text/plain": [
       "            index  root_path  filename  path  image  sender_id  kids\n",
       "label                                                               \n",
       "T-Shirt      2022       2022      2022  2022   2022       2022  2022\n",
       "Longsleeve   1398       1398      1398  1398   1398       1398  1398\n",
       "Pants        1384       1384      1384  1384   1384       1384  1384\n",
       "Shoes         862        862       862   862    862        862   862\n",
       "Shirt         756        756       756   756    756        756   756\n",
       "Dress         714        714       714   714    714        714   714\n",
       "Outwear       624        624       624   624    624        624   624\n",
       "Shorts        616        616       616   616    616        616   616\n",
       "Not sure      456        456       456   456    456        456   456\n",
       "Hat           342        342       342   342    342        342   342\n",
       "Skirt         310        310       310   310    310        310   310\n",
       "Polo          240        240       240   240    240        240   240\n",
       "Undershirt    236        236       236   236    236        236   236\n",
       "Blazer        218        218       218   218    218        218   218\n",
       "Hoodie        200        200       200   200    200        200   200"
      ]
     },
     "execution_count": 9,
     "metadata": {},
     "output_type": "execute_result"
    }
   ],
   "source": [
    "df.groupby('label').count().sort_values('image', ascending=False)[:15]"
   ]
  },
  {
   "cell_type": "markdown",
   "id": "geographic-sitting",
   "metadata": {},
   "source": [
    "### Inspect a few sample images and corresponding bounding boxes (BBOX is 100% for these)"
   ]
  },
  {
   "cell_type": "code",
   "execution_count": 10,
   "id": "biblical-subsection",
   "metadata": {},
   "outputs": [],
   "source": [
    "df = df[df.root_path=='images_original']"
   ]
  },
  {
   "cell_type": "code",
   "execution_count": 11,
   "id": "norman-telephone",
   "metadata": {},
   "outputs": [
    {
     "data": {
      "text/plain": [
       "5403"
      ]
     },
     "execution_count": 11,
     "metadata": {},
     "output_type": "execute_result"
    }
   ],
   "source": [
    "len(df)"
   ]
  },
  {
   "cell_type": "code",
   "execution_count": 12,
   "id": "billion-disclosure",
   "metadata": {},
   "outputs": [
    {
     "data": {
      "image/png": "[encoded data removed]",
      "text/plain": [
       "<Figure size 640x480 with 5 Axes>"
      ]
     },
     "metadata": {},
     "output_type": "display_data"
    }
   ],
   "source": [
    "samples = df[df.label=='Polo'].sample(5)\n",
    "\n",
    "fig, ax = plt.subplots(1,5)\n",
    "i=0\n",
    "for idx, row in samples.iterrows():\n",
    "    img = Image.open(io.BytesIO(zipf.read(row.path)))\n",
    "    ax[i].imshow(img)\n",
    "    i+=1\n",
    "plt.show()"
   ]
  },
  {
   "cell_type": "markdown",
   "id": "built-maintenance",
   "metadata": {},
   "source": [
    "# Merge & Filter Categories\n",
    "\n",
    "By inspecting a few samples images I noticed that:\n",
    "\n",
    "- Shorts and skirts are visually very similar\n",
    "- Shirts contains both short and long-sleeve\n",
    "- Short-sleeve can include T's and Polos\n",
    "\n",
    "Actions:\n",
    "- Merge shorts and skirts\n",
    "- Include all polos and sample of T-shirts\n",
    "- Keep Pants and Longsleeve"
   ]
  },
  {
   "cell_type": "code",
   "execution_count": 13,
   "id": "needed-capacity",
   "metadata": {},
   "outputs": [],
   "source": [
    "df_mod = df.copy()"
   ]
  },
  {
   "cell_type": "code",
   "execution_count": 14,
   "id": "bacterial-species",
   "metadata": {},
   "outputs": [],
   "source": [
    "df_mod.loc[df_mod.label=='Shorts','label'] = 'shorts'\n",
    "df_mod.loc[df_mod.label=='Skirt','label'] = 'shorts'\n",
    "df_mod.loc[df_mod.label=='Longsleeve','label'] = 'long sleeve top'\n",
    "df_mod.loc[df_mod.label=='Pants','label'] = 'trousers'\n",
    "df_mod.loc[df_mod.label=='Polo','label'] = 'short sleeve top'"
   ]
  },
  {
   "cell_type": "code",
   "execution_count": 15,
   "id": "toxic-development",
   "metadata": {},
   "outputs": [],
   "source": [
    "sample_idx = df_mod[df_mod.label=='T-Shirt'].sample(500).image\n",
    "df_mod.loc[df_mod.image.isin(sample_idx),'label'] = 'short sleeve top'"
   ]
  },
  {
   "cell_type": "code",
   "execution_count": 16,
   "id": "finite-hanging",
   "metadata": {},
   "outputs": [
    {
     "data": {
      "text/html": [
       "<div>\n",
       "<style scoped>\n",
       "    .dataframe tbody tr th:only-of-type {\n",
       "        vertical-align: middle;\n",
       "    }\n",
       "\n",
       "    .dataframe tbody tr th {\n",
       "        vertical-align: top;\n",
       "    }\n",
       "\n",
       "    .dataframe thead th {\n",
       "        text-align: right;\n",
       "    }\n",
       "</style>\n",
       "<table border=\"1\" class=\"dataframe\">\n",
       "  <thead>\n",
       "    <tr style=\"text-align: right;\">\n",
       "      <th></th>\n",
       "      <th>index</th>\n",
       "      <th>root_path</th>\n",
       "      <th>filename</th>\n",
       "      <th>path</th>\n",
       "      <th>image</th>\n",
       "      <th>sender_id</th>\n",
       "      <th>kids</th>\n",
       "    </tr>\n",
       "    <tr>\n",
       "      <th>label</th>\n",
       "      <th></th>\n",
       "      <th></th>\n",
       "      <th></th>\n",
       "      <th></th>\n",
       "      <th></th>\n",
       "      <th></th>\n",
       "      <th></th>\n",
       "    </tr>\n",
       "  </thead>\n",
       "  <tbody>\n",
       "    <tr>\n",
       "      <th>long sleeve top</th>\n",
       "      <td>699</td>\n",
       "      <td>699</td>\n",
       "      <td>699</td>\n",
       "      <td>699</td>\n",
       "      <td>699</td>\n",
       "      <td>699</td>\n",
       "      <td>699</td>\n",
       "    </tr>\n",
       "    <tr>\n",
       "      <th>trousers</th>\n",
       "      <td>692</td>\n",
       "      <td>692</td>\n",
       "      <td>692</td>\n",
       "      <td>692</td>\n",
       "      <td>692</td>\n",
       "      <td>692</td>\n",
       "      <td>692</td>\n",
       "    </tr>\n",
       "    <tr>\n",
       "      <th>short sleeve top</th>\n",
       "      <td>620</td>\n",
       "      <td>620</td>\n",
       "      <td>620</td>\n",
       "      <td>620</td>\n",
       "      <td>620</td>\n",
       "      <td>620</td>\n",
       "      <td>620</td>\n",
       "    </tr>\n",
       "    <tr>\n",
       "      <th>T-Shirt</th>\n",
       "      <td>511</td>\n",
       "      <td>511</td>\n",
       "      <td>511</td>\n",
       "      <td>511</td>\n",
       "      <td>511</td>\n",
       "      <td>511</td>\n",
       "      <td>511</td>\n",
       "    </tr>\n",
       "    <tr>\n",
       "      <th>shorts</th>\n",
       "      <td>463</td>\n",
       "      <td>463</td>\n",
       "      <td>463</td>\n",
       "      <td>463</td>\n",
       "      <td>463</td>\n",
       "      <td>463</td>\n",
       "      <td>463</td>\n",
       "    </tr>\n",
       "    <tr>\n",
       "      <th>Shoes</th>\n",
       "      <td>431</td>\n",
       "      <td>431</td>\n",
       "      <td>431</td>\n",
       "      <td>431</td>\n",
       "      <td>431</td>\n",
       "      <td>431</td>\n",
       "      <td>431</td>\n",
       "    </tr>\n",
       "  </tbody>\n",
       "</table>\n",
       "</div>"
      ],
      "text/plain": [
       "                  index  root_path  filename  path  image  sender_id  kids\n",
       "label                                                                     \n",
       "long sleeve top     699        699       699   699    699        699   699\n",
       "trousers            692        692       692   692    692        692   692\n",
       "short sleeve top    620        620       620   620    620        620   620\n",
       "T-Shirt             511        511       511   511    511        511   511\n",
       "shorts              463        463       463   463    463        463   463\n",
       "Shoes               431        431       431   431    431        431   431"
      ]
     },
     "execution_count": 16,
     "metadata": {},
     "output_type": "execute_result"
    }
   ],
   "source": [
    "df_mod.groupby('label').count().sort_values('image', ascending=False)[:6]"
   ]
  },
  {
   "cell_type": "code",
   "execution_count": 17,
   "id": "structural-furniture",
   "metadata": {},
   "outputs": [],
   "source": [
    "# to be comparable with the test on 16k DF1\n",
    "cats = ['long sleeve top', \n",
    "        'short sleeve top', \n",
    "        'shorts', \n",
    "        'trousers']"
   ]
  },
  {
   "cell_type": "code",
   "execution_count": 18,
   "id": "challenging-registration",
   "metadata": {},
   "outputs": [
    {
     "data": {
      "text/html": [
       "<div>\n",
       "<style scoped>\n",
       "    .dataframe tbody tr th:only-of-type {\n",
       "        vertical-align: middle;\n",
       "    }\n",
       "\n",
       "    .dataframe tbody tr th {\n",
       "        vertical-align: top;\n",
       "    }\n",
       "\n",
       "    .dataframe thead th {\n",
       "        text-align: right;\n",
       "    }\n",
       "</style>\n",
       "<table border=\"1\" class=\"dataframe\">\n",
       "  <thead>\n",
       "    <tr style=\"text-align: right;\">\n",
       "      <th></th>\n",
       "      <th>index</th>\n",
       "      <th>root_path</th>\n",
       "      <th>filename</th>\n",
       "      <th>path</th>\n",
       "      <th>image</th>\n",
       "      <th>sender_id</th>\n",
       "      <th>kids</th>\n",
       "    </tr>\n",
       "    <tr>\n",
       "      <th>label</th>\n",
       "      <th></th>\n",
       "      <th></th>\n",
       "      <th></th>\n",
       "      <th></th>\n",
       "      <th></th>\n",
       "      <th></th>\n",
       "      <th></th>\n",
       "    </tr>\n",
       "  </thead>\n",
       "  <tbody>\n",
       "    <tr>\n",
       "      <th>long sleeve top</th>\n",
       "      <td>699</td>\n",
       "      <td>699</td>\n",
       "      <td>699</td>\n",
       "      <td>699</td>\n",
       "      <td>699</td>\n",
       "      <td>699</td>\n",
       "      <td>699</td>\n",
       "    </tr>\n",
       "    <tr>\n",
       "      <th>trousers</th>\n",
       "      <td>692</td>\n",
       "      <td>692</td>\n",
       "      <td>692</td>\n",
       "      <td>692</td>\n",
       "      <td>692</td>\n",
       "      <td>692</td>\n",
       "      <td>692</td>\n",
       "    </tr>\n",
       "    <tr>\n",
       "      <th>short sleeve top</th>\n",
       "      <td>620</td>\n",
       "      <td>620</td>\n",
       "      <td>620</td>\n",
       "      <td>620</td>\n",
       "      <td>620</td>\n",
       "      <td>620</td>\n",
       "      <td>620</td>\n",
       "    </tr>\n",
       "    <tr>\n",
       "      <th>shorts</th>\n",
       "      <td>463</td>\n",
       "      <td>463</td>\n",
       "      <td>463</td>\n",
       "      <td>463</td>\n",
       "      <td>463</td>\n",
       "      <td>463</td>\n",
       "      <td>463</td>\n",
       "    </tr>\n",
       "  </tbody>\n",
       "</table>\n",
       "</div>"
      ],
      "text/plain": [
       "                  index  root_path  filename  path  image  sender_id  kids\n",
       "label                                                                     \n",
       "long sleeve top     699        699       699   699    699        699   699\n",
       "trousers            692        692       692   692    692        692   692\n",
       "short sleeve top    620        620       620   620    620        620   620\n",
       "shorts              463        463       463   463    463        463   463"
      ]
     },
     "execution_count": 18,
     "metadata": {},
     "output_type": "execute_result"
    }
   ],
   "source": [
    "samples = df_mod[df_mod.label.isin(cats)]\n",
    "samples.groupby('label').count().sort_values('image', ascending=False)"
   ]
  },
  {
   "cell_type": "markdown",
   "id": "rural-america",
   "metadata": {},
   "source": [
    "# Prepare train/val split"
   ]
  },
  {
   "cell_type": "code",
   "execution_count": 19,
   "id": "grave-smoke",
   "metadata": {},
   "outputs": [
    {
     "name": "stdout",
     "output_type": "stream",
     "text": [
      "1979 495\n"
     ]
    }
   ],
   "source": [
    "from sklearn.model_selection import train_test_split\n",
    "\n",
    "train, val = train_test_split(samples, test_size=0.2)\n",
    "print(len(train),len(val))"
   ]
  },
  {
   "cell_type": "code",
   "execution_count": 20,
   "id": "egyptian-carol",
   "metadata": {},
   "outputs": [
    {
     "data": {
      "text/html": [
       "<div>\n",
       "<style scoped>\n",
       "    .dataframe tbody tr th:only-of-type {\n",
       "        vertical-align: middle;\n",
       "    }\n",
       "\n",
       "    .dataframe tbody tr th {\n",
       "        vertical-align: top;\n",
       "    }\n",
       "\n",
       "    .dataframe thead th {\n",
       "        text-align: right;\n",
       "    }\n",
       "</style>\n",
       "<table border=\"1\" class=\"dataframe\">\n",
       "  <thead>\n",
       "    <tr style=\"text-align: right;\">\n",
       "      <th></th>\n",
       "      <th>index</th>\n",
       "      <th>root_path</th>\n",
       "      <th>filename</th>\n",
       "      <th>path</th>\n",
       "      <th>image</th>\n",
       "      <th>sender_id</th>\n",
       "      <th>kids</th>\n",
       "    </tr>\n",
       "    <tr>\n",
       "      <th>label</th>\n",
       "      <th></th>\n",
       "      <th></th>\n",
       "      <th></th>\n",
       "      <th></th>\n",
       "      <th></th>\n",
       "      <th></th>\n",
       "      <th></th>\n",
       "    </tr>\n",
       "  </thead>\n",
       "  <tbody>\n",
       "    <tr>\n",
       "      <th>trousers</th>\n",
       "      <td>566</td>\n",
       "      <td>566</td>\n",
       "      <td>566</td>\n",
       "      <td>566</td>\n",
       "      <td>566</td>\n",
       "      <td>566</td>\n",
       "      <td>566</td>\n",
       "    </tr>\n",
       "    <tr>\n",
       "      <th>long sleeve top</th>\n",
       "      <td>544</td>\n",
       "      <td>544</td>\n",
       "      <td>544</td>\n",
       "      <td>544</td>\n",
       "      <td>544</td>\n",
       "      <td>544</td>\n",
       "      <td>544</td>\n",
       "    </tr>\n",
       "    <tr>\n",
       "      <th>short sleeve top</th>\n",
       "      <td>498</td>\n",
       "      <td>498</td>\n",
       "      <td>498</td>\n",
       "      <td>498</td>\n",
       "      <td>498</td>\n",
       "      <td>498</td>\n",
       "      <td>498</td>\n",
       "    </tr>\n",
       "    <tr>\n",
       "      <th>shorts</th>\n",
       "      <td>371</td>\n",
       "      <td>371</td>\n",
       "      <td>371</td>\n",
       "      <td>371</td>\n",
       "      <td>371</td>\n",
       "      <td>371</td>\n",
       "      <td>371</td>\n",
       "    </tr>\n",
       "  </tbody>\n",
       "</table>\n",
       "</div>"
      ],
      "text/plain": [
       "                  index  root_path  filename  path  image  sender_id  kids\n",
       "label                                                                     \n",
       "trousers            566        566       566   566    566        566   566\n",
       "long sleeve top     544        544       544   544    544        544   544\n",
       "short sleeve top    498        498       498   498    498        498   498\n",
       "shorts              371        371       371   371    371        371   371"
      ]
     },
     "execution_count": 20,
     "metadata": {},
     "output_type": "execute_result"
    }
   ],
   "source": [
    "# is it still balanced?\n",
    "train.groupby('label').count().sort_values('image', ascending=False)"
   ]
  },
  {
   "cell_type": "code",
   "execution_count": 21,
   "id": "outer-understanding",
   "metadata": {},
   "outputs": [
    {
     "data": {
      "text/plain": [
       "index                                                     8241\n",
       "root_path                                      images_original\n",
       "filename              6ce43abd-eb73-474b-bc3d-f8da15d83593.jpg\n",
       "path         images_original/6ce43abd-eb73-474b-bc3d-f8da15...\n",
       "image                     6ce43abd-eb73-474b-bc3d-f8da15d83593\n",
       "sender_id                                                  310\n",
       "label                                                   shorts\n",
       "kids                                                     False\n",
       "Name: 4643, dtype: object"
      ]
     },
     "execution_count": 21,
     "metadata": {},
     "output_type": "execute_result"
    }
   ],
   "source": [
    "train.iloc[0]"
   ]
  },
  {
   "cell_type": "code",
   "execution_count": 22,
   "id": "australian-sunrise",
   "metadata": {},
   "outputs": [],
   "source": [
    "if not os.path.exists('clothdata'):\n",
    "    os.mkdir('clothdata')\n",
    "\n",
    "if not os.path.exists('clothdata/images'):\n",
    "    os.mkdir('clothdata/images')\n",
    "if not os.path.exists('clothdata/images/train'):\n",
    "    os.mkdir('clothdata/images/train')\n",
    "if not os.path.exists('clothdata/images/val'):\n",
    "    os.mkdir('clothdata/images/val')\n",
    "\n",
    "if not os.path.exists('clothdata/labels'):\n",
    "    os.mkdir('clothdata/labels')\n",
    "if not os.path.exists('clothdata/labels/train'):\n",
    "    os.mkdir('clothdata/labels/train')\n",
    "if not os.path.exists('clothdata/labels/val'):\n",
    "    os.mkdir('clothdata/labels/val')"
   ]
  },
  {
   "cell_type": "code",
   "execution_count": 23,
   "id": "worth-stuart",
   "metadata": {},
   "outputs": [],
   "source": [
    "def createFiles(data=train, type_='train'):\n",
    "    target_dim = 640.0\n",
    "    for i, row in tqdm(data.iterrows()):\n",
    "        filepath = row.path\n",
    "        img = Image.open(io.BytesIO(zipf.read(filepath)))\n",
    "        w_orig = float(img.size[0])\n",
    "        h_orig = float(img.size[1])\n",
    "        img.thumbnail((target_dim, target_dim)) \n",
    "        if 'png' in str(type(img)).lower():\n",
    "            img = img.convert('RGB')\n",
    "        img.save('clothdata/images/'+type_+'/'+row.filename, 'JPEG', optimize=True)\n",
    "\n",
    "        idx = cats.index(row.label)\n",
    "        metadata = str(idx) + ' 0.5 0.5 1.0 1.0'\n",
    "        fileroot = 'clothdata/labels/'+type_+'/'+row.filename.split('.')[0]+'.txt'\n",
    "\n",
    "        f = open(fileroot, 'w')\n",
    "        f.write(metadata)\n",
    "        f.close()"
   ]
  },
  {
   "cell_type": "code",
   "execution_count": 24,
   "id": "recent-wyoming",
   "metadata": {},
   "outputs": [
    {
     "data": {
      "application/vnd.jupyter.widget-view+json": {
       "model_id": "038093f9101c4080821dc0a071b8834c",
       "version_major": 2,
       "version_minor": 0
      },
      "text/plain": [
       "0it [00:00, ?it/s]"
      ]
     },
     "metadata": {},
     "output_type": "display_data"
    },
    {
     "data": {
      "application/vnd.jupyter.widget-view+json": {
       "model_id": "3aa8bee2f72141919297615c286a3d7d",
       "version_major": 2,
       "version_minor": 0
      },
      "text/plain": [
       "0it [00:00, ?it/s]"
      ]
     },
     "metadata": {},
     "output_type": "display_data"
    }
   ],
   "source": [
    "createFiles(train, type_='train')\n",
    "createFiles(val, type_='val')"
   ]
  },
  {
   "cell_type": "code",
   "execution_count": 25,
   "id": "casual-input",
   "metadata": {},
   "outputs": [],
   "source": [
    "lines = []\n",
    "lines.append('path: ../datasets/clothdata # root dir\\n')\n",
    "lines.append('train: images/train\\n')\n",
    "lines.append('val: images/val\\n')\n",
    "lines.append('test:  # test images (optional)\\n')\n",
    "\n",
    "lines.append('nc: '+str(len(cats))+' # number of classes\\n')\n",
    "\n",
    "str_classes = \"[ '\" + \"',\\n'\".join(cats) + \"' ]\"\n",
    "\n",
    "lines.append('names: '+str_classes + '\\n')\n",
    "\n",
    "f = open('clothdata/clothdata.yaml', 'w')\n",
    "f.writelines(lines)\n",
    "f.close()"
   ]
  },
  {
   "cell_type": "code",
   "execution_count": null,
   "id": "latin-custom",
   "metadata": {},
   "outputs": [],
   "source": []
  }
 ],
 "metadata": {
  "kernelspec": {
   "display_name": "Python 3",
   "language": "python",
   "name": "python3"
  },
  "language_info": {
   "codemirror_mode": {
    "name": "ipython",
    "version": 3
   },
   "file_extension": ".py",
   "mimetype": "text/x-python",
   "name": "python",
   "nbconvert_exporter": "python",
   "pygments_lexer": "ipython3",
   "version": "3.7.4"
  }
 },
 "nbformat": 4,
 "nbformat_minor": 5
}
