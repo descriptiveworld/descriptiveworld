{
 "cells": [
  {
   "cell_type": "markdown",
   "metadata": {},
   "source": [
    "# EfficientDet building for DF2"
   ]
  },
  {
   "cell_type": "markdown",
   "metadata": {},
   "source": [
    "### Connecting to DF2"
   ]
  },
  {
   "cell_type": "code",
   "execution_count": 1,
   "metadata": {},
   "outputs": [],
   "source": [
    "import boto3\n",
    "import os\n",
    "import pandas as pd\n",
    "import json, csv\n",
    "import matplotlib.image as img\n",
    "from PIL import Image"
   ]
  },
  {
   "cell_type": "code",
   "execution_count": 2,
   "metadata": {},
   "outputs": [],
   "source": [
    "# Setting up connection to DF2 bucket\n",
    "bucket = 'descriptiveworld-datasets'\n",
    "subfolder = 'DeepFashion2/'"
   ]
  },
  {
   "cell_type": "code",
   "execution_count": 3,
   "metadata": {},
   "outputs": [],
   "source": [
    "from sagemaker import get_execution_role\n",
    "role = get_execution_role()"
   ]
  },
  {
   "cell_type": "code",
   "execution_count": 4,
   "metadata": {},
   "outputs": [
    {
     "ename": "ClientError",
     "evalue": "An error occurred (AccessDenied) when calling the ListObjects operation: Access Denied",
     "output_type": "error",
     "traceback": [
      "\u001b[0;31m---------------------------------------------------------------------------\u001b[0m",
      "\u001b[0;31mClientError\u001b[0m                               Traceback (most recent call last)",
      "\u001b[0;32m<ipython-input-4-868e786c1d68>\u001b[0m in \u001b[0;36m<module>\u001b[0;34m\u001b[0m\n\u001b[1;32m      1\u001b[0m \u001b[0mconn\u001b[0m \u001b[0;34m=\u001b[0m \u001b[0mboto3\u001b[0m\u001b[0;34m.\u001b[0m\u001b[0mclient\u001b[0m\u001b[0;34m(\u001b[0m\u001b[0;34m's3'\u001b[0m\u001b[0;34m)\u001b[0m\u001b[0;34m\u001b[0m\u001b[0;34m\u001b[0m\u001b[0m\n\u001b[0;32m----> 2\u001b[0;31m \u001b[0mcontents\u001b[0m \u001b[0;34m=\u001b[0m \u001b[0mconn\u001b[0m\u001b[0;34m.\u001b[0m\u001b[0mlist_objects\u001b[0m\u001b[0;34m(\u001b[0m\u001b[0mBucket\u001b[0m\u001b[0;34m=\u001b[0m\u001b[0mbucket\u001b[0m\u001b[0;34m,\u001b[0m \u001b[0mPrefix\u001b[0m\u001b[0;34m=\u001b[0m\u001b[0msubfolder\u001b[0m\u001b[0;34m)\u001b[0m\u001b[0;34m[\u001b[0m\u001b[0;34m'Contents'\u001b[0m\u001b[0;34m]\u001b[0m\u001b[0;34m\u001b[0m\u001b[0;34m\u001b[0m\u001b[0m\n\u001b[0m\u001b[1;32m      3\u001b[0m \u001b[0;32mfor\u001b[0m \u001b[0mf\u001b[0m \u001b[0;32min\u001b[0m \u001b[0mcontents\u001b[0m\u001b[0;34m:\u001b[0m\u001b[0;34m\u001b[0m\u001b[0;34m\u001b[0m\u001b[0m\n\u001b[1;32m      4\u001b[0m     \u001b[0mprint\u001b[0m\u001b[0;34m(\u001b[0m\u001b[0mf\u001b[0m\u001b[0;34m[\u001b[0m\u001b[0;34m'Key'\u001b[0m\u001b[0;34m]\u001b[0m\u001b[0;34m)\u001b[0m\u001b[0;34m\u001b[0m\u001b[0;34m\u001b[0m\u001b[0m\n",
      "\u001b[0;32m~/anaconda3/envs/amazonei_tensorflow2_p36/lib/python3.6/site-packages/botocore/client.py\u001b[0m in \u001b[0;36m_api_call\u001b[0;34m(self, *args, **kwargs)\u001b[0m\n\u001b[1;32m    384\u001b[0m                     \"%s() only accepts keyword arguments.\" % py_operation_name)\n\u001b[1;32m    385\u001b[0m             \u001b[0;31m# The \"self\" in this scope is referring to the BaseClient.\u001b[0m\u001b[0;34m\u001b[0m\u001b[0;34m\u001b[0m\u001b[0;34m\u001b[0m\u001b[0m\n\u001b[0;32m--> 386\u001b[0;31m             \u001b[0;32mreturn\u001b[0m \u001b[0mself\u001b[0m\u001b[0;34m.\u001b[0m\u001b[0m_make_api_call\u001b[0m\u001b[0;34m(\u001b[0m\u001b[0moperation_name\u001b[0m\u001b[0;34m,\u001b[0m \u001b[0mkwargs\u001b[0m\u001b[0;34m)\u001b[0m\u001b[0;34m\u001b[0m\u001b[0;34m\u001b[0m\u001b[0m\n\u001b[0m\u001b[1;32m    387\u001b[0m \u001b[0;34m\u001b[0m\u001b[0m\n\u001b[1;32m    388\u001b[0m         \u001b[0m_api_call\u001b[0m\u001b[0;34m.\u001b[0m\u001b[0m__name__\u001b[0m \u001b[0;34m=\u001b[0m \u001b[0mstr\u001b[0m\u001b[0;34m(\u001b[0m\u001b[0mpy_operation_name\u001b[0m\u001b[0;34m)\u001b[0m\u001b[0;34m\u001b[0m\u001b[0;34m\u001b[0m\u001b[0m\n",
      "\u001b[0;32m~/anaconda3/envs/amazonei_tensorflow2_p36/lib/python3.6/site-packages/botocore/client.py\u001b[0m in \u001b[0;36m_make_api_call\u001b[0;34m(self, operation_name, api_params)\u001b[0m\n\u001b[1;32m    703\u001b[0m             \u001b[0merror_code\u001b[0m \u001b[0;34m=\u001b[0m \u001b[0mparsed_response\u001b[0m\u001b[0;34m.\u001b[0m\u001b[0mget\u001b[0m\u001b[0;34m(\u001b[0m\u001b[0;34m\"Error\"\u001b[0m\u001b[0;34m,\u001b[0m \u001b[0;34m{\u001b[0m\u001b[0;34m}\u001b[0m\u001b[0;34m)\u001b[0m\u001b[0;34m.\u001b[0m\u001b[0mget\u001b[0m\u001b[0;34m(\u001b[0m\u001b[0;34m\"Code\"\u001b[0m\u001b[0;34m)\u001b[0m\u001b[0;34m\u001b[0m\u001b[0;34m\u001b[0m\u001b[0m\n\u001b[1;32m    704\u001b[0m             \u001b[0merror_class\u001b[0m \u001b[0;34m=\u001b[0m \u001b[0mself\u001b[0m\u001b[0;34m.\u001b[0m\u001b[0mexceptions\u001b[0m\u001b[0;34m.\u001b[0m\u001b[0mfrom_code\u001b[0m\u001b[0;34m(\u001b[0m\u001b[0merror_code\u001b[0m\u001b[0;34m)\u001b[0m\u001b[0;34m\u001b[0m\u001b[0;34m\u001b[0m\u001b[0m\n\u001b[0;32m--> 705\u001b[0;31m             \u001b[0;32mraise\u001b[0m \u001b[0merror_class\u001b[0m\u001b[0;34m(\u001b[0m\u001b[0mparsed_response\u001b[0m\u001b[0;34m,\u001b[0m \u001b[0moperation_name\u001b[0m\u001b[0;34m)\u001b[0m\u001b[0;34m\u001b[0m\u001b[0;34m\u001b[0m\u001b[0m\n\u001b[0m\u001b[1;32m    706\u001b[0m         \u001b[0;32melse\u001b[0m\u001b[0;34m:\u001b[0m\u001b[0;34m\u001b[0m\u001b[0;34m\u001b[0m\u001b[0m\n\u001b[1;32m    707\u001b[0m             \u001b[0;32mreturn\u001b[0m \u001b[0mparsed_response\u001b[0m\u001b[0;34m\u001b[0m\u001b[0;34m\u001b[0m\u001b[0m\n",
      "\u001b[0;31mClientError\u001b[0m: An error occurred (AccessDenied) when calling the ListObjects operation: Access Denied"
     ]
    }
   ],
   "source": [
    "conn = boto3.client('s3')\n",
    "contents = conn.list_objects(Bucket=bucket, Prefix=subfolder)['Contents']\n",
    "for f in contents:\n",
    "    print(f['Key'])"
   ]
  },
  {
   "cell_type": "markdown",
   "metadata": {},
   "source": [
    "### Importing json for training set"
   ]
  },
  {
   "cell_type": "code",
   "execution_count": 5,
   "metadata": {},
   "outputs": [
    {
     "data": {
      "text/plain": [
       "'/home/ec2-user/SageMaker'"
      ]
     },
     "execution_count": 5,
     "metadata": {},
     "output_type": "execute_result"
    }
   ],
   "source": [
    "os.getcwd()"
   ]
  },
  {
   "cell_type": "code",
   "execution_count": 9,
   "metadata": {},
   "outputs": [],
   "source": [
    "# orig_file = 'DeepFashion2/train/train.json'\n",
    "# dest_file = '/home/ec2-user/SageMaker/train.json'\n",
    "\n",
    "# # Connect to S3 bucket and download file - train.json\n",
    "# s3 = boto3.resource('s3')\n",
    "# s3.Bucket(bucket).download_file(orig_file, dest_file)"
   ]
  },
  {
   "cell_type": "code",
   "execution_count": 6,
   "metadata": {},
   "outputs": [],
   "source": [
    "# Reading in json\n",
    "train_df = pd.read_json(\"train.json\")"
   ]
  },
  {
   "cell_type": "code",
   "execution_count": 7,
   "metadata": {},
   "outputs": [
    {
     "data": {
      "text/html": [
       "<div>\n",
       "<style scoped>\n",
       "    .dataframe tbody tr th:only-of-type {\n",
       "        vertical-align: middle;\n",
       "    }\n",
       "\n",
       "    .dataframe tbody tr th {\n",
       "        vertical-align: top;\n",
       "    }\n",
       "\n",
       "    .dataframe thead th {\n",
       "        text-align: right;\n",
       "    }\n",
       "</style>\n",
       "<table border=\"1\" class=\"dataframe\">\n",
       "  <thead>\n",
       "    <tr style=\"text-align: right;\">\n",
       "      <th></th>\n",
       "      <th>item2</th>\n",
       "      <th>source</th>\n",
       "      <th>pair_id</th>\n",
       "      <th>item3</th>\n",
       "      <th>item4</th>\n",
       "      <th>item6</th>\n",
       "      <th>item5</th>\n",
       "      <th>item8</th>\n",
       "      <th>item7</th>\n",
       "      <th>img</th>\n",
       "      <th>segmentation</th>\n",
       "      <th>scale</th>\n",
       "      <th>viewpoint</th>\n",
       "      <th>zoom_in</th>\n",
       "      <th>landmarks</th>\n",
       "      <th>style</th>\n",
       "      <th>bounding_box</th>\n",
       "      <th>category_id</th>\n",
       "      <th>occlusion</th>\n",
       "      <th>category_name</th>\n",
       "    </tr>\n",
       "  </thead>\n",
       "  <tbody>\n",
       "    <tr>\n",
       "      <th>0</th>\n",
       "      <td>{'segmentation': [[460, 438, 374, 484, 251, 52...</td>\n",
       "      <td>user</td>\n",
       "      <td>1</td>\n",
       "      <td>None</td>\n",
       "      <td>None</td>\n",
       "      <td>None</td>\n",
       "      <td>None</td>\n",
       "      <td>None</td>\n",
       "      <td>None</td>\n",
       "      <td>000001.jpg</td>\n",
       "      <td>[[257, 35, 261, 89, 228, 123, 137, 103, 45, 91...</td>\n",
       "      <td>3</td>\n",
       "      <td>2</td>\n",
       "      <td>2</td>\n",
       "      <td>[182, 54, 1, 45, 91, 1, 137, 103, 1, 228, 123,...</td>\n",
       "      <td>1</td>\n",
       "      <td>[0, 29, 466, 622]</td>\n",
       "      <td>1</td>\n",
       "      <td>2</td>\n",
       "      <td>short sleeve top</td>\n",
       "    </tr>\n",
       "    <tr>\n",
       "      <th>1</th>\n",
       "      <td>{'segmentation': [[220.25, 187.55, 259.6, 177....</td>\n",
       "      <td>shop</td>\n",
       "      <td>1</td>\n",
       "      <td>None</td>\n",
       "      <td>None</td>\n",
       "      <td>None</td>\n",
       "      <td>None</td>\n",
       "      <td>None</td>\n",
       "      <td>None</td>\n",
       "      <td>000002.jpg</td>\n",
       "      <td>[[145.21, 314.0, 162.67, 312.8, 175.12, 313.05...</td>\n",
       "      <td>3</td>\n",
       "      <td>2</td>\n",
       "      <td>2</td>\n",
       "      <td>[127, 335, 1, 73, 340, 1, 107, 354, 1, 140, 35...</td>\n",
       "      <td>1</td>\n",
       "      <td>[1, 300, 367, 701]</td>\n",
       "      <td>1</td>\n",
       "      <td>2</td>\n",
       "      <td>short sleeve top</td>\n",
       "    </tr>\n",
       "    <tr>\n",
       "      <th>2</th>\n",
       "      <td>None</td>\n",
       "      <td>user</td>\n",
       "      <td>2</td>\n",
       "      <td>None</td>\n",
       "      <td>None</td>\n",
       "      <td>None</td>\n",
       "      <td>None</td>\n",
       "      <td>None</td>\n",
       "      <td>None</td>\n",
       "      <td>000003.jpg</td>\n",
       "      <td>[[338, 64, 299, 133, 228, 189, 183, 121, 160, ...</td>\n",
       "      <td>3</td>\n",
       "      <td>1</td>\n",
       "      <td>2</td>\n",
       "      <td>[240, 108, 2, 160, 63, 2, 183, 121, 2, 228, 18...</td>\n",
       "      <td>1</td>\n",
       "      <td>[1, 52, 467, 831]</td>\n",
       "      <td>11</td>\n",
       "      <td>1</td>\n",
       "      <td>long sleeve dress</td>\n",
       "    </tr>\n",
       "    <tr>\n",
       "      <th>3</th>\n",
       "      <td>None</td>\n",
       "      <td>user</td>\n",
       "      <td>2</td>\n",
       "      <td>None</td>\n",
       "      <td>None</td>\n",
       "      <td>None</td>\n",
       "      <td>None</td>\n",
       "      <td>None</td>\n",
       "      <td>None</td>\n",
       "      <td>000004.jpg</td>\n",
       "      <td>[[266, 160, 257, 191, 233, 218, 184, 210, 149,...</td>\n",
       "      <td>3</td>\n",
       "      <td>2</td>\n",
       "      <td>2</td>\n",
       "      <td>[223, 187, 1, 149, 190, 2, 184, 210, 2, 233, 2...</td>\n",
       "      <td>1</td>\n",
       "      <td>[0, 113, 467, 623]</td>\n",
       "      <td>11</td>\n",
       "      <td>1</td>\n",
       "      <td>long sleeve dress</td>\n",
       "    </tr>\n",
       "    <tr>\n",
       "      <th>4</th>\n",
       "      <td>None</td>\n",
       "      <td>user</td>\n",
       "      <td>2</td>\n",
       "      <td>None</td>\n",
       "      <td>None</td>\n",
       "      <td>None</td>\n",
       "      <td>None</td>\n",
       "      <td>None</td>\n",
       "      <td>None</td>\n",
       "      <td>000005.jpg</td>\n",
       "      <td>[[204.0, 143.0, 182.0, 137.0, 167.0, 130.0, 16...</td>\n",
       "      <td>3</td>\n",
       "      <td>1</td>\n",
       "      <td>2</td>\n",
       "      <td>[205, 143, 2, 162, 129, 2, 192, 164, 2, 222, 1...</td>\n",
       "      <td>1</td>\n",
       "      <td>[1, 98, 467, 814]</td>\n",
       "      <td>11</td>\n",
       "      <td>1</td>\n",
       "      <td>long sleeve dress</td>\n",
       "    </tr>\n",
       "  </tbody>\n",
       "</table>\n",
       "</div>"
      ],
      "text/plain": [
       "                                               item2 source  pair_id item3  \\\n",
       "0  {'segmentation': [[460, 438, 374, 484, 251, 52...   user        1  None   \n",
       "1  {'segmentation': [[220.25, 187.55, 259.6, 177....   shop        1  None   \n",
       "2                                               None   user        2  None   \n",
       "3                                               None   user        2  None   \n",
       "4                                               None   user        2  None   \n",
       "\n",
       "  item4 item6 item5 item8 item7         img  \\\n",
       "0  None  None  None  None  None  000001.jpg   \n",
       "1  None  None  None  None  None  000002.jpg   \n",
       "2  None  None  None  None  None  000003.jpg   \n",
       "3  None  None  None  None  None  000004.jpg   \n",
       "4  None  None  None  None  None  000005.jpg   \n",
       "\n",
       "                                        segmentation  scale  viewpoint  \\\n",
       "0  [[257, 35, 261, 89, 228, 123, 137, 103, 45, 91...      3          2   \n",
       "1  [[145.21, 314.0, 162.67, 312.8, 175.12, 313.05...      3          2   \n",
       "2  [[338, 64, 299, 133, 228, 189, 183, 121, 160, ...      3          1   \n",
       "3  [[266, 160, 257, 191, 233, 218, 184, 210, 149,...      3          2   \n",
       "4  [[204.0, 143.0, 182.0, 137.0, 167.0, 130.0, 16...      3          1   \n",
       "\n",
       "   zoom_in                                          landmarks  style  \\\n",
       "0        2  [182, 54, 1, 45, 91, 1, 137, 103, 1, 228, 123,...      1   \n",
       "1        2  [127, 335, 1, 73, 340, 1, 107, 354, 1, 140, 35...      1   \n",
       "2        2  [240, 108, 2, 160, 63, 2, 183, 121, 2, 228, 18...      1   \n",
       "3        2  [223, 187, 1, 149, 190, 2, 184, 210, 2, 233, 2...      1   \n",
       "4        2  [205, 143, 2, 162, 129, 2, 192, 164, 2, 222, 1...      1   \n",
       "\n",
       "         bounding_box  category_id  occlusion      category_name  \n",
       "0   [0, 29, 466, 622]            1          2   short sleeve top  \n",
       "1  [1, 300, 367, 701]            1          2   short sleeve top  \n",
       "2   [1, 52, 467, 831]           11          1  long sleeve dress  \n",
       "3  [0, 113, 467, 623]           11          1  long sleeve dress  \n",
       "4   [1, 98, 467, 814]           11          1  long sleeve dress  "
      ]
     },
     "execution_count": 7,
     "metadata": {},
     "output_type": "execute_result"
    }
   ],
   "source": [
    "train_df.head()"
   ]
  },
  {
   "cell_type": "code",
   "execution_count": 8,
   "metadata": {},
   "outputs": [
    {
     "data": {
      "text/html": [
       "<div>\n",
       "<style scoped>\n",
       "    .dataframe tbody tr th:only-of-type {\n",
       "        vertical-align: middle;\n",
       "    }\n",
       "\n",
       "    .dataframe tbody tr th {\n",
       "        vertical-align: top;\n",
       "    }\n",
       "\n",
       "    .dataframe thead th {\n",
       "        text-align: right;\n",
       "    }\n",
       "</style>\n",
       "<table border=\"1\" class=\"dataframe\">\n",
       "  <thead>\n",
       "    <tr style=\"text-align: right;\">\n",
       "      <th></th>\n",
       "      <th>img</th>\n",
       "      <th>category_name</th>\n",
       "      <th>bounding_box</th>\n",
       "    </tr>\n",
       "  </thead>\n",
       "  <tbody>\n",
       "    <tr>\n",
       "      <th>0</th>\n",
       "      <td>000001.jpg</td>\n",
       "      <td>short sleeve top</td>\n",
       "      <td>[0, 29, 466, 622]</td>\n",
       "    </tr>\n",
       "    <tr>\n",
       "      <th>1</th>\n",
       "      <td>000002.jpg</td>\n",
       "      <td>short sleeve top</td>\n",
       "      <td>[1, 300, 367, 701]</td>\n",
       "    </tr>\n",
       "    <tr>\n",
       "      <th>2</th>\n",
       "      <td>000003.jpg</td>\n",
       "      <td>long sleeve dress</td>\n",
       "      <td>[1, 52, 467, 831]</td>\n",
       "    </tr>\n",
       "    <tr>\n",
       "      <th>3</th>\n",
       "      <td>000004.jpg</td>\n",
       "      <td>long sleeve dress</td>\n",
       "      <td>[0, 113, 467, 623]</td>\n",
       "    </tr>\n",
       "    <tr>\n",
       "      <th>4</th>\n",
       "      <td>000005.jpg</td>\n",
       "      <td>long sleeve dress</td>\n",
       "      <td>[1, 98, 467, 814]</td>\n",
       "    </tr>\n",
       "  </tbody>\n",
       "</table>\n",
       "</div>"
      ],
      "text/plain": [
       "          img      category_name        bounding_box\n",
       "0  000001.jpg   short sleeve top   [0, 29, 466, 622]\n",
       "1  000002.jpg   short sleeve top  [1, 300, 367, 701]\n",
       "2  000003.jpg  long sleeve dress   [1, 52, 467, 831]\n",
       "3  000004.jpg  long sleeve dress  [0, 113, 467, 623]\n",
       "4  000005.jpg  long sleeve dress   [1, 98, 467, 814]"
      ]
     },
     "execution_count": 8,
     "metadata": {},
     "output_type": "execute_result"
    }
   ],
   "source": [
    "# Making a subset of the dataframe for testing\n",
    "train_columns = ['img', 'category_name', \"bounding_box\"]\n",
    "train_sub = train_df.loc[:, train_columns]\n",
    "train_sub.head()"
   ]
  },
  {
   "cell_type": "code",
   "execution_count": 9,
   "metadata": {},
   "outputs": [
    {
     "data": {
      "text/plain": [
       "category_name\n",
       "long sleeve top       25085\n",
       "short sleeve dress    16706\n",
       "short sleeve top      53914\n",
       "trousers              23250\n",
       "Name: img, dtype: int64"
      ]
     },
     "execution_count": 9,
     "metadata": {},
     "output_type": "execute_result"
    }
   ],
   "source": [
    "# Testing only a handfull of labels\n",
    "short_list = ['short sleeve top', 'trousers', 'long sleeve top', 'short sleeve dress']\n",
    "train_short = train_sub[train_sub.category_name.isin(short_list)]\n",
    "train_short.groupby('category_name').count()['img']"
   ]
  },
  {
   "cell_type": "markdown",
   "metadata": {},
   "source": [
    "### Preparing training images by making folders on local drive"
   ]
  },
  {
   "cell_type": "code",
   "execution_count": null,
   "metadata": {},
   "outputs": [],
   "source": [
    "if not os.path.exists('effdet_df2'):\n",
    "    os.mkdir('effdet_df2')\n",
    "if not os.path.exists('effdet_df2/train'):\n",
    "    os.mkdir('effdet_df2/train')\n",
    "if not os.path.exists('effdet_df2/val'):\n",
    "    os.mkdir('effdet_df2/val')"
   ]
  },
  {
   "cell_type": "code",
   "execution_count": 10,
   "metadata": {},
   "outputs": [
    {
     "data": {
      "text/html": [
       "<div>\n",
       "<style scoped>\n",
       "    .dataframe tbody tr th:only-of-type {\n",
       "        vertical-align: middle;\n",
       "    }\n",
       "\n",
       "    .dataframe tbody tr th {\n",
       "        vertical-align: top;\n",
       "    }\n",
       "\n",
       "    .dataframe thead th {\n",
       "        text-align: right;\n",
       "    }\n",
       "</style>\n",
       "<table border=\"1\" class=\"dataframe\">\n",
       "  <thead>\n",
       "    <tr style=\"text-align: right;\">\n",
       "      <th></th>\n",
       "      <th>img</th>\n",
       "      <th>bounding_box</th>\n",
       "    </tr>\n",
       "    <tr>\n",
       "      <th>category_name</th>\n",
       "      <th></th>\n",
       "      <th></th>\n",
       "    </tr>\n",
       "  </thead>\n",
       "  <tbody>\n",
       "    <tr>\n",
       "      <th>long sleeve top</th>\n",
       "      <td>5000</td>\n",
       "      <td>5000</td>\n",
       "    </tr>\n",
       "    <tr>\n",
       "      <th>short sleeve dress</th>\n",
       "      <td>5000</td>\n",
       "      <td>5000</td>\n",
       "    </tr>\n",
       "    <tr>\n",
       "      <th>short sleeve top</th>\n",
       "      <td>5000</td>\n",
       "      <td>5000</td>\n",
       "    </tr>\n",
       "    <tr>\n",
       "      <th>trousers</th>\n",
       "      <td>5000</td>\n",
       "      <td>5000</td>\n",
       "    </tr>\n",
       "  </tbody>\n",
       "</table>\n",
       "</div>"
      ],
      "text/plain": [
       "                     img  bounding_box\n",
       "category_name                         \n",
       "long sleeve top     5000          5000\n",
       "short sleeve dress  5000          5000\n",
       "short sleeve top    5000          5000\n",
       "trousers            5000          5000"
      ]
     },
     "execution_count": 10,
     "metadata": {},
     "output_type": "execute_result"
    }
   ],
   "source": [
    "train_short_sub = train_short.groupby('category_name').sample(n=5000, random_state=5)\n",
    "train_short_sub.groupby('category_name').count()"
   ]
  },
  {
   "cell_type": "code",
   "execution_count": 11,
   "metadata": {},
   "outputs": [
    {
     "data": {
      "text/html": [
       "<div>\n",
       "<style scoped>\n",
       "    .dataframe tbody tr th:only-of-type {\n",
       "        vertical-align: middle;\n",
       "    }\n",
       "\n",
       "    .dataframe tbody tr th {\n",
       "        vertical-align: top;\n",
       "    }\n",
       "\n",
       "    .dataframe thead th {\n",
       "        text-align: right;\n",
       "    }\n",
       "</style>\n",
       "<table border=\"1\" class=\"dataframe\">\n",
       "  <thead>\n",
       "    <tr style=\"text-align: right;\">\n",
       "      <th></th>\n",
       "      <th>img</th>\n",
       "      <th>category_name</th>\n",
       "      <th>bounding_box</th>\n",
       "    </tr>\n",
       "  </thead>\n",
       "  <tbody>\n",
       "    <tr>\n",
       "      <th>22276</th>\n",
       "      <td>022277.jpg</td>\n",
       "      <td>long sleeve top</td>\n",
       "      <td>[217, 32, 614, 342]</td>\n",
       "    </tr>\n",
       "    <tr>\n",
       "      <th>7026</th>\n",
       "      <td>007027.jpg</td>\n",
       "      <td>long sleeve top</td>\n",
       "      <td>[192, 311, 605, 771]</td>\n",
       "    </tr>\n",
       "    <tr>\n",
       "      <th>102933</th>\n",
       "      <td>102935.jpg</td>\n",
       "      <td>long sleeve top</td>\n",
       "      <td>[152, 135, 592, 393]</td>\n",
       "    </tr>\n",
       "    <tr>\n",
       "      <th>23657</th>\n",
       "      <td>023658.jpg</td>\n",
       "      <td>long sleeve top</td>\n",
       "      <td>[11, 0, 463, 824]</td>\n",
       "    </tr>\n",
       "    <tr>\n",
       "      <th>149394</th>\n",
       "      <td>149403.jpg</td>\n",
       "      <td>long sleeve top</td>\n",
       "      <td>[87, 169, 173, 232]</td>\n",
       "    </tr>\n",
       "  </tbody>\n",
       "</table>\n",
       "</div>"
      ],
      "text/plain": [
       "               img    category_name          bounding_box\n",
       "22276   022277.jpg  long sleeve top   [217, 32, 614, 342]\n",
       "7026    007027.jpg  long sleeve top  [192, 311, 605, 771]\n",
       "102933  102935.jpg  long sleeve top  [152, 135, 592, 393]\n",
       "23657   023658.jpg  long sleeve top     [11, 0, 463, 824]\n",
       "149394  149403.jpg  long sleeve top   [87, 169, 173, 232]"
      ]
     },
     "execution_count": 11,
     "metadata": {},
     "output_type": "execute_result"
    }
   ],
   "source": [
    "train_short_sub.head()"
   ]
  },
  {
   "cell_type": "code",
   "execution_count": 12,
   "metadata": {},
   "outputs": [
    {
     "data": {
      "text/plain": [
       "['022277.jpg', '007027.jpg', '102935.jpg', '023658.jpg', '149403.jpg']"
      ]
     },
     "execution_count": 12,
     "metadata": {},
     "output_type": "execute_result"
    }
   ],
   "source": [
    "train_list = list(train_short_sub['img'])\n",
    "train_list[:5]"
   ]
  },
  {
   "cell_type": "code",
   "execution_count": 15,
   "metadata": {},
   "outputs": [],
   "source": [
    "# # transferring images from s3 to local\n",
    "# s3 = boto3.resource('s3')\n",
    "\n",
    "# for image in train_list:\n",
    "#     orig_img = 'DeepFashion2/train/image/' + image\n",
    "#     dest_img = '/home/ec2-user/SageMaker/effdet_df2/train/' + image\n",
    "    \n",
    "#     # Connect to S3 bucket and download image\n",
    "#     s3.Bucket(bucket).download_file(orig_img, dest_img)"
   ]
  },
  {
   "cell_type": "code",
   "execution_count": 13,
   "metadata": {
    "scrolled": true
   },
   "outputs": [
    {
     "name": "stdout",
     "output_type": "stream",
     "text": [
      "20000\n"
     ]
    }
   ],
   "source": [
    "temp_list = os.listdir('./effdet_df2/train')\n",
    "print(len(temp_list))"
   ]
  },
  {
   "cell_type": "markdown",
   "metadata": {},
   "source": [
    "### Setting up dataset for training"
   ]
  },
  {
   "cell_type": "code",
   "execution_count": 14,
   "metadata": {},
   "outputs": [
    {
     "data": {
      "text/html": [
       "<div>\n",
       "<style scoped>\n",
       "    .dataframe tbody tr th:only-of-type {\n",
       "        vertical-align: middle;\n",
       "    }\n",
       "\n",
       "    .dataframe tbody tr th {\n",
       "        vertical-align: top;\n",
       "    }\n",
       "\n",
       "    .dataframe thead th {\n",
       "        text-align: right;\n",
       "    }\n",
       "</style>\n",
       "<table border=\"1\" class=\"dataframe\">\n",
       "  <thead>\n",
       "    <tr style=\"text-align: right;\">\n",
       "      <th></th>\n",
       "      <th>img</th>\n",
       "      <th>category_name</th>\n",
       "      <th>x1</th>\n",
       "      <th>y1</th>\n",
       "      <th>x2</th>\n",
       "      <th>y2</th>\n",
       "    </tr>\n",
       "  </thead>\n",
       "  <tbody>\n",
       "    <tr>\n",
       "      <th>22276</th>\n",
       "      <td>022277.jpg</td>\n",
       "      <td>long sleeve top</td>\n",
       "      <td>217</td>\n",
       "      <td>32</td>\n",
       "      <td>614</td>\n",
       "      <td>342</td>\n",
       "    </tr>\n",
       "    <tr>\n",
       "      <th>7026</th>\n",
       "      <td>007027.jpg</td>\n",
       "      <td>long sleeve top</td>\n",
       "      <td>192</td>\n",
       "      <td>311</td>\n",
       "      <td>605</td>\n",
       "      <td>771</td>\n",
       "    </tr>\n",
       "    <tr>\n",
       "      <th>102933</th>\n",
       "      <td>102935.jpg</td>\n",
       "      <td>long sleeve top</td>\n",
       "      <td>152</td>\n",
       "      <td>135</td>\n",
       "      <td>592</td>\n",
       "      <td>393</td>\n",
       "    </tr>\n",
       "    <tr>\n",
       "      <th>23657</th>\n",
       "      <td>023658.jpg</td>\n",
       "      <td>long sleeve top</td>\n",
       "      <td>11</td>\n",
       "      <td>0</td>\n",
       "      <td>463</td>\n",
       "      <td>824</td>\n",
       "    </tr>\n",
       "    <tr>\n",
       "      <th>149394</th>\n",
       "      <td>149403.jpg</td>\n",
       "      <td>long sleeve top</td>\n",
       "      <td>87</td>\n",
       "      <td>169</td>\n",
       "      <td>173</td>\n",
       "      <td>232</td>\n",
       "    </tr>\n",
       "  </tbody>\n",
       "</table>\n",
       "</div>"
      ],
      "text/plain": [
       "               img    category_name   x1   y1   x2   y2\n",
       "22276   022277.jpg  long sleeve top  217   32  614  342\n",
       "7026    007027.jpg  long sleeve top  192  311  605  771\n",
       "102933  102935.jpg  long sleeve top  152  135  592  393\n",
       "23657   023658.jpg  long sleeve top   11    0  463  824\n",
       "149394  149403.jpg  long sleeve top   87  169  173  232"
      ]
     },
     "execution_count": 14,
     "metadata": {},
     "output_type": "execute_result"
    }
   ],
   "source": [
    "# Making columns for the bounding box coordinates\n",
    "train_short_sub[['x1', 'y1', 'x2', 'y2']] = pd.DataFrame(\n",
    "    train_short_sub.bounding_box.tolist(), index=train_short_sub.index)\n",
    "train_short_sub.drop(columns=[\"bounding_box\"], inplace=True)\n",
    "train_short_sub.head()"
   ]
  },
  {
   "cell_type": "code",
   "execution_count": 15,
   "metadata": {},
   "outputs": [],
   "source": [
    "# determine the dimensions of each image\n",
    "dims = []\n",
    "for file in list(train_short_sub['img']):\n",
    "    i = Image.open('./effdet_df2/train/'+file)\n",
    "    dims.append([*i.size])\n",
    "dims_df = pd.DataFrame(dims, columns=['i_w', 'i_h'])"
   ]
  },
  {
   "cell_type": "code",
   "execution_count": 16,
   "metadata": {},
   "outputs": [
    {
     "name": "stdout",
     "output_type": "stream",
     "text": [
      "      i_h\n",
      "i_w      \n",
      "468  7471\n",
      "      i_w\n",
      "i_h      \n",
      "624  2697\n"
     ]
    }
   ],
   "source": [
    "most_common_w = dims_df.groupby('i_w').count().sort_values(by='i_h', ascending=False).iloc[:1]\n",
    "most_common_h = dims_df.groupby('i_h').count().sort_values(by='i_w', ascending=False).iloc[:1]\n",
    "print(most_common_w)\n",
    "print(most_common_h)"
   ]
  },
  {
   "cell_type": "code",
   "execution_count": 17,
   "metadata": {},
   "outputs": [],
   "source": [
    "train_short_sub = pd.concat([train_short_sub.reset_index(drop=True), dims_df.reset_index(drop=True)], axis=1)"
   ]
  },
  {
   "cell_type": "code",
   "execution_count": 18,
   "metadata": {},
   "outputs": [],
   "source": [
    "IMG_DIM = 300"
   ]
  },
  {
   "cell_type": "code",
   "execution_count": 19,
   "metadata": {},
   "outputs": [
    {
     "name": "stdout",
     "output_type": "stream",
     "text": [
      "373\n"
     ]
    }
   ],
   "source": [
    "# determine which images are outside the range of the image dim\n",
    "toosmall = train_short_sub[(train_short_sub['i_w'] < IMG_DIM) | (train_short_sub['i_h'] < IMG_DIM)]\n",
    "print(len(toosmall))"
   ]
  },
  {
   "cell_type": "code",
   "execution_count": 20,
   "metadata": {},
   "outputs": [
    {
     "data": {
      "text/html": [
       "<div>\n",
       "<style scoped>\n",
       "    .dataframe tbody tr th:only-of-type {\n",
       "        vertical-align: middle;\n",
       "    }\n",
       "\n",
       "    .dataframe tbody tr th {\n",
       "        vertical-align: top;\n",
       "    }\n",
       "\n",
       "    .dataframe thead th {\n",
       "        text-align: right;\n",
       "    }\n",
       "</style>\n",
       "<table border=\"1\" class=\"dataframe\">\n",
       "  <thead>\n",
       "    <tr style=\"text-align: right;\">\n",
       "      <th></th>\n",
       "      <th>img</th>\n",
       "      <th>category_name</th>\n",
       "      <th>x1</th>\n",
       "      <th>y1</th>\n",
       "      <th>x2</th>\n",
       "      <th>y2</th>\n",
       "      <th>i_w</th>\n",
       "      <th>i_h</th>\n",
       "    </tr>\n",
       "  </thead>\n",
       "  <tbody>\n",
       "    <tr>\n",
       "      <th>0</th>\n",
       "      <td>022277.jpg</td>\n",
       "      <td>long sleeve top</td>\n",
       "      <td>217</td>\n",
       "      <td>32</td>\n",
       "      <td>614</td>\n",
       "      <td>342</td>\n",
       "      <td>687</td>\n",
       "      <td>621</td>\n",
       "    </tr>\n",
       "    <tr>\n",
       "      <th>1</th>\n",
       "      <td>007027.jpg</td>\n",
       "      <td>long sleeve top</td>\n",
       "      <td>192</td>\n",
       "      <td>311</td>\n",
       "      <td>605</td>\n",
       "      <td>771</td>\n",
       "      <td>750</td>\n",
       "      <td>1125</td>\n",
       "    </tr>\n",
       "    <tr>\n",
       "      <th>2</th>\n",
       "      <td>102935.jpg</td>\n",
       "      <td>long sleeve top</td>\n",
       "      <td>152</td>\n",
       "      <td>135</td>\n",
       "      <td>592</td>\n",
       "      <td>393</td>\n",
       "      <td>750</td>\n",
       "      <td>500</td>\n",
       "    </tr>\n",
       "    <tr>\n",
       "      <th>3</th>\n",
       "      <td>023658.jpg</td>\n",
       "      <td>long sleeve top</td>\n",
       "      <td>11</td>\n",
       "      <td>0</td>\n",
       "      <td>463</td>\n",
       "      <td>824</td>\n",
       "      <td>468</td>\n",
       "      <td>832</td>\n",
       "    </tr>\n",
       "    <tr>\n",
       "      <th>5</th>\n",
       "      <td>138296.jpg</td>\n",
       "      <td>long sleeve top</td>\n",
       "      <td>0</td>\n",
       "      <td>4</td>\n",
       "      <td>466</td>\n",
       "      <td>623</td>\n",
       "      <td>468</td>\n",
       "      <td>624</td>\n",
       "    </tr>\n",
       "  </tbody>\n",
       "</table>\n",
       "</div>"
      ],
      "text/plain": [
       "          img    category_name   x1   y1   x2   y2  i_w   i_h\n",
       "0  022277.jpg  long sleeve top  217   32  614  342  687   621\n",
       "1  007027.jpg  long sleeve top  192  311  605  771  750  1125\n",
       "2  102935.jpg  long sleeve top  152  135  592  393  750   500\n",
       "3  023658.jpg  long sleeve top   11    0  463  824  468   832\n",
       "5  138296.jpg  long sleeve top    0    4  466  623  468   624"
      ]
     },
     "execution_count": 20,
     "metadata": {},
     "output_type": "execute_result"
    }
   ],
   "source": [
    "# Removing small images\n",
    "train_short_sub = train_short_sub[~train_short_sub.img.isin(toosmall.img)]\n",
    "train_short_sub.head()"
   ]
  },
  {
   "cell_type": "code",
   "execution_count": 21,
   "metadata": {},
   "outputs": [
    {
     "data": {
      "text/plain": [
       "category_name\n",
       "long sleeve top       4907\n",
       "short sleeve dress    4851\n",
       "short sleeve top      4906\n",
       "trousers              4963\n",
       "Name: img, dtype: int64"
      ]
     },
     "execution_count": 21,
     "metadata": {},
     "output_type": "execute_result"
    }
   ],
   "source": [
    "train_short_sub.groupby('category_name').count()['img']"
   ]
  },
  {
   "cell_type": "code",
   "execution_count": 59,
   "metadata": {},
   "outputs": [
    {
     "data": {
      "text/html": [
       "<div>\n",
       "<style scoped>\n",
       "    .dataframe tbody tr th:only-of-type {\n",
       "        vertical-align: middle;\n",
       "    }\n",
       "\n",
       "    .dataframe tbody tr th {\n",
       "        vertical-align: top;\n",
       "    }\n",
       "\n",
       "    .dataframe thead th {\n",
       "        text-align: right;\n",
       "    }\n",
       "</style>\n",
       "<table border=\"1\" class=\"dataframe\">\n",
       "  <thead>\n",
       "    <tr style=\"text-align: right;\">\n",
       "      <th></th>\n",
       "      <th>img</th>\n",
       "      <th>category_name</th>\n",
       "      <th>x1</th>\n",
       "      <th>y1</th>\n",
       "      <th>x2</th>\n",
       "      <th>y2</th>\n",
       "      <th>i_w</th>\n",
       "      <th>i_h</th>\n",
       "    </tr>\n",
       "  </thead>\n",
       "  <tbody>\n",
       "    <tr>\n",
       "      <th>3040</th>\n",
       "      <td>092400.jpg</td>\n",
       "      <td>long sleeve top</td>\n",
       "      <td>221</td>\n",
       "      <td>357</td>\n",
       "      <td>525</td>\n",
       "      <td>691</td>\n",
       "      <td>750</td>\n",
       "      <td>1125</td>\n",
       "    </tr>\n",
       "    <tr>\n",
       "      <th>3608</th>\n",
       "      <td>142068.jpg</td>\n",
       "      <td>long sleeve top</td>\n",
       "      <td>0</td>\n",
       "      <td>91</td>\n",
       "      <td>375</td>\n",
       "      <td>682</td>\n",
       "      <td>424</td>\n",
       "      <td>756</td>\n",
       "    </tr>\n",
       "    <tr>\n",
       "      <th>513</th>\n",
       "      <td>128992.jpg</td>\n",
       "      <td>long sleeve top</td>\n",
       "      <td>319</td>\n",
       "      <td>177</td>\n",
       "      <td>624</td>\n",
       "      <td>506</td>\n",
       "      <td>750</td>\n",
       "      <td>588</td>\n",
       "    </tr>\n",
       "    <tr>\n",
       "      <th>2595</th>\n",
       "      <td>121091.jpg</td>\n",
       "      <td>long sleeve top</td>\n",
       "      <td>7</td>\n",
       "      <td>0</td>\n",
       "      <td>510</td>\n",
       "      <td>502</td>\n",
       "      <td>640</td>\n",
       "      <td>640</td>\n",
       "    </tr>\n",
       "    <tr>\n",
       "      <th>4743</th>\n",
       "      <td>170517.jpg</td>\n",
       "      <td>long sleeve top</td>\n",
       "      <td>159</td>\n",
       "      <td>271</td>\n",
       "      <td>466</td>\n",
       "      <td>623</td>\n",
       "      <td>468</td>\n",
       "      <td>624</td>\n",
       "    </tr>\n",
       "  </tbody>\n",
       "</table>\n",
       "</div>"
      ],
      "text/plain": [
       "             img    category_name   x1   y1   x2   y2  i_w   i_h\n",
       "3040  092400.jpg  long sleeve top  221  357  525  691  750  1125\n",
       "3608  142068.jpg  long sleeve top    0   91  375  682  424   756\n",
       "513   128992.jpg  long sleeve top  319  177  624  506  750   588\n",
       "2595  121091.jpg  long sleeve top    7    0  510  502  640   640\n",
       "4743  170517.jpg  long sleeve top  159  271  466  623  468   624"
      ]
     },
     "execution_count": 59,
     "metadata": {},
     "output_type": "execute_result"
    }
   ],
   "source": [
    "# Making all remaining class images the same length\n",
    "train_test = train_short_sub.groupby('category_name').sample(n=3000, random_state=5)\n",
    "train_test.head()"
   ]
  },
  {
   "cell_type": "code",
   "execution_count": 60,
   "metadata": {},
   "outputs": [],
   "source": [
    "train_test['path'] = train_test['img'].apply(lambda x: 'home/ec2-user/SageMaker/effdet_df2/train/' + x)"
   ]
  },
  {
   "cell_type": "code",
   "execution_count": 24,
   "metadata": {},
   "outputs": [
    {
     "data": {
      "text/html": [
       "<div>\n",
       "<style scoped>\n",
       "    .dataframe tbody tr th:only-of-type {\n",
       "        vertical-align: middle;\n",
       "    }\n",
       "\n",
       "    .dataframe tbody tr th {\n",
       "        vertical-align: top;\n",
       "    }\n",
       "\n",
       "    .dataframe thead th {\n",
       "        text-align: right;\n",
       "    }\n",
       "</style>\n",
       "<table border=\"1\" class=\"dataframe\">\n",
       "  <thead>\n",
       "    <tr style=\"text-align: right;\">\n",
       "      <th></th>\n",
       "      <th>img</th>\n",
       "      <th>category_name</th>\n",
       "      <th>x1</th>\n",
       "      <th>y1</th>\n",
       "      <th>x2</th>\n",
       "      <th>y2</th>\n",
       "      <th>i_w</th>\n",
       "      <th>i_h</th>\n",
       "      <th>path</th>\n",
       "      <th>x3</th>\n",
       "    </tr>\n",
       "  </thead>\n",
       "  <tbody>\n",
       "    <tr>\n",
       "      <th>3040</th>\n",
       "      <td>092400.jpg</td>\n",
       "      <td>long sleeve top</td>\n",
       "      <td>221</td>\n",
       "      <td>357</td>\n",
       "      <td>525</td>\n",
       "      <td>691</td>\n",
       "      <td>750</td>\n",
       "      <td>1125</td>\n",
       "      <td>home/ec2-user/SageMaker/effdet_df2/train/09240...</td>\n",
       "      <td></td>\n",
       "    </tr>\n",
       "    <tr>\n",
       "      <th>3608</th>\n",
       "      <td>142068.jpg</td>\n",
       "      <td>long sleeve top</td>\n",
       "      <td>0</td>\n",
       "      <td>91</td>\n",
       "      <td>375</td>\n",
       "      <td>682</td>\n",
       "      <td>424</td>\n",
       "      <td>756</td>\n",
       "      <td>home/ec2-user/SageMaker/effdet_df2/train/14206...</td>\n",
       "      <td></td>\n",
       "    </tr>\n",
       "    <tr>\n",
       "      <th>513</th>\n",
       "      <td>128992.jpg</td>\n",
       "      <td>long sleeve top</td>\n",
       "      <td>319</td>\n",
       "      <td>177</td>\n",
       "      <td>624</td>\n",
       "      <td>506</td>\n",
       "      <td>750</td>\n",
       "      <td>588</td>\n",
       "      <td>home/ec2-user/SageMaker/effdet_df2/train/12899...</td>\n",
       "      <td></td>\n",
       "    </tr>\n",
       "    <tr>\n",
       "      <th>2595</th>\n",
       "      <td>121091.jpg</td>\n",
       "      <td>long sleeve top</td>\n",
       "      <td>7</td>\n",
       "      <td>0</td>\n",
       "      <td>510</td>\n",
       "      <td>502</td>\n",
       "      <td>640</td>\n",
       "      <td>640</td>\n",
       "      <td>home/ec2-user/SageMaker/effdet_df2/train/12109...</td>\n",
       "      <td></td>\n",
       "    </tr>\n",
       "    <tr>\n",
       "      <th>4743</th>\n",
       "      <td>170517.jpg</td>\n",
       "      <td>long sleeve top</td>\n",
       "      <td>159</td>\n",
       "      <td>271</td>\n",
       "      <td>466</td>\n",
       "      <td>623</td>\n",
       "      <td>468</td>\n",
       "      <td>624</td>\n",
       "      <td>home/ec2-user/SageMaker/effdet_df2/train/17051...</td>\n",
       "      <td></td>\n",
       "    </tr>\n",
       "  </tbody>\n",
       "</table>\n",
       "</div>"
      ],
      "text/plain": [
       "             img    category_name   x1   y1   x2   y2  i_w   i_h  \\\n",
       "3040  092400.jpg  long sleeve top  221  357  525  691  750  1125   \n",
       "3608  142068.jpg  long sleeve top    0   91  375  682  424   756   \n",
       "513   128992.jpg  long sleeve top  319  177  624  506  750   588   \n",
       "2595  121091.jpg  long sleeve top    7    0  510  502  640   640   \n",
       "4743  170517.jpg  long sleeve top  159  271  466  623  468   624   \n",
       "\n",
       "                                                   path x3  \n",
       "3040  home/ec2-user/SageMaker/effdet_df2/train/09240...     \n",
       "3608  home/ec2-user/SageMaker/effdet_df2/train/14206...     \n",
       "513   home/ec2-user/SageMaker/effdet_df2/train/12899...     \n",
       "2595  home/ec2-user/SageMaker/effdet_df2/train/12109...     \n",
       "4743  home/ec2-user/SageMaker/effdet_df2/train/17051...     "
      ]
     },
     "execution_count": 24,
     "metadata": {},
     "output_type": "execute_result"
    }
   ],
   "source": [
    "train_test[\"x3\"] = \"\"\n",
    "train_test.head()"
   ]
  },
  {
   "cell_type": "code",
   "execution_count": 25,
   "metadata": {},
   "outputs": [],
   "source": [
    "train_test[\"y3\"] = \"\"\n",
    "train_test[\"x4\"] = \"\"\n",
    "train_test[\"y4\"] = \"\""
   ]
  },
  {
   "cell_type": "code",
   "execution_count": 61,
   "metadata": {},
   "outputs": [],
   "source": [
    "train_test_lab = train_test.loc[:, ['path', \"x1\", 'y1', 'x2', 'y2', 'category_name']]"
   ]
  },
  {
   "cell_type": "code",
   "execution_count": 62,
   "metadata": {},
   "outputs": [
    {
     "data": {
      "text/html": [
       "<div>\n",
       "<style scoped>\n",
       "    .dataframe tbody tr th:only-of-type {\n",
       "        vertical-align: middle;\n",
       "    }\n",
       "\n",
       "    .dataframe tbody tr th {\n",
       "        vertical-align: top;\n",
       "    }\n",
       "\n",
       "    .dataframe thead th {\n",
       "        text-align: right;\n",
       "    }\n",
       "</style>\n",
       "<table border=\"1\" class=\"dataframe\">\n",
       "  <thead>\n",
       "    <tr style=\"text-align: right;\">\n",
       "      <th></th>\n",
       "      <th>path</th>\n",
       "      <th>x1</th>\n",
       "      <th>y1</th>\n",
       "      <th>x2</th>\n",
       "      <th>y2</th>\n",
       "      <th>category_name</th>\n",
       "    </tr>\n",
       "  </thead>\n",
       "  <tbody>\n",
       "    <tr>\n",
       "      <th>3040</th>\n",
       "      <td>home/ec2-user/SageMaker/effdet_df2/train/09240...</td>\n",
       "      <td>221</td>\n",
       "      <td>357</td>\n",
       "      <td>525</td>\n",
       "      <td>691</td>\n",
       "      <td>long sleeve top</td>\n",
       "    </tr>\n",
       "    <tr>\n",
       "      <th>3608</th>\n",
       "      <td>home/ec2-user/SageMaker/effdet_df2/train/14206...</td>\n",
       "      <td>0</td>\n",
       "      <td>91</td>\n",
       "      <td>375</td>\n",
       "      <td>682</td>\n",
       "      <td>long sleeve top</td>\n",
       "    </tr>\n",
       "    <tr>\n",
       "      <th>513</th>\n",
       "      <td>home/ec2-user/SageMaker/effdet_df2/train/12899...</td>\n",
       "      <td>319</td>\n",
       "      <td>177</td>\n",
       "      <td>624</td>\n",
       "      <td>506</td>\n",
       "      <td>long sleeve top</td>\n",
       "    </tr>\n",
       "    <tr>\n",
       "      <th>2595</th>\n",
       "      <td>home/ec2-user/SageMaker/effdet_df2/train/12109...</td>\n",
       "      <td>7</td>\n",
       "      <td>0</td>\n",
       "      <td>510</td>\n",
       "      <td>502</td>\n",
       "      <td>long sleeve top</td>\n",
       "    </tr>\n",
       "    <tr>\n",
       "      <th>4743</th>\n",
       "      <td>home/ec2-user/SageMaker/effdet_df2/train/17051...</td>\n",
       "      <td>159</td>\n",
       "      <td>271</td>\n",
       "      <td>466</td>\n",
       "      <td>623</td>\n",
       "      <td>long sleeve top</td>\n",
       "    </tr>\n",
       "  </tbody>\n",
       "</table>\n",
       "</div>"
      ],
      "text/plain": [
       "                                                   path   x1   y1   x2   y2  \\\n",
       "3040  home/ec2-user/SageMaker/effdet_df2/train/09240...  221  357  525  691   \n",
       "3608  home/ec2-user/SageMaker/effdet_df2/train/14206...    0   91  375  682   \n",
       "513   home/ec2-user/SageMaker/effdet_df2/train/12899...  319  177  624  506   \n",
       "2595  home/ec2-user/SageMaker/effdet_df2/train/12109...    7    0  510  502   \n",
       "4743  home/ec2-user/SageMaker/effdet_df2/train/17051...  159  271  466  623   \n",
       "\n",
       "        category_name  \n",
       "3040  long sleeve top  \n",
       "3608  long sleeve top  \n",
       "513   long sleeve top  \n",
       "2595  long sleeve top  \n",
       "4743  long sleeve top  "
      ]
     },
     "execution_count": 62,
     "metadata": {},
     "output_type": "execute_result"
    }
   ],
   "source": [
    "train_test_lab.head()"
   ]
  },
  {
   "cell_type": "code",
   "execution_count": 63,
   "metadata": {},
   "outputs": [],
   "source": [
    "train_test_lab.to_csv(\"/home/ec2-user/SageMaker/effdet_train.csv\", index=False, header=False)"
   ]
  },
  {
   "cell_type": "markdown",
   "metadata": {},
   "source": [
    "### Preparing validation data"
   ]
  },
  {
   "cell_type": "code",
   "execution_count": 45,
   "metadata": {},
   "outputs": [],
   "source": [
    "# orig_file = 'DeepFashion2/validation/validation.json'\n",
    "# dest_file = '/home/ec2-user/SageMaker/validation.json'\n",
    "\n",
    "# # Connect to S3 bucket and download file - train.json\n",
    "# s3 = boto3.resource('s3')\n",
    "# s3.Bucket(bucket).download_file(orig_file, dest_file)"
   ]
  },
  {
   "cell_type": "code",
   "execution_count": 30,
   "metadata": {},
   "outputs": [],
   "source": [
    "# Reading in json\n",
    "val_df = pd.read_json(\"validation.json\")"
   ]
  },
  {
   "cell_type": "code",
   "execution_count": 31,
   "metadata": {},
   "outputs": [
    {
     "data": {
      "text/html": [
       "<div>\n",
       "<style scoped>\n",
       "    .dataframe tbody tr th:only-of-type {\n",
       "        vertical-align: middle;\n",
       "    }\n",
       "\n",
       "    .dataframe tbody tr th {\n",
       "        vertical-align: top;\n",
       "    }\n",
       "\n",
       "    .dataframe thead th {\n",
       "        text-align: right;\n",
       "    }\n",
       "</style>\n",
       "<table border=\"1\" class=\"dataframe\">\n",
       "  <thead>\n",
       "    <tr style=\"text-align: right;\">\n",
       "      <th></th>\n",
       "      <th>img</th>\n",
       "      <th>category_name</th>\n",
       "      <th>bounding_box</th>\n",
       "    </tr>\n",
       "  </thead>\n",
       "  <tbody>\n",
       "    <tr>\n",
       "      <th>0</th>\n",
       "      <td>000001.jpg</td>\n",
       "      <td>vest</td>\n",
       "      <td>[199, 190, 287, 269]</td>\n",
       "    </tr>\n",
       "    <tr>\n",
       "      <th>1</th>\n",
       "      <td>000002.jpg</td>\n",
       "      <td>vest</td>\n",
       "      <td>[170, 121, 280, 215]</td>\n",
       "    </tr>\n",
       "    <tr>\n",
       "      <th>2</th>\n",
       "      <td>000003.jpg</td>\n",
       "      <td>short sleeve dress</td>\n",
       "      <td>[151, 241, 279, 435]</td>\n",
       "    </tr>\n",
       "    <tr>\n",
       "      <th>3</th>\n",
       "      <td>000004.jpg</td>\n",
       "      <td>short sleeve dress</td>\n",
       "      <td>[174, 205, 327, 393]</td>\n",
       "    </tr>\n",
       "    <tr>\n",
       "      <th>4</th>\n",
       "      <td>000005.jpg</td>\n",
       "      <td>short sleeve top</td>\n",
       "      <td>[48, 0, 467, 623]</td>\n",
       "    </tr>\n",
       "  </tbody>\n",
       "</table>\n",
       "</div>"
      ],
      "text/plain": [
       "          img       category_name          bounding_box\n",
       "0  000001.jpg                vest  [199, 190, 287, 269]\n",
       "1  000002.jpg                vest  [170, 121, 280, 215]\n",
       "2  000003.jpg  short sleeve dress  [151, 241, 279, 435]\n",
       "3  000004.jpg  short sleeve dress  [174, 205, 327, 393]\n",
       "4  000005.jpg    short sleeve top     [48, 0, 467, 623]"
      ]
     },
     "execution_count": 31,
     "metadata": {},
     "output_type": "execute_result"
    }
   ],
   "source": [
    "val_sub = val_df.loc[:, train_columns]\n",
    "val_sub.head()"
   ]
  },
  {
   "cell_type": "code",
   "execution_count": 32,
   "metadata": {},
   "outputs": [
    {
     "data": {
      "text/plain": [
       "category_name\n",
       "long sleeve top       4414\n",
       "short sleeve dress    3026\n",
       "short sleeve top      9603\n",
       "trousers              2792\n",
       "Name: img, dtype: int64"
      ]
     },
     "execution_count": 32,
     "metadata": {},
     "output_type": "execute_result"
    }
   ],
   "source": [
    "val_short = val_sub[val_sub.category_name.isin(short_list)]\n",
    "val_short.groupby('category_name').count()['img']"
   ]
  },
  {
   "cell_type": "code",
   "execution_count": 33,
   "metadata": {},
   "outputs": [
    {
     "data": {
      "text/html": [
       "<div>\n",
       "<style scoped>\n",
       "    .dataframe tbody tr th:only-of-type {\n",
       "        vertical-align: middle;\n",
       "    }\n",
       "\n",
       "    .dataframe tbody tr th {\n",
       "        vertical-align: top;\n",
       "    }\n",
       "\n",
       "    .dataframe thead th {\n",
       "        text-align: right;\n",
       "    }\n",
       "</style>\n",
       "<table border=\"1\" class=\"dataframe\">\n",
       "  <thead>\n",
       "    <tr style=\"text-align: right;\">\n",
       "      <th></th>\n",
       "      <th>img</th>\n",
       "      <th>bounding_box</th>\n",
       "    </tr>\n",
       "    <tr>\n",
       "      <th>category_name</th>\n",
       "      <th></th>\n",
       "      <th></th>\n",
       "    </tr>\n",
       "  </thead>\n",
       "  <tbody>\n",
       "    <tr>\n",
       "      <th>long sleeve top</th>\n",
       "      <td>2000</td>\n",
       "      <td>2000</td>\n",
       "    </tr>\n",
       "    <tr>\n",
       "      <th>short sleeve dress</th>\n",
       "      <td>2000</td>\n",
       "      <td>2000</td>\n",
       "    </tr>\n",
       "    <tr>\n",
       "      <th>short sleeve top</th>\n",
       "      <td>2000</td>\n",
       "      <td>2000</td>\n",
       "    </tr>\n",
       "    <tr>\n",
       "      <th>trousers</th>\n",
       "      <td>2000</td>\n",
       "      <td>2000</td>\n",
       "    </tr>\n",
       "  </tbody>\n",
       "</table>\n",
       "</div>"
      ],
      "text/plain": [
       "                     img  bounding_box\n",
       "category_name                         \n",
       "long sleeve top     2000          2000\n",
       "short sleeve dress  2000          2000\n",
       "short sleeve top    2000          2000\n",
       "trousers            2000          2000"
      ]
     },
     "execution_count": 33,
     "metadata": {},
     "output_type": "execute_result"
    }
   ],
   "source": [
    "val_short_sub = val_short.groupby('category_name').sample(n=2000, random_state=5)\n",
    "val_short_sub.groupby('category_name').count()"
   ]
  },
  {
   "cell_type": "code",
   "execution_count": 34,
   "metadata": {},
   "outputs": [
    {
     "data": {
      "text/plain": [
       "['001465.jpg', '005883.jpg', '030278.jpg', '010727.jpg', '028952.jpg']"
      ]
     },
     "execution_count": 34,
     "metadata": {},
     "output_type": "execute_result"
    }
   ],
   "source": [
    "val_list = list(val_short_sub['img'])\n",
    "val_list[:5]"
   ]
  },
  {
   "cell_type": "code",
   "execution_count": 40,
   "metadata": {},
   "outputs": [],
   "source": [
    "# s3 = boto3.resource('s3')\n",
    "\n",
    "# for image in val_list:\n",
    "#     orig_img = 'DeepFashion2/validation/image/' + image\n",
    "#     dest_img = '/home/ec2-user/SageMaker/effdet_df2/val/' + image\n",
    "    \n",
    "#     # Connect to S3 bucket and download image\n",
    "#     s3.Bucket(bucket).download_file(orig_img, dest_img)"
   ]
  },
  {
   "cell_type": "code",
   "execution_count": 35,
   "metadata": {},
   "outputs": [
    {
     "name": "stdout",
     "output_type": "stream",
     "text": [
      "8000\n"
     ]
    }
   ],
   "source": [
    "temp_list = os.listdir('./effdet_df2/val')\n",
    "print(len(temp_list))"
   ]
  },
  {
   "cell_type": "code",
   "execution_count": 36,
   "metadata": {},
   "outputs": [
    {
     "data": {
      "text/html": [
       "<div>\n",
       "<style scoped>\n",
       "    .dataframe tbody tr th:only-of-type {\n",
       "        vertical-align: middle;\n",
       "    }\n",
       "\n",
       "    .dataframe tbody tr th {\n",
       "        vertical-align: top;\n",
       "    }\n",
       "\n",
       "    .dataframe thead th {\n",
       "        text-align: right;\n",
       "    }\n",
       "</style>\n",
       "<table border=\"1\" class=\"dataframe\">\n",
       "  <thead>\n",
       "    <tr style=\"text-align: right;\">\n",
       "      <th></th>\n",
       "      <th>img</th>\n",
       "      <th>category_name</th>\n",
       "      <th>x1</th>\n",
       "      <th>y1</th>\n",
       "      <th>x2</th>\n",
       "      <th>y2</th>\n",
       "    </tr>\n",
       "  </thead>\n",
       "  <tbody>\n",
       "    <tr>\n",
       "      <th>1464</th>\n",
       "      <td>001465.jpg</td>\n",
       "      <td>long sleeve top</td>\n",
       "      <td>1</td>\n",
       "      <td>45</td>\n",
       "      <td>466</td>\n",
       "      <td>623</td>\n",
       "    </tr>\n",
       "    <tr>\n",
       "      <th>5882</th>\n",
       "      <td>005883.jpg</td>\n",
       "      <td>long sleeve top</td>\n",
       "      <td>0</td>\n",
       "      <td>0</td>\n",
       "      <td>433</td>\n",
       "      <td>614</td>\n",
       "    </tr>\n",
       "    <tr>\n",
       "      <th>30277</th>\n",
       "      <td>030278.jpg</td>\n",
       "      <td>long sleeve top</td>\n",
       "      <td>327</td>\n",
       "      <td>129</td>\n",
       "      <td>548</td>\n",
       "      <td>448</td>\n",
       "    </tr>\n",
       "    <tr>\n",
       "      <th>10726</th>\n",
       "      <td>010727.jpg</td>\n",
       "      <td>long sleeve top</td>\n",
       "      <td>0</td>\n",
       "      <td>36</td>\n",
       "      <td>467</td>\n",
       "      <td>369</td>\n",
       "    </tr>\n",
       "    <tr>\n",
       "      <th>28951</th>\n",
       "      <td>028952.jpg</td>\n",
       "      <td>long sleeve top</td>\n",
       "      <td>208</td>\n",
       "      <td>121</td>\n",
       "      <td>444</td>\n",
       "      <td>431</td>\n",
       "    </tr>\n",
       "  </tbody>\n",
       "</table>\n",
       "</div>"
      ],
      "text/plain": [
       "              img    category_name   x1   y1   x2   y2\n",
       "1464   001465.jpg  long sleeve top    1   45  466  623\n",
       "5882   005883.jpg  long sleeve top    0    0  433  614\n",
       "30277  030278.jpg  long sleeve top  327  129  548  448\n",
       "10726  010727.jpg  long sleeve top    0   36  467  369\n",
       "28951  028952.jpg  long sleeve top  208  121  444  431"
      ]
     },
     "execution_count": 36,
     "metadata": {},
     "output_type": "execute_result"
    }
   ],
   "source": [
    "# Making columns for the bounding box coordinates\n",
    "val_short_sub[['x1', 'y1', 'x2', 'y2']] = pd.DataFrame(\n",
    "    val_short_sub.bounding_box.tolist(), index=val_short_sub.index)\n",
    "val_short_sub.drop(columns=[\"bounding_box\"], inplace=True)\n",
    "val_short_sub.head()"
   ]
  },
  {
   "cell_type": "code",
   "execution_count": 37,
   "metadata": {},
   "outputs": [],
   "source": [
    "val_dim = []\n",
    "for file in list(val_short_sub['img']):\n",
    "    i = Image.open('./effdet_df2/val/'+file)\n",
    "    val_dim.append([*i.size])\n",
    "val_dim_df = pd.DataFrame(val_dim, columns=['i_w', 'i_h'])"
   ]
  },
  {
   "cell_type": "code",
   "execution_count": 38,
   "metadata": {},
   "outputs": [
    {
     "name": "stdout",
     "output_type": "stream",
     "text": [
      "      i_h\n",
      "i_w      \n",
      "468  3190\n",
      "      i_w\n",
      "i_h      \n",
      "624  1108\n"
     ]
    }
   ],
   "source": [
    "val_w = val_dim_df.groupby('i_w').count().sort_values(by='i_h', ascending=False).iloc[:1]\n",
    "val_h = val_dim_df.groupby('i_h').count().sort_values(by='i_w', ascending=False).iloc[:1]\n",
    "print(val_w)\n",
    "print(val_h)"
   ]
  },
  {
   "cell_type": "code",
   "execution_count": 39,
   "metadata": {},
   "outputs": [],
   "source": [
    "val_short_sub = pd.concat([val_short_sub.reset_index(drop=True), val_dim_df.reset_index(drop=True)], axis=1)"
   ]
  },
  {
   "cell_type": "code",
   "execution_count": 40,
   "metadata": {},
   "outputs": [
    {
     "name": "stdout",
     "output_type": "stream",
     "text": [
      "117\n"
     ]
    }
   ],
   "source": [
    "toosmall_val = val_short_sub[(val_short_sub['i_w'] < IMG_DIM) | (val_short_sub['i_h'] < IMG_DIM)]\n",
    "print(len(toosmall_val))"
   ]
  },
  {
   "cell_type": "code",
   "execution_count": 41,
   "metadata": {},
   "outputs": [
    {
     "data": {
      "text/html": [
       "<div>\n",
       "<style scoped>\n",
       "    .dataframe tbody tr th:only-of-type {\n",
       "        vertical-align: middle;\n",
       "    }\n",
       "\n",
       "    .dataframe tbody tr th {\n",
       "        vertical-align: top;\n",
       "    }\n",
       "\n",
       "    .dataframe thead th {\n",
       "        text-align: right;\n",
       "    }\n",
       "</style>\n",
       "<table border=\"1\" class=\"dataframe\">\n",
       "  <thead>\n",
       "    <tr style=\"text-align: right;\">\n",
       "      <th></th>\n",
       "      <th>img</th>\n",
       "      <th>category_name</th>\n",
       "      <th>x1</th>\n",
       "      <th>y1</th>\n",
       "      <th>x2</th>\n",
       "      <th>y2</th>\n",
       "      <th>i_w</th>\n",
       "      <th>i_h</th>\n",
       "    </tr>\n",
       "  </thead>\n",
       "  <tbody>\n",
       "    <tr>\n",
       "      <th>0</th>\n",
       "      <td>001465.jpg</td>\n",
       "      <td>long sleeve top</td>\n",
       "      <td>1</td>\n",
       "      <td>45</td>\n",
       "      <td>466</td>\n",
       "      <td>623</td>\n",
       "      <td>468</td>\n",
       "      <td>624</td>\n",
       "    </tr>\n",
       "    <tr>\n",
       "      <th>1</th>\n",
       "      <td>005883.jpg</td>\n",
       "      <td>long sleeve top</td>\n",
       "      <td>0</td>\n",
       "      <td>0</td>\n",
       "      <td>433</td>\n",
       "      <td>614</td>\n",
       "      <td>468</td>\n",
       "      <td>624</td>\n",
       "    </tr>\n",
       "    <tr>\n",
       "      <th>2</th>\n",
       "      <td>030278.jpg</td>\n",
       "      <td>long sleeve top</td>\n",
       "      <td>327</td>\n",
       "      <td>129</td>\n",
       "      <td>548</td>\n",
       "      <td>448</td>\n",
       "      <td>880</td>\n",
       "      <td>587</td>\n",
       "    </tr>\n",
       "    <tr>\n",
       "      <th>3</th>\n",
       "      <td>010727.jpg</td>\n",
       "      <td>long sleeve top</td>\n",
       "      <td>0</td>\n",
       "      <td>36</td>\n",
       "      <td>467</td>\n",
       "      <td>369</td>\n",
       "      <td>468</td>\n",
       "      <td>624</td>\n",
       "    </tr>\n",
       "    <tr>\n",
       "      <th>4</th>\n",
       "      <td>028952.jpg</td>\n",
       "      <td>long sleeve top</td>\n",
       "      <td>208</td>\n",
       "      <td>121</td>\n",
       "      <td>444</td>\n",
       "      <td>431</td>\n",
       "      <td>640</td>\n",
       "      <td>432</td>\n",
       "    </tr>\n",
       "  </tbody>\n",
       "</table>\n",
       "</div>"
      ],
      "text/plain": [
       "          img    category_name   x1   y1   x2   y2  i_w  i_h\n",
       "0  001465.jpg  long sleeve top    1   45  466  623  468  624\n",
       "1  005883.jpg  long sleeve top    0    0  433  614  468  624\n",
       "2  030278.jpg  long sleeve top  327  129  548  448  880  587\n",
       "3  010727.jpg  long sleeve top    0   36  467  369  468  624\n",
       "4  028952.jpg  long sleeve top  208  121  444  431  640  432"
      ]
     },
     "execution_count": 41,
     "metadata": {},
     "output_type": "execute_result"
    }
   ],
   "source": [
    "val_short_sub = val_short_sub[~val_short_sub.img.isin(toosmall_val.img)]\n",
    "val_short_sub.head()"
   ]
  },
  {
   "cell_type": "code",
   "execution_count": 42,
   "metadata": {},
   "outputs": [
    {
     "data": {
      "text/plain": [
       "category_name\n",
       "long sleeve top       1974\n",
       "short sleeve dress    1957\n",
       "short sleeve top      1975\n",
       "trousers              1977\n",
       "Name: img, dtype: int64"
      ]
     },
     "execution_count": 42,
     "metadata": {},
     "output_type": "execute_result"
    }
   ],
   "source": [
    "val_short_sub.groupby('category_name').count()['img']"
   ]
  },
  {
   "cell_type": "code",
   "execution_count": 64,
   "metadata": {},
   "outputs": [
    {
     "data": {
      "text/html": [
       "<div>\n",
       "<style scoped>\n",
       "    .dataframe tbody tr th:only-of-type {\n",
       "        vertical-align: middle;\n",
       "    }\n",
       "\n",
       "    .dataframe tbody tr th {\n",
       "        vertical-align: top;\n",
       "    }\n",
       "\n",
       "    .dataframe thead th {\n",
       "        text-align: right;\n",
       "    }\n",
       "</style>\n",
       "<table border=\"1\" class=\"dataframe\">\n",
       "  <thead>\n",
       "    <tr style=\"text-align: right;\">\n",
       "      <th></th>\n",
       "      <th>img</th>\n",
       "      <th>category_name</th>\n",
       "      <th>x1</th>\n",
       "      <th>y1</th>\n",
       "      <th>x2</th>\n",
       "      <th>y2</th>\n",
       "      <th>i_w</th>\n",
       "      <th>i_h</th>\n",
       "    </tr>\n",
       "  </thead>\n",
       "  <tbody>\n",
       "    <tr>\n",
       "      <th>1697</th>\n",
       "      <td>027129.jpg</td>\n",
       "      <td>long sleeve top</td>\n",
       "      <td>305</td>\n",
       "      <td>232</td>\n",
       "      <td>654</td>\n",
       "      <td>556</td>\n",
       "      <td>880</td>\n",
       "      <td>557</td>\n",
       "    </tr>\n",
       "    <tr>\n",
       "      <th>938</th>\n",
       "      <td>020098.jpg</td>\n",
       "      <td>long sleeve top</td>\n",
       "      <td>133</td>\n",
       "      <td>2</td>\n",
       "      <td>464</td>\n",
       "      <td>455</td>\n",
       "      <td>640</td>\n",
       "      <td>497</td>\n",
       "    </tr>\n",
       "    <tr>\n",
       "      <th>422</th>\n",
       "      <td>022818.jpg</td>\n",
       "      <td>long sleeve top</td>\n",
       "      <td>135</td>\n",
       "      <td>259</td>\n",
       "      <td>542</td>\n",
       "      <td>898</td>\n",
       "      <td>750</td>\n",
       "      <td>951</td>\n",
       "    </tr>\n",
       "    <tr>\n",
       "      <th>834</th>\n",
       "      <td>009767.jpg</td>\n",
       "      <td>long sleeve top</td>\n",
       "      <td>1</td>\n",
       "      <td>137</td>\n",
       "      <td>466</td>\n",
       "      <td>623</td>\n",
       "      <td>468</td>\n",
       "      <td>624</td>\n",
       "    </tr>\n",
       "    <tr>\n",
       "      <th>1357</th>\n",
       "      <td>002970.jpg</td>\n",
       "      <td>long sleeve top</td>\n",
       "      <td>21</td>\n",
       "      <td>9</td>\n",
       "      <td>467</td>\n",
       "      <td>443</td>\n",
       "      <td>468</td>\n",
       "      <td>624</td>\n",
       "    </tr>\n",
       "  </tbody>\n",
       "</table>\n",
       "</div>"
      ],
      "text/plain": [
       "             img    category_name   x1   y1   x2   y2  i_w  i_h\n",
       "1697  027129.jpg  long sleeve top  305  232  654  556  880  557\n",
       "938   020098.jpg  long sleeve top  133    2  464  455  640  497\n",
       "422   022818.jpg  long sleeve top  135  259  542  898  750  951\n",
       "834   009767.jpg  long sleeve top    1  137  466  623  468  624\n",
       "1357  002970.jpg  long sleeve top   21    9  467  443  468  624"
      ]
     },
     "execution_count": 64,
     "metadata": {},
     "output_type": "execute_result"
    }
   ],
   "source": [
    "val_test = val_short_sub.groupby('category_name').sample(n=500, random_state=5)\n",
    "val_test.head()"
   ]
  },
  {
   "cell_type": "code",
   "execution_count": 65,
   "metadata": {},
   "outputs": [],
   "source": [
    "val_test['path'] = val_test['img'].apply(lambda x: 'home/ec2-user/SageMaker/effdet_df2/val/' + x)"
   ]
  },
  {
   "cell_type": "code",
   "execution_count": 45,
   "metadata": {},
   "outputs": [],
   "source": [
    "val_test[\"x3\"] = \"\"\n",
    "val_test[\"y3\"] = \"\"\n",
    "val_test[\"x4\"] = \"\"\n",
    "val_test[\"y4\"] = \"\""
   ]
  },
  {
   "cell_type": "code",
   "execution_count": 66,
   "metadata": {},
   "outputs": [],
   "source": [
    "val_test_lab = val_test.loc[:, ['path', 'x1', 'y1', 'x2', 'y2', 'category_name']]"
   ]
  },
  {
   "cell_type": "code",
   "execution_count": 67,
   "metadata": {},
   "outputs": [],
   "source": [
    "val_test_lab.to_csv(\"/home/ec2-user/SageMaker/effdet_val.csv\", index=False, header=False)"
   ]
  },
  {
   "cell_type": "markdown",
   "metadata": {},
   "source": [
    "## Making Class map file"
   ]
  },
  {
   "cell_type": "code",
   "execution_count": 1,
   "metadata": {},
   "outputs": [],
   "source": [
    "class_list = ['short sleeve top', 'trousers', 'long sleeve top', 'short sleeve dress']"
   ]
  },
  {
   "cell_type": "code",
   "execution_count": 5,
   "metadata": {},
   "outputs": [
    {
     "data": {
      "text/plain": [
       "[0, 1, 2, 3]"
      ]
     },
     "execution_count": 5,
     "metadata": {},
     "output_type": "execute_result"
    }
   ],
   "source": [
    "class_num = list(range(0, len(class_list)))"
   ]
  },
  {
   "cell_type": "code",
   "execution_count": 6,
   "metadata": {},
   "outputs": [
    {
     "data": {
      "text/html": [
       "<div>\n",
       "<style scoped>\n",
       "    .dataframe tbody tr th:only-of-type {\n",
       "        vertical-align: middle;\n",
       "    }\n",
       "\n",
       "    .dataframe tbody tr th {\n",
       "        vertical-align: top;\n",
       "    }\n",
       "\n",
       "    .dataframe thead th {\n",
       "        text-align: right;\n",
       "    }\n",
       "</style>\n",
       "<table border=\"1\" class=\"dataframe\">\n",
       "  <thead>\n",
       "    <tr style=\"text-align: right;\">\n",
       "      <th></th>\n",
       "      <th>0</th>\n",
       "      <th>1</th>\n",
       "    </tr>\n",
       "  </thead>\n",
       "  <tbody>\n",
       "    <tr>\n",
       "      <th>0</th>\n",
       "      <td>short sleeve top</td>\n",
       "      <td>0</td>\n",
       "    </tr>\n",
       "    <tr>\n",
       "      <th>1</th>\n",
       "      <td>trousers</td>\n",
       "      <td>1</td>\n",
       "    </tr>\n",
       "    <tr>\n",
       "      <th>2</th>\n",
       "      <td>long sleeve top</td>\n",
       "      <td>2</td>\n",
       "    </tr>\n",
       "    <tr>\n",
       "      <th>3</th>\n",
       "      <td>short sleeve dress</td>\n",
       "      <td>3</td>\n",
       "    </tr>\n",
       "  </tbody>\n",
       "</table>\n",
       "</div>"
      ],
      "text/plain": [
       "                    0  1\n",
       "0    short sleeve top  0\n",
       "1            trousers  1\n",
       "2     long sleeve top  2\n",
       "3  short sleeve dress  3"
      ]
     },
     "execution_count": 6,
     "metadata": {},
     "output_type": "execute_result"
    }
   ],
   "source": [
    "class_df = pd.DataFrame(list(zip(class_list, class_num)))\n",
    "class_df"
   ]
  },
  {
   "cell_type": "code",
   "execution_count": 7,
   "metadata": {},
   "outputs": [],
   "source": [
    "class_df.to_csv(\"/home/ec2-user/SageMaker/classes.csv\", index=False, header=False)"
   ]
  },
  {
   "cell_type": "markdown",
   "metadata": {},
   "source": [
    "# Preparing the EfficientDet model"
   ]
  },
  {
   "cell_type": "code",
   "execution_count": 8,
   "metadata": {
    "ExecuteTime": {
     "end_time": "2021-09-29T04:10:01.423519Z",
     "start_time": "2021-09-29T04:10:01.280535Z"
    }
   },
   "outputs": [
    {
     "name": "stdout",
     "output_type": "stream",
     "text": [
      "Cloning into 'EfficientDet'...\n",
      "remote: Enumerating objects: 394, done.\u001b[K\n",
      "remote: Total 394 (delta 0), reused 0 (delta 0), pack-reused 394\u001b[K\n",
      "Receiving objects: 100% (394/394), 1.50 MiB | 10.63 MiB/s, done.\n",
      "Resolving deltas: 100% (242/242), done.\n"
     ]
    }
   ],
   "source": [
    "# Downloading the github project for EfficientDet\n",
    "!git clone https://github.com/xuannianz/EfficientDet"
   ]
  },
  {
   "cell_type": "code",
   "execution_count": 48,
   "metadata": {},
   "outputs": [],
   "source": [
    "os.chdir('./EfficientDet')"
   ]
  },
  {
   "cell_type": "code",
   "execution_count": 49,
   "metadata": {},
   "outputs": [
    {
     "data": {
      "text/plain": [
       "'/home/ec2-user/SageMaker/EfficientDet'"
      ]
     },
     "execution_count": 49,
     "metadata": {},
     "output_type": "execute_result"
    }
   ],
   "source": [
    "os.getcwd()"
   ]
  },
  {
   "cell_type": "code",
   "execution_count": 50,
   "metadata": {},
   "outputs": [
    {
     "name": "stdout",
     "output_type": "stream",
     "text": [
      "Collecting keras_applications\n",
      "  Downloading Keras_Applications-1.0.8-py3-none-any.whl (50 kB)\n",
      "\u001b[K     |████████████████████████████████| 50 kB 4.5 MB/s eta 0:00:011\n",
      "\u001b[?25hRequirement already satisfied: h5py in /home/ec2-user/anaconda3/envs/amazonei_tensorflow2_p36/lib/python3.6/site-packages (from keras_applications) (2.10.0)\n",
      "Requirement already satisfied: numpy>=1.9.1 in /home/ec2-user/anaconda3/envs/amazonei_tensorflow2_p36/lib/python3.6/site-packages (from keras_applications) (1.18.5)\n",
      "Requirement already satisfied: six in /home/ec2-user/anaconda3/envs/amazonei_tensorflow2_p36/lib/python3.6/site-packages (from h5py->keras_applications) (1.15.0)\n",
      "Installing collected packages: keras-applications\n",
      "Successfully installed keras-applications-1.0.8\n"
     ]
    }
   ],
   "source": [
    "!pip3 install keras_applications"
   ]
  },
  {
   "cell_type": "code",
   "execution_count": 51,
   "metadata": {},
   "outputs": [],
   "source": [
    "from datetime import date\n",
    "import os\n",
    "import sys\n",
    "import tensorflow as tf"
   ]
  },
  {
   "cell_type": "code",
   "execution_count": 52,
   "metadata": {},
   "outputs": [],
   "source": [
    "from tensorflow import keras\n",
    "import tensorflow.keras.backend as K\n",
    "from tensorflow.keras.optimizers import Adam, SGD\n",
    "\n",
    "from augmentor.color import VisualEffect\n",
    "from augmentor.misc import MiscEffect\n",
    "from model import efficientdet\n",
    "from losses import smooth_l1, focal, smooth_l1_quad\n",
    "from efficientnet import BASE_WEIGHTS_PATH, WEIGHTS_HASHES"
   ]
  },
  {
   "cell_type": "code",
   "execution_count": 53,
   "metadata": {},
   "outputs": [
    {
     "name": "stdout",
     "output_type": "stream",
     "text": [
      "[name: \"/device:CPU:0\"\n",
      "device_type: \"CPU\"\n",
      "memory_limit: 268435456\n",
      "locality {\n",
      "}\n",
      "incarnation: 15754309519806406067\n",
      ", name: \"/device:XLA_CPU:0\"\n",
      "device_type: \"XLA_CPU\"\n",
      "memory_limit: 17179869184\n",
      "locality {\n",
      "}\n",
      "incarnation: 6593612218255737979\n",
      "physical_device_desc: \"device: XLA_CPU device\"\n",
      ", name: \"/device:XLA_GPU:0\"\n",
      "device_type: \"XLA_GPU\"\n",
      "memory_limit: 17179869184\n",
      "locality {\n",
      "}\n",
      "incarnation: 215700319328743365\n",
      "physical_device_desc: \"device: XLA_GPU device\"\n",
      ", name: \"/device:GPU:0\"\n",
      "device_type: \"GPU\"\n",
      "memory_limit: 14648653952\n",
      "locality {\n",
      "  bus_id: 1\n",
      "  links {\n",
      "  }\n",
      "}\n",
      "incarnation: 12355927375365208742\n",
      "physical_device_desc: \"device: 0, name: Tesla T4, pci bus id: 0000:00:1e.0, compute capability: 7.5\"\n",
      "]\n"
     ]
    }
   ],
   "source": [
    "from tensorflow.python.client import device_lib\n",
    "print(device_lib.list_local_devices())"
   ]
  },
  {
   "cell_type": "code",
   "execution_count": 54,
   "metadata": {},
   "outputs": [
    {
     "data": {
      "text/plain": [
       "[PhysicalDevice(name='/physical_device:GPU:0', device_type='GPU')]"
      ]
     },
     "execution_count": 54,
     "metadata": {},
     "output_type": "execute_result"
    }
   ],
   "source": [
    "tf.config.list_physical_devices('GPU')"
   ]
  },
  {
   "cell_type": "markdown",
   "metadata": {},
   "source": [
    "### Hyperparameters"
   ]
  },
  {
   "cell_type": "code",
   "execution_count": 69,
   "metadata": {},
   "outputs": [],
   "source": [
    "batch_size = 32\n",
    "phi = 3    # Model size\n",
    "detect_text = False\n",
    "snapshot = \"imagenet\"\n",
    "gpu = \"0\"\n",
    "\n",
    "dataset_type = 'csv'\n",
    "train_path = \"/home/ec2-user/SageMaker/effdet_train.csv\"\n",
    "class_path = \"classes.csv\"\n",
    "val_path = \"/home/ec2-user/SageMaker/effdet_val.csv\"\n",
    "\n",
    "freeze_backbone = True\n",
    "compute_val_loss = True\n",
    "weighted_bifpn = False\n",
    "freeze_bn = False\n",
    "tensorboard_dir = 'logs/{}'.format(str(date.today()))\n",
    "evaluation = True\n",
    "snapshots_store = True\n",
    "\n",
    "epochs = 10\n",
    "NUM_TRAIN = 12000\n",
    "NUM_TEST = 2000\n",
    "\n",
    "steps = NUM_TRAIN //batch_size,\n",
    "val_steps= NUM_TEST //batch_size\n",
    "\n",
    "workers = 4\n",
    "dropout_rate = 0.2"
   ]
  },
  {
   "cell_type": "markdown",
   "metadata": {},
   "source": [
    "### This is from the train.py in the cloned repository"
   ]
  },
  {
   "cell_type": "code",
   "execution_count": 70,
   "metadata": {},
   "outputs": [],
   "source": [
    "def create_generators(dataset_type, train_path, class_path, batch_size, phi, detect_text,\n",
    "                      val_path=None, random_transform=None):\n",
    "    \"\"\"\n",
    "    Create generators for training and validation.\n",
    "\n",
    "        preprocess_image: Function that preprocesses an image for the network.\n",
    "    \"\"\"\n",
    "    common_args = {\n",
    "        'batch_size': batch_size,\n",
    "        'phi': phi,\n",
    "        'detect_text': detect_text,\n",
    "        'detect_quadrangle': False\n",
    "    }\n",
    "\n",
    "    # create random transform generator for augmenting training data\n",
    "    if random_transform:\n",
    "        misc_effect = MiscEffect()\n",
    "        visual_effect = VisualEffect()\n",
    "    else:\n",
    "        misc_effect = None\n",
    "        visual_effect = None\n",
    "\n",
    "    if dataset_type == 'csv':\n",
    "        from generators.csv_ import CSVGenerator\n",
    "        train_generator = CSVGenerator(\n",
    "            train_path,\n",
    "            class_path,\n",
    "            misc_effect=misc_effect,\n",
    "            visual_effect=visual_effect,\n",
    "            **common_args\n",
    "        )\n",
    "        if val_path:\n",
    "            validation_generator = CSVGenerator(\n",
    "                val_path,\n",
    "                class_path,\n",
    "                shuffle_groups=False,\n",
    "                **common_args\n",
    "            )\n",
    "        else:\n",
    "            validation_generator = None\n",
    "\n",
    "    else:\n",
    "        raise ValueError('Invalid data type received: {}'.format(dataset_type))\n",
    "\n",
    "    return train_generator, validation_generator"
   ]
  },
  {
   "cell_type": "code",
   "execution_count": 57,
   "metadata": {},
   "outputs": [],
   "source": [
    "def create_callbacks(training_model, prediction_model, validation_generator, tensorboard_dir, batch_size,\n",
    "                    evaluation, snapshots):\n",
    "    \"\"\"\n",
    "    Creates the callbacks to use during training.\n",
    "    Args\n",
    "        training_model: The model that is used for training.\n",
    "        prediction_model: The model that should be used for validation.\n",
    "        validation_generator: The generator for creating validation data.\n",
    "        args: parseargs args object.\n",
    "    Returns:\n",
    "        A list of callbacks used for training.\n",
    "    \"\"\"\n",
    "    callbacks = []\n",
    "\n",
    "    tensorboard_callback = None\n",
    "\n",
    "    if tensorboard_dir:\n",
    "        if tf.version.VERSION > '2.0.0':\n",
    "            file_writer = tf.summary.create_file_writer(tensorboard_dir)\n",
    "            file_writer.set_as_default()\n",
    "        tensorboard_callback = keras.callbacks.TensorBoard(\n",
    "            log_dir=tensorboard_dir,\n",
    "            histogram_freq=0,\n",
    "            batch_size=batch_size,\n",
    "            write_graph=True,\n",
    "            write_grads=False,\n",
    "            write_images=False,\n",
    "            embeddings_freq=0,\n",
    "            embeddings_layer_names=None,\n",
    "            embeddings_metadata=None\n",
    "        )\n",
    "        callbacks.append(tensorboard_callback)\n",
    "\n",
    "    if evaluation and validation_generator:\n",
    "        if dataset_type == 'coco':\n",
    "            from eval.coco import Evaluate\n",
    "            # use prediction model for evaluation\n",
    "            evaluation = Evaluate(validation_generator, prediction_model, tensorboard=tensorboard_callback)\n",
    "        else:\n",
    "            from eval.pascal import Evaluate\n",
    "            evaluation = Evaluate(validation_generator, prediction_model, tensorboard=tensorboard_callback)\n",
    "        callbacks.append(evaluation)\n",
    "\n",
    "    # save the model\n",
    "    if snapshots:\n",
    "        # ensure directory created first; otherwise h5py will error after epoch.\n",
    "        makedirs(snapshot_path)\n",
    "        checkpoint = keras.callbacks.ModelCheckpoint(\n",
    "            os.path.join(\n",
    "                snapshot_path,\n",
    "                f'{dataset_type}_{{epoch:02d}}_{{loss:.4f}}_{{val_loss:.4f}}.h5' if compute_val_loss\n",
    "                else f'{dataset_type}_{{epoch:02d}}_{{loss:.4f}}.h5'\n",
    "            ),\n",
    "            verbose=1,\n",
    "            save_weights_only=True,\n",
    "            monitor=\"mAP\",\n",
    "            # mode='max'\n",
    "        )\n",
    "        callbacks.append(checkpoint)\n",
    "\n",
    "    # callbacks.append(keras.callbacks.ReduceLROnPlateau(\n",
    "    #     monitor='loss',\n",
    "    #     factor=0.1,\n",
    "    #     patience=2,\n",
    "    #     verbose=1,\n",
    "    #     mode='auto',\n",
    "    #     min_delta=0.0001,\n",
    "    #     cooldown=0,\n",
    "    #     min_lr=0\n",
    "    # ))\n",
    "\n",
    "    return callbacks"
   ]
  },
  {
   "cell_type": "code",
   "execution_count": 72,
   "metadata": {},
   "outputs": [
    {
     "ename": "ValueError",
     "evalue": "It appears you are trying to construct a functional model, but not all of the inputs in the first positional argument of your layer call are symbolic tensors. (Input objects, or the output of another layer) Functional models cannot correctly track custom layers unless all values in the first call argument are symbolic.",
     "output_type": "error",
     "traceback": [
      "\u001b[0;31m---------------------------------------------------------------------------\u001b[0m",
      "\u001b[0;31mValueError\u001b[0m                                Traceback (most recent call last)",
      "\u001b[0;32m<ipython-input-72-dda2a0638032>\u001b[0m in \u001b[0;36m<module>\u001b[0;34m\u001b[0m\n\u001b[1;32m     16\u001b[0m                                        \u001b[0mweighted_bifpn\u001b[0m\u001b[0;34m=\u001b[0m\u001b[0mweighted_bifpn\u001b[0m\u001b[0;34m,\u001b[0m\u001b[0;34m\u001b[0m\u001b[0;34m\u001b[0m\u001b[0m\n\u001b[1;32m     17\u001b[0m                                        \u001b[0mfreeze_bn\u001b[0m\u001b[0;34m=\u001b[0m\u001b[0mfreeze_bn\u001b[0m\u001b[0;34m,\u001b[0m\u001b[0;34m\u001b[0m\u001b[0;34m\u001b[0m\u001b[0m\n\u001b[0;32m---> 18\u001b[0;31m                                        \u001b[0mdetect_quadrangle\u001b[0m\u001b[0;34m=\u001b[0m\u001b[0;32mFalse\u001b[0m\u001b[0;34m\u001b[0m\u001b[0;34m\u001b[0m\u001b[0m\n\u001b[0m\u001b[1;32m     19\u001b[0m                                        )\n\u001b[1;32m     20\u001b[0m \u001b[0;31m# load pretrained weights\u001b[0m\u001b[0;34m\u001b[0m\u001b[0;34m\u001b[0m\u001b[0;34m\u001b[0m\u001b[0m\n",
      "\u001b[0;32m~/SageMaker/EfficientDet/model.py\u001b[0m in \u001b[0;36mefficientdet\u001b[0;34m(phi, num_classes, num_anchors, weighted_bifpn, freeze_bn, score_threshold, detect_quadrangle, anchor_parameters, separable_conv)\u001b[0m\n\u001b[1;32m    441\u001b[0m     class_net = ClassNet(w_head, d_head, num_classes=num_classes, num_anchors=num_anchors,\n\u001b[1;32m    442\u001b[0m                          separable_conv=separable_conv, freeze_bn=freeze_bn, name='class_net')\n\u001b[0;32m--> 443\u001b[0;31m     \u001b[0mclassification\u001b[0m \u001b[0;34m=\u001b[0m \u001b[0;34m[\u001b[0m\u001b[0mclass_net\u001b[0m\u001b[0;34m(\u001b[0m\u001b[0;34m[\u001b[0m\u001b[0mfeature\u001b[0m\u001b[0;34m,\u001b[0m \u001b[0mi\u001b[0m\u001b[0;34m]\u001b[0m\u001b[0;34m)\u001b[0m \u001b[0;32mfor\u001b[0m \u001b[0mi\u001b[0m\u001b[0;34m,\u001b[0m \u001b[0mfeature\u001b[0m \u001b[0;32min\u001b[0m \u001b[0menumerate\u001b[0m\u001b[0;34m(\u001b[0m\u001b[0mfpn_features\u001b[0m\u001b[0;34m)\u001b[0m\u001b[0;34m]\u001b[0m\u001b[0;34m\u001b[0m\u001b[0;34m\u001b[0m\u001b[0m\n\u001b[0m\u001b[1;32m    444\u001b[0m     \u001b[0mclassification\u001b[0m \u001b[0;34m=\u001b[0m \u001b[0mlayers\u001b[0m\u001b[0;34m.\u001b[0m\u001b[0mConcatenate\u001b[0m\u001b[0;34m(\u001b[0m\u001b[0maxis\u001b[0m\u001b[0;34m=\u001b[0m\u001b[0;36m1\u001b[0m\u001b[0;34m,\u001b[0m \u001b[0mname\u001b[0m\u001b[0;34m=\u001b[0m\u001b[0;34m'classification'\u001b[0m\u001b[0;34m)\u001b[0m\u001b[0;34m(\u001b[0m\u001b[0mclassification\u001b[0m\u001b[0;34m)\u001b[0m\u001b[0;34m\u001b[0m\u001b[0;34m\u001b[0m\u001b[0m\n\u001b[1;32m    445\u001b[0m     \u001b[0mregression\u001b[0m \u001b[0;34m=\u001b[0m \u001b[0;34m[\u001b[0m\u001b[0mbox_net\u001b[0m\u001b[0;34m(\u001b[0m\u001b[0;34m[\u001b[0m\u001b[0mfeature\u001b[0m\u001b[0;34m,\u001b[0m \u001b[0mi\u001b[0m\u001b[0;34m]\u001b[0m\u001b[0;34m)\u001b[0m \u001b[0;32mfor\u001b[0m \u001b[0mi\u001b[0m\u001b[0;34m,\u001b[0m \u001b[0mfeature\u001b[0m \u001b[0;32min\u001b[0m \u001b[0menumerate\u001b[0m\u001b[0;34m(\u001b[0m\u001b[0mfpn_features\u001b[0m\u001b[0;34m)\u001b[0m\u001b[0;34m]\u001b[0m\u001b[0;34m\u001b[0m\u001b[0;34m\u001b[0m\u001b[0m\n",
      "\u001b[0;32m~/SageMaker/EfficientDet/model.py\u001b[0m in \u001b[0;36m<listcomp>\u001b[0;34m(.0)\u001b[0m\n\u001b[1;32m    441\u001b[0m     class_net = ClassNet(w_head, d_head, num_classes=num_classes, num_anchors=num_anchors,\n\u001b[1;32m    442\u001b[0m                          separable_conv=separable_conv, freeze_bn=freeze_bn, name='class_net')\n\u001b[0;32m--> 443\u001b[0;31m     \u001b[0mclassification\u001b[0m \u001b[0;34m=\u001b[0m \u001b[0;34m[\u001b[0m\u001b[0mclass_net\u001b[0m\u001b[0;34m(\u001b[0m\u001b[0;34m[\u001b[0m\u001b[0mfeature\u001b[0m\u001b[0;34m,\u001b[0m \u001b[0mi\u001b[0m\u001b[0;34m]\u001b[0m\u001b[0;34m)\u001b[0m \u001b[0;32mfor\u001b[0m \u001b[0mi\u001b[0m\u001b[0;34m,\u001b[0m \u001b[0mfeature\u001b[0m \u001b[0;32min\u001b[0m \u001b[0menumerate\u001b[0m\u001b[0;34m(\u001b[0m\u001b[0mfpn_features\u001b[0m\u001b[0;34m)\u001b[0m\u001b[0;34m]\u001b[0m\u001b[0;34m\u001b[0m\u001b[0;34m\u001b[0m\u001b[0m\n\u001b[0m\u001b[1;32m    444\u001b[0m     \u001b[0mclassification\u001b[0m \u001b[0;34m=\u001b[0m \u001b[0mlayers\u001b[0m\u001b[0;34m.\u001b[0m\u001b[0mConcatenate\u001b[0m\u001b[0;34m(\u001b[0m\u001b[0maxis\u001b[0m\u001b[0;34m=\u001b[0m\u001b[0;36m1\u001b[0m\u001b[0;34m,\u001b[0m \u001b[0mname\u001b[0m\u001b[0;34m=\u001b[0m\u001b[0;34m'classification'\u001b[0m\u001b[0;34m)\u001b[0m\u001b[0;34m(\u001b[0m\u001b[0mclassification\u001b[0m\u001b[0;34m)\u001b[0m\u001b[0;34m\u001b[0m\u001b[0;34m\u001b[0m\u001b[0m\n\u001b[1;32m    445\u001b[0m     \u001b[0mregression\u001b[0m \u001b[0;34m=\u001b[0m \u001b[0;34m[\u001b[0m\u001b[0mbox_net\u001b[0m\u001b[0;34m(\u001b[0m\u001b[0;34m[\u001b[0m\u001b[0mfeature\u001b[0m\u001b[0;34m,\u001b[0m \u001b[0mi\u001b[0m\u001b[0;34m]\u001b[0m\u001b[0;34m)\u001b[0m \u001b[0;32mfor\u001b[0m \u001b[0mi\u001b[0m\u001b[0;34m,\u001b[0m \u001b[0mfeature\u001b[0m \u001b[0;32min\u001b[0m \u001b[0menumerate\u001b[0m\u001b[0;34m(\u001b[0m\u001b[0mfpn_features\u001b[0m\u001b[0;34m)\u001b[0m\u001b[0;34m]\u001b[0m\u001b[0;34m\u001b[0m\u001b[0;34m\u001b[0m\u001b[0m\n",
      "\u001b[0;32m~/anaconda3/envs/amazonei_tensorflow2_p36/lib/python3.6/site-packages/tensorflow/python/keras/engine/base_layer.py\u001b[0m in \u001b[0;36m__call__\u001b[0;34m(self, *args, **kwargs)\u001b[0m\n\u001b[1;32m    922\u001b[0m     \u001b[0;31m# >> outputs = MyLayer()(inputs)  # Functional construction mode.\u001b[0m\u001b[0;34m\u001b[0m\u001b[0;34m\u001b[0m\u001b[0;34m\u001b[0m\u001b[0m\n\u001b[1;32m    923\u001b[0m     \u001b[0;31m# >> model = tf.keras.Model(inputs, outputs)\u001b[0m\u001b[0;34m\u001b[0m\u001b[0;34m\u001b[0m\u001b[0;34m\u001b[0m\u001b[0m\n\u001b[0;32m--> 924\u001b[0;31m     \u001b[0;32mif\u001b[0m \u001b[0m_in_functional_construction_mode\u001b[0m\u001b[0;34m(\u001b[0m\u001b[0mself\u001b[0m\u001b[0;34m,\u001b[0m \u001b[0minputs\u001b[0m\u001b[0;34m,\u001b[0m \u001b[0margs\u001b[0m\u001b[0;34m,\u001b[0m \u001b[0mkwargs\u001b[0m\u001b[0;34m,\u001b[0m \u001b[0minput_list\u001b[0m\u001b[0;34m)\u001b[0m\u001b[0;34m:\u001b[0m\u001b[0;34m\u001b[0m\u001b[0;34m\u001b[0m\u001b[0m\n\u001b[0m\u001b[1;32m    925\u001b[0m       return self._functional_construction_call(inputs, args, kwargs,\n\u001b[1;32m    926\u001b[0m                                                 input_list)\n",
      "\u001b[0;32m~/anaconda3/envs/amazonei_tensorflow2_p36/lib/python3.6/site-packages/tensorflow/python/keras/engine/base_layer.py\u001b[0m in \u001b[0;36m_in_functional_construction_mode\u001b[0;34m(layer, inputs, args, kwargs, input_list)\u001b[0m\n\u001b[1;32m   3221\u001b[0m           any(tf_utils.is_symbolic_tensor(t) for t in nest.flatten(\n\u001b[1;32m   3222\u001b[0m               [inputs, args, kwargs])) and not all_inputs_symbolic):\n\u001b[0;32m-> 3223\u001b[0;31m         raise ValueError('It appears you are trying to construct a '\n\u001b[0m\u001b[1;32m   3224\u001b[0m                          \u001b[0;34m'functional model, but not all of the inputs in '\u001b[0m\u001b[0;34m\u001b[0m\u001b[0;34m\u001b[0m\u001b[0m\n\u001b[1;32m   3225\u001b[0m                          \u001b[0;34m'the first positional argument of your layer call '\u001b[0m\u001b[0;34m\u001b[0m\u001b[0;34m\u001b[0m\u001b[0m\n",
      "\u001b[0;31mValueError\u001b[0m: It appears you are trying to construct a functional model, but not all of the inputs in the first positional argument of your layer call are symbolic tensors. (Input objects, or the output of another layer) Functional models cannot correctly track custom layers unless all values in the first call argument are symbolic."
     ]
    }
   ],
   "source": [
    "# create the generators\n",
    "train_generator, validation_generator = create_generators(dataset_type, train_path, class_path,\n",
    "                                                          batch_size, phi, detect_text, val_path)\n",
    "\n",
    "num_classes = train_generator.num_classes()\n",
    "num_anchors = train_generator.num_anchors\n",
    "\n",
    "# optionally choose specific GPU\n",
    "if gpu:\n",
    "    os.environ['CUDA_VISIBLE_DEVICES'] = gpu\n",
    "\n",
    "\n",
    "model, prediction_model = efficientdet(phi,\n",
    "                                       num_classes=num_classes,\n",
    "                                       num_anchors=num_anchors,\n",
    "                                       weighted_bifpn=weighted_bifpn,\n",
    "                                       freeze_bn=freeze_bn,\n",
    "                                       detect_quadrangle=False\n",
    "                                       )\n",
    "# load pretrained weights\n",
    "if snapshot:\n",
    "    if snapshot == 'imagenet':\n",
    "        model_name = 'efficientnet-b{}'.format(phi)\n",
    "        file_name = '{}_weights_tf_dim_ordering_tf_kernels_autoaugment_notop.h5'.format(model_name)\n",
    "        file_hash = WEIGHTS_HASHES[model_name][1]\n",
    "        weights_path = keras.utils.get_file(file_name,\n",
    "                                            BASE_WEIGHTS_PATH + file_name,\n",
    "                                            cache_subdir='models',\n",
    "                                            file_hash=file_hash)\n",
    "        model.load_weights(weights_path, by_name=True)\n",
    "    else:\n",
    "        print('Loading model, this may take a second...')\n",
    "        model.load_weights(snapshot, by_name=True)\n",
    "\n",
    "# freeze backbone layers\n",
    "if freeze_backbone:\n",
    "    # 227, 329, 329, 374, 464, 566, 656\n",
    "    for i in range(1, [227, 329, 329, 374, 464, 566, 656][phi]):\n",
    "        model.layers[i].trainable = False\n",
    "\n",
    "if gpu and len(gpu.split(',')) > 1:\n",
    "    model = keras.utils.multi_gpu_model(model, gpus=list(map(int, gpu.split(','))))\n",
    "\n",
    "# compile model\n",
    "model.compile(optimizer=Adam(lr=1e-3), loss={\n",
    "    'regression': smooth_l1_quad() if detect_quadrangle else smooth_l1(),\n",
    "    'classification': focal()\n",
    "}, )\n",
    "\n",
    "print(model.summary())\n",
    "\n",
    "# create the callbacks\n",
    "callbacks = create_callbacks(\n",
    "    model,\n",
    "    prediction_model,\n",
    "    validation_generator,\n",
    "    tensorboard_dir,\n",
    "    batch_size,\n",
    "    evaluation,\n",
    "    snapshots_store\n",
    ")\n",
    "\n",
    "if not compute_val_loss:\n",
    "    validation_generator = None\n",
    "elif compute_val_loss and validation_generator is None:\n",
    "    raise ValueError('When you have no validation data, you should not specify --compute-val-loss.')"
   ]
  },
  {
   "cell_type": "code",
   "execution_count": null,
   "metadata": {},
   "outputs": [],
   "source": [
    "# start training\n",
    "model.fit_generator(\n",
    "    generator=train_generator,\n",
    "    steps_per_epoch=steps,\n",
    "    epochs=epochs,\n",
    "    verbose=1,\n",
    "    callbacks=callbacks,\n",
    "    workers=workers,\n",
    "    use_multiprocessing=True,\n",
    "    validation_data=validation_generator\n",
    ")"
   ]
  },
  {
   "cell_type": "code",
   "execution_count": 19,
   "metadata": {},
   "outputs": [
    {
     "data": {
      "image/png": "[encoded data removed]",
      "text/plain": [
       "<Figure size 432x288 with 1 Axes>"
      ]
     },
     "metadata": {
      "needs_background": "light"
     },
     "output_type": "display_data"
    },
    {
     "data": {
      "image/png": "[encoded data removed]",
      "text/plain": [
       "<Figure size 432x288 with 1 Axes>"
      ]
     },
     "metadata": {
      "needs_background": "light"
     },
     "output_type": "display_data"
    }
   ],
   "source": [
    "\n",
    "acc = history.history['acc']\n",
    "val_acc = history.history['val_acc']\n",
    "loss = history.history['loss']\n",
    "val_loss = history.history['val_loss']\n",
    "\n",
    "epochs_x = range(len(acc))\n",
    "\n",
    "plt.plot(epochs_x, acc, 'bo', label='Training acc')\n",
    "plt.plot(epochs_x, val_acc, 'b', label='Validation acc')\n",
    "plt.title('Training and validation accuracy')\n",
    "plt.legend()\n",
    "\n",
    "plt.figure()\n",
    "\n",
    "plt.plot(epochs_x, loss, 'bo', label='Training loss')\n",
    "plt.plot(epochs_x, val_loss, 'b', label='Validation loss')\n",
    "plt.title('Training and validation loss')\n",
    "plt.legend()\n",
    "\n",
    "plt.show()"
   ]
  },
  {
   "cell_type": "code",
   "execution_count": 20,
   "metadata": {},
   "outputs": [
    {
     "name": "stdout",
     "output_type": "stream",
     "text": [
      "INFO:tensorflow:Assets written to: df2_model_effnet/assets\n"
     ]
    }
   ],
   "source": [
    "model.save(\"df2_model_effnet\")"
   ]
  }
 ],
 "metadata": {
  "kernelspec": {
   "display_name": "conda_amazonei_tensorflow2_p36",
   "language": "python",
   "name": "conda_amazonei_tensorflow2_p36"
  },
  "language_info": {
   "codemirror_mode": {
    "name": "ipython",
    "version": 3
   },
   "file_extension": ".py",
   "mimetype": "text/x-python",
   "name": "python",
   "nbconvert_exporter": "python",
   "pygments_lexer": "ipython3",
   "version": "3.6.13"
  },
  "varInspector": {
   "cols": {
    "lenName": 16,
    "lenType": 16,
    "lenVar": 40
   },
   "kernels_config": {
    "python": {
     "delete_cmd_postfix": "",
     "delete_cmd_prefix": "del ",
     "library": "var_list.py",
     "varRefreshCmd": "print(var_dic_list())"
    },
    "r": {
     "delete_cmd_postfix": ") ",
     "delete_cmd_prefix": "rm(",
     "library": "var_list.r",
     "varRefreshCmd": "cat(var_dic_list()) "
    }
   },
   "types_to_exclude": [
    "module",
    "function",
    "builtin_function_or_method",
    "instance",
    "_Feature"
   ],
   "window_display": false
  }
 },
 "nbformat": 4,
 "nbformat_minor": 4
}
