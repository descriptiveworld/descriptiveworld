{
 "cells": [
  {
   "cell_type": "code",
   "execution_count": 1,
   "id": "failing-projector",
   "metadata": {},
   "outputs": [],
   "source": [
    "import zipfile\n",
    "import pandas as pd\n",
    "import numpy as np\n",
    "import matplotlib.pyplot as plt\n",
    "import cv2\n",
    "from PIL import Image\n",
    "import os\n",
    "import shutil\n",
    "import io\n",
    "from tqdm.notebook import tqdm"
   ]
  },
  {
   "cell_type": "code",
   "execution_count": 2,
   "id": "acquired-biography",
   "metadata": {},
   "outputs": [],
   "source": [
    "zipf = zipfile.ZipFile('Img/img.zip')"
   ]
  },
  {
   "cell_type": "code",
   "execution_count": 3,
   "id": "royal-congo",
   "metadata": {},
   "outputs": [],
   "source": [
    "filenames = zipf.namelist()\n",
    "df = pd.DataFrame([x.split('/') for x in filenames[:]], columns=['root_path', 'product_name', 'filename'])\n",
    "df['path'] = filenames"
   ]
  },
  {
   "cell_type": "code",
   "execution_count": 4,
   "id": "exempt-spank",
   "metadata": {},
   "outputs": [
    {
     "name": "stdout",
     "output_type": "stream",
     "text": [
      "289229\n"
     ]
    },
    {
     "data": {
      "text/html": [
       "<div>\n",
       "<style scoped>\n",
       "    .dataframe tbody tr th:only-of-type {\n",
       "        vertical-align: middle;\n",
       "    }\n",
       "\n",
       "    .dataframe tbody tr th {\n",
       "        vertical-align: top;\n",
       "    }\n",
       "\n",
       "    .dataframe thead th {\n",
       "        text-align: right;\n",
       "    }\n",
       "</style>\n",
       "<table border=\"1\" class=\"dataframe\">\n",
       "  <thead>\n",
       "    <tr style=\"text-align: right;\">\n",
       "      <th></th>\n",
       "      <th>index</th>\n",
       "      <th>root_path</th>\n",
       "      <th>product_name</th>\n",
       "      <th>filename</th>\n",
       "      <th>path</th>\n",
       "    </tr>\n",
       "  </thead>\n",
       "  <tbody>\n",
       "    <tr>\n",
       "      <th>7121</th>\n",
       "      <td>7284</td>\n",
       "      <td>img</td>\n",
       "      <td>Abstract_Print_Tee</td>\n",
       "      <td>img_00000038.jpg</td>\n",
       "      <td>img/Abstract_Print_Tee/img_00000038.jpg</td>\n",
       "    </tr>\n",
       "    <tr>\n",
       "      <th>189960</th>\n",
       "      <td>193657</td>\n",
       "      <td>img</td>\n",
       "      <td>Open-Front_Cardigan</td>\n",
       "      <td>img_00000006.jpg</td>\n",
       "      <td>img/Open-Front_Cardigan/img_00000006.jpg</td>\n",
       "    </tr>\n",
       "  </tbody>\n",
       "</table>\n",
       "</div>"
      ],
      "text/plain": [
       "         index root_path         product_name          filename  \\\n",
       "7121      7284       img   Abstract_Print_Tee  img_00000038.jpg   \n",
       "189960  193657       img  Open-Front_Cardigan  img_00000006.jpg   \n",
       "\n",
       "                                            path  \n",
       "7121     img/Abstract_Print_Tee/img_00000038.jpg  \n",
       "189960  img/Open-Front_Cardigan/img_00000006.jpg  "
      ]
     },
     "execution_count": 4,
     "metadata": {},
     "output_type": "execute_result"
    }
   ],
   "source": [
    "df = df.dropna()\n",
    "df = df[df.filename != '']\n",
    "df = df.reset_index()\n",
    "print(len(df))\n",
    "df.sample(n=2)"
   ]
  },
  {
   "cell_type": "code",
   "execution_count": 8,
   "id": "standing-stylus",
   "metadata": {},
   "outputs": [
    {
     "data": {
      "application/vnd.jupyter.widget-view+json": {
       "model_id": "552d035b33c8467ea824b53340ce3987",
       "version_major": 2,
       "version_minor": 0
      },
      "text/plain": [
       "  0%|          | 0/3197 [00:00<?, ?it/s]"
      ]
     },
     "metadata": {},
     "output_type": "display_data"
    }
   ],
   "source": [
    "target_dim= 320.0\n",
    "\n",
    "#root_path = 'fashion_50k_lores/images/train'\n",
    "#root_label = 'fashion_50k_lores/fashion/labels/train'\n",
    "\n",
    "root_path = 'fashion_50k_lores/images/val'\n",
    "root_label = 'fashion_50k_lores/labels/val'\n",
    "\n",
    "for sub_path in tqdm(os.listdir(root_path)):\n",
    "    if 'DS_' not in sub_path:\n",
    "        for filename in os.listdir(root_path+'/'+sub_path)[:]:\n",
    "            if 'jpg' in filename.split('.')[1]:\n",
    "                tmp = Image.open(root_path+'/'+sub_path+'/'+filename)\n",
    "                i_w = tmp.size[0]\n",
    "                i_h = tmp.size[1]\n",
    "                \n",
    "                img = Image.open(io.BytesIO(zipf.read('img/'+sub_path+'/'+filename)))\n",
    "                img.thumbnail((target_dim, target_dim)) \n",
    "                if 'png' in str(type(img)).lower():\n",
    "                    img = img.convert('RGB')\n",
    "                img.save(root_path+'/'+sub_path+'/'+filename, 'JPEG', optimize=True)\n",
    "                #print(sub_path, filename)\n"
   ]
  },
  {
   "cell_type": "code",
   "execution_count": null,
   "id": "wrapped-listening",
   "metadata": {},
   "outputs": [],
   "source": []
  }
 ],
 "metadata": {
  "kernelspec": {
   "display_name": "Python 3",
   "language": "python",
   "name": "python3"
  },
  "language_info": {
   "codemirror_mode": {
    "name": "ipython",
    "version": 3
   },
   "file_extension": ".py",
   "mimetype": "text/x-python",
   "name": "python",
   "nbconvert_exporter": "python",
   "pygments_lexer": "ipython3",
   "version": "3.7.4"
  }
 },
 "nbformat": 4,
 "nbformat_minor": 5
}
