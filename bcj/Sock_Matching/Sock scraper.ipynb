{
 "cells": [
  {
   "cell_type": "code",
   "execution_count": 3,
   "id": "downtown-volume",
   "metadata": {},
   "outputs": [],
   "source": [
    "#pip install DuckDuckGoImages"
   ]
  },
  {
   "cell_type": "markdown",
   "id": "identical-chase",
   "metadata": {},
   "source": [
    "From:  https://github.com/JorgePoblete/DuckDuckGoImages"
   ]
  },
  {
   "cell_type": "code",
   "execution_count": 1,
   "id": "trying-tissue",
   "metadata": {},
   "outputs": [],
   "source": [
    "import DuckDuckGoImages as ddg\n",
    "from PIL import Image\n",
    "import os\n",
    "import numpy as np\n",
    "from tqdm.notebook import tqdm"
   ]
  },
  {
   "cell_type": "code",
   "execution_count": 5,
   "id": "missing-hawaiian",
   "metadata": {},
   "outputs": [],
   "source": [
    "patterns = [\n",
    "    'crew single sock',\n",
    "    'tube single sock',\n",
    "    'sport single sock'\n",
    "]"
   ]
  },
  {
   "cell_type": "code",
   "execution_count": 6,
   "id": "silent-cambridge",
   "metadata": {},
   "outputs": [],
   "source": [
    "num_to_scrape = 1000\n",
    "for pattern in patterns:\n",
    "    search=pattern\n",
    "    folder_name = '_'.join(search.split())\n",
    "    ddg.download(search, folder='unprocessed/'+folder_name, max_urls=num_to_scrape, parallel=True, thumbnails=True)"
   ]
  },
  {
   "cell_type": "code",
   "execution_count": null,
   "id": "consecutive-perfume",
   "metadata": {},
   "outputs": [],
   "source": []
  }
 ],
 "metadata": {
  "kernelspec": {
   "display_name": "Python 3",
   "language": "python",
   "name": "python3"
  },
  "language_info": {
   "codemirror_mode": {
    "name": "ipython",
    "version": 3
   },
   "file_extension": ".py",
   "mimetype": "text/x-python",
   "name": "python",
   "nbconvert_exporter": "python",
   "pygments_lexer": "ipython3",
   "version": "3.7.4"
  }
 },
 "nbformat": 4,
 "nbformat_minor": 5
}
