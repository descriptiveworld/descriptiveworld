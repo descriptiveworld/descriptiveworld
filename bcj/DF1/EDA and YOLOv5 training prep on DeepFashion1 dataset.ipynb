{
 "cells": [
  {
   "cell_type": "code",
   "execution_count": 618,
   "id": "b6aaa668",
   "metadata": {},
   "outputs": [],
   "source": [
    "import gzip\n",
    "import zipfile\n",
    "import pandas as pd\n",
    "import numpy as np\n",
    "import matplotlib.pyplot as plt\n",
    "import cv2\n",
    "from PIL import Image\n",
    "import os\n",
    "import shutil"
   ]
  },
  {
   "cell_type": "markdown",
   "id": "0401725e",
   "metadata": {},
   "source": [
    "# Example of directly accessing S3 from notebook (did not scale well for extracting files)"
   ]
  },
  {
   "cell_type": "code",
   "execution_count": 3,
   "id": "5ee67127",
   "metadata": {},
   "outputs": [],
   "source": [
    "# Example for opening a bucket as a filesystem and viewing the contents\n",
    "if False:\n",
    "    import s3fs # for attaching S3 bucket to notebook\n",
    "    fs = s3fs.S3FileSystem(anon=False, key='<key>', secret='<secret>')\n",
    "    fs.ls('s3://bucket/path/')"
   ]
  },
  {
   "cell_type": "code",
   "execution_count": 4,
   "id": "529bb910",
   "metadata": {},
   "outputs": [],
   "source": [
    "# Example code for loading data from S3 into the notebook\n",
    "if False:\n",
    "    bucket='my-bucket'\n",
    "    data_key = 'train.csv'\n",
    "    data_location = 's3://{}/{}'.format(bucket, data_key)\n",
    "    pd.read_csv(data_location)"
   ]
  },
  {
   "cell_type": "code",
   "execution_count": 5,
   "id": "c9be2448",
   "metadata": {},
   "outputs": [],
   "source": [
    "# Example for opening a file for read\n",
    "if False:\n",
    "    img_file = fs.open('s3://descriptiveworld-datasets/DeepFashion1/Img/img.zip', 'rb')"
   ]
  },
  {
   "cell_type": "markdown",
   "id": "9603738d",
   "metadata": {},
   "source": [
    "# Copy files from S3 bucket to notebook EC2 instance"
   ]
  },
  {
   "cell_type": "code",
   "execution_count": 57,
   "id": "c7ee2246",
   "metadata": {},
   "outputs": [],
   "source": [
    "# run only the first time the instance is created and launched\n",
    "#!mkdir ../../../DeepFashion1\n",
    "#!cd ../../../DeepFashion1"
   ]
  },
  {
   "cell_type": "code",
   "execution_count": null,
   "id": "fcb73d8a",
   "metadata": {},
   "outputs": [],
   "source": [
    "# setup aws CLI with personal credentials\n",
    "# this command may be easier to run from a terminal session instead of notebook\n",
    "#!aws configure"
   ]
  },
  {
   "cell_type": "code",
   "execution_count": null,
   "id": "08fdbe04",
   "metadata": {},
   "outputs": [],
   "source": [
    "# copy the DF1 bucket from S3 to this instance\n",
    "#!aws s3 cp s3://descriptiveworld-datasets/DeepFashion1/ . --recursive"
   ]
  },
  {
   "cell_type": "code",
   "execution_count": 619,
   "id": "7ba4267e",
   "metadata": {},
   "outputs": [
    {
     "name": "stdout",
     "output_type": "stream",
     "text": [
      "Anno_coarse  Anno_fine\tEval  fashion  fashion.zip  Img  README.txt  temp\n"
     ]
    }
   ],
   "source": [
    "!ls ../../../DeepFashion1"
   ]
  },
  {
   "cell_type": "markdown",
   "id": "df9d7d3c",
   "metadata": {},
   "source": [
    "# Inspect full image archive without extracting all files"
   ]
  },
  {
   "cell_type": "code",
   "execution_count": 620,
   "id": "2090c533",
   "metadata": {},
   "outputs": [],
   "source": [
    "pre_path = '../../../DeepFashion1/'"
   ]
  },
  {
   "cell_type": "code",
   "execution_count": 621,
   "id": "8dff1ed9",
   "metadata": {},
   "outputs": [],
   "source": [
    "zipf = zipfile.ZipFile(pre_path+'Img/img.zip') # not using high-res images to simplify data wrangling"
   ]
  },
  {
   "cell_type": "code",
   "execution_count": 622,
   "id": "68106dcc",
   "metadata": {},
   "outputs": [],
   "source": [
    "filenames = zipf.namelist()\n",
    "df = pd.DataFrame([x.split('/') for x in filenames[:]], columns=['root_path', 'product_name', 'filename'])\n",
    "df['path'] = filenames"
   ]
  },
  {
   "cell_type": "code",
   "execution_count": 623,
   "id": "c968558a",
   "metadata": {},
   "outputs": [
    {
     "name": "stdout",
     "output_type": "stream",
     "text": [
      "289229\n"
     ]
    },
    {
     "data": {
      "text/html": [
       "<div>\n",
       "<style scoped>\n",
       "    .dataframe tbody tr th:only-of-type {\n",
       "        vertical-align: middle;\n",
       "    }\n",
       "\n",
       "    .dataframe tbody tr th {\n",
       "        vertical-align: top;\n",
       "    }\n",
       "\n",
       "    .dataframe thead th {\n",
       "        text-align: right;\n",
       "    }\n",
       "</style>\n",
       "<table border=\"1\" class=\"dataframe\">\n",
       "  <thead>\n",
       "    <tr style=\"text-align: right;\">\n",
       "      <th></th>\n",
       "      <th>index</th>\n",
       "      <th>root_path</th>\n",
       "      <th>product_name</th>\n",
       "      <th>filename</th>\n",
       "      <th>path</th>\n",
       "    </tr>\n",
       "  </thead>\n",
       "  <tbody>\n",
       "    <tr>\n",
       "      <th>223498</th>\n",
       "      <td>227880</td>\n",
       "      <td>img</td>\n",
       "      <td>Scuba_Knit_Pencil_Skirt</td>\n",
       "      <td>img_00000009.jpg</td>\n",
       "      <td>img/Scuba_Knit_Pencil_Skirt/img_00000009.jpg</td>\n",
       "    </tr>\n",
       "    <tr>\n",
       "      <th>236830</th>\n",
       "      <td>241496</td>\n",
       "      <td>img</td>\n",
       "      <td>Southwestern_Print_Racerback_Tank</td>\n",
       "      <td>img_00000034.jpg</td>\n",
       "      <td>img/Southwestern_Print_Racerback_Tank/img_0000...</td>\n",
       "    </tr>\n",
       "    <tr>\n",
       "      <th>42634</th>\n",
       "      <td>43437</td>\n",
       "      <td>img</td>\n",
       "      <td>Chandelier_Print_Tee</td>\n",
       "      <td>img_00000032.jpg</td>\n",
       "      <td>img/Chandelier_Print_Tee/img_00000032.jpg</td>\n",
       "    </tr>\n",
       "    <tr>\n",
       "      <th>200931</th>\n",
       "      <td>204878</td>\n",
       "      <td>img</td>\n",
       "      <td>Pintucked_Pleat-Hem_Blouse</td>\n",
       "      <td>img_00000015.jpg</td>\n",
       "      <td>img/Pintucked_Pleat-Hem_Blouse/img_00000015.jpg</td>\n",
       "    </tr>\n",
       "    <tr>\n",
       "      <th>257891</th>\n",
       "      <td>262941</td>\n",
       "      <td>img</td>\n",
       "      <td>Terry_Keyhole_Back_Dress</td>\n",
       "      <td>img_00000044.jpg</td>\n",
       "      <td>img/Terry_Keyhole_Back_Dress/img_00000044.jpg</td>\n",
       "    </tr>\n",
       "    <tr>\n",
       "      <th>190086</th>\n",
       "      <td>193785</td>\n",
       "      <td>img</td>\n",
       "      <td>Open-Front_Collared_Jacket</td>\n",
       "      <td>img_00000017.jpg</td>\n",
       "      <td>img/Open-Front_Collared_Jacket/img_00000017.jpg</td>\n",
       "    </tr>\n",
       "    <tr>\n",
       "      <th>77013</th>\n",
       "      <td>78465</td>\n",
       "      <td>img</td>\n",
       "      <td>Cuffed_Denim_Cutoffs</td>\n",
       "      <td>img_00000052.jpg</td>\n",
       "      <td>img/Cuffed_Denim_Cutoffs/img_00000052.jpg</td>\n",
       "    </tr>\n",
       "    <tr>\n",
       "      <th>32042</th>\n",
       "      <td>32670</td>\n",
       "      <td>img</td>\n",
       "      <td>Boxy_Woven_Moto_Jacket</td>\n",
       "      <td>img_00000047.jpg</td>\n",
       "      <td>img/Boxy_Woven_Moto_Jacket/img_00000047.jpg</td>\n",
       "    </tr>\n",
       "    <tr>\n",
       "      <th>176618</th>\n",
       "      <td>180026</td>\n",
       "      <td>img</td>\n",
       "      <td>Meander_Pattern_Sweater</td>\n",
       "      <td>img_00000017.jpg</td>\n",
       "      <td>img/Meander_Pattern_Sweater/img_00000017.jpg</td>\n",
       "    </tr>\n",
       "    <tr>\n",
       "      <th>152542</th>\n",
       "      <td>155406</td>\n",
       "      <td>img</td>\n",
       "      <td>Keith_Haring_Heart_Print_Tee</td>\n",
       "      <td>img_00000009.jpg</td>\n",
       "      <td>img/Keith_Haring_Heart_Print_Tee/img_00000009.jpg</td>\n",
       "    </tr>\n",
       "  </tbody>\n",
       "</table>\n",
       "</div>"
      ],
      "text/plain": [
       "         index root_path                       product_name          filename  \\\n",
       "223498  227880       img            Scuba_Knit_Pencil_Skirt  img_00000009.jpg   \n",
       "236830  241496       img  Southwestern_Print_Racerback_Tank  img_00000034.jpg   \n",
       "42634    43437       img               Chandelier_Print_Tee  img_00000032.jpg   \n",
       "200931  204878       img         Pintucked_Pleat-Hem_Blouse  img_00000015.jpg   \n",
       "257891  262941       img           Terry_Keyhole_Back_Dress  img_00000044.jpg   \n",
       "190086  193785       img         Open-Front_Collared_Jacket  img_00000017.jpg   \n",
       "77013    78465       img               Cuffed_Denim_Cutoffs  img_00000052.jpg   \n",
       "32042    32670       img             Boxy_Woven_Moto_Jacket  img_00000047.jpg   \n",
       "176618  180026       img            Meander_Pattern_Sweater  img_00000017.jpg   \n",
       "152542  155406       img       Keith_Haring_Heart_Print_Tee  img_00000009.jpg   \n",
       "\n",
       "                                                     path  \n",
       "223498       img/Scuba_Knit_Pencil_Skirt/img_00000009.jpg  \n",
       "236830  img/Southwestern_Print_Racerback_Tank/img_0000...  \n",
       "42634           img/Chandelier_Print_Tee/img_00000032.jpg  \n",
       "200931    img/Pintucked_Pleat-Hem_Blouse/img_00000015.jpg  \n",
       "257891      img/Terry_Keyhole_Back_Dress/img_00000044.jpg  \n",
       "190086    img/Open-Front_Collared_Jacket/img_00000017.jpg  \n",
       "77013           img/Cuffed_Denim_Cutoffs/img_00000052.jpg  \n",
       "32042         img/Boxy_Woven_Moto_Jacket/img_00000047.jpg  \n",
       "176618       img/Meander_Pattern_Sweater/img_00000017.jpg  \n",
       "152542  img/Keith_Haring_Heart_Print_Tee/img_00000009.jpg  "
      ]
     },
     "execution_count": 623,
     "metadata": {},
     "output_type": "execute_result"
    }
   ],
   "source": [
    "df = df.dropna()\n",
    "df = df[df.filename != '']\n",
    "df = df.reset_index()\n",
    "print(len(df))\n",
    "df.sample(n=10)"
   ]
  },
  {
   "cell_type": "code",
   "execution_count": 15,
   "id": "01fdd9ae",
   "metadata": {},
   "outputs": [
    {
     "name": "stdout",
     "output_type": "stream",
     "text": [
      "uncompressed size = 2.74 GB\n"
     ]
    }
   ],
   "source": [
    "osize = 0 \n",
    "for item in zipf.infolist():\n",
    "    osize += item.file_size\n",
    "print('uncompressed size =',round(osize/1000000000,2),'GB')"
   ]
  },
  {
   "cell_type": "markdown",
   "id": "7063109d",
   "metadata": {},
   "source": [
    "# Basic EDA\n",
    "\n",
    "### Number of product types (each image file is a unique product)"
   ]
  },
  {
   "cell_type": "code",
   "execution_count": 632,
   "id": "faeb33f4",
   "metadata": {},
   "outputs": [
    {
     "data": {
      "text/plain": [
       "5621"
      ]
     },
     "execution_count": 632,
     "metadata": {},
     "output_type": "execute_result"
    }
   ],
   "source": [
    "# Number of unique products\n",
    "products = np.unique(df.product_name)\n",
    "len(products)"
   ]
  },
  {
   "cell_type": "code",
   "execution_count": 633,
   "id": "c424be9d",
   "metadata": {},
   "outputs": [],
   "source": [
    "def flattenTypes(val):\n",
    "    lst = val.split('_')\n",
    "    return lst[-1]"
   ]
  },
  {
   "cell_type": "code",
   "execution_count": 634,
   "id": "655090d6",
   "metadata": {},
   "outputs": [
    {
     "name": "stdout",
     "output_type": "stream",
     "text": [
      "46\n"
     ]
    },
    {
     "data": {
      "text/plain": [
       "array(['Anorak', 'Blazer', 'Blouse', 'Bomber', 'Button-Down', 'Caftan',\n",
       "       'Capris', 'Cardigan', 'Chinos', 'Coat', 'Coverup', 'Culottes',\n",
       "       'Cutoffs', 'Dress', 'Flannel', 'Gauchos', 'Halter', 'Henley',\n",
       "       'Hoodie', 'Jacket', 'Jeans', 'Jeggings', 'Jersey', 'Jodhpurs',\n",
       "       'Joggers', 'Jumpsuit', 'Kaftan', 'Kimono', 'Leggings', 'Onesie',\n",
       "       'Parka', 'Peacoat', 'Poncho', 'Robe', 'Romper', 'Sarong', 'Shorts',\n",
       "       'Skirt', 'Sweater', 'Sweatpants', 'Sweatshorts', 'Tank', 'Tee',\n",
       "       'Top', 'Trunks', 'Turtleneck'], dtype=object)"
      ]
     },
     "execution_count": 634,
     "metadata": {},
     "output_type": "execute_result"
    }
   ],
   "source": [
    "df['product_type'] = df.product_name.apply(flattenTypes)\n",
    "all_cats = np.unique(df.product_type)\n",
    "print(len(all_cats))\n",
    "all_cats"
   ]
  },
  {
   "cell_type": "code",
   "execution_count": 635,
   "id": "ef18e0a2",
   "metadata": {
    "scrolled": true
   },
   "outputs": [
    {
     "data": {
      "image/png": "[encoded data removed]",
      "text/plain": [
       "<Figure size 432x288 with 1 Axes>"
      ]
     },
     "metadata": {
      "needs_background": "light"
     },
     "output_type": "display_data"
    }
   ],
   "source": [
    "histdata = df.groupby(['product_type']).count()\n",
    "histdata = histdata.sort_values(by='root_path', ascending=False)\n",
    "\n",
    "data = histdata['root_path'][:20]\n",
    "plt.barh(data.index, data.values)\n",
    "plt.title('Distribution of top-20 clothing categories')\n",
    "plt.xticks(rotation = 90)\n",
    "plt.ylabel('Classes')\n",
    "plt.xlabel('Number of samples')\n",
    "plt.show()"
   ]
  },
  {
   "cell_type": "code",
   "execution_count": 636,
   "id": "1d408557",
   "metadata": {},
   "outputs": [
    {
     "data": {
      "text/plain": [
       "product_type\n",
       "Dress          72158\n",
       "Tee            36887\n",
       "Blouse         24562\n",
       "Shorts         19666\n",
       "Tank           15429\n",
       "Skirt          14773\n",
       "Cardigan       13311\n",
       "Sweater        13123\n",
       "Jacket         10467\n",
       "Top            10078\n",
       "Blazer          7497\n",
       "Romper          7408\n",
       "Jeans           7076\n",
       "Jumpsuit        6153\n",
       "Leggings        5013\n",
       "Joggers         4416\n",
       "Hoodie          4048\n",
       "Sweatpants      3048\n",
       "Kimono          2294\n",
       "Coat            2120\n",
       "Cutoffs         1669\n",
       "Sweatshorts     1106\n",
       "Name: index, dtype: int64"
      ]
     },
     "execution_count": 636,
     "metadata": {},
     "output_type": "execute_result"
    }
   ],
   "source": [
    "histdata[histdata['root_path'] > 1000]['index']"
   ]
  },
  {
   "cell_type": "markdown",
   "id": "8ae5ceda",
   "metadata": {},
   "source": [
    "### Load the bounding box data and merge with the file list"
   ]
  },
  {
   "cell_type": "code",
   "execution_count": 637,
   "id": "1b016dc1",
   "metadata": {},
   "outputs": [
    {
     "data": {
      "text/html": [
       "<div>\n",
       "<style scoped>\n",
       "    .dataframe tbody tr th:only-of-type {\n",
       "        vertical-align: middle;\n",
       "    }\n",
       "\n",
       "    .dataframe tbody tr th {\n",
       "        vertical-align: top;\n",
       "    }\n",
       "\n",
       "    .dataframe thead th {\n",
       "        text-align: right;\n",
       "    }\n",
       "</style>\n",
       "<table border=\"1\" class=\"dataframe\">\n",
       "  <thead>\n",
       "    <tr style=\"text-align: right;\">\n",
       "      <th></th>\n",
       "      <th>path</th>\n",
       "      <th>x1</th>\n",
       "      <th>y1</th>\n",
       "      <th>x2</th>\n",
       "      <th>y2</th>\n",
       "    </tr>\n",
       "  </thead>\n",
       "  <tbody>\n",
       "    <tr>\n",
       "      <th>0</th>\n",
       "      <td>img/Sheer_Pleated-Front_Blouse/img_00000001.jpg</td>\n",
       "      <td>072</td>\n",
       "      <td>079</td>\n",
       "      <td>232</td>\n",
       "      <td>273</td>\n",
       "    </tr>\n",
       "    <tr>\n",
       "      <th>1</th>\n",
       "      <td>img/Sheer_Pleated-Front_Blouse/img_00000002.jpg</td>\n",
       "      <td>067</td>\n",
       "      <td>059</td>\n",
       "      <td>155</td>\n",
       "      <td>161</td>\n",
       "    </tr>\n",
       "    <tr>\n",
       "      <th>2</th>\n",
       "      <td>img/Sheer_Pleated-Front_Blouse/img_00000003.jpg</td>\n",
       "      <td>065</td>\n",
       "      <td>065</td>\n",
       "      <td>156</td>\n",
       "      <td>200</td>\n",
       "    </tr>\n",
       "    <tr>\n",
       "      <th>3</th>\n",
       "      <td>img/Sheer_Pleated-Front_Blouse/img_00000004.jpg</td>\n",
       "      <td>051</td>\n",
       "      <td>062</td>\n",
       "      <td>167</td>\n",
       "      <td>182</td>\n",
       "    </tr>\n",
       "    <tr>\n",
       "      <th>4</th>\n",
       "      <td>img/Sheer_Pleated-Front_Blouse/img_00000005.jpg</td>\n",
       "      <td>046</td>\n",
       "      <td>088</td>\n",
       "      <td>166</td>\n",
       "      <td>262</td>\n",
       "    </tr>\n",
       "  </tbody>\n",
       "</table>\n",
       "</div>"
      ],
      "text/plain": [
       "                                              path   x1   y1   x2   y2\n",
       "0  img/Sheer_Pleated-Front_Blouse/img_00000001.jpg  072  079  232  273\n",
       "1  img/Sheer_Pleated-Front_Blouse/img_00000002.jpg  067  059  155  161\n",
       "2  img/Sheer_Pleated-Front_Blouse/img_00000003.jpg  065  065  156  200\n",
       "3  img/Sheer_Pleated-Front_Blouse/img_00000004.jpg  051  062  167  182\n",
       "4  img/Sheer_Pleated-Front_Blouse/img_00000005.jpg  046  088  166  262"
      ]
     },
     "execution_count": 637,
     "metadata": {},
     "output_type": "execute_result"
    }
   ],
   "source": [
    "# read in the bounding box dataset for all records\n",
    "f = open(pre_path+'/Anno_coarse/list_bbox.txt', 'rt')\n",
    "boxes = f.readlines()\n",
    "boxes = boxes[2:]\n",
    "boxes = [x.replace('\\n', '') for x in boxes]\n",
    "#boxes = [x.replace('img/', 'img_highres/') for x in boxes]\n",
    "boxes = [' '.join(x.split()).split() for x in boxes]\n",
    "df_boxes = pd.DataFrame(boxes, columns=['path', 'x1', 'y1', 'x2', 'y2'])\n",
    "df_boxes.head()"
   ]
  },
  {
   "cell_type": "code",
   "execution_count": 638,
   "id": "0e965c94",
   "metadata": {},
   "outputs": [
    {
     "data": {
      "text/html": [
       "<div>\n",
       "<style scoped>\n",
       "    .dataframe tbody tr th:only-of-type {\n",
       "        vertical-align: middle;\n",
       "    }\n",
       "\n",
       "    .dataframe tbody tr th {\n",
       "        vertical-align: top;\n",
       "    }\n",
       "\n",
       "    .dataframe thead th {\n",
       "        text-align: right;\n",
       "    }\n",
       "</style>\n",
       "<table border=\"1\" class=\"dataframe\">\n",
       "  <thead>\n",
       "    <tr style=\"text-align: right;\">\n",
       "      <th></th>\n",
       "      <th>index</th>\n",
       "      <th>root_path</th>\n",
       "      <th>product_name</th>\n",
       "      <th>filename</th>\n",
       "      <th>path</th>\n",
       "      <th>product_type</th>\n",
       "      <th>x1</th>\n",
       "      <th>y1</th>\n",
       "      <th>x2</th>\n",
       "      <th>y2</th>\n",
       "    </tr>\n",
       "  </thead>\n",
       "  <tbody>\n",
       "    <tr>\n",
       "      <th>27548</th>\n",
       "      <td>28077</td>\n",
       "      <td>img</td>\n",
       "      <td>Boxy_Cable_Knit_Sweater</td>\n",
       "      <td>img_00000012.jpg</td>\n",
       "      <td>img/Boxy_Cable_Knit_Sweater/img_00000012.jpg</td>\n",
       "      <td>Sweater</td>\n",
       "      <td>041</td>\n",
       "      <td>045</td>\n",
       "      <td>175</td>\n",
       "      <td>232</td>\n",
       "    </tr>\n",
       "    <tr>\n",
       "      <th>131607</th>\n",
       "      <td>134039</td>\n",
       "      <td>img</td>\n",
       "      <td>French_Terry_Hoodie</td>\n",
       "      <td>img_00000064.jpg</td>\n",
       "      <td>img/French_Terry_Hoodie/img_00000064.jpg</td>\n",
       "      <td>Hoodie</td>\n",
       "      <td>014</td>\n",
       "      <td>063</td>\n",
       "      <td>163</td>\n",
       "      <td>226</td>\n",
       "    </tr>\n",
       "    <tr>\n",
       "      <th>157523</th>\n",
       "      <td>160493</td>\n",
       "      <td>img</td>\n",
       "      <td>Lace-Paneled_Tank</td>\n",
       "      <td>img_00000026.jpg</td>\n",
       "      <td>img/Lace-Paneled_Tank/img_00000026.jpg</td>\n",
       "      <td>Tank</td>\n",
       "      <td>039</td>\n",
       "      <td>018</td>\n",
       "      <td>161</td>\n",
       "      <td>300</td>\n",
       "    </tr>\n",
       "    <tr>\n",
       "      <th>6145</th>\n",
       "      <td>6287</td>\n",
       "      <td>img</td>\n",
       "      <td>Abstract_Print_Maxi_Dress</td>\n",
       "      <td>img_00000009.jpg</td>\n",
       "      <td>img/Abstract_Print_Maxi_Dress/img_00000009.jpg</td>\n",
       "      <td>Dress</td>\n",
       "      <td>115</td>\n",
       "      <td>001</td>\n",
       "      <td>179</td>\n",
       "      <td>184</td>\n",
       "    </tr>\n",
       "    <tr>\n",
       "      <th>206336</th>\n",
       "      <td>210379</td>\n",
       "      <td>img</td>\n",
       "      <td>Plunging_V-Neckline_Dress</td>\n",
       "      <td>img_00000076.jpg</td>\n",
       "      <td>img/Plunging_V-Neckline_Dress/img_00000076.jpg</td>\n",
       "      <td>Dress</td>\n",
       "      <td>058</td>\n",
       "      <td>033</td>\n",
       "      <td>167</td>\n",
       "      <td>300</td>\n",
       "    </tr>\n",
       "  </tbody>\n",
       "</table>\n",
       "</div>"
      ],
      "text/plain": [
       "         index root_path               product_name          filename  \\\n",
       "27548    28077       img    Boxy_Cable_Knit_Sweater  img_00000012.jpg   \n",
       "131607  134039       img        French_Terry_Hoodie  img_00000064.jpg   \n",
       "157523  160493       img          Lace-Paneled_Tank  img_00000026.jpg   \n",
       "6145      6287       img  Abstract_Print_Maxi_Dress  img_00000009.jpg   \n",
       "206336  210379       img  Plunging_V-Neckline_Dress  img_00000076.jpg   \n",
       "\n",
       "                                                  path product_type   x1   y1  \\\n",
       "27548     img/Boxy_Cable_Knit_Sweater/img_00000012.jpg      Sweater  041  045   \n",
       "131607        img/French_Terry_Hoodie/img_00000064.jpg       Hoodie  014  063   \n",
       "157523          img/Lace-Paneled_Tank/img_00000026.jpg         Tank  039  018   \n",
       "6145    img/Abstract_Print_Maxi_Dress/img_00000009.jpg        Dress  115  001   \n",
       "206336  img/Plunging_V-Neckline_Dress/img_00000076.jpg        Dress  058  033   \n",
       "\n",
       "         x2   y2  \n",
       "27548   175  232  \n",
       "131607  163  226  \n",
       "157523  161  300  \n",
       "6145    179  184  \n",
       "206336  167  300  "
      ]
     },
     "execution_count": 638,
     "metadata": {},
     "output_type": "execute_result"
    }
   ],
   "source": [
    "df_all = df.merge(df_boxes, on='path')\n",
    "df_all.sample(5)"
   ]
  },
  {
   "cell_type": "markdown",
   "id": "34debd26",
   "metadata": {},
   "source": [
    "### Inspect a few sample images and corresponding bounding boxes"
   ]
  },
  {
   "cell_type": "code",
   "execution_count": 639,
   "id": "b12d2b8e",
   "metadata": {},
   "outputs": [],
   "source": [
    "toplot = df_all[df_all.product_name=='Scalloped_Halter_Dress'][:10]"
   ]
  },
  {
   "cell_type": "code",
   "execution_count": 640,
   "id": "79c907c8",
   "metadata": {},
   "outputs": [],
   "source": [
    "# extract sample images from archive to disk\n",
    "filelist = toplot.path.values\n",
    "zipf.extractall(path=pre_path+'temp/', members=filelist)"
   ]
  },
  {
   "cell_type": "code",
   "execution_count": 641,
   "id": "c741c9df",
   "metadata": {},
   "outputs": [
    {
     "data": {
      "image/png": "[encoded data removed]",
      "text/plain": [
       "<Figure size 432x288 with 1 Axes>"
      ]
     },
     "metadata": {
      "needs_background": "light"
     },
     "output_type": "display_data"
    }
   ],
   "source": [
    "row = toplot.iloc[8].values\n",
    "img = cv2.imread(pre_path+'temp/'+row[4])\n",
    "img = cv2.cvtColor(img, cv2.COLOR_BGR2RGB)\n",
    "(x1, y1, x2, y2) = [int(x) for x in row[-4:]]\n",
    "img_bbox = cv2.rectangle(img, (x1, y1), (x2, y2), (0, 255, 0), 2)\n",
    "plt.imshow(img)\n",
    "plt.show()"
   ]
  },
  {
   "cell_type": "markdown",
   "id": "ff86025d",
   "metadata": {},
   "source": [
    "# Down-select data based on YOLOv5 recommendations for training"
   ]
  },
  {
   "cell_type": "markdown",
   "id": "8d607213",
   "metadata": {},
   "source": [
    "Per YOLOv5 training guidelines (https://docs.ultralytics.com/tutorials/training-tips-best-results/), there should be minimum:\n",
    "\n",
    "- 1.5k images per class (i.e. different blouse samples)\n",
    "- 10k instances per class (i.e. all blouse samples, including data augmentations)\n",
    "- 0-10% background images (images with no objects) to help reduce FPs\n",
    "\n",
    "\n",
    "Based on various searches, assume augmentation increases instance count by 10x.\n",
    "\n",
    "Use 1.5k as minimum threshold for class.\n",
    "\n",
    "In DF1, each sample is a unique item.\n",
    "\n",
    "Augmentation will result in 10 instances for each item.\n",
    "\n",
    "This will meet the requirement for 10k instances per class.\n",
    "\n",
    "\n",
    "Risk:\n",
    "\n",
    "- are 10 instances per item sufficient within a class\n",
    "- are the items within a class adequately similar?\n"
   ]
  },
  {
   "cell_type": "code",
   "execution_count": 642,
   "id": "e4e79f4b",
   "metadata": {},
   "outputs": [
    {
     "data": {
      "text/plain": [
       "product_type\n",
       "Dress         72158\n",
       "Tee           36887\n",
       "Blouse        24562\n",
       "Shorts        19666\n",
       "Tank          15429\n",
       "Skirt         14773\n",
       "Cardigan      13311\n",
       "Sweater       13123\n",
       "Jacket        10467\n",
       "Top           10078\n",
       "Blazer         7497\n",
       "Romper         7408\n",
       "Jeans          7076\n",
       "Jumpsuit       6153\n",
       "Leggings       5013\n",
       "Joggers        4416\n",
       "Hoodie         4048\n",
       "Sweatpants     3048\n",
       "Kimono         2294\n",
       "Coat           2120\n",
       "Cutoffs        1669\n",
       "Name: index, dtype: int64"
      ]
     },
     "execution_count": 642,
     "metadata": {},
     "output_type": "execute_result"
    }
   ],
   "source": [
    "histdata[histdata['root_path'] > 1500]['index']"
   ]
  },
  {
   "cell_type": "markdown",
   "id": "6fc60c05",
   "metadata": {},
   "source": [
    "## Additional considerations\n",
    "\n",
    "### Similarity\n",
    "Some items will be difficult to distinguish because of design similarity, they have essentially the same function (bottom or top garment).\n",
    "- Jeans, Joggers, Sweatpants\n",
    "- Blouse, Sweater, Cardigan, Hoodie\n",
    "\n",
    "These items are typically of different fabric/texture as well, so are easy to discern by touch.\n",
    "\n",
    "The similarities of items within these classes offer an opportunity to merge the classes to increase the samples per class.  For example:\n",
    "- Long_Leg:  Jeans + Joggers + Sweatpants\n",
    "- Long_Sleeve:  Blouse + Sweater + Cardigan + Hoodie\n",
    "\n",
    "\n",
    "### Ubiquity\n",
    "\n",
    "Prior experiments with training YOLOv5 to identify Tees, Blouses, Pants, Shorts and using the model to identify real clothing suggest that Short are easily confused with real-world objects (carpet, bed, pillow, dresser, t-shirt, etc.).  Given that this class of garment is easily discernable to users (via self-organization of wardrobe or by touch/weight), we may consider removing the classes Shorts and Cutoffs from the training data.\n",
    "\n",
    "\n",
    "### Exclusions\n",
    "\n",
    "- Leggings\n",
    "    - typically stored in drawer\n",
    "    - not serving same purpose as other long-leg garments\n",
    "- Coat/Blazer/Jacket \n",
    "    - easily discerned by touch / self-organization\n",
    "    - less numerous in personal wardrobe\n",
    "- Jumpsuit / Romper: for later release?\n",
    "- Kimono not in immediate target user community\n",
    "\n",
    "Anything with less than 1,500 samples is excluded.\n"
   ]
  },
  {
   "cell_type": "markdown",
   "id": "872faa19",
   "metadata": {},
   "source": [
    "### Classes for further consideration"
   ]
  },
  {
   "cell_type": "code",
   "execution_count": 643,
   "id": "fbcb7359",
   "metadata": {},
   "outputs": [],
   "source": [
    "# merge similar classes \n",
    "# - Long_Leg:  Jeans + Joggers + Sweatpants\n",
    "# - Long_Sleeve:  Blouse + Sweater + Cardigan + Hoodie\n",
    "\n",
    "df_all['product_type'] = df_all.product_type.apply(lambda x: 'Long_Leg' if x in ['Jeans', 'Joggers', 'Sweatpants'] else x)\n",
    "df_all['product_type'] = df_all.product_type.apply(lambda x: 'Long_Sleeve' if x in ['Blouse', 'Sweater', 'Cardigan', 'Hoodie'] else x)"
   ]
  },
  {
   "cell_type": "code",
   "execution_count": 644,
   "id": "7813fb7a",
   "metadata": {},
   "outputs": [],
   "source": [
    "# exclusions\n",
    "excl = histdata[histdata['root_path'] < 1500]['index'].index.values\n",
    "excl = np.append(excl, ['Coat', 'Shorts', 'Cutoffs', 'Top', 'Skirt','Blazer', 'Jacket', 'Leggings', 'Jumpsuit', 'Romper', 'Kimono'])\n",
    "df_all = df_all[df_all.product_type.apply(lambda x: x not in excl)]"
   ]
  },
  {
   "cell_type": "code",
   "execution_count": 645,
   "id": "1306c3ad",
   "metadata": {},
   "outputs": [
    {
     "data": {
      "image/png": "[encoded data removed]",
      "text/plain": [
       "<Figure size 432x288 with 1 Axes>"
      ]
     },
     "metadata": {
      "needs_background": "light"
     },
     "output_type": "display_data"
    }
   ],
   "source": [
    "histdata = df_all.groupby(['product_type']).count()\n",
    "histdata = histdata.sort_values(by='root_path', ascending=False)\n",
    "\n",
    "data = histdata['root_path'][:20]\n",
    "plt.barh(data.index, data.values)\n",
    "plt.title('Distribution of clothing categories after filtering/merging')\n",
    "plt.xticks(rotation = 90)\n",
    "plt.ylabel('Classes')\n",
    "plt.xlabel('Number of samples')\n",
    "plt.show()"
   ]
  },
  {
   "cell_type": "code",
   "execution_count": 646,
   "id": "765058f5",
   "metadata": {},
   "outputs": [
    {
     "data": {
      "text/plain": [
       "array(['Dress', 'Long_Leg', 'Long_Sleeve', 'Tank', 'Tee'], dtype=object)"
      ]
     },
     "execution_count": 646,
     "metadata": {},
     "output_type": "execute_result"
    }
   ],
   "source": [
    "cats = np.unique(df_all.product_type)\n",
    "cats"
   ]
  },
  {
   "cell_type": "markdown",
   "id": "010463c1",
   "metadata": {},
   "source": [
    "# Prepare subset of overall data based on specific categories of products"
   ]
  },
  {
   "cell_type": "markdown",
   "id": "76433005",
   "metadata": {},
   "source": [
    "### Sample files in categories"
   ]
  },
  {
   "cell_type": "code",
   "execution_count": 647,
   "id": "51b74e37",
   "metadata": {},
   "outputs": [],
   "source": [
    "subset = df_all #[df_all.product_type.isin(cats)] # filter no longer needed after code change"
   ]
  },
  {
   "cell_type": "code",
   "execution_count": 648,
   "id": "da6f6a0a",
   "metadata": {},
   "outputs": [
    {
     "data": {
      "text/plain": [
       "14540"
      ]
     },
     "execution_count": 648,
     "metadata": {},
     "output_type": "execute_result"
    }
   ],
   "source": [
    "# numitems is used to determine the category with the smallest number of items\n",
    "numitems = min(subset.groupby('product_type').count().path)\n",
    "numitems"
   ]
  },
  {
   "cell_type": "code",
   "execution_count": 649,
   "id": "a8306b41",
   "metadata": {},
   "outputs": [
    {
     "data": {
      "text/plain": [
       "65430"
      ]
     },
     "execution_count": 649,
     "metadata": {},
     "output_type": "execute_result"
    }
   ],
   "source": [
    "# then we sample numitems * 90% in each of the cateogries to leave images for later validation and/or testing\n",
    "subsample = subset.groupby('product_type').sample(n=int(numitems*.9))\n",
    "len(subsample)"
   ]
  },
  {
   "cell_type": "markdown",
   "id": "736af2ac",
   "metadata": {},
   "source": [
    "<span style='color:red'>WARNING vvvvvvv</span>"
   ]
  },
  {
   "cell_type": "code",
   "execution_count": 652,
   "id": "b89b9d62",
   "metadata": {},
   "outputs": [],
   "source": [
    "# WARNING THIS WILL DELETE THE previously created output of this notebook\n",
    "!rm -r ../../../DeepFashion1/fashion\n",
    "!rm ../../../DeepFashion1/fashion.zip"
   ]
  },
  {
   "cell_type": "markdown",
   "id": "292f18b1",
   "metadata": {},
   "source": [
    "<span style='color:red'>WARNING ^^^^^^^</span>"
   ]
  },
  {
   "cell_type": "code",
   "execution_count": 653,
   "id": "67677523",
   "metadata": {},
   "outputs": [
    {
     "name": "stdout",
     "output_type": "stream",
     "text": [
      "CPU times: user 12.9 s, sys: 4.09 s, total: 17 s\n",
      "Wall time: 1min 11s\n"
     ]
    }
   ],
   "source": [
    "%%time\n",
    "# Extract all the sample files from the zipped archive to disk\n",
    "filelist = subsample.path.values\n",
    "zipf.extractall(path=pre_path+'fashion/', members=filelist)"
   ]
  },
  {
   "cell_type": "code",
   "execution_count": 654,
   "id": "dc44f9bb",
   "metadata": {},
   "outputs": [
    {
     "name": "stdout",
     "output_type": "stream",
     "text": [
      "65430\n"
     ]
    }
   ],
   "source": [
    "# check number of files extracted\n",
    "!find ../../../DeepFashion1/fashion -type f | wc -l"
   ]
  },
  {
   "cell_type": "markdown",
   "id": "040ec574",
   "metadata": {},
   "source": [
    "### Determine dimensions and remove samples not meeting criteria"
   ]
  },
  {
   "cell_type": "code",
   "execution_count": 655,
   "id": "f1b92ec9",
   "metadata": {},
   "outputs": [
    {
     "name": "stdout",
     "output_type": "stream",
     "text": [
      "CPU times: user 7.52 s, sys: 1.39 s, total: 8.91 s\n",
      "Wall time: 23.5 s\n"
     ]
    }
   ],
   "source": [
    "%%time\n",
    "# determine the dimensions of each image\n",
    "# this is necessary for YOLOv5 training, where we have to specify a \"longest\" dimension for the training\n",
    "dims = []\n",
    "for file in filelist[:]:\n",
    "    i = Image.open(pre_path+'fashion/'+file)\n",
    "    dims.append([*i.size])\n",
    "dims_df = pd.DataFrame(dims, columns=['i_w', 'i_h'])"
   ]
  },
  {
   "cell_type": "code",
   "execution_count": 656,
   "id": "e3d7d96a",
   "metadata": {},
   "outputs": [
    {
     "name": "stdout",
     "output_type": "stream",
     "text": [
      "       i_h\n",
      "i_w       \n",
      "300  17566\n",
      "       i_w\n",
      "i_h       \n",
      "300  49596\n"
     ]
    }
   ],
   "source": [
    "most_common_w = dims_df.groupby('i_w').count().sort_values(by='i_h', ascending=False).iloc[:1]\n",
    "most_common_h = dims_df.groupby('i_h').count().sort_values(by='i_w', ascending=False).iloc[:1]\n",
    "print(most_common_w)\n",
    "print(most_common_h)"
   ]
  },
  {
   "cell_type": "code",
   "execution_count": 657,
   "id": "4dede56a",
   "metadata": {},
   "outputs": [],
   "source": [
    "most_common_dim = 300"
   ]
  },
  {
   "cell_type": "code",
   "execution_count": 658,
   "id": "519a556c",
   "metadata": {},
   "outputs": [],
   "source": [
    "subsample = pd.concat([subsample.reset_index(drop=True), dims_df.reset_index(drop=True)], axis=1)"
   ]
  },
  {
   "cell_type": "code",
   "execution_count": 659,
   "id": "ee3223ca",
   "metadata": {},
   "outputs": [
    {
     "name": "stdout",
     "output_type": "stream",
     "text": [
      "4338 8052\n"
     ]
    }
   ],
   "source": [
    "# determine which images are outside the range of the \n",
    "toobig = subsample[(subsample['i_w'] > most_common_dim) | (subsample['i_h'] > most_common_dim)]\n",
    "toosmall = subsample[(subsample['i_w'] < most_common_dim) & (subsample['i_h'] < most_common_dim)]\n",
    "print(len(toobig), len(toosmall))"
   ]
  },
  {
   "cell_type": "code",
   "execution_count": 660,
   "id": "45635895",
   "metadata": {},
   "outputs": [
    {
     "data": {
      "text/plain": [
       "product_type\n",
       "Dress          1748\n",
       "Long_Leg       2409\n",
       "Long_Sleeve    2617\n",
       "Tank           2885\n",
       "Tee            2731\n",
       "Name: path, dtype: int64"
      ]
     },
     "execution_count": 660,
     "metadata": {},
     "output_type": "execute_result"
    }
   ],
   "source": [
    "toobig.groupby('product_type').count()['path'] + toosmall.groupby('product_type').count()['path']"
   ]
  },
  {
   "cell_type": "code",
   "execution_count": 661,
   "id": "b80a4178",
   "metadata": {},
   "outputs": [
    {
     "data": {
      "text/plain": [
       "53040"
      ]
     },
     "execution_count": 661,
     "metadata": {},
     "output_type": "execute_result"
    }
   ],
   "source": [
    "subsample = subsample[~subsample.path.isin(toobig.path)]\n",
    "subsample = subsample[~subsample.path.isin(toosmall.path)]\n",
    "len(subsample)"
   ]
  },
  {
   "cell_type": "code",
   "execution_count": 662,
   "id": "c323ec23",
   "metadata": {},
   "outputs": [
    {
     "data": {
      "text/plain": [
       "product_type\n",
       "Dress          11338\n",
       "Long_Leg       10677\n",
       "Long_Sleeve    10469\n",
       "Tank           10201\n",
       "Tee            10355\n",
       "Name: path, dtype: int64"
      ]
     },
     "execution_count": 662,
     "metadata": {},
     "output_type": "execute_result"
    }
   ],
   "source": [
    "# is it still balanced across classes?\n",
    "subsample.groupby('product_type').count()['path']"
   ]
  },
  {
   "cell_type": "code",
   "execution_count": 663,
   "id": "916b0c59",
   "metadata": {},
   "outputs": [],
   "source": [
    "# remove images from disk that are not within required size (300px on one or more dimensions)\n",
    "for file in toobig.path.values:\n",
    "    os.remove(pre_path+'fashion/'+file)\n",
    "    \n",
    "for file in toosmall.path.values:\n",
    "    os.remove(pre_path+'fashion/'+file)"
   ]
  },
  {
   "cell_type": "markdown",
   "id": "eb36e975",
   "metadata": {},
   "source": [
    "# Cleanse remaining samples"
   ]
  },
  {
   "cell_type": "markdown",
   "id": "e24b6d1c",
   "metadata": {},
   "source": [
    "### Remove images with text inside BBox\n",
    "\n",
    "<span style='color:red'>NOTE:  Section on OCR is not working due to issue installing tesseract</span>\n",
    "\n",
    "##### Install Tesseract OCR"
   ]
  },
  {
   "cell_type": "code",
   "execution_count": 146,
   "id": "c6202f75",
   "metadata": {},
   "outputs": [],
   "source": [
    "#!sudo yum -y update\n",
    "#!sudo yum --enablerepo=epel --disablerepo=amzn-main install libwebp\n",
    "#!sudo yum -y install tesseract\n",
    "#!pip install pytesseract -q"
   ]
  },
  {
   "cell_type": "code",
   "execution_count": null,
   "id": "89382e49",
   "metadata": {},
   "outputs": [],
   "source": [
    "if False:\n",
    "    import pytesseract\n",
    "\n",
    "    def optical_character_recognition(file):\n",
    "        \"\"\" Simple OCR of text from images.\n",
    "\n",
    "        Parameters\n",
    "        ----------\n",
    "        file: Path or str\n",
    "        Image to examine.\n",
    "        path: bool\n",
    "        Indicates whether the file passed in is a path to a file, or an already opened Pillow Image.\n",
    "\n",
    "        Returns:\n",
    "        ----------\n",
    "        str\n",
    "        Text that was detected.\n",
    "        \"\"\"\n",
    "\n",
    "        # Use Pillow's Image class to open the image\n",
    "        img = Image.open(file)\n",
    "        new_size = tuple(2*x for x in img.size)\n",
    "        img = img.resize(new_size, Image.ANTIALIAS)\n",
    "        img = img.convert('L')\n",
    "        text = pytesseract.image_to_string(img, lang='eng', config='-c tessedit_char_whitelist=01234567890ABCDEFGHIJKLMNOPQRSTUVWXYZabcdefghijklmnopqrstuvwxyz --psm 3 --oem 3')\n",
    "        # Remove '\\n\\x0c' whiich is found in every image\n",
    "        text = text[:-3]\n",
    "\n",
    "if False:\n",
    "    for i, item in subsample.iterrows():\n",
    "        fl = pre_path+'fashion/'+item.path\n",
    "        txt = optical_character_recognition(fl)\n",
    "        print(txt)"
   ]
  },
  {
   "cell_type": "markdown",
   "id": "66c9da83",
   "metadata": {},
   "source": [
    "### Identify images with poor BBox definitions\n",
    "\n",
    "Poor bounding box definition:\n",
    "- box includes too much blank space compared to the target object, for example the box boundaries are not tight around the object\n",
    "- box includes too much skin tone compared to the target object, for example the arms are folded an occlude too much of the image"
   ]
  },
  {
   "cell_type": "code",
   "execution_count": 664,
   "id": "2a83d6d4",
   "metadata": {},
   "outputs": [
    {
     "name": "stdout",
     "output_type": "stream",
     "text": [
      "Requirement already satisfied: fast_colorthief in /home/ec2-user/anaconda3/envs/python3/lib/python3.6/site-packages (0.0.4)\n",
      "Requirement already satisfied: Pillow in /home/ec2-user/anaconda3/envs/python3/lib/python3.6/site-packages (from fast_colorthief) (8.3.2)\n",
      "Requirement already satisfied: numpy in /home/ec2-user/anaconda3/envs/python3/lib/python3.6/site-packages (from fast_colorthief) (1.19.5)\n",
      "Note: you may need to restart the kernel to use updated packages.\n"
     ]
    }
   ],
   "source": [
    "#!pip install fast_colorthief"
   ]
  },
  {
   "cell_type": "code",
   "execution_count": 665,
   "id": "1a682f8d",
   "metadata": {},
   "outputs": [],
   "source": [
    "import fast_colorthief\n",
    "from matplotlib.colors import hsv_to_rgb, rgb_to_hsv"
   ]
  },
  {
   "cell_type": "code",
   "execution_count": 672,
   "id": "b668fe32",
   "metadata": {},
   "outputs": [],
   "source": [
    "def excessBlankSpace(file, bbox, sensitivity=5):\n",
    "    # inspired by: https://stackoverflow.com/questions/22588146/tracking-white-color-using-python-opencv\n",
    "    #         and: https://stackoverflow.com/questions/3241929/python-find-dominant-most-common-color-in-an-image\n",
    "    # sensitivity is used to give a range of color space to filter for the background color\n",
    "    img = cv2.imread(file)\n",
    "    \n",
    "    frm = img[bbox[1]:bbox[3], bbox[0]:bbox[2]]\n",
    "    \n",
    "    \"\"\"\n",
    "        identify area covered by predominant background color within bounding box\n",
    "    \"\"\"\n",
    "    # predominant color\n",
    "    rgba = cv2.cvtColor(frm, cv2.COLOR_BGR2RGBA)\n",
    "    crop_rgb = cv2.cvtColor(frm, cv2.COLOR_BGR2RGB)\n",
    "    pal = fast_colorthief.get_palette(rgba)\n",
    "    dominant_color = pal[0]\n",
    "    \n",
    "    # area covered by predominant color (maskBgnd)\n",
    "    lower = np.array(dominant_color)-sensitivity\n",
    "    upper = np.array(dominant_color)+sensitivity\n",
    "    maskBgnd = cv2.inRange(crop_rgb, lower, upper)\n",
    "\n",
    "    # res is calculated to combine with skin masking for visual verification if desired\n",
    "    maskBgnd_inv = cv2.bitwise_not(maskBgnd)\n",
    "    bgnd = cv2.bitwise_and(frm, frm, mask=maskBgnd_inv)\n",
    "\n",
    "    \"\"\"\n",
    "        identify area covered by skin tones within bounding box\n",
    "    \"\"\"\n",
    "    hsv = cv2.cvtColor(bgnd, cv2.COLOR_BGR2HSV)\n",
    "    lower = np.array([0, 48, 80]) # found on the internet (one of many)\n",
    "    upper = np.array([20, 255, 255]) # found on the internet (one of many)\n",
    "    maskSkin = cv2.inRange(hsv, lower, upper)\n",
    "    \n",
    "    # out is calculated and returned for visual verification if desired\n",
    "    maskSkin_inv = cv2.bitwise_not(maskSkin)    \n",
    "    out = cv2.bitwise_and(bgnd,bgnd, mask= maskSkin_inv)\n",
    "    \n",
    "    #\n",
    "    # output\n",
    "    #\n",
    "    out = cv2.cvtColor(out, cv2.COLOR_BGR2RGB)    \n",
    "    img = cv2.cvtColor(img, cv2.COLOR_BGR2RGB)    \n",
    "    \n",
    "    return img, crop_rgb, maskBgnd, maskSkin, out"
   ]
  },
  {
   "cell_type": "code",
   "execution_count": 673,
   "id": "3fe94f5d",
   "metadata": {},
   "outputs": [],
   "source": [
    "def plotImg(img, crp, msk, res, bbox):\n",
    "    fig, ax = plt.subplots(1,4)\n",
    "    \n",
    "    # add bbox markup\n",
    "    (x1, y1, x2, y2) = [int(x) for x in bbox]\n",
    "    img_bbox = cv2.rectangle(img, (x1, y1), (x2, y2), (0, 255, 0), 2)\n",
    "    \n",
    "    ax[0].imshow(img_bbox)\n",
    "    ax[1].imshow(crp)\n",
    "    ax[2].imshow(msk)\n",
    "    ax[3].imshow(res)\n",
    "    \n",
    "    plt.show()"
   ]
  },
  {
   "cell_type": "code",
   "execution_count": null,
   "id": "58420017",
   "metadata": {},
   "outputs": [],
   "source": [
    "%%time\n",
    "outsized_bbox_list = []\n",
    "cnt=0\n",
    "for i, item in subsample.iterrows():\n",
    "    if cnt%1000==0: # because tqdm is not working :(\n",
    "        #print(cnt, len(outsized_bbox_list))\n",
    "        pass\n",
    "    file = pre_path+'fashion/'+item.path\n",
    "    bbox = np.array(item[-6:-2], np.int)\n",
    "    img, crp, msk1, msk2, res = excessBlankSpace(file, bbox, sensitivity=30)\n",
    "\n",
    "    # calculate % of bbox occupied by non-desirable \n",
    "    # features (predominant background color or skin)\n",
    "    box_size = (bbox[2] - bbox[0]) * (bbox[3] - bbox[1])\n",
    "    msk1_size = msk1[msk1==255].shape\n",
    "    msk2_size = msk2[msk2==255].shape\n",
    "    bad_content = max(msk1_size, msk2_size)\n",
    "    content_ratio = np.round(bad_content[0]/box_size, 2)\n",
    "\n",
    "    if content_ratio > .8:\n",
    "        #plotImg(img, crp, msk1, res, bbox) # useful for testing on small sample\n",
    "        #print(box_size, bad_content[0], bad_ratio) # useful for testing on small sample\n",
    "        outsized_bbox_list.append(item.path)\n",
    "\n",
    "    cnt+=1"
   ]
  },
  {
   "cell_type": "code",
   "execution_count": 684,
   "id": "8f0897ce",
   "metadata": {},
   "outputs": [
    {
     "name": "stdout",
     "output_type": "stream",
     "text": [
      "% of images with poor bbox-ing = 1.6\n"
     ]
    }
   ],
   "source": [
    "print('% of images with poor bbox-ing =', round(len(outsized_bbox_list) / len(subsample), 3)*100)"
   ]
  },
  {
   "cell_type": "code",
   "execution_count": 685,
   "id": "bea6f2be",
   "metadata": {},
   "outputs": [
    {
     "data": {
      "text/plain": [
       "['img/Paisley_Cami_Maxi_Dress/img_00000011.jpg',\n",
       " 'img/Sleeveless_Quilted_Skater_Dress/img_00000043.jpg',\n",
       " 'img/Floral_Cami_Maxi_Dress/img_00000018.jpg',\n",
       " 'img/Crisscross_Back_Swiss_Dot_Dress/img_00000016.jpg',\n",
       " 'img/Crochet-Trimmed_Chiffon_Dress/img_00000002.jpg']"
      ]
     },
     "execution_count": 685,
     "metadata": {},
     "output_type": "execute_result"
    }
   ],
   "source": [
    "outsized_bbox_list[:5]"
   ]
  },
  {
   "cell_type": "markdown",
   "id": "9bb68348",
   "metadata": {},
   "source": [
    "### Identify invalid filenames (those with . in pathname)"
   ]
  },
  {
   "cell_type": "code",
   "execution_count": 719,
   "id": "33521b7e",
   "metadata": {},
   "outputs": [],
   "source": [
    "to_remove = outsized_bbox_list\n",
    "for x in subsample.path.values[:]:\n",
    "    tmp = x.split('.')\n",
    "    if len(tmp) > 2:\n",
    "        to_remove.append(x)\n",
    "to_remove = set(to_remove)"
   ]
  },
  {
   "cell_type": "code",
   "execution_count": 720,
   "id": "ffb094bf",
   "metadata": {},
   "outputs": [
    {
     "data": {
      "text/plain": [
       "1018"
      ]
     },
     "execution_count": 720,
     "metadata": {},
     "output_type": "execute_result"
    }
   ],
   "source": [
    "len(to_remove)"
   ]
  },
  {
   "cell_type": "markdown",
   "id": "2abc7a1a",
   "metadata": {},
   "source": [
    "### Remove images from files and data"
   ]
  },
  {
   "cell_type": "code",
   "execution_count": 686,
   "id": "22955558",
   "metadata": {},
   "outputs": [
    {
     "data": {
      "text/plain": [
       "52181"
      ]
     },
     "execution_count": 686,
     "metadata": {},
     "output_type": "execute_result"
    }
   ],
   "source": [
    "subsample = subsample[~subsample.path.isin(to_remove)]\n",
    "for file in to_remove:\n",
    "    os.remove(pre_path+'fashion/'+file)\n",
    "len(subsample) "
   ]
  },
  {
   "cell_type": "code",
   "execution_count": 687,
   "id": "74b7a7e6",
   "metadata": {},
   "outputs": [
    {
     "name": "stdout",
     "output_type": "stream",
     "text": [
      "52181\n"
     ]
    }
   ],
   "source": [
    "# verify counts are same\n",
    "!find ../../../DeepFashion1/fashion -type f | wc -l"
   ]
  },
  {
   "cell_type": "markdown",
   "id": "a28d82df",
   "metadata": {},
   "source": [
    "# Create YOLOv5 training data files and formats"
   ]
  },
  {
   "cell_type": "markdown",
   "id": "eee83f8b",
   "metadata": {},
   "source": [
    "### Prepare additional fields for YOLOv5 label data format"
   ]
  },
  {
   "cell_type": "code",
   "execution_count": 688,
   "id": "096c94d7",
   "metadata": {},
   "outputs": [
    {
     "name": "stderr",
     "output_type": "stream",
     "text": [
      "/home/ec2-user/anaconda3/envs/python3/lib/python3.6/site-packages/pandas/core/generic.py:5170: SettingWithCopyWarning: \n",
      "A value is trying to be set on a copy of a slice from a DataFrame.\n",
      "Try using .loc[row_indexer,col_indexer] = value instead\n",
      "\n",
      "See the caveats in the documentation: https://pandas.pydata.org/pandas-docs/stable/user_guide/indexing.html#returning-a-view-versus-a-copy\n",
      "  self[name] = value\n",
      "/home/ec2-user/anaconda3/envs/python3/lib/python3.6/site-packages/ipykernel/__main__.py:9: SettingWithCopyWarning: \n",
      "A value is trying to be set on a copy of a slice from a DataFrame.\n",
      "Try using .loc[row_indexer,col_indexer] = value instead\n",
      "\n",
      "See the caveats in the documentation: https://pandas.pydata.org/pandas-docs/stable/user_guide/indexing.html#returning-a-view-versus-a-copy\n"
     ]
    },
    {
     "data": {
      "text/html": [
       "<div>\n",
       "<style scoped>\n",
       "    .dataframe tbody tr th:only-of-type {\n",
       "        vertical-align: middle;\n",
       "    }\n",
       "\n",
       "    .dataframe tbody tr th {\n",
       "        vertical-align: top;\n",
       "    }\n",
       "\n",
       "    .dataframe thead th {\n",
       "        text-align: right;\n",
       "    }\n",
       "</style>\n",
       "<table border=\"1\" class=\"dataframe\">\n",
       "  <thead>\n",
       "    <tr style=\"text-align: right;\">\n",
       "      <th></th>\n",
       "      <th>index</th>\n",
       "      <th>root_path</th>\n",
       "      <th>product_name</th>\n",
       "      <th>filename</th>\n",
       "      <th>path</th>\n",
       "      <th>product_type</th>\n",
       "      <th>x1</th>\n",
       "      <th>y1</th>\n",
       "      <th>x2</th>\n",
       "      <th>y2</th>\n",
       "      <th>i_w</th>\n",
       "      <th>i_h</th>\n",
       "      <th>x</th>\n",
       "      <th>y</th>\n",
       "      <th>w</th>\n",
       "      <th>h</th>\n",
       "    </tr>\n",
       "  </thead>\n",
       "  <tbody>\n",
       "    <tr>\n",
       "      <th>0</th>\n",
       "      <td>189532</td>\n",
       "      <td>img</td>\n",
       "      <td>Must-Have_Scuba_Skater_Dress</td>\n",
       "      <td>img_00000039.jpg</td>\n",
       "      <td>img/Must-Have_Scuba_Skater_Dress/img_00000039.jpg</td>\n",
       "      <td>Dress</td>\n",
       "      <td>11</td>\n",
       "      <td>38</td>\n",
       "      <td>197</td>\n",
       "      <td>300</td>\n",
       "      <td>200</td>\n",
       "      <td>300</td>\n",
       "      <td>0.520000</td>\n",
       "      <td>0.563333</td>\n",
       "      <td>0.930000</td>\n",
       "      <td>0.873333</td>\n",
       "    </tr>\n",
       "    <tr>\n",
       "      <th>1</th>\n",
       "      <td>120521</td>\n",
       "      <td>img</td>\n",
       "      <td>Floral_Bow-Back_Dress</td>\n",
       "      <td>img_00000077.jpg</td>\n",
       "      <td>img/Floral_Bow-Back_Dress/img_00000077.jpg</td>\n",
       "      <td>Dress</td>\n",
       "      <td>74</td>\n",
       "      <td>44</td>\n",
       "      <td>231</td>\n",
       "      <td>289</td>\n",
       "      <td>300</td>\n",
       "      <td>300</td>\n",
       "      <td>0.508333</td>\n",
       "      <td>0.555000</td>\n",
       "      <td>0.523333</td>\n",
       "      <td>0.816667</td>\n",
       "    </tr>\n",
       "    <tr>\n",
       "      <th>3</th>\n",
       "      <td>26317</td>\n",
       "      <td>img</td>\n",
       "      <td>Botanical_Floral_Shift_Dress</td>\n",
       "      <td>img_00000061.jpg</td>\n",
       "      <td>img/Botanical_Floral_Shift_Dress/img_00000061.jpg</td>\n",
       "      <td>Dress</td>\n",
       "      <td>72</td>\n",
       "      <td>30</td>\n",
       "      <td>156</td>\n",
       "      <td>181</td>\n",
       "      <td>236</td>\n",
       "      <td>300</td>\n",
       "      <td>0.483051</td>\n",
       "      <td>0.351667</td>\n",
       "      <td>0.355932</td>\n",
       "      <td>0.503333</td>\n",
       "    </tr>\n",
       "    <tr>\n",
       "      <th>4</th>\n",
       "      <td>8381</td>\n",
       "      <td>img</td>\n",
       "      <td>Abstract_Stripe_Bodycon_Dress</td>\n",
       "      <td>img_00000028.jpg</td>\n",
       "      <td>img/Abstract_Stripe_Bodycon_Dress/img_00000028...</td>\n",
       "      <td>Dress</td>\n",
       "      <td>33</td>\n",
       "      <td>1</td>\n",
       "      <td>268</td>\n",
       "      <td>300</td>\n",
       "      <td>300</td>\n",
       "      <td>300</td>\n",
       "      <td>0.501667</td>\n",
       "      <td>0.501667</td>\n",
       "      <td>0.783333</td>\n",
       "      <td>0.996667</td>\n",
       "    </tr>\n",
       "    <tr>\n",
       "      <th>5</th>\n",
       "      <td>101674</td>\n",
       "      <td>img</td>\n",
       "      <td>Embellished_Cutout-Back_Dress</td>\n",
       "      <td>img_00000035.jpg</td>\n",
       "      <td>img/Embellished_Cutout-Back_Dress/img_00000035...</td>\n",
       "      <td>Dress</td>\n",
       "      <td>24</td>\n",
       "      <td>60</td>\n",
       "      <td>167</td>\n",
       "      <td>286</td>\n",
       "      <td>200</td>\n",
       "      <td>300</td>\n",
       "      <td>0.477500</td>\n",
       "      <td>0.576667</td>\n",
       "      <td>0.715000</td>\n",
       "      <td>0.753333</td>\n",
       "    </tr>\n",
       "  </tbody>\n",
       "</table>\n",
       "</div>"
      ],
      "text/plain": [
       "    index root_path                   product_name          filename  \\\n",
       "0  189532       img   Must-Have_Scuba_Skater_Dress  img_00000039.jpg   \n",
       "1  120521       img          Floral_Bow-Back_Dress  img_00000077.jpg   \n",
       "3   26317       img   Botanical_Floral_Shift_Dress  img_00000061.jpg   \n",
       "4    8381       img  Abstract_Stripe_Bodycon_Dress  img_00000028.jpg   \n",
       "5  101674       img  Embellished_Cutout-Back_Dress  img_00000035.jpg   \n",
       "\n",
       "                                                path product_type  x1  y1  \\\n",
       "0  img/Must-Have_Scuba_Skater_Dress/img_00000039.jpg        Dress  11  38   \n",
       "1         img/Floral_Bow-Back_Dress/img_00000077.jpg        Dress  74  44   \n",
       "3  img/Botanical_Floral_Shift_Dress/img_00000061.jpg        Dress  72  30   \n",
       "4  img/Abstract_Stripe_Bodycon_Dress/img_00000028...        Dress  33   1   \n",
       "5  img/Embellished_Cutout-Back_Dress/img_00000035...        Dress  24  60   \n",
       "\n",
       "    x2   y2  i_w  i_h         x         y         w         h  \n",
       "0  197  300  200  300  0.520000  0.563333  0.930000  0.873333  \n",
       "1  231  289  300  300  0.508333  0.555000  0.523333  0.816667  \n",
       "3  156  181  236  300  0.483051  0.351667  0.355932  0.503333  \n",
       "4  268  300  300  300  0.501667  0.501667  0.783333  0.996667  \n",
       "5  167  286  200  300  0.477500  0.576667  0.715000  0.753333  "
      ]
     },
     "execution_count": 688,
     "metadata": {},
     "output_type": "execute_result"
    }
   ],
   "source": [
    "# calculate the elements needed for the YOLOv5 PyTorch training input labels/\n",
    "subsample.x1 = subsample.x1.astype(int)\n",
    "subsample.y1 = subsample.y1.astype(int)\n",
    "subsample.x2 = subsample.x2.astype(int)\n",
    "subsample.y2 = subsample.y2.astype(int)\n",
    "subsample.i_w = subsample.i_w.astype(int)\n",
    "subsample.i_h = subsample.i_h.astype(int)\n",
    "\n",
    "subsample['x'] = subsample.apply(lambda row: (((row.x2 - row.x1)/2) + row.x1) / row.i_w, axis=1)\n",
    "subsample['y'] = subsample.apply(lambda row: (((row.y2 - row.y1)/2) + row.y1) / row.i_h, axis=1)\n",
    "subsample['w'] = subsample.apply(lambda row: (row.x2 - row.x1) / row.i_w, axis=1)\n",
    "subsample['h'] = subsample.apply(lambda row: (row.y2 - row.y1) / row.i_h, axis=1)\n",
    "subsample.head()"
   ]
  },
  {
   "cell_type": "markdown",
   "id": "66c1c3fb",
   "metadata": {},
   "source": [
    "### Verify reconstruction of bboxes"
   ]
  },
  {
   "cell_type": "code",
   "execution_count": 695,
   "id": "2555df2a",
   "metadata": {},
   "outputs": [
    {
     "data": {
      "image/png": "[encoded data removed]",
      "text/plain": [
       "<Figure size 432x288 with 1 Axes>"
      ]
     },
     "metadata": {
      "needs_background": "light"
     },
     "output_type": "display_data"
    }
   ],
   "source": [
    "# visually inspect some manually chosen random items\n",
    "row = subsample.iloc[12000].values\n",
    "img = cv2.imread(pre_path+'fashion/'+row[4])\n",
    "img = cv2.cvtColor(img, cv2.COLOR_BGR2RGB)\n",
    "(i_w, i_h, x, y, w, h) = row[-6:]\n",
    "# reconstruct the bboxes\n",
    "x1 = int((x-w/2)*i_w)\n",
    "y1 = int((y-h/2)*i_h)\n",
    "x2 = int((x+w/2)*i_w)\n",
    "y2 = int((y+h/2)*i_h)\n",
    "img_bbox = cv2.rectangle(img, (x1, y1), (x2, y2), (0, 255, 0), 2)\n",
    "plt.imshow(img)\n",
    "plt.show()"
   ]
  },
  {
   "cell_type": "markdown",
   "id": "7a1e187a",
   "metadata": {},
   "source": [
    "### Create label/*.txt and data.yaml files"
   ]
  },
  {
   "cell_type": "code",
   "execution_count": 698,
   "id": "84d3d9fa",
   "metadata": {},
   "outputs": [],
   "source": [
    "cats = np.array(cats)"
   ]
  },
  {
   "cell_type": "code",
   "execution_count": 704,
   "id": "cc150ace",
   "metadata": {},
   "outputs": [],
   "source": [
    "%%time\n",
    "# create 1 label file for each image\n",
    "for i, entry in subsample.iterrows():\n",
    "    # see YOLOv5 pytorch data format:  class x_center y_center width height\n",
    "    idx = list(cats).index(entry.product_type)\n",
    "    metadata = str(idx)+' ' + ' '.join([str(round(x,3)) for x in entry.iloc[-4:]])    \n",
    "    filepath = entry.path.split('.')[0]\n",
    "    fileroot = pre_path+'fashion/labels/'+filepath\n",
    "    \n",
    "    if not os.path.exists(os.path.dirname(fileroot)):\n",
    "        try:\n",
    "            os.makedirs(os.path.dirname(fileroot))\n",
    "        except: # Guard against race condition\n",
    "            print(problem)\n",
    "            raise\n",
    "    \n",
    "    f = open(fileroot+'.txt', 'w')\n",
    "    f.write(metadata)\n",
    "    f.close()"
   ]
  },
  {
   "cell_type": "code",
   "execution_count": 705,
   "id": "7c473101",
   "metadata": {},
   "outputs": [],
   "source": [
    "lines = []\n",
    "lines.append('path: ../datasets/fashion # root dir\\n')\n",
    "lines.append('train: images/train\\n')\n",
    "lines.append('val: images/val\\n')\n",
    "lines.append('test:  # test images (optional)\\n')\n",
    "\n",
    "lines.append('nc: '+str(len(cats))+' # number of classes\\n')\n",
    "\n",
    "str_classes = \"[ '\" + \"',\\n'\".join(cats) + \"' ]\"\n",
    "\n",
    "lines.append('names: '+str_classes + '\\n')\n",
    "\n",
    "f = open(pre_path+'fashion/fashion.yaml', 'w')\n",
    "f.writelines(lines)\n",
    "f.close()"
   ]
  },
  {
   "cell_type": "markdown",
   "id": "0a7002ae",
   "metadata": {},
   "source": [
    "# Split into Train/Val"
   ]
  },
  {
   "cell_type": "code",
   "execution_count": 706,
   "id": "b0e1ca68",
   "metadata": {},
   "outputs": [],
   "source": [
    "from sklearn.model_selection import train_test_split\n",
    "\n",
    "train, val = train_test_split(subsample, test_size=0.2)"
   ]
  },
  {
   "cell_type": "code",
   "execution_count": 707,
   "id": "6d8d2ad0",
   "metadata": {},
   "outputs": [],
   "source": [
    "if not os.path.exists(pre_path+'fashion/images'):\n",
    "    os.mkdir(pre_path+'fashion/images')\n",
    "if not os.path.exists(pre_path+'fashion/images/train'):\n",
    "    os.mkdir(pre_path+'fashion/images/train')\n",
    "if not os.path.exists(pre_path+'fashion/images/val'):\n",
    "    os.mkdir(pre_path+'fashion/images/val')\n",
    "\n",
    "if not os.path.exists(pre_path+'fashion/labels'):\n",
    "    os.mkdir(pre_path+'fashion/labels')\n",
    "if not os.path.exists(pre_path+'fashion/labels/train'):\n",
    "    os.mkdir(pre_path+'fashion/labels/train')\n",
    "if not os.path.exists(pre_path+'fashion/labels/val'):\n",
    "    os.mkdir(pre_path+'fashion/labels/val')"
   ]
  },
  {
   "cell_type": "code",
   "execution_count": 708,
   "id": "0a0f7777",
   "metadata": {},
   "outputs": [
    {
     "name": "stdout",
     "output_type": "stream",
     "text": [
      "error on  ../../../DeepFashion1/fashion/img/EPTM._Side-Zip_Colorblocked_Hoodie/img_00000012.jpg\n",
      "error on  ../../../DeepFashion1/fashion/img/EPTM._Geo-Paneled_Joggers/img_00000006.jpg\n",
      "error on  ../../../DeepFashion1/fashion/img/EPTM._Geo-Paneled_Joggers/img_00000021.jpg\n",
      "error on  ../../../DeepFashion1/fashion/img/L.A.T.H.C._Victory_Sweatpants/img_00000017.jpg\n",
      "error on  ../../../DeepFashion1/fashion/img/EPTM._Longline_Mesh_Tee/img_00000022.jpg\n",
      "error on  ../../../DeepFashion1/fashion/img/L.A._Graphic_Tee/img_00000073.jpg\n",
      "error on  ../../../DeepFashion1/fashion/img/L.A.T.H.C._Victory_Sweatpants/img_00000013.jpg\n",
      "error on  ../../../DeepFashion1/fashion/img/EPTM._Tonal-Striped_Mesh_Tee/img_00000012.jpg\n",
      "error on  ../../../DeepFashion1/fashion/img/EPTM._Geo-Paneled_Joggers/img_00000009.jpg\n",
      "error on  ../../../DeepFashion1/fashion/img/EPTM._Heathered_Mesh_Panel_Tee/img_00000028.jpg\n",
      "error on  ../../../DeepFashion1/fashion/img/L.A.T.H.C._Victory_Sweatpants/img_00000010.jpg\n",
      "error on  ../../../DeepFashion1/fashion/img/L.A.T.H.C._Victory_Circle_Tee/img_00000016.jpg\n",
      "error on  ../../../DeepFashion1/fashion/img/Notorious_B.I.G._Graphic_Tee/img_00000018.jpg\n",
      "error on  ../../../DeepFashion1/fashion/img/L.A._Graphic_Tee/img_00000017.jpg\n",
      "error on  ../../../DeepFashion1/fashion/img/L.A.T.H.C._Victory_Circle_Tee/img_00000014.jpg\n",
      "error on  ../../../DeepFashion1/fashion/img/L.A.T.H.C._Victory_Sweatpants/img_00000018.jpg\n",
      "error on  ../../../DeepFashion1/fashion/img/EPTM._Heathered_Mesh_Panel_Tee/img_00000007.jpg\n",
      "error on  ../../../DeepFashion1/fashion/img/EPTM._Longline_Mesh_Tee/img_00000018.jpg\n",
      "error on  ../../../DeepFashion1/fashion/img/L.A.T.H.C._Abstract_Print_Tee/img_00000031.jpg\n",
      "error on  ../../../DeepFashion1/fashion/img/L.A.T.H.C._Victory_Sweatpants/img_00000014.jpg\n",
      "error on  ../../../DeepFashion1/fashion/img/EPTM._Textured_Mesh-Panel_Hoodie/img_00000014.jpg\n",
      "error on  ../../../DeepFashion1/fashion/img/L.A.T.H.C._Abstract_Print_Tee/img_00000019.jpg\n",
      "error on  ../../../DeepFashion1/fashion/img/L.A.T.H.C._Layered-Hem_Longline_Tee/img_00000019.jpg\n",
      "error on  ../../../DeepFashion1/fashion/img/EPTM._Longline_Mesh_Tee/img_00000010.jpg\n",
      "error on  ../../../DeepFashion1/fashion/img/N.W.A._Graphic_Tank/img_00000009.jpg\n",
      "error on  ../../../DeepFashion1/fashion/img/Notorious_B.I.G._Graphic_Tee/img_00000050.jpg\n",
      "error on  ../../../DeepFashion1/fashion/img/EPTM._Zip-Paneled_Drawstring_Hoodie/img_00000012.jpg\n"
     ]
    }
   ],
   "source": [
    "for i, file in val.iterrows():\n",
    "    base=file.path\n",
    "    src = pre_path+'fashion/'+base\n",
    "    dest = pre_path+'fashion/images/val/'+base.replace('img/', '')\n",
    "    folder = pre_path+'fashion/images/val/' + '/'.join(base.split('/')[1:-1])\n",
    "    if not os.path.exists(folder):\n",
    "        os.mkdir(folder)\n",
    "    try:\n",
    "        shutil.move(src, dest)\n",
    "    except:\n",
    "        print('error on ',src)\n",
    "\n",
    "    lbl_base = base.split('.')[0]+'.txt'\n",
    "    lbl_src = pre_path+'fashion/labels/'+lbl_base\n",
    "    lbl_dest = pre_path+'fashion/labels/val/'+lbl_base.replace('img/', '')\n",
    "    folder = pre_path+'fashion/labels/val/' + '/'.join(base.split('/')[1:-1])\n",
    "    if not os.path.exists(folder):\n",
    "        os.mkdir(folder)\n",
    "    try:\n",
    "        shutil.move(lbl_src, lbl_dest)\n",
    "    except:\n",
    "        print('error on ',src)"
   ]
  },
  {
   "cell_type": "markdown",
   "id": "e7580d34",
   "metadata": {},
   "source": [
    "# Cleanup remaining paths and create .zip for YOLOv5 training"
   ]
  },
  {
   "cell_type": "code",
   "execution_count": 722,
   "id": "dfdcb62c",
   "metadata": {},
   "outputs": [],
   "source": [
    "!mv ../../../DeepFashion1/fashion/img/* ../../../DeepFashion1/fashion/images/train\n",
    "!rm -r ../../../DeepFashion1/fashion/img"
   ]
  },
  {
   "cell_type": "code",
   "execution_count": 723,
   "id": "b5bf51ee",
   "metadata": {},
   "outputs": [],
   "source": [
    "!mv ../../../DeepFashion1/fashion/labels/img/* ../../../DeepFashion1/fashion/labels/train\n",
    "!rm -r ../../../DeepFashion1/fashion/labels/img"
   ]
  },
  {
   "cell_type": "code",
   "execution_count": 724,
   "id": "d1630e49",
   "metadata": {},
   "outputs": [],
   "source": [
    "!zip -r -q ../../../DeepFashion1/fashion.zip ../../../DeepFashion1/fashion"
   ]
  },
  {
   "cell_type": "code",
   "execution_count": 725,
   "id": "d198d928",
   "metadata": {},
   "outputs": [
    {
     "name": "stdout",
     "output_type": "stream",
     "text": [
      "upload: ../../../DeepFashion1/fashion.zip to s3://descriptiveworld-datasets/DeepFashion1/fashion.zip\n"
     ]
    }
   ],
   "source": [
    "!aws s3 cp ../../../DeepFashion1/fashion.zip s3://descriptiveworld-datasets/DeepFashion1/"
   ]
  },
  {
   "cell_type": "markdown",
   "id": "1945b6f9",
   "metadata": {},
   "source": [
    "# Next\n",
    "\n",
    "- Load the zip file to the yolov5/pytorch training environment in path datasets/ (to create).\n",
    "- Unzip the file\n",
    "- Copy or move the .yaml file to the path yolov5/data/ (expected by train.py from yolov5).  This path is available after running the setup notebook cell which clones the yolov5 repo."
   ]
  },
  {
   "cell_type": "code",
   "execution_count": null,
   "id": "fcc9d25b",
   "metadata": {},
   "outputs": [],
   "source": []
  }
 ],
 "metadata": {
  "kernelspec": {
   "display_name": "conda_python3",
   "language": "python",
   "name": "conda_python3"
  },
  "language_info": {
   "codemirror_mode": {
    "name": "ipython",
    "version": 3
   },
   "file_extension": ".py",
   "mimetype": "text/x-python",
   "name": "python",
   "nbconvert_exporter": "python",
   "pygments_lexer": "ipython3",
   "version": "3.6.13"
  }
 },
 "nbformat": 4,
 "nbformat_minor": 5
}
