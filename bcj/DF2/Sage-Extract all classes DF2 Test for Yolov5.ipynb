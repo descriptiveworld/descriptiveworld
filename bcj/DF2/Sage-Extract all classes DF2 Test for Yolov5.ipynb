{
 "cells": [
  {
   "cell_type": "code",
   "execution_count": 1,
   "id": "retired-insight",
   "metadata": {},
   "outputs": [],
   "source": [
    "import gzip\n",
    "import zipfile\n",
    "import pandas as pd\n",
    "import numpy as np\n",
    "import matplotlib.pyplot as plt\n",
    "import cv2\n",
    "from tqdm.notebook import tqdm\n",
    "from PIL import Image\n",
    "import os\n",
    "import shutil\n",
    "import json\n",
    "import io"
   ]
  },
  {
   "cell_type": "markdown",
   "id": "human-screening",
   "metadata": {},
   "source": [
    "# Inspect full image archive without extracting all files"
   ]
  },
  {
   "cell_type": "code",
   "execution_count": 2,
   "id": "placed-newcastle",
   "metadata": {},
   "outputs": [
    {
     "name": "stdout",
     "output_type": "stream",
     "text": [
      "CPU times: user 2.89 s, sys: 112 ms, total: 3 s\n",
      "Wall time: 3 s\n"
     ]
    }
   ],
   "source": [
    "%%time\n",
    "_pwd = b'2019Deepfashion2**'\n",
    "zipf = zipfile.ZipFile('train.zip')"
   ]
  },
  {
   "cell_type": "code",
   "execution_count": 3,
   "id": "functional-papua",
   "metadata": {},
   "outputs": [],
   "source": [
    "filenames = zipf.namelist()\n",
    "df = pd.DataFrame([x.split('/') for x in filenames[:]], columns=['root_path', 'folder', 'filename'])\n",
    "df['path'] = filenames"
   ]
  },
  {
   "cell_type": "code",
   "execution_count": 4,
   "id": "daily-course",
   "metadata": {},
   "outputs": [
    {
     "name": "stdout",
     "output_type": "stream",
     "text": [
      "383922\n"
     ]
    },
    {
     "data": {
      "text/html": [
       "<div>\n",
       "<style scoped>\n",
       "    .dataframe tbody tr th:only-of-type {\n",
       "        vertical-align: middle;\n",
       "    }\n",
       "\n",
       "    .dataframe tbody tr th {\n",
       "        vertical-align: top;\n",
       "    }\n",
       "\n",
       "    .dataframe thead th {\n",
       "        text-align: right;\n",
       "    }\n",
       "</style>\n",
       "<table border=\"1\" class=\"dataframe\">\n",
       "  <thead>\n",
       "    <tr style=\"text-align: right;\">\n",
       "      <th></th>\n",
       "      <th>index</th>\n",
       "      <th>root_path</th>\n",
       "      <th>folder</th>\n",
       "      <th>filename</th>\n",
       "      <th>path</th>\n",
       "    </tr>\n",
       "  </thead>\n",
       "  <tbody>\n",
       "    <tr>\n",
       "      <th>128322</th>\n",
       "      <td>128324</td>\n",
       "      <td>train</td>\n",
       "      <td>annos</td>\n",
       "      <td>063646.json</td>\n",
       "      <td>train/annos/063646.json</td>\n",
       "    </tr>\n",
       "    <tr>\n",
       "      <th>17784</th>\n",
       "      <td>17786</td>\n",
       "      <td>train</td>\n",
       "      <td>annos</td>\n",
       "      <td>131968.json</td>\n",
       "      <td>train/annos/131968.json</td>\n",
       "    </tr>\n",
       "    <tr>\n",
       "      <th>306975</th>\n",
       "      <td>306978</td>\n",
       "      <td>train</td>\n",
       "      <td>image</td>\n",
       "      <td>000675.jpg</td>\n",
       "      <td>train/image/000675.jpg</td>\n",
       "    </tr>\n",
       "    <tr>\n",
       "      <th>209362</th>\n",
       "      <td>209365</td>\n",
       "      <td>train</td>\n",
       "      <td>image</td>\n",
       "      <td>056899.jpg</td>\n",
       "      <td>train/image/056899.jpg</td>\n",
       "    </tr>\n",
       "    <tr>\n",
       "      <th>163983</th>\n",
       "      <td>163985</td>\n",
       "      <td>train</td>\n",
       "      <td>annos</td>\n",
       "      <td>016871.json</td>\n",
       "      <td>train/annos/016871.json</td>\n",
       "    </tr>\n",
       "  </tbody>\n",
       "</table>\n",
       "</div>"
      ],
      "text/plain": [
       "         index root_path folder     filename                     path\n",
       "128322  128324     train  annos  063646.json  train/annos/063646.json\n",
       "17784    17786     train  annos  131968.json  train/annos/131968.json\n",
       "306975  306978     train  image   000675.jpg   train/image/000675.jpg\n",
       "209362  209365     train  image   056899.jpg   train/image/056899.jpg\n",
       "163983  163985     train  annos  016871.json  train/annos/016871.json"
      ]
     },
     "execution_count": 4,
     "metadata": {},
     "output_type": "execute_result"
    }
   ],
   "source": [
    "df = df.dropna()\n",
    "df = df[df.filename != '']\n",
    "df = df.reset_index()\n",
    "print(len(df))\n",
    "df.sample(n=5)"
   ]
  },
  {
   "cell_type": "code",
   "execution_count": 5,
   "id": "coordinated-illustration",
   "metadata": {},
   "outputs": [
    {
     "name": "stdout",
     "output_type": "stream",
     "text": [
      "uncompressed size = 10.89 GB\n"
     ]
    }
   ],
   "source": [
    "osize = 0 \n",
    "for item in zipf.infolist():\n",
    "    osize += item.file_size\n",
    "print('uncompressed size =',round(osize/1000000000,2),'GB')"
   ]
  },
  {
   "cell_type": "markdown",
   "id": "southeast-morning",
   "metadata": {},
   "source": [
    "# Basic EDA\n"
   ]
  },
  {
   "cell_type": "code",
   "execution_count": 6,
   "id": "negative-conspiracy",
   "metadata": {},
   "outputs": [],
   "source": [
    "samples = df[df['folder']=='image']['path'].sample(10)"
   ]
  },
  {
   "cell_type": "code",
   "execution_count": 7,
   "id": "successful-array",
   "metadata": {},
   "outputs": [
    {
     "data": {
      "text/plain": [
       "278109    train/image/049604.jpg\n",
       "335696    train/image/120200.jpg\n",
       "259038    train/image/036440.jpg\n",
       "197627    train/image/138243.jpg\n",
       "345694    train/image/164659.jpg\n",
       "200537    train/image/135795.jpg\n",
       "231396    train/image/106162.jpg\n",
       "341304    train/image/056734.jpg\n",
       "203911    train/image/188843.jpg\n",
       "261090    train/image/047905.jpg\n",
       "Name: path, dtype: object"
      ]
     },
     "execution_count": 7,
     "metadata": {},
     "output_type": "execute_result"
    }
   ],
   "source": [
    "samples"
   ]
  },
  {
   "cell_type": "code",
   "execution_count": 8,
   "id": "seven-scroll",
   "metadata": {},
   "outputs": [],
   "source": [
    "samples = df[df['folder']=='image']['path'].sample(10)\n",
    "annos = []\n",
    "bboxes = []\n",
    "images = []\n",
    "for file in samples[:1]: \n",
    "    anno = zipf.read(file.replace('.jpg','.json').replace('/image/','/annos/'), pwd=_pwd)\n",
    "    anno = json.loads(str(anno)[2:-1])\n",
    "    annos.append(anno)\n",
    "    \n",
    "    bbox = anno['item1']['bounding_box']\n",
    "    bboxes.append(bbox)\n",
    "    \n",
    "    img = Image.open(io.BytesIO(zipf.read(file, pwd=_pwd)))\n",
    "    images.append(img)"
   ]
  },
  {
   "cell_type": "code",
   "execution_count": 9,
   "id": "collective-token",
   "metadata": {},
   "outputs": [],
   "source": [
    "annos = []\n",
    "bboxes = []\n",
    "images = []\n",
    "for file in samples[:1]: \n",
    "    anno = zipf.read(file.replace('.jpg','.json').replace('/image/','/annos/'), pwd=_pwd)\n",
    "    anno = json.loads(str(anno)[2:-1])\n",
    "    annos.append(anno)\n",
    "    \n",
    "    bbox = anno['item1']['bounding_box']\n",
    "    bboxes.append(bbox)\n",
    "    \n",
    "    img = Image.open(io.BytesIO(zipf.read(file, pwd=_pwd)))\n",
    "    images.append(img)"
   ]
  },
  {
   "cell_type": "code",
   "execution_count": 10,
   "id": "arranged-guide",
   "metadata": {},
   "outputs": [],
   "source": [
    "#anno['item1'].keys()\n",
    "#dict_keys(['segmentation', 'scale', 'viewpoint', 'zoom_in', 'landmarks', 'style', 'bounding_box', 'category_id', 'occlusion', 'category_name'])"
   ]
  },
  {
   "cell_type": "markdown",
   "id": "circular-patent",
   "metadata": {},
   "source": [
    "### Inspect a few sample images and corresponding bounding boxes"
   ]
  },
  {
   "cell_type": "code",
   "execution_count": 12,
   "id": "administrative-strength",
   "metadata": {},
   "outputs": [
    {
     "data": {
      "image/png": "[encoded data removed]",
      "text/plain": [
       "<Figure size 640x480 with 1 Axes>"
      ]
     },
     "metadata": {},
     "output_type": "display_data"
    }
   ],
   "source": [
    "for img, bbox in zip(images, bboxes):\n",
    "    (x1, y1, x2, y2) = bbox\n",
    "    img_bbox = cv2.rectangle(np.array(img), (x1, y1), (x2, y2), (0, 255, 0), 2)\n",
    "    plt.imshow(img_bbox)\n",
    "    plt.show()"
   ]
  },
  {
   "cell_type": "markdown",
   "id": "settled-phrase",
   "metadata": {},
   "source": [
    "# Examine classes"
   ]
  },
  {
   "cell_type": "code",
   "execution_count": 13,
   "id": "minimal-american",
   "metadata": {},
   "outputs": [
    {
     "name": "stdout",
     "output_type": "stream",
     "text": [
      "# rows 191961\n"
     ]
    },
    {
     "data": {
      "application/vnd.jupyter.widget-view+json": {
       "model_id": "4037e37ac23942ed95c15473125a8525",
       "version_major": 2,
       "version_minor": 0
      },
      "text/plain": [
       "0it [00:00, ?it/s]"
      ]
     },
     "metadata": {},
     "output_type": "display_data"
    },
    {
     "name": "stdout",
     "output_type": "stream",
     "text": [
      "CPU times: user 2min 22s, sys: 2.07 s, total: 2min 24s\n",
      "Wall time: 2min 24s\n"
     ]
    }
   ],
   "source": [
    "%%time\n",
    "\n",
    "ids = []\n",
    "sources = []\n",
    "scales = []\n",
    "viewpoints = []\n",
    "zooms = []\n",
    "occlusions = []\n",
    "landmarks = []\n",
    "bboxes = []\n",
    "styles = []\n",
    "category_ids = []\n",
    "category_names = []\n",
    "annos = df[df['folder']=='annos']\n",
    "print('# rows', len(annos))\n",
    "for idx, row in tqdm(annos.iterrows()): \n",
    "    file = row.path\n",
    "    anno = zipf.read(file, pwd=_pwd)\n",
    "    anno = json.loads(str(anno)[2:-1])\n",
    "    \n",
    "    for key in anno.keys():\n",
    "        if 'item' in key:\n",
    "            ids.append(row.filename.split('.')[0])\n",
    "            sources.append(anno['source'])\n",
    "            #anno.keys() => dict_keys(['segmentation', 'scale', 'viewpoint', 'zoom_in', 'landmarks', 'style', 'bounding_box', 'category_id', 'occlusion', 'category_name'])\n",
    "            scales.append(anno[key]['scale'])\n",
    "            viewpoints.append(anno[key]['viewpoint'])\n",
    "            zooms.append(anno[key]['zoom_in'])\n",
    "            occlusions.append(anno[key]['occlusion'])\n",
    "            landmarks.append(anno[key]['landmarks'])\n",
    "            bboxes.append(anno[key]['bounding_box'])\n",
    "            styles.append(anno[key]['style'])\n",
    "            category_ids.append(anno[key]['category_id'])\n",
    "            category_names.append(anno[key]['category_name'])    "
   ]
  },
  {
   "cell_type": "code",
   "execution_count": 14,
   "id": "fundamental-import",
   "metadata": {},
   "outputs": [
    {
     "name": "stdout",
     "output_type": "stream",
     "text": [
      "312186\n"
     ]
    },
    {
     "data": {
      "text/html": [
       "<div>\n",
       "<style scoped>\n",
       "    .dataframe tbody tr th:only-of-type {\n",
       "        vertical-align: middle;\n",
       "    }\n",
       "\n",
       "    .dataframe tbody tr th {\n",
       "        vertical-align: top;\n",
       "    }\n",
       "\n",
       "    .dataframe thead th {\n",
       "        text-align: right;\n",
       "    }\n",
       "</style>\n",
       "<table border=\"1\" class=\"dataframe\">\n",
       "  <thead>\n",
       "    <tr style=\"text-align: right;\">\n",
       "      <th></th>\n",
       "      <th>id</th>\n",
       "      <th>source</th>\n",
       "      <th>scale</th>\n",
       "      <th>viewpoint</th>\n",
       "      <th>zoom</th>\n",
       "      <th>occlusion</th>\n",
       "      <th>landmarks</th>\n",
       "      <th>bbox</th>\n",
       "      <th>style</th>\n",
       "      <th>category_id</th>\n",
       "      <th>category_name</th>\n",
       "    </tr>\n",
       "  </thead>\n",
       "  <tbody>\n",
       "    <tr>\n",
       "      <th>0</th>\n",
       "      <td>024410</td>\n",
       "      <td>user</td>\n",
       "      <td>3</td>\n",
       "      <td>1</td>\n",
       "      <td>2</td>\n",
       "      <td>1</td>\n",
       "      <td>[211, 148, 2, 122, 90, 2, 152, 168, 2, 219, 18...</td>\n",
       "      <td>[2, 78, 452, 694]</td>\n",
       "      <td>1</td>\n",
       "      <td>5</td>\n",
       "      <td>vest</td>\n",
       "    </tr>\n",
       "    <tr>\n",
       "      <th>1</th>\n",
       "      <td>024334</td>\n",
       "      <td>shop</td>\n",
       "      <td>2</td>\n",
       "      <td>2</td>\n",
       "      <td>1</td>\n",
       "      <td>2</td>\n",
       "      <td>[317, 114, 1, 242, 134, 2, 280, 170, 2, 363, 1...</td>\n",
       "      <td>[65, 57, 616, 589]</td>\n",
       "      <td>1</td>\n",
       "      <td>1</td>\n",
       "      <td>short sleeve top</td>\n",
       "    </tr>\n",
       "    <tr>\n",
       "      <th>2</th>\n",
       "      <td>024334</td>\n",
       "      <td>shop</td>\n",
       "      <td>3</td>\n",
       "      <td>2</td>\n",
       "      <td>1</td>\n",
       "      <td>1</td>\n",
       "      <td>[391, 261, 1, 310, 288, 2, 347, 288, 2, 395, 2...</td>\n",
       "      <td>[176, 57, 721, 928]</td>\n",
       "      <td>2</td>\n",
       "      <td>13</td>\n",
       "      <td>sling dress</td>\n",
       "    </tr>\n",
       "    <tr>\n",
       "      <th>3</th>\n",
       "      <td>024330</td>\n",
       "      <td>user</td>\n",
       "      <td>3</td>\n",
       "      <td>2</td>\n",
       "      <td>2</td>\n",
       "      <td>2</td>\n",
       "      <td>[271, 68, 1, 0, 0, 0, 187, 54, 2, 257, 109, 2,...</td>\n",
       "      <td>[2, 1, 465, 606]</td>\n",
       "      <td>1</td>\n",
       "      <td>1</td>\n",
       "      <td>short sleeve top</td>\n",
       "    </tr>\n",
       "    <tr>\n",
       "      <th>4</th>\n",
       "      <td>024330</td>\n",
       "      <td>user</td>\n",
       "      <td>3</td>\n",
       "      <td>2</td>\n",
       "      <td>2</td>\n",
       "      <td>1</td>\n",
       "      <td>[226, 115, 1, 92, 63, 2, 169, 99, 2, 223, 124,...</td>\n",
       "      <td>[35, 0, 467, 623]</td>\n",
       "      <td>2</td>\n",
       "      <td>13</td>\n",
       "      <td>sling dress</td>\n",
       "    </tr>\n",
       "  </tbody>\n",
       "</table>\n",
       "</div>"
      ],
      "text/plain": [
       "       id source  scale  viewpoint  zoom  occlusion  \\\n",
       "0  024410   user      3          1     2          1   \n",
       "1  024334   shop      2          2     1          2   \n",
       "2  024334   shop      3          2     1          1   \n",
       "3  024330   user      3          2     2          2   \n",
       "4  024330   user      3          2     2          1   \n",
       "\n",
       "                                           landmarks                 bbox  \\\n",
       "0  [211, 148, 2, 122, 90, 2, 152, 168, 2, 219, 18...    [2, 78, 452, 694]   \n",
       "1  [317, 114, 1, 242, 134, 2, 280, 170, 2, 363, 1...   [65, 57, 616, 589]   \n",
       "2  [391, 261, 1, 310, 288, 2, 347, 288, 2, 395, 2...  [176, 57, 721, 928]   \n",
       "3  [271, 68, 1, 0, 0, 0, 187, 54, 2, 257, 109, 2,...     [2, 1, 465, 606]   \n",
       "4  [226, 115, 1, 92, 63, 2, 169, 99, 2, 223, 124,...    [35, 0, 467, 623]   \n",
       "\n",
       "   style  category_id     category_name  \n",
       "0      1            5              vest  \n",
       "1      1            1  short sleeve top  \n",
       "2      2           13       sling dress  \n",
       "3      1            1  short sleeve top  \n",
       "4      2           13       sling dress  "
      ]
     },
     "execution_count": 14,
     "metadata": {},
     "output_type": "execute_result"
    }
   ],
   "source": [
    "df_meta_all = pd.DataFrame(data=zip(ids, sources, scales, viewpoints, zooms, occlusions, landmarks, bboxes, styles, category_ids, category_names), columns=['id', 'source', 'scale', 'viewpoint', 'zoom', 'occlusion', 'landmarks', 'bbox', 'style', 'category_id', 'category_name'])\n",
    "print(len(df_meta_all))\n",
    "df_meta_all[:5]"
   ]
  },
  {
   "cell_type": "code",
   "execution_count": 16,
   "id": "changed-weekly",
   "metadata": {},
   "outputs": [],
   "source": [
    "df_meta = df_meta_all.copy()"
   ]
  },
  {
   "cell_type": "markdown",
   "id": "afraid-capacity",
   "metadata": {},
   "source": [
    "## Reference:  https://github.com/switchablenorms/DeepFashion2\n",
    "\n",
    "Key fields:\n",
    "\n",
    "- source: a string, where 'shop' indicates that the image is from commercial store while 'user' indicates that the image is taken by users.\n",
    "\n",
    "- scale: a number, where 1 represents small scale, 2 represents modest scale and 3 represents large scale.\n",
    "\n",
    "- occlusion: a number, where 1 represents slight occlusion(including no occlusion), 2 represents medium occlusion and 3 represents heavy occlusion.\n",
    "\n",
    "- zoom_in: a number, where 1 represents no zoom-in, 2 represents medium zoom-in and 3 represents lagre zoom-in.\n",
    "\n",
    "- viewpoint: a number, where 1 represents no wear, 2 represents frontal viewpoint and 3 represents side or back viewpoint.\n",
    "\n",
    "First pass of training YOLOv5 on DF1 indicates that results including 'user' photos is very poor due to extreme viewing angles (down in mirror at jeans), heavy occlusion, etc.\n",
    "\n",
    "Therefore, now filtering out 'poor quality' images."
   ]
  },
  {
   "cell_type": "code",
   "execution_count": 17,
   "id": "weighted-lebanon",
   "metadata": {},
   "outputs": [],
   "source": [
    "df_meta = df_meta[(df_meta.source=='shop') & (df_meta.scale>1) & \n",
    "                  (df_meta.occlusion<2) & (df_meta.zoom<2) & \n",
    "                  (df_meta.viewpoint<3)]"
   ]
  },
  {
   "cell_type": "code",
   "execution_count": 18,
   "id": "centered-martial",
   "metadata": {},
   "outputs": [
    {
     "data": {
      "text/html": [
       "<div>\n",
       "<style scoped>\n",
       "    .dataframe tbody tr th:only-of-type {\n",
       "        vertical-align: middle;\n",
       "    }\n",
       "\n",
       "    .dataframe tbody tr th {\n",
       "        vertical-align: top;\n",
       "    }\n",
       "\n",
       "    .dataframe thead th {\n",
       "        text-align: right;\n",
       "    }\n",
       "</style>\n",
       "<table border=\"1\" class=\"dataframe\">\n",
       "  <thead>\n",
       "    <tr style=\"text-align: right;\">\n",
       "      <th></th>\n",
       "      <th>id</th>\n",
       "      <th>source</th>\n",
       "      <th>scale</th>\n",
       "      <th>viewpoint</th>\n",
       "      <th>zoom</th>\n",
       "      <th>occlusion</th>\n",
       "      <th>landmarks</th>\n",
       "      <th>bbox</th>\n",
       "      <th>style</th>\n",
       "      <th>category_id</th>\n",
       "    </tr>\n",
       "    <tr>\n",
       "      <th>category_name</th>\n",
       "      <th></th>\n",
       "      <th></th>\n",
       "      <th></th>\n",
       "      <th></th>\n",
       "      <th></th>\n",
       "      <th></th>\n",
       "      <th></th>\n",
       "      <th></th>\n",
       "      <th></th>\n",
       "      <th></th>\n",
       "    </tr>\n",
       "  </thead>\n",
       "  <tbody>\n",
       "    <tr>\n",
       "      <th>short sleeve top</th>\n",
       "      <td>11200</td>\n",
       "      <td>11200</td>\n",
       "      <td>11200</td>\n",
       "      <td>11200</td>\n",
       "      <td>11200</td>\n",
       "      <td>11200</td>\n",
       "      <td>11200</td>\n",
       "      <td>11200</td>\n",
       "      <td>11200</td>\n",
       "      <td>11200</td>\n",
       "    </tr>\n",
       "    <tr>\n",
       "      <th>long sleeve top</th>\n",
       "      <td>6080</td>\n",
       "      <td>6080</td>\n",
       "      <td>6080</td>\n",
       "      <td>6080</td>\n",
       "      <td>6080</td>\n",
       "      <td>6080</td>\n",
       "      <td>6080</td>\n",
       "      <td>6080</td>\n",
       "      <td>6080</td>\n",
       "      <td>6080</td>\n",
       "    </tr>\n",
       "    <tr>\n",
       "      <th>trousers</th>\n",
       "      <td>5010</td>\n",
       "      <td>5010</td>\n",
       "      <td>5010</td>\n",
       "      <td>5010</td>\n",
       "      <td>5010</td>\n",
       "      <td>5010</td>\n",
       "      <td>5010</td>\n",
       "      <td>5010</td>\n",
       "      <td>5010</td>\n",
       "      <td>5010</td>\n",
       "    </tr>\n",
       "    <tr>\n",
       "      <th>shorts</th>\n",
       "      <td>3911</td>\n",
       "      <td>3911</td>\n",
       "      <td>3911</td>\n",
       "      <td>3911</td>\n",
       "      <td>3911</td>\n",
       "      <td>3911</td>\n",
       "      <td>3911</td>\n",
       "      <td>3911</td>\n",
       "      <td>3911</td>\n",
       "      <td>3911</td>\n",
       "    </tr>\n",
       "    <tr>\n",
       "      <th>short sleeve dress</th>\n",
       "      <td>3115</td>\n",
       "      <td>3115</td>\n",
       "      <td>3115</td>\n",
       "      <td>3115</td>\n",
       "      <td>3115</td>\n",
       "      <td>3115</td>\n",
       "      <td>3115</td>\n",
       "      <td>3115</td>\n",
       "      <td>3115</td>\n",
       "      <td>3115</td>\n",
       "    </tr>\n",
       "    <tr>\n",
       "      <th>long sleeve outwear</th>\n",
       "      <td>3004</td>\n",
       "      <td>3004</td>\n",
       "      <td>3004</td>\n",
       "      <td>3004</td>\n",
       "      <td>3004</td>\n",
       "      <td>3004</td>\n",
       "      <td>3004</td>\n",
       "      <td>3004</td>\n",
       "      <td>3004</td>\n",
       "      <td>3004</td>\n",
       "    </tr>\n",
       "    <tr>\n",
       "      <th>skirt</th>\n",
       "      <td>2998</td>\n",
       "      <td>2998</td>\n",
       "      <td>2998</td>\n",
       "      <td>2998</td>\n",
       "      <td>2998</td>\n",
       "      <td>2998</td>\n",
       "      <td>2998</td>\n",
       "      <td>2998</td>\n",
       "      <td>2998</td>\n",
       "      <td>2998</td>\n",
       "    </tr>\n",
       "    <tr>\n",
       "      <th>vest dress</th>\n",
       "      <td>2451</td>\n",
       "      <td>2451</td>\n",
       "      <td>2451</td>\n",
       "      <td>2451</td>\n",
       "      <td>2451</td>\n",
       "      <td>2451</td>\n",
       "      <td>2451</td>\n",
       "      <td>2451</td>\n",
       "      <td>2451</td>\n",
       "      <td>2451</td>\n",
       "    </tr>\n",
       "    <tr>\n",
       "      <th>vest</th>\n",
       "      <td>2170</td>\n",
       "      <td>2170</td>\n",
       "      <td>2170</td>\n",
       "      <td>2170</td>\n",
       "      <td>2170</td>\n",
       "      <td>2170</td>\n",
       "      <td>2170</td>\n",
       "      <td>2170</td>\n",
       "      <td>2170</td>\n",
       "      <td>2170</td>\n",
       "    </tr>\n",
       "    <tr>\n",
       "      <th>long sleeve dress</th>\n",
       "      <td>1702</td>\n",
       "      <td>1702</td>\n",
       "      <td>1702</td>\n",
       "      <td>1702</td>\n",
       "      <td>1702</td>\n",
       "      <td>1702</td>\n",
       "      <td>1702</td>\n",
       "      <td>1702</td>\n",
       "      <td>1702</td>\n",
       "      <td>1702</td>\n",
       "    </tr>\n",
       "    <tr>\n",
       "      <th>sling dress</th>\n",
       "      <td>1312</td>\n",
       "      <td>1312</td>\n",
       "      <td>1312</td>\n",
       "      <td>1312</td>\n",
       "      <td>1312</td>\n",
       "      <td>1312</td>\n",
       "      <td>1312</td>\n",
       "      <td>1312</td>\n",
       "      <td>1312</td>\n",
       "      <td>1312</td>\n",
       "    </tr>\n",
       "    <tr>\n",
       "      <th>sling</th>\n",
       "      <td>255</td>\n",
       "      <td>255</td>\n",
       "      <td>255</td>\n",
       "      <td>255</td>\n",
       "      <td>255</td>\n",
       "      <td>255</td>\n",
       "      <td>255</td>\n",
       "      <td>255</td>\n",
       "      <td>255</td>\n",
       "      <td>255</td>\n",
       "    </tr>\n",
       "    <tr>\n",
       "      <th>short sleeve outwear</th>\n",
       "      <td>123</td>\n",
       "      <td>123</td>\n",
       "      <td>123</td>\n",
       "      <td>123</td>\n",
       "      <td>123</td>\n",
       "      <td>123</td>\n",
       "      <td>123</td>\n",
       "      <td>123</td>\n",
       "      <td>123</td>\n",
       "      <td>123</td>\n",
       "    </tr>\n",
       "  </tbody>\n",
       "</table>\n",
       "</div>"
      ],
      "text/plain": [
       "                         id  source  scale  viewpoint   zoom  occlusion  \\\n",
       "category_name                                                             \n",
       "short sleeve top      11200   11200  11200      11200  11200      11200   \n",
       "long sleeve top        6080    6080   6080       6080   6080       6080   \n",
       "trousers               5010    5010   5010       5010   5010       5010   \n",
       "shorts                 3911    3911   3911       3911   3911       3911   \n",
       "short sleeve dress     3115    3115   3115       3115   3115       3115   \n",
       "long sleeve outwear    3004    3004   3004       3004   3004       3004   \n",
       "skirt                  2998    2998   2998       2998   2998       2998   \n",
       "vest dress             2451    2451   2451       2451   2451       2451   \n",
       "vest                   2170    2170   2170       2170   2170       2170   \n",
       "long sleeve dress      1702    1702   1702       1702   1702       1702   \n",
       "sling dress            1312    1312   1312       1312   1312       1312   \n",
       "sling                   255     255    255        255    255        255   \n",
       "short sleeve outwear    123     123    123        123    123        123   \n",
       "\n",
       "                      landmarks   bbox  style  category_id  \n",
       "category_name                                               \n",
       "short sleeve top          11200  11200  11200        11200  \n",
       "long sleeve top            6080   6080   6080         6080  \n",
       "trousers                   5010   5010   5010         5010  \n",
       "shorts                     3911   3911   3911         3911  \n",
       "short sleeve dress         3115   3115   3115         3115  \n",
       "long sleeve outwear        3004   3004   3004         3004  \n",
       "skirt                      2998   2998   2998         2998  \n",
       "vest dress                 2451   2451   2451         2451  \n",
       "vest                       2170   2170   2170         2170  \n",
       "long sleeve dress          1702   1702   1702         1702  \n",
       "sling dress                1312   1312   1312         1312  \n",
       "sling                       255    255    255          255  \n",
       "short sleeve outwear        123    123    123          123  "
      ]
     },
     "execution_count": 18,
     "metadata": {},
     "output_type": "execute_result"
    }
   ],
   "source": [
    "cnts = df_meta.groupby('category_name').count().sort_values(by='id', ascending=False)\n",
    "cnts"
   ]
  },
  {
   "cell_type": "code",
   "execution_count": 19,
   "id": "nominated-brazil",
   "metadata": {},
   "outputs": [],
   "source": [
    "# use the same list used for the Training dataset\n",
    "cats = ['short sleeve top', 'long sleeve top', 'trousers', 'shorts',\n",
    "       'short sleeve dress', 'long sleeve outwear', 'skirt', 'vest dress',\n",
    "       'vest', 'long sleeve dress', 'sling dress']"
   ]
  },
  {
   "cell_type": "code",
   "execution_count": 20,
   "id": "local-behavior",
   "metadata": {},
   "outputs": [],
   "source": [
    "subset = df_meta[df_meta.category_name.isin(cats)]"
   ]
  },
  {
   "cell_type": "code",
   "execution_count": 21,
   "id": "impressed-balloon",
   "metadata": {},
   "outputs": [
    {
     "data": {
      "text/plain": [
       "1312"
      ]
     },
     "execution_count": 21,
     "metadata": {},
     "output_type": "execute_result"
    }
   ],
   "source": [
    "min_cnt = subset.groupby('category_name').count().min()[0]\n",
    "min_cnt"
   ]
  },
  {
   "cell_type": "code",
   "execution_count": 22,
   "id": "stuck-museum",
   "metadata": {},
   "outputs": [
    {
     "data": {
      "text/plain": [
       "4400"
      ]
     },
     "execution_count": 22,
     "metadata": {},
     "output_type": "execute_result"
    }
   ],
   "source": [
    "# we sample for the test set (set n=400).  400 was about size per class in DF1\n",
    "samples = subset.groupby('category_name').sample(n=400, random_state=112) # random is different than train\n",
    "len(samples)"
   ]
  },
  {
   "cell_type": "code",
   "execution_count": 23,
   "id": "narrow-briefing",
   "metadata": {},
   "outputs": [],
   "source": [
    "df['id'] = df['filename'].apply(lambda x: x.split('.')[0])"
   ]
  },
  {
   "cell_type": "code",
   "execution_count": 24,
   "id": "institutional-macintosh",
   "metadata": {},
   "outputs": [],
   "source": [
    "#from sklearn.model_selection import train_test_split\n",
    "#train, val = train_test_split(samples, test_size=0.2)\n",
    "#print(len(train),len(val))\n",
    "\n",
    "#For this case, all the data is in the validation set\n",
    "val = samples"
   ]
  },
  {
   "cell_type": "code",
   "execution_count": 25,
   "id": "lined-amendment",
   "metadata": {},
   "outputs": [
    {
     "data": {
      "text/plain": [
       "4400"
      ]
     },
     "execution_count": 25,
     "metadata": {},
     "output_type": "execute_result"
    }
   ],
   "source": [
    "val = pd.merge(df, val, on='id')\n",
    "val = val[val.folder=='image']\n",
    "len(val)"
   ]
  },
  {
   "cell_type": "code",
   "execution_count": 26,
   "id": "arranged-ensemble",
   "metadata": {},
   "outputs": [],
   "source": [
    "#train = pd.merge(df, train, on='id')\n",
    "#train = train[train.folder=='image']\n",
    "#len(train)"
   ]
  },
  {
   "cell_type": "code",
   "execution_count": 27,
   "id": "stretch-bride",
   "metadata": {},
   "outputs": [
    {
     "data": {
      "text/plain": [
       "index                                                       345977\n",
       "root_path                                                    train\n",
       "folder                                                       image\n",
       "filename                                                013541.jpg\n",
       "path                                        train/image/013541.jpg\n",
       "id                                                          013541\n",
       "source                                                        shop\n",
       "scale                                                            2\n",
       "viewpoint                                                        2\n",
       "zoom                                                             1\n",
       "occlusion                                                        1\n",
       "landmarks        [470, 81, 1, 428, 72, 2, 447, 77, 2, 470, 82, ...\n",
       "bbox                                           [331, 11, 573, 361]\n",
       "style                                                            1\n",
       "category_id                                                     13\n",
       "category_name                                          sling dress\n",
       "Name: 1, dtype: object"
      ]
     },
     "execution_count": 27,
     "metadata": {},
     "output_type": "execute_result"
    }
   ],
   "source": [
    "val.iloc[0]"
   ]
  },
  {
   "cell_type": "code",
   "execution_count": 29,
   "id": "demanding-warrant",
   "metadata": {},
   "outputs": [],
   "source": [
    "if not os.path.exists('df2_all'):\n",
    "    os.mkdir('df2_all')\n",
    "\n",
    "if not os.path.exists('df2_all/images'):\n",
    "    os.mkdir('df2_all/images')\n",
    "if not os.path.exists('df2_all/images/test_1'):\n",
    "    os.mkdir('df2_all/images/test_1')\n",
    "\n",
    "if not os.path.exists('df2_all/labels'):\n",
    "    os.mkdir('df2_all/labels_1')\n",
    "if not os.path.exists('df2_all/labels/test'):\n",
    "    os.mkdir('df2_all/labels/test_1')\n"
   ]
  },
  {
   "cell_type": "code",
   "execution_count": 30,
   "id": "literary-swift",
   "metadata": {},
   "outputs": [],
   "source": [
    "def createFiles(data=val, type_='test_1'):\n",
    "    target_dim = 640.0\n",
    "    for i, row in tqdm(data.iterrows()):\n",
    "        filepath = row.path\n",
    "        img = Image.open(io.BytesIO(zipf.read(filepath, pwd=_pwd)))\n",
    "        w_orig = float(img.size[0])\n",
    "        h_orig = float(img.size[1])\n",
    "        img.thumbnail((target_dim, target_dim)) \n",
    "        if 'png' in str(type(img)).lower():\n",
    "            img = img.convert('RGB')\n",
    "        img.save('df2_all/images/'+type_+'/'+row.filename, 'JPEG', optimize=True)\n",
    "\n",
    "        (x1, y1, x2, y2) = [float(b) for b in row.bbox]\n",
    "        x = round((((x2 - x1)/2) + x1) / w_orig, 4)\n",
    "        y = round((((y2 - y1)/2) + y1) / h_orig, 4)\n",
    "        w = round((x2 - x1) / w_orig, 4)\n",
    "        h = round((y2 - y1) / h_orig, 4)\n",
    "\n",
    "        idx = list(cats).index(row.category_name)\n",
    "        metadata = str(idx) + f' {x} {y} {w} {h}'\n",
    "        fileroot = 'df2_all/labels/'+type_+'/'+row.filename.split('.')[0]+'.txt'\n",
    "\n",
    "        f = open(fileroot, 'w')\n",
    "        f.write(metadata)\n",
    "        f.close()"
   ]
  },
  {
   "cell_type": "code",
   "execution_count": 31,
   "id": "separated-bulletin",
   "metadata": {},
   "outputs": [
    {
     "data": {
      "application/vnd.jupyter.widget-view+json": {
       "model_id": "",
       "version_major": 2,
       "version_minor": 0
      },
      "text/plain": [
       "0it [00:00, ?it/s]"
      ]
     },
     "metadata": {},
     "output_type": "display_data"
    }
   ],
   "source": [
    "createFiles(val, type_='test_1')"
   ]
  },
  {
   "cell_type": "code",
   "execution_count": 32,
   "id": "sudden-nothing",
   "metadata": {},
   "outputs": [],
   "source": [
    "lines = []\n",
    "lines.append('path: ../datasets/df2_all # root dir\\n')\n",
    "lines.append('train: images/test\\n')\n",
    "lines.append('val: images/test\\n')\n",
    "lines.append('test: images/test # test images (optional)\\n')\n",
    "\n",
    "lines.append('nc: '+str(len(cats))+' # number of classes\\n')\n",
    "\n",
    "str_classes = \"[ '\" + \"',\\n'\".join(cats) + \"' ]\"\n",
    "\n",
    "lines.append('names: '+str_classes + '\\n')\n",
    "\n",
    "f = open('df2_all/fashion_all_test.yaml', 'w')\n",
    "f.writelines(lines)\n",
    "f.close()"
   ]
  },
  {
   "cell_type": "markdown",
   "id": "disturbed-purse",
   "metadata": {},
   "source": [
    "# Dataset #2 preparation\n",
    "\n",
    "Dataset #2 is a version that randomly selects from the Training dataset excluding all items already used for the training exercise.\n",
    "\n",
    "This is an 11-class dataset."
   ]
  },
  {
   "cell_type": "code",
   "execution_count": 53,
   "id": "rental-green",
   "metadata": {},
   "outputs": [
    {
     "name": "stdout",
     "output_type": "stream",
     "text": [
      "14244 7129\n"
     ]
    }
   ],
   "source": [
    "train_file_list = np.array(os.listdir('df2_all/images/train'))\n",
    "val_file_list = np.array(os.listdir('df2_all/images/val'))\n",
    "\n",
    "train_file_list = list(map(lambda x: x.split('.')[0], train_file_list))\n",
    "val_file_list = list(map(lambda x: x.split('.')[0], val_file_list))\n",
    "\n",
    "print(len(train_file_list), len(val_file_list))"
   ]
  },
  {
   "cell_type": "code",
   "execution_count": 54,
   "id": "russian-rubber",
   "metadata": {},
   "outputs": [
    {
     "data": {
      "text/html": [
       "<div>\n",
       "<style scoped>\n",
       "    .dataframe tbody tr th:only-of-type {\n",
       "        vertical-align: middle;\n",
       "    }\n",
       "\n",
       "    .dataframe tbody tr th {\n",
       "        vertical-align: top;\n",
       "    }\n",
       "\n",
       "    .dataframe thead th {\n",
       "        text-align: right;\n",
       "    }\n",
       "</style>\n",
       "<table border=\"1\" class=\"dataframe\">\n",
       "  <thead>\n",
       "    <tr style=\"text-align: right;\">\n",
       "      <th></th>\n",
       "      <th>id</th>\n",
       "      <th>source</th>\n",
       "      <th>scale</th>\n",
       "      <th>viewpoint</th>\n",
       "      <th>zoom</th>\n",
       "      <th>occlusion</th>\n",
       "      <th>landmarks</th>\n",
       "      <th>bbox</th>\n",
       "      <th>style</th>\n",
       "      <th>category_id</th>\n",
       "    </tr>\n",
       "    <tr>\n",
       "      <th>category_name</th>\n",
       "      <th></th>\n",
       "      <th></th>\n",
       "      <th></th>\n",
       "      <th></th>\n",
       "      <th></th>\n",
       "      <th></th>\n",
       "      <th></th>\n",
       "      <th></th>\n",
       "      <th></th>\n",
       "      <th></th>\n",
       "    </tr>\n",
       "  </thead>\n",
       "  <tbody>\n",
       "    <tr>\n",
       "      <th>short sleeve top</th>\n",
       "      <td>11200</td>\n",
       "      <td>11200</td>\n",
       "      <td>11200</td>\n",
       "      <td>11200</td>\n",
       "      <td>11200</td>\n",
       "      <td>11200</td>\n",
       "      <td>11200</td>\n",
       "      <td>11200</td>\n",
       "      <td>11200</td>\n",
       "      <td>11200</td>\n",
       "    </tr>\n",
       "    <tr>\n",
       "      <th>long sleeve top</th>\n",
       "      <td>6080</td>\n",
       "      <td>6080</td>\n",
       "      <td>6080</td>\n",
       "      <td>6080</td>\n",
       "      <td>6080</td>\n",
       "      <td>6080</td>\n",
       "      <td>6080</td>\n",
       "      <td>6080</td>\n",
       "      <td>6080</td>\n",
       "      <td>6080</td>\n",
       "    </tr>\n",
       "    <tr>\n",
       "      <th>trousers</th>\n",
       "      <td>5010</td>\n",
       "      <td>5010</td>\n",
       "      <td>5010</td>\n",
       "      <td>5010</td>\n",
       "      <td>5010</td>\n",
       "      <td>5010</td>\n",
       "      <td>5010</td>\n",
       "      <td>5010</td>\n",
       "      <td>5010</td>\n",
       "      <td>5010</td>\n",
       "    </tr>\n",
       "    <tr>\n",
       "      <th>shorts</th>\n",
       "      <td>3911</td>\n",
       "      <td>3911</td>\n",
       "      <td>3911</td>\n",
       "      <td>3911</td>\n",
       "      <td>3911</td>\n",
       "      <td>3911</td>\n",
       "      <td>3911</td>\n",
       "      <td>3911</td>\n",
       "      <td>3911</td>\n",
       "      <td>3911</td>\n",
       "    </tr>\n",
       "    <tr>\n",
       "      <th>short sleeve dress</th>\n",
       "      <td>3115</td>\n",
       "      <td>3115</td>\n",
       "      <td>3115</td>\n",
       "      <td>3115</td>\n",
       "      <td>3115</td>\n",
       "      <td>3115</td>\n",
       "      <td>3115</td>\n",
       "      <td>3115</td>\n",
       "      <td>3115</td>\n",
       "      <td>3115</td>\n",
       "    </tr>\n",
       "    <tr>\n",
       "      <th>long sleeve outwear</th>\n",
       "      <td>3004</td>\n",
       "      <td>3004</td>\n",
       "      <td>3004</td>\n",
       "      <td>3004</td>\n",
       "      <td>3004</td>\n",
       "      <td>3004</td>\n",
       "      <td>3004</td>\n",
       "      <td>3004</td>\n",
       "      <td>3004</td>\n",
       "      <td>3004</td>\n",
       "    </tr>\n",
       "    <tr>\n",
       "      <th>skirt</th>\n",
       "      <td>2998</td>\n",
       "      <td>2998</td>\n",
       "      <td>2998</td>\n",
       "      <td>2998</td>\n",
       "      <td>2998</td>\n",
       "      <td>2998</td>\n",
       "      <td>2998</td>\n",
       "      <td>2998</td>\n",
       "      <td>2998</td>\n",
       "      <td>2998</td>\n",
       "    </tr>\n",
       "    <tr>\n",
       "      <th>vest dress</th>\n",
       "      <td>2451</td>\n",
       "      <td>2451</td>\n",
       "      <td>2451</td>\n",
       "      <td>2451</td>\n",
       "      <td>2451</td>\n",
       "      <td>2451</td>\n",
       "      <td>2451</td>\n",
       "      <td>2451</td>\n",
       "      <td>2451</td>\n",
       "      <td>2451</td>\n",
       "    </tr>\n",
       "    <tr>\n",
       "      <th>vest</th>\n",
       "      <td>2170</td>\n",
       "      <td>2170</td>\n",
       "      <td>2170</td>\n",
       "      <td>2170</td>\n",
       "      <td>2170</td>\n",
       "      <td>2170</td>\n",
       "      <td>2170</td>\n",
       "      <td>2170</td>\n",
       "      <td>2170</td>\n",
       "      <td>2170</td>\n",
       "    </tr>\n",
       "    <tr>\n",
       "      <th>long sleeve dress</th>\n",
       "      <td>1702</td>\n",
       "      <td>1702</td>\n",
       "      <td>1702</td>\n",
       "      <td>1702</td>\n",
       "      <td>1702</td>\n",
       "      <td>1702</td>\n",
       "      <td>1702</td>\n",
       "      <td>1702</td>\n",
       "      <td>1702</td>\n",
       "      <td>1702</td>\n",
       "    </tr>\n",
       "    <tr>\n",
       "      <th>sling dress</th>\n",
       "      <td>1312</td>\n",
       "      <td>1312</td>\n",
       "      <td>1312</td>\n",
       "      <td>1312</td>\n",
       "      <td>1312</td>\n",
       "      <td>1312</td>\n",
       "      <td>1312</td>\n",
       "      <td>1312</td>\n",
       "      <td>1312</td>\n",
       "      <td>1312</td>\n",
       "    </tr>\n",
       "  </tbody>\n",
       "</table>\n",
       "</div>"
      ],
      "text/plain": [
       "                        id  source  scale  viewpoint   zoom  occlusion  \\\n",
       "category_name                                                            \n",
       "short sleeve top     11200   11200  11200      11200  11200      11200   \n",
       "long sleeve top       6080    6080   6080       6080   6080       6080   \n",
       "trousers              5010    5010   5010       5010   5010       5010   \n",
       "shorts                3911    3911   3911       3911   3911       3911   \n",
       "short sleeve dress    3115    3115   3115       3115   3115       3115   \n",
       "long sleeve outwear   3004    3004   3004       3004   3004       3004   \n",
       "skirt                 2998    2998   2998       2998   2998       2998   \n",
       "vest dress            2451    2451   2451       2451   2451       2451   \n",
       "vest                  2170    2170   2170       2170   2170       2170   \n",
       "long sleeve dress     1702    1702   1702       1702   1702       1702   \n",
       "sling dress           1312    1312   1312       1312   1312       1312   \n",
       "\n",
       "                     landmarks   bbox  style  category_id  \n",
       "category_name                                              \n",
       "short sleeve top         11200  11200  11200        11200  \n",
       "long sleeve top           6080   6080   6080         6080  \n",
       "trousers                  5010   5010   5010         5010  \n",
       "shorts                    3911   3911   3911         3911  \n",
       "short sleeve dress        3115   3115   3115         3115  \n",
       "long sleeve outwear       3004   3004   3004         3004  \n",
       "skirt                     2998   2998   2998         2998  \n",
       "vest dress                2451   2451   2451         2451  \n",
       "vest                      2170   2170   2170         2170  \n",
       "long sleeve dress         1702   1702   1702         1702  \n",
       "sling dress               1312   1312   1312         1312  "
      ]
     },
     "execution_count": 54,
     "metadata": {},
     "output_type": "execute_result"
    }
   ],
   "source": [
    "subset.groupby('category_name').count().sort_values(by='id', ascending=False)"
   ]
  },
  {
   "cell_type": "code",
   "execution_count": 60,
   "id": "accessible-liberia",
   "metadata": {},
   "outputs": [
    {
     "data": {
      "text/html": [
       "<div>\n",
       "<style scoped>\n",
       "    .dataframe tbody tr th:only-of-type {\n",
       "        vertical-align: middle;\n",
       "    }\n",
       "\n",
       "    .dataframe tbody tr th {\n",
       "        vertical-align: top;\n",
       "    }\n",
       "\n",
       "    .dataframe thead th {\n",
       "        text-align: right;\n",
       "    }\n",
       "</style>\n",
       "<table border=\"1\" class=\"dataframe\">\n",
       "  <thead>\n",
       "    <tr style=\"text-align: right;\">\n",
       "      <th></th>\n",
       "      <th>id</th>\n",
       "      <th>source</th>\n",
       "      <th>scale</th>\n",
       "      <th>viewpoint</th>\n",
       "      <th>zoom</th>\n",
       "      <th>occlusion</th>\n",
       "      <th>landmarks</th>\n",
       "      <th>bbox</th>\n",
       "      <th>style</th>\n",
       "      <th>category_id</th>\n",
       "    </tr>\n",
       "    <tr>\n",
       "      <th>category_name</th>\n",
       "      <th></th>\n",
       "      <th></th>\n",
       "      <th></th>\n",
       "      <th></th>\n",
       "      <th></th>\n",
       "      <th></th>\n",
       "      <th></th>\n",
       "      <th></th>\n",
       "      <th></th>\n",
       "      <th></th>\n",
       "    </tr>\n",
       "  </thead>\n",
       "  <tbody>\n",
       "    <tr>\n",
       "      <th>short sleeve top</th>\n",
       "      <td>9079</td>\n",
       "      <td>9079</td>\n",
       "      <td>9079</td>\n",
       "      <td>9079</td>\n",
       "      <td>9079</td>\n",
       "      <td>9079</td>\n",
       "      <td>9079</td>\n",
       "      <td>9079</td>\n",
       "      <td>9079</td>\n",
       "      <td>9079</td>\n",
       "    </tr>\n",
       "    <tr>\n",
       "      <th>long sleeve top</th>\n",
       "      <td>4395</td>\n",
       "      <td>4395</td>\n",
       "      <td>4395</td>\n",
       "      <td>4395</td>\n",
       "      <td>4395</td>\n",
       "      <td>4395</td>\n",
       "      <td>4395</td>\n",
       "      <td>4395</td>\n",
       "      <td>4395</td>\n",
       "      <td>4395</td>\n",
       "    </tr>\n",
       "    <tr>\n",
       "      <th>trousers</th>\n",
       "      <td>3492</td>\n",
       "      <td>3492</td>\n",
       "      <td>3492</td>\n",
       "      <td>3492</td>\n",
       "      <td>3492</td>\n",
       "      <td>3492</td>\n",
       "      <td>3492</td>\n",
       "      <td>3492</td>\n",
       "      <td>3492</td>\n",
       "      <td>3492</td>\n",
       "    </tr>\n",
       "    <tr>\n",
       "      <th>shorts</th>\n",
       "      <td>2356</td>\n",
       "      <td>2356</td>\n",
       "      <td>2356</td>\n",
       "      <td>2356</td>\n",
       "      <td>2356</td>\n",
       "      <td>2356</td>\n",
       "      <td>2356</td>\n",
       "      <td>2356</td>\n",
       "      <td>2356</td>\n",
       "      <td>2356</td>\n",
       "    </tr>\n",
       "    <tr>\n",
       "      <th>short sleeve dress</th>\n",
       "      <td>1747</td>\n",
       "      <td>1747</td>\n",
       "      <td>1747</td>\n",
       "      <td>1747</td>\n",
       "      <td>1747</td>\n",
       "      <td>1747</td>\n",
       "      <td>1747</td>\n",
       "      <td>1747</td>\n",
       "      <td>1747</td>\n",
       "      <td>1747</td>\n",
       "    </tr>\n",
       "    <tr>\n",
       "      <th>long sleeve outwear</th>\n",
       "      <td>1620</td>\n",
       "      <td>1620</td>\n",
       "      <td>1620</td>\n",
       "      <td>1620</td>\n",
       "      <td>1620</td>\n",
       "      <td>1620</td>\n",
       "      <td>1620</td>\n",
       "      <td>1620</td>\n",
       "      <td>1620</td>\n",
       "      <td>1620</td>\n",
       "    </tr>\n",
       "    <tr>\n",
       "      <th>skirt</th>\n",
       "      <td>1534</td>\n",
       "      <td>1534</td>\n",
       "      <td>1534</td>\n",
       "      <td>1534</td>\n",
       "      <td>1534</td>\n",
       "      <td>1534</td>\n",
       "      <td>1534</td>\n",
       "      <td>1534</td>\n",
       "      <td>1534</td>\n",
       "      <td>1534</td>\n",
       "    </tr>\n",
       "    <tr>\n",
       "      <th>vest dress</th>\n",
       "      <td>1102</td>\n",
       "      <td>1102</td>\n",
       "      <td>1102</td>\n",
       "      <td>1102</td>\n",
       "      <td>1102</td>\n",
       "      <td>1102</td>\n",
       "      <td>1102</td>\n",
       "      <td>1102</td>\n",
       "      <td>1102</td>\n",
       "      <td>1102</td>\n",
       "    </tr>\n",
       "    <tr>\n",
       "      <th>vest</th>\n",
       "      <td>786</td>\n",
       "      <td>786</td>\n",
       "      <td>786</td>\n",
       "      <td>786</td>\n",
       "      <td>786</td>\n",
       "      <td>786</td>\n",
       "      <td>786</td>\n",
       "      <td>786</td>\n",
       "      <td>786</td>\n",
       "      <td>786</td>\n",
       "    </tr>\n",
       "    <tr>\n",
       "      <th>long sleeve dress</th>\n",
       "      <td>379</td>\n",
       "      <td>379</td>\n",
       "      <td>379</td>\n",
       "      <td>379</td>\n",
       "      <td>379</td>\n",
       "      <td>379</td>\n",
       "      <td>379</td>\n",
       "      <td>379</td>\n",
       "      <td>379</td>\n",
       "      <td>379</td>\n",
       "    </tr>\n",
       "  </tbody>\n",
       "</table>\n",
       "</div>"
      ],
      "text/plain": [
       "                       id  source  scale  viewpoint  zoom  occlusion  \\\n",
       "category_name                                                          \n",
       "short sleeve top     9079    9079   9079       9079  9079       9079   \n",
       "long sleeve top      4395    4395   4395       4395  4395       4395   \n",
       "trousers             3492    3492   3492       3492  3492       3492   \n",
       "shorts               2356    2356   2356       2356  2356       2356   \n",
       "short sleeve dress   1747    1747   1747       1747  1747       1747   \n",
       "long sleeve outwear  1620    1620   1620       1620  1620       1620   \n",
       "skirt                1534    1534   1534       1534  1534       1534   \n",
       "vest dress           1102    1102   1102       1102  1102       1102   \n",
       "vest                  786     786    786        786   786        786   \n",
       "long sleeve dress     379     379    379        379   379        379   \n",
       "\n",
       "                     landmarks  bbox  style  category_id  \n",
       "category_name                                             \n",
       "short sleeve top          9079  9079   9079         9079  \n",
       "long sleeve top           4395  4395   4395         4395  \n",
       "trousers                  3492  3492   3492         3492  \n",
       "shorts                    2356  2356   2356         2356  \n",
       "short sleeve dress        1747  1747   1747         1747  \n",
       "long sleeve outwear       1620  1620   1620         1620  \n",
       "skirt                     1534  1534   1534         1534  \n",
       "vest dress                1102  1102   1102         1102  \n",
       "vest                       786   786    786          786  \n",
       "long sleeve dress          379   379    379          379  "
      ]
     },
     "execution_count": 60,
     "metadata": {},
     "output_type": "execute_result"
    }
   ],
   "source": [
    "subset2 = subset[~subset.id.isin(train_file_list) & ~subset.id.isin(val_file_list)]\n",
    "subset2.groupby('category_name').count().sort_values(by='id', ascending=False)"
   ]
  },
  {
   "cell_type": "code",
   "execution_count": 62,
   "id": "generous-quest",
   "metadata": {},
   "outputs": [
    {
     "data": {
      "text/plain": [
       "3600"
      ]
     },
     "execution_count": 62,
     "metadata": {},
     "output_type": "execute_result"
    }
   ],
   "source": [
    "# we sample for the test2 set (set n=400).  400 was about size per class in DF1\n",
    "# long sleeve dresses excluded because they have < 400 samples and that causes an error\n",
    "samples2 = subset2[subset2.category_name!='long sleeve dress'].groupby('category_name').sample(n=400, random_state=2021) # random different than train/test1\n",
    "len(samples2)"
   ]
  },
  {
   "cell_type": "code",
   "execution_count": 68,
   "id": "agricultural-treasurer",
   "metadata": {},
   "outputs": [
    {
     "data": {
      "text/plain": [
       "3979"
      ]
     },
     "execution_count": 68,
     "metadata": {},
     "output_type": "execute_result"
    }
   ],
   "source": [
    "# add back in all the remaining long sleeve dresses (those not used for training)\n",
    "samples2 = samples2.append(subset2[subset2.category_name=='long sleeve dress'])\n",
    "len(samples2)"
   ]
  },
  {
   "cell_type": "code",
   "execution_count": 69,
   "id": "soviet-clear",
   "metadata": {},
   "outputs": [
    {
     "data": {
      "text/plain": [
       "4379"
      ]
     },
     "execution_count": 69,
     "metadata": {},
     "output_type": "execute_result"
    }
   ],
   "source": [
    "# add back in a sample of the sling dress category (unfortunately all were used for training)\n",
    "samples2 = samples2.append(subset[subset.category_name=='sling dress'].sample(n=400, random_state=2022)) # random different than train/test1\n",
    "len(samples2)"
   ]
  },
  {
   "cell_type": "code",
   "execution_count": 70,
   "id": "widespread-coordination",
   "metadata": {},
   "outputs": [],
   "source": [
    "val2 = samples2"
   ]
  },
  {
   "cell_type": "code",
   "execution_count": 71,
   "id": "intermediate-nancy",
   "metadata": {},
   "outputs": [
    {
     "data": {
      "text/plain": [
       "4379"
      ]
     },
     "execution_count": 71,
     "metadata": {},
     "output_type": "execute_result"
    }
   ],
   "source": [
    "val2 = pd.merge(df, val2, on='id')\n",
    "val2 = val2[val2.folder=='image']\n",
    "len(val2)"
   ]
  },
  {
   "cell_type": "code",
   "execution_count": 72,
   "id": "heavy-financing",
   "metadata": {},
   "outputs": [],
   "source": [
    "if not os.path.exists('df2_all'):\n",
    "    os.mkdir('df2_all')\n",
    "\n",
    "if not os.path.exists('df2_all/images'):\n",
    "    os.mkdir('df2_all/images')\n",
    "if not os.path.exists('df2_all/images/test_2'):\n",
    "    os.mkdir('df2_all/images/test_2')\n",
    "\n",
    "if not os.path.exists('df2_all/labels'):\n",
    "    os.mkdir('df2_all/labels')\n",
    "if not os.path.exists('df2_all/labels/test_2'):\n",
    "    os.mkdir('df2_all/labels/test_2')\n"
   ]
  },
  {
   "cell_type": "code",
   "execution_count": 73,
   "id": "searching-glasgow",
   "metadata": {},
   "outputs": [
    {
     "data": {
      "application/vnd.jupyter.widget-view+json": {
       "model_id": "",
       "version_major": 2,
       "version_minor": 0
      },
      "text/plain": [
       "0it [00:00, ?it/s]"
      ]
     },
     "metadata": {},
     "output_type": "display_data"
    }
   ],
   "source": [
    "createFiles(val2, type_='test_2')"
   ]
  },
  {
   "cell_type": "markdown",
   "id": "abandoned-blank",
   "metadata": {},
   "source": [
    "# Dataset #3 preparation\n",
    "\n",
    "Dataset #3 is a version that randomly selects from the Training dataset excluding all items already used for the training exercise.\n",
    "\n",
    "This is a 4-class dataset."
   ]
  },
  {
   "cell_type": "code",
   "execution_count": 74,
   "id": "adjustable-laptop",
   "metadata": {},
   "outputs": [],
   "source": [
    "# to be comparable with the test on 16k DF1\n",
    "cats = ['long sleeve top', \n",
    "        'short sleeve top', \n",
    "        'shorts', \n",
    "        'trousers']"
   ]
  },
  {
   "cell_type": "code",
   "execution_count": 75,
   "id": "lesbian-disaster",
   "metadata": {},
   "outputs": [],
   "source": [
    "subset3 = df_meta[df_meta.category_name.isin(cats)]"
   ]
  },
  {
   "cell_type": "code",
   "execution_count": 76,
   "id": "hydraulic-hypothesis",
   "metadata": {},
   "outputs": [
    {
     "data": {
      "text/html": [
       "<div>\n",
       "<style scoped>\n",
       "    .dataframe tbody tr th:only-of-type {\n",
       "        vertical-align: middle;\n",
       "    }\n",
       "\n",
       "    .dataframe tbody tr th {\n",
       "        vertical-align: top;\n",
       "    }\n",
       "\n",
       "    .dataframe thead th {\n",
       "        text-align: right;\n",
       "    }\n",
       "</style>\n",
       "<table border=\"1\" class=\"dataframe\">\n",
       "  <thead>\n",
       "    <tr style=\"text-align: right;\">\n",
       "      <th></th>\n",
       "      <th>id</th>\n",
       "      <th>source</th>\n",
       "      <th>scale</th>\n",
       "      <th>viewpoint</th>\n",
       "      <th>zoom</th>\n",
       "      <th>occlusion</th>\n",
       "      <th>landmarks</th>\n",
       "      <th>bbox</th>\n",
       "      <th>style</th>\n",
       "      <th>category_id</th>\n",
       "    </tr>\n",
       "    <tr>\n",
       "      <th>category_name</th>\n",
       "      <th></th>\n",
       "      <th></th>\n",
       "      <th></th>\n",
       "      <th></th>\n",
       "      <th></th>\n",
       "      <th></th>\n",
       "      <th></th>\n",
       "      <th></th>\n",
       "      <th></th>\n",
       "      <th></th>\n",
       "    </tr>\n",
       "  </thead>\n",
       "  <tbody>\n",
       "    <tr>\n",
       "      <th>short sleeve top</th>\n",
       "      <td>11200</td>\n",
       "      <td>11200</td>\n",
       "      <td>11200</td>\n",
       "      <td>11200</td>\n",
       "      <td>11200</td>\n",
       "      <td>11200</td>\n",
       "      <td>11200</td>\n",
       "      <td>11200</td>\n",
       "      <td>11200</td>\n",
       "      <td>11200</td>\n",
       "    </tr>\n",
       "    <tr>\n",
       "      <th>long sleeve top</th>\n",
       "      <td>6080</td>\n",
       "      <td>6080</td>\n",
       "      <td>6080</td>\n",
       "      <td>6080</td>\n",
       "      <td>6080</td>\n",
       "      <td>6080</td>\n",
       "      <td>6080</td>\n",
       "      <td>6080</td>\n",
       "      <td>6080</td>\n",
       "      <td>6080</td>\n",
       "    </tr>\n",
       "    <tr>\n",
       "      <th>trousers</th>\n",
       "      <td>5010</td>\n",
       "      <td>5010</td>\n",
       "      <td>5010</td>\n",
       "      <td>5010</td>\n",
       "      <td>5010</td>\n",
       "      <td>5010</td>\n",
       "      <td>5010</td>\n",
       "      <td>5010</td>\n",
       "      <td>5010</td>\n",
       "      <td>5010</td>\n",
       "    </tr>\n",
       "    <tr>\n",
       "      <th>shorts</th>\n",
       "      <td>3911</td>\n",
       "      <td>3911</td>\n",
       "      <td>3911</td>\n",
       "      <td>3911</td>\n",
       "      <td>3911</td>\n",
       "      <td>3911</td>\n",
       "      <td>3911</td>\n",
       "      <td>3911</td>\n",
       "      <td>3911</td>\n",
       "      <td>3911</td>\n",
       "    </tr>\n",
       "  </tbody>\n",
       "</table>\n",
       "</div>"
      ],
      "text/plain": [
       "                     id  source  scale  viewpoint   zoom  occlusion  \\\n",
       "category_name                                                         \n",
       "short sleeve top  11200   11200  11200      11200  11200      11200   \n",
       "long sleeve top    6080    6080   6080       6080   6080       6080   \n",
       "trousers           5010    5010   5010       5010   5010       5010   \n",
       "shorts             3911    3911   3911       3911   3911       3911   \n",
       "\n",
       "                  landmarks   bbox  style  category_id  \n",
       "category_name                                           \n",
       "short sleeve top      11200  11200  11200        11200  \n",
       "long sleeve top        6080   6080   6080         6080  \n",
       "trousers               5010   5010   5010         5010  \n",
       "shorts                 3911   3911   3911         3911  "
      ]
     },
     "execution_count": 76,
     "metadata": {},
     "output_type": "execute_result"
    }
   ],
   "source": [
    "subset3.groupby('category_name').count().sort_values(by='id', ascending=False)"
   ]
  },
  {
   "cell_type": "code",
   "execution_count": 77,
   "id": "directed-consequence",
   "metadata": {},
   "outputs": [
    {
     "data": {
      "text/html": [
       "<div>\n",
       "<style scoped>\n",
       "    .dataframe tbody tr th:only-of-type {\n",
       "        vertical-align: middle;\n",
       "    }\n",
       "\n",
       "    .dataframe tbody tr th {\n",
       "        vertical-align: top;\n",
       "    }\n",
       "\n",
       "    .dataframe thead th {\n",
       "        text-align: right;\n",
       "    }\n",
       "</style>\n",
       "<table border=\"1\" class=\"dataframe\">\n",
       "  <thead>\n",
       "    <tr style=\"text-align: right;\">\n",
       "      <th></th>\n",
       "      <th>id</th>\n",
       "      <th>source</th>\n",
       "      <th>scale</th>\n",
       "      <th>viewpoint</th>\n",
       "      <th>zoom</th>\n",
       "      <th>occlusion</th>\n",
       "      <th>landmarks</th>\n",
       "      <th>bbox</th>\n",
       "      <th>style</th>\n",
       "      <th>category_id</th>\n",
       "    </tr>\n",
       "    <tr>\n",
       "      <th>category_name</th>\n",
       "      <th></th>\n",
       "      <th></th>\n",
       "      <th></th>\n",
       "      <th></th>\n",
       "      <th></th>\n",
       "      <th></th>\n",
       "      <th></th>\n",
       "      <th></th>\n",
       "      <th></th>\n",
       "      <th></th>\n",
       "    </tr>\n",
       "  </thead>\n",
       "  <tbody>\n",
       "    <tr>\n",
       "      <th>short sleeve top</th>\n",
       "      <td>9079</td>\n",
       "      <td>9079</td>\n",
       "      <td>9079</td>\n",
       "      <td>9079</td>\n",
       "      <td>9079</td>\n",
       "      <td>9079</td>\n",
       "      <td>9079</td>\n",
       "      <td>9079</td>\n",
       "      <td>9079</td>\n",
       "      <td>9079</td>\n",
       "    </tr>\n",
       "    <tr>\n",
       "      <th>long sleeve top</th>\n",
       "      <td>4395</td>\n",
       "      <td>4395</td>\n",
       "      <td>4395</td>\n",
       "      <td>4395</td>\n",
       "      <td>4395</td>\n",
       "      <td>4395</td>\n",
       "      <td>4395</td>\n",
       "      <td>4395</td>\n",
       "      <td>4395</td>\n",
       "      <td>4395</td>\n",
       "    </tr>\n",
       "    <tr>\n",
       "      <th>trousers</th>\n",
       "      <td>3492</td>\n",
       "      <td>3492</td>\n",
       "      <td>3492</td>\n",
       "      <td>3492</td>\n",
       "      <td>3492</td>\n",
       "      <td>3492</td>\n",
       "      <td>3492</td>\n",
       "      <td>3492</td>\n",
       "      <td>3492</td>\n",
       "      <td>3492</td>\n",
       "    </tr>\n",
       "    <tr>\n",
       "      <th>shorts</th>\n",
       "      <td>2356</td>\n",
       "      <td>2356</td>\n",
       "      <td>2356</td>\n",
       "      <td>2356</td>\n",
       "      <td>2356</td>\n",
       "      <td>2356</td>\n",
       "      <td>2356</td>\n",
       "      <td>2356</td>\n",
       "      <td>2356</td>\n",
       "      <td>2356</td>\n",
       "    </tr>\n",
       "  </tbody>\n",
       "</table>\n",
       "</div>"
      ],
      "text/plain": [
       "                    id  source  scale  viewpoint  zoom  occlusion  landmarks  \\\n",
       "category_name                                                                  \n",
       "short sleeve top  9079    9079   9079       9079  9079       9079       9079   \n",
       "long sleeve top   4395    4395   4395       4395  4395       4395       4395   \n",
       "trousers          3492    3492   3492       3492  3492       3492       3492   \n",
       "shorts            2356    2356   2356       2356  2356       2356       2356   \n",
       "\n",
       "                  bbox  style  category_id  \n",
       "category_name                               \n",
       "short sleeve top  9079   9079         9079  \n",
       "long sleeve top   4395   4395         4395  \n",
       "trousers          3492   3492         3492  \n",
       "shorts            2356   2356         2356  "
      ]
     },
     "execution_count": 77,
     "metadata": {},
     "output_type": "execute_result"
    }
   ],
   "source": [
    "subset3 = subset3[~subset3.id.isin(train_file_list) & ~subset3.id.isin(val_file_list)]\n",
    "subset3.groupby('category_name').count().sort_values(by='id', ascending=False)"
   ]
  },
  {
   "cell_type": "code",
   "execution_count": 78,
   "id": "monetary-anger",
   "metadata": {},
   "outputs": [
    {
     "data": {
      "text/plain": [
       "1600"
      ]
     },
     "execution_count": 78,
     "metadata": {},
     "output_type": "execute_result"
    }
   ],
   "source": [
    "# we sample for the test3 set (set n=400).  400 was about size per class in DF1\n",
    "samples3 = subset3.groupby('category_name').sample(n=400, random_state=1234)\n",
    "len(samples3)"
   ]
  },
  {
   "cell_type": "code",
   "execution_count": 79,
   "id": "stone-greece",
   "metadata": {},
   "outputs": [],
   "source": [
    "val3 = samples3"
   ]
  },
  {
   "cell_type": "code",
   "execution_count": 80,
   "id": "extended-intensity",
   "metadata": {},
   "outputs": [
    {
     "data": {
      "text/plain": [
       "1600"
      ]
     },
     "execution_count": 80,
     "metadata": {},
     "output_type": "execute_result"
    }
   ],
   "source": [
    "val3 = pd.merge(df, val3, on='id')\n",
    "val3 = val3[val3.folder=='image']\n",
    "len(val3)"
   ]
  },
  {
   "cell_type": "code",
   "execution_count": 81,
   "id": "fresh-stephen",
   "metadata": {},
   "outputs": [],
   "source": [
    "if not os.path.exists('df2_all'):\n",
    "    os.mkdir('df2_all')\n",
    "\n",
    "if not os.path.exists('df2_all/images'):\n",
    "    os.mkdir('df2_all/images')\n",
    "if not os.path.exists('df2_all/images/test_3'):\n",
    "    os.mkdir('df2_all/images/test_3')\n",
    "\n",
    "if not os.path.exists('df2_all/labels'):\n",
    "    os.mkdir('df2_all/labels')\n",
    "if not os.path.exists('df2_all/labels/test_3'):\n",
    "    os.mkdir('df2_all/labels/test_3')\n"
   ]
  },
  {
   "cell_type": "code",
   "execution_count": 82,
   "id": "judicial-kingdom",
   "metadata": {},
   "outputs": [
    {
     "data": {
      "application/vnd.jupyter.widget-view+json": {
       "model_id": "9638d05342d54a02b7b723ed51059e6c",
       "version_major": 2,
       "version_minor": 0
      },
      "text/plain": [
       "0it [00:00, ?it/s]"
      ]
     },
     "metadata": {},
     "output_type": "display_data"
    }
   ],
   "source": [
    "createFiles(val3, type_='test_3')"
   ]
  },
  {
   "cell_type": "code",
   "execution_count": null,
   "id": "registered-imperial",
   "metadata": {},
   "outputs": [],
   "source": []
  }
 ],
 "metadata": {
  "kernelspec": {
   "display_name": "Python 3",
   "language": "python",
   "name": "python3"
  },
  "language_info": {
   "codemirror_mode": {
    "name": "ipython",
    "version": 3
   },
   "file_extension": ".py",
   "mimetype": "text/x-python",
   "name": "python",
   "nbconvert_exporter": "python",
   "pygments_lexer": "ipython3",
   "version": "3.7.4"
  }
 },
 "nbformat": 4,
 "nbformat_minor": 5
}
