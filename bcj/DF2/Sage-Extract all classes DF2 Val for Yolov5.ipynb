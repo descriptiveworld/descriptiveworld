{
 "cells": [
  {
   "cell_type": "code",
   "execution_count": 4,
   "id": "49229b55",
   "metadata": {},
   "outputs": [],
   "source": [
    "import pandas as pd\n",
    "import numpy as np\n",
    "import matplotlib.pyplot as plt\n",
    "import cv2\n",
    "from tqdm.notebook import tqdm\n",
    "from PIL import Image\n",
    "import os\n",
    "import shutil\n",
    "import json\n",
    "import io"
   ]
  },
  {
   "cell_type": "markdown",
   "id": "938359da",
   "metadata": {},
   "source": [
    "# Inspect full image archive without extracting all files"
   ]
  },
  {
   "cell_type": "code",
   "execution_count": 4,
   "id": "87fb0874",
   "metadata": {},
   "outputs": [
    {
     "name": "stdout",
     "output_type": "stream",
     "text": [
      "32153\n"
     ]
    },
    {
     "data": {
      "text/html": [
       "<div>\n",
       "<style scoped>\n",
       "    .dataframe tbody tr th:only-of-type {\n",
       "        vertical-align: middle;\n",
       "    }\n",
       "\n",
       "    .dataframe tbody tr th {\n",
       "        vertical-align: top;\n",
       "    }\n",
       "\n",
       "    .dataframe thead th {\n",
       "        text-align: right;\n",
       "    }\n",
       "</style>\n",
       "<table border=\"1\" class=\"dataframe\">\n",
       "  <thead>\n",
       "    <tr style=\"text-align: right;\">\n",
       "      <th></th>\n",
       "      <th>filename</th>\n",
       "      <th>path</th>\n",
       "    </tr>\n",
       "  </thead>\n",
       "  <tbody>\n",
       "    <tr>\n",
       "      <th>17662</th>\n",
       "      <td>012495.jpg</td>\n",
       "      <td>../../../validation/image/012495.jpg</td>\n",
       "    </tr>\n",
       "    <tr>\n",
       "      <th>2460</th>\n",
       "      <td>022405.jpg</td>\n",
       "      <td>../../../validation/image/022405.jpg</td>\n",
       "    </tr>\n",
       "    <tr>\n",
       "      <th>26522</th>\n",
       "      <td>001024.jpg</td>\n",
       "      <td>../../../validation/image/001024.jpg</td>\n",
       "    </tr>\n",
       "    <tr>\n",
       "      <th>2898</th>\n",
       "      <td>017116.jpg</td>\n",
       "      <td>../../../validation/image/017116.jpg</td>\n",
       "    </tr>\n",
       "    <tr>\n",
       "      <th>10389</th>\n",
       "      <td>031586.jpg</td>\n",
       "      <td>../../../validation/image/031586.jpg</td>\n",
       "    </tr>\n",
       "  </tbody>\n",
       "</table>\n",
       "</div>"
      ],
      "text/plain": [
       "         filename                                  path\n",
       "17662  012495.jpg  ../../../validation/image/012495.jpg\n",
       "2460   022405.jpg  ../../../validation/image/022405.jpg\n",
       "26522  001024.jpg  ../../../validation/image/001024.jpg\n",
       "2898   017116.jpg  ../../../validation/image/017116.jpg\n",
       "10389  031586.jpg  ../../../validation/image/031586.jpg"
      ]
     },
     "execution_count": 4,
     "metadata": {},
     "output_type": "execute_result"
    }
   ],
   "source": [
    "root_path = '../../../validation/image/'\n",
    "filenames = []\n",
    "paths = []\n",
    "for file in os.listdir(root_path)[:]:\n",
    "    if 'jpg' in file:\n",
    "        filenames.append(file)\n",
    "        paths.append(root_path + file)\n",
    "df = pd.DataFrame({'filename': filenames, 'path': paths})\n",
    "print(len(df))\n",
    "df.sample(n=5)"
   ]
  },
  {
   "cell_type": "markdown",
   "id": "2d214332",
   "metadata": {},
   "source": [
    "# Basic EDA\n"
   ]
  },
  {
   "cell_type": "markdown",
   "id": "5883a379",
   "metadata": {},
   "source": [
    "# Examine classes"
   ]
  },
  {
   "cell_type": "code",
   "execution_count": 5,
   "id": "319ddf4c",
   "metadata": {},
   "outputs": [
    {
     "name": "stdout",
     "output_type": "stream",
     "text": [
      "# rows 32153\n"
     ]
    },
    {
     "data": {
      "application/vnd.jupyter.widget-view+json": {
       "model_id": "dabf149eab284284894c29c2680b5330",
       "version_major": 2,
       "version_minor": 0
      },
      "text/plain": [
       "  0%|          | 0/32153 [00:00<?, ?it/s]"
      ]
     },
     "metadata": {},
     "output_type": "display_data"
    },
    {
     "name": "stdout",
     "output_type": "stream",
     "text": [
      "CPU times: user 8.4 s, sys: 1.35 s, total: 9.74 s\n",
      "Wall time: 26.1 s\n"
     ]
    }
   ],
   "source": [
    "%%time\n",
    "\n",
    "ids = []\n",
    "sources = []\n",
    "scales = []\n",
    "viewpoints = []\n",
    "zooms = []\n",
    "occlusions = []\n",
    "landmarks = []\n",
    "bboxes = []\n",
    "styles = []\n",
    "category_ids = []\n",
    "category_names = []\n",
    "annos = [f.replace('image', 'annos').replace('jpg', 'json') for f in df['path']]\n",
    "print('# rows', len(annos))\n",
    "for file in tqdm(annos): \n",
    "    anno = open(file).read()\n",
    "    anno = json.loads(anno)\n",
    "    \n",
    "    for key in anno.keys():\n",
    "        if 'item' in key:\n",
    "            ids.append(file.split('/')[-1].split('.')[0])\n",
    "            sources.append(anno['source'])\n",
    "            #anno.keys() => dict_keys(['segmentation', 'scale', 'viewpoint', 'zoom_in', 'landmarks', 'style', 'bounding_box', 'category_id', 'occlusion', 'category_name'])\n",
    "            scales.append(anno[key]['scale'])\n",
    "            viewpoints.append(anno[key]['viewpoint'])\n",
    "            zooms.append(anno[key]['zoom_in'])\n",
    "            occlusions.append(anno[key]['occlusion'])\n",
    "            landmarks.append(anno[key]['landmarks'])\n",
    "            bboxes.append(anno[key]['bounding_box'])\n",
    "            styles.append(anno[key]['style'])\n",
    "            category_ids.append(anno[key]['category_id'])\n",
    "            category_names.append(anno[key]['category_name'])    "
   ]
  },
  {
   "cell_type": "code",
   "execution_count": 6,
   "id": "02858ce2",
   "metadata": {},
   "outputs": [
    {
     "name": "stdout",
     "output_type": "stream",
     "text": [
      "52779\n"
     ]
    },
    {
     "data": {
      "text/html": [
       "<div>\n",
       "<style scoped>\n",
       "    .dataframe tbody tr th:only-of-type {\n",
       "        vertical-align: middle;\n",
       "    }\n",
       "\n",
       "    .dataframe tbody tr th {\n",
       "        vertical-align: top;\n",
       "    }\n",
       "\n",
       "    .dataframe thead th {\n",
       "        text-align: right;\n",
       "    }\n",
       "</style>\n",
       "<table border=\"1\" class=\"dataframe\">\n",
       "  <thead>\n",
       "    <tr style=\"text-align: right;\">\n",
       "      <th></th>\n",
       "      <th>id</th>\n",
       "      <th>source</th>\n",
       "      <th>scale</th>\n",
       "      <th>viewpoint</th>\n",
       "      <th>zoom</th>\n",
       "      <th>occlusion</th>\n",
       "      <th>landmarks</th>\n",
       "      <th>bbox</th>\n",
       "      <th>style</th>\n",
       "      <th>category_id</th>\n",
       "      <th>category_name</th>\n",
       "    </tr>\n",
       "  </thead>\n",
       "  <tbody>\n",
       "    <tr>\n",
       "      <th>0</th>\n",
       "      <td>029122</td>\n",
       "      <td>shop</td>\n",
       "      <td>1</td>\n",
       "      <td>2</td>\n",
       "      <td>1</td>\n",
       "      <td>1</td>\n",
       "      <td>[447, 482, 1, 398, 482, 2, 421, 530, 2, 453, 5...</td>\n",
       "      <td>[333, 449, 578, 863]</td>\n",
       "      <td>1</td>\n",
       "      <td>10</td>\n",
       "      <td>short sleeve dress</td>\n",
       "    </tr>\n",
       "    <tr>\n",
       "      <th>1</th>\n",
       "      <td>025833</td>\n",
       "      <td>shop</td>\n",
       "      <td>2</td>\n",
       "      <td>2</td>\n",
       "      <td>1</td>\n",
       "      <td>3</td>\n",
       "      <td>[473, 205, 1, 426, 164, 1, 439, 193, 1, 468, 2...</td>\n",
       "      <td>[165, 140, 569, 1024]</td>\n",
       "      <td>1</td>\n",
       "      <td>12</td>\n",
       "      <td>vest dress</td>\n",
       "    </tr>\n",
       "    <tr>\n",
       "      <th>2</th>\n",
       "      <td>025833</td>\n",
       "      <td>shop</td>\n",
       "      <td>2</td>\n",
       "      <td>2</td>\n",
       "      <td>1</td>\n",
       "      <td>2</td>\n",
       "      <td>[476, 201, 1, 426, 159, 1, 442, 185, 2, 473, 2...</td>\n",
       "      <td>[219, 76, 593, 557]</td>\n",
       "      <td>0</td>\n",
       "      <td>1</td>\n",
       "      <td>short sleeve top</td>\n",
       "    </tr>\n",
       "    <tr>\n",
       "      <th>3</th>\n",
       "      <td>000995</td>\n",
       "      <td>shop</td>\n",
       "      <td>2</td>\n",
       "      <td>2</td>\n",
       "      <td>1</td>\n",
       "      <td>1</td>\n",
       "      <td>[313, 189, 1, 283, 190, 2, 300, 201, 2, 316, 2...</td>\n",
       "      <td>[207, 177, 439, 543]</td>\n",
       "      <td>1</td>\n",
       "      <td>10</td>\n",
       "      <td>short sleeve dress</td>\n",
       "    </tr>\n",
       "    <tr>\n",
       "      <th>4</th>\n",
       "      <td>024459</td>\n",
       "      <td>shop</td>\n",
       "      <td>1</td>\n",
       "      <td>2</td>\n",
       "      <td>2</td>\n",
       "      <td>1</td>\n",
       "      <td>[0, 0, 0, 0, 0, 0, 0, 0, 0, 0, 0, 0, 0, 0, 0, ...</td>\n",
       "      <td>[230, 0, 401, 106]</td>\n",
       "      <td>0</td>\n",
       "      <td>1</td>\n",
       "      <td>short sleeve top</td>\n",
       "    </tr>\n",
       "  </tbody>\n",
       "</table>\n",
       "</div>"
      ],
      "text/plain": [
       "       id source  scale  viewpoint  zoom  occlusion  \\\n",
       "0  029122   shop      1          2     1          1   \n",
       "1  025833   shop      2          2     1          3   \n",
       "2  025833   shop      2          2     1          2   \n",
       "3  000995   shop      2          2     1          1   \n",
       "4  024459   shop      1          2     2          1   \n",
       "\n",
       "                                           landmarks                   bbox  \\\n",
       "0  [447, 482, 1, 398, 482, 2, 421, 530, 2, 453, 5...   [333, 449, 578, 863]   \n",
       "1  [473, 205, 1, 426, 164, 1, 439, 193, 1, 468, 2...  [165, 140, 569, 1024]   \n",
       "2  [476, 201, 1, 426, 159, 1, 442, 185, 2, 473, 2...    [219, 76, 593, 557]   \n",
       "3  [313, 189, 1, 283, 190, 2, 300, 201, 2, 316, 2...   [207, 177, 439, 543]   \n",
       "4  [0, 0, 0, 0, 0, 0, 0, 0, 0, 0, 0, 0, 0, 0, 0, ...     [230, 0, 401, 106]   \n",
       "\n",
       "   style  category_id       category_name  \n",
       "0      1           10  short sleeve dress  \n",
       "1      1           12          vest dress  \n",
       "2      0            1    short sleeve top  \n",
       "3      1           10  short sleeve dress  \n",
       "4      0            1    short sleeve top  "
      ]
     },
     "execution_count": 6,
     "metadata": {},
     "output_type": "execute_result"
    }
   ],
   "source": [
    "df_meta_all = pd.DataFrame(data=zip(ids, sources, scales, viewpoints, zooms, occlusions, landmarks, bboxes, styles, category_ids, category_names), columns=['id', 'source', 'scale', 'viewpoint', 'zoom', 'occlusion', 'landmarks', 'bbox', 'style', 'category_id', 'category_name'])\n",
    "print(len(df_meta_all))\n",
    "df_meta_all[:5]"
   ]
  },
  {
   "cell_type": "code",
   "execution_count": 7,
   "id": "1a6e44cf",
   "metadata": {},
   "outputs": [],
   "source": [
    "df_meta = df_meta_all.copy()"
   ]
  },
  {
   "cell_type": "markdown",
   "id": "995f0b9d",
   "metadata": {},
   "source": [
    "## Reference:  https://github.com/switchablenorms/DeepFashion2\n",
    "\n",
    "Key fields:\n",
    "\n",
    "- source: a string, where 'shop' indicates that the image is from commercial store while 'user' indicates that the image is taken by users.\n",
    "\n",
    "- scale: a number, where 1 represents small scale, 2 represents modest scale and 3 represents large scale.\n",
    "\n",
    "- occlusion: a number, where 1 represents slight occlusion(including no occlusion), 2 represents medium occlusion and 3 represents heavy occlusion.\n",
    "\n",
    "- zoom_in: a number, where 1 represents no zoom-in, 2 represents medium zoom-in and 3 represents lagre zoom-in.\n",
    "\n",
    "- viewpoint: a number, where 1 represents no wear, 2 represents frontal viewpoint and 3 represents side or back viewpoint.\n",
    "\n",
    "First pass of training YOLOv5 on DF1 indicates that results including 'user' photos is very poor due to extreme viewing angles (down in mirror at jeans), heavy occlusion, etc.\n",
    "\n",
    "Therefore, now filtering out 'poor quality' images."
   ]
  },
  {
   "cell_type": "code",
   "execution_count": 8,
   "id": "97ad0064",
   "metadata": {},
   "outputs": [],
   "source": [
    "if False:\n",
    "    df_meta = df_meta[(df_meta.source=='shop') & (df_meta.scale>1) & \n",
    "                  (df_meta.occlusion<2) & (df_meta.zoom<2) & \n",
    "                  (df_meta.viewpoint<3)]"
   ]
  },
  {
   "cell_type": "code",
   "execution_count": 9,
   "id": "fa5fa4ca",
   "metadata": {},
   "outputs": [
    {
     "data": {
      "text/html": [
       "<div>\n",
       "<style scoped>\n",
       "    .dataframe tbody tr th:only-of-type {\n",
       "        vertical-align: middle;\n",
       "    }\n",
       "\n",
       "    .dataframe tbody tr th {\n",
       "        vertical-align: top;\n",
       "    }\n",
       "\n",
       "    .dataframe thead th {\n",
       "        text-align: right;\n",
       "    }\n",
       "</style>\n",
       "<table border=\"1\" class=\"dataframe\">\n",
       "  <thead>\n",
       "    <tr style=\"text-align: right;\">\n",
       "      <th></th>\n",
       "      <th>id</th>\n",
       "      <th>source</th>\n",
       "      <th>scale</th>\n",
       "      <th>viewpoint</th>\n",
       "      <th>zoom</th>\n",
       "      <th>occlusion</th>\n",
       "      <th>landmarks</th>\n",
       "      <th>bbox</th>\n",
       "      <th>style</th>\n",
       "      <th>category_id</th>\n",
       "    </tr>\n",
       "    <tr>\n",
       "      <th>category_name</th>\n",
       "      <th></th>\n",
       "      <th></th>\n",
       "      <th></th>\n",
       "      <th></th>\n",
       "      <th></th>\n",
       "      <th></th>\n",
       "      <th></th>\n",
       "      <th></th>\n",
       "      <th></th>\n",
       "      <th></th>\n",
       "    </tr>\n",
       "  </thead>\n",
       "  <tbody>\n",
       "    <tr>\n",
       "      <th>short sleeve top</th>\n",
       "      <td>12655</td>\n",
       "      <td>12655</td>\n",
       "      <td>12655</td>\n",
       "      <td>12655</td>\n",
       "      <td>12655</td>\n",
       "      <td>12655</td>\n",
       "      <td>12655</td>\n",
       "      <td>12655</td>\n",
       "      <td>12655</td>\n",
       "      <td>12655</td>\n",
       "    </tr>\n",
       "    <tr>\n",
       "      <th>trousers</th>\n",
       "      <td>9759</td>\n",
       "      <td>9759</td>\n",
       "      <td>9759</td>\n",
       "      <td>9759</td>\n",
       "      <td>9759</td>\n",
       "      <td>9759</td>\n",
       "      <td>9759</td>\n",
       "      <td>9759</td>\n",
       "      <td>9759</td>\n",
       "      <td>9759</td>\n",
       "    </tr>\n",
       "    <tr>\n",
       "      <th>skirt</th>\n",
       "      <td>6380</td>\n",
       "      <td>6380</td>\n",
       "      <td>6380</td>\n",
       "      <td>6380</td>\n",
       "      <td>6380</td>\n",
       "      <td>6380</td>\n",
       "      <td>6380</td>\n",
       "      <td>6380</td>\n",
       "      <td>6380</td>\n",
       "      <td>6380</td>\n",
       "    </tr>\n",
       "    <tr>\n",
       "      <th>long sleeve top</th>\n",
       "      <td>5908</td>\n",
       "      <td>5908</td>\n",
       "      <td>5908</td>\n",
       "      <td>5908</td>\n",
       "      <td>5908</td>\n",
       "      <td>5908</td>\n",
       "      <td>5908</td>\n",
       "      <td>5908</td>\n",
       "      <td>5908</td>\n",
       "      <td>5908</td>\n",
       "    </tr>\n",
       "    <tr>\n",
       "      <th>shorts</th>\n",
       "      <td>4322</td>\n",
       "      <td>4322</td>\n",
       "      <td>4322</td>\n",
       "      <td>4322</td>\n",
       "      <td>4322</td>\n",
       "      <td>4322</td>\n",
       "      <td>4322</td>\n",
       "      <td>4322</td>\n",
       "      <td>4322</td>\n",
       "      <td>4322</td>\n",
       "    </tr>\n",
       "    <tr>\n",
       "      <th>vest dress</th>\n",
       "      <td>3403</td>\n",
       "      <td>3403</td>\n",
       "      <td>3403</td>\n",
       "      <td>3403</td>\n",
       "      <td>3403</td>\n",
       "      <td>3403</td>\n",
       "      <td>3403</td>\n",
       "      <td>3403</td>\n",
       "      <td>3403</td>\n",
       "      <td>3403</td>\n",
       "    </tr>\n",
       "    <tr>\n",
       "      <th>short sleeve dress</th>\n",
       "      <td>3080</td>\n",
       "      <td>3080</td>\n",
       "      <td>3080</td>\n",
       "      <td>3080</td>\n",
       "      <td>3080</td>\n",
       "      <td>3080</td>\n",
       "      <td>3080</td>\n",
       "      <td>3080</td>\n",
       "      <td>3080</td>\n",
       "      <td>3080</td>\n",
       "    </tr>\n",
       "    <tr>\n",
       "      <th>long sleeve outwear</th>\n",
       "      <td>2120</td>\n",
       "      <td>2120</td>\n",
       "      <td>2120</td>\n",
       "      <td>2120</td>\n",
       "      <td>2120</td>\n",
       "      <td>2120</td>\n",
       "      <td>2120</td>\n",
       "      <td>2120</td>\n",
       "      <td>2120</td>\n",
       "      <td>2120</td>\n",
       "    </tr>\n",
       "    <tr>\n",
       "      <th>vest</th>\n",
       "      <td>2099</td>\n",
       "      <td>2099</td>\n",
       "      <td>2099</td>\n",
       "      <td>2099</td>\n",
       "      <td>2099</td>\n",
       "      <td>2099</td>\n",
       "      <td>2099</td>\n",
       "      <td>2099</td>\n",
       "      <td>2099</td>\n",
       "      <td>2099</td>\n",
       "    </tr>\n",
       "    <tr>\n",
       "      <th>long sleeve dress</th>\n",
       "      <td>1504</td>\n",
       "      <td>1504</td>\n",
       "      <td>1504</td>\n",
       "      <td>1504</td>\n",
       "      <td>1504</td>\n",
       "      <td>1504</td>\n",
       "      <td>1504</td>\n",
       "      <td>1504</td>\n",
       "      <td>1504</td>\n",
       "      <td>1504</td>\n",
       "    </tr>\n",
       "    <tr>\n",
       "      <th>sling dress</th>\n",
       "      <td>1097</td>\n",
       "      <td>1097</td>\n",
       "      <td>1097</td>\n",
       "      <td>1097</td>\n",
       "      <td>1097</td>\n",
       "      <td>1097</td>\n",
       "      <td>1097</td>\n",
       "      <td>1097</td>\n",
       "      <td>1097</td>\n",
       "      <td>1097</td>\n",
       "    </tr>\n",
       "    <tr>\n",
       "      <th>sling</th>\n",
       "      <td>309</td>\n",
       "      <td>309</td>\n",
       "      <td>309</td>\n",
       "      <td>309</td>\n",
       "      <td>309</td>\n",
       "      <td>309</td>\n",
       "      <td>309</td>\n",
       "      <td>309</td>\n",
       "      <td>309</td>\n",
       "      <td>309</td>\n",
       "    </tr>\n",
       "    <tr>\n",
       "      <th>short sleeve outwear</th>\n",
       "      <td>143</td>\n",
       "      <td>143</td>\n",
       "      <td>143</td>\n",
       "      <td>143</td>\n",
       "      <td>143</td>\n",
       "      <td>143</td>\n",
       "      <td>143</td>\n",
       "      <td>143</td>\n",
       "      <td>143</td>\n",
       "      <td>143</td>\n",
       "    </tr>\n",
       "  </tbody>\n",
       "</table>\n",
       "</div>"
      ],
      "text/plain": [
       "                         id  source  scale  viewpoint   zoom  occlusion  \\\n",
       "category_name                                                             \n",
       "short sleeve top      12655   12655  12655      12655  12655      12655   \n",
       "trousers               9759    9759   9759       9759   9759       9759   \n",
       "skirt                  6380    6380   6380       6380   6380       6380   \n",
       "long sleeve top        5908    5908   5908       5908   5908       5908   \n",
       "shorts                 4322    4322   4322       4322   4322       4322   \n",
       "vest dress             3403    3403   3403       3403   3403       3403   \n",
       "short sleeve dress     3080    3080   3080       3080   3080       3080   \n",
       "long sleeve outwear    2120    2120   2120       2120   2120       2120   \n",
       "vest                   2099    2099   2099       2099   2099       2099   \n",
       "long sleeve dress      1504    1504   1504       1504   1504       1504   \n",
       "sling dress            1097    1097   1097       1097   1097       1097   \n",
       "sling                   309     309    309        309    309        309   \n",
       "short sleeve outwear    143     143    143        143    143        143   \n",
       "\n",
       "                      landmarks   bbox  style  category_id  \n",
       "category_name                                               \n",
       "short sleeve top          12655  12655  12655        12655  \n",
       "trousers                   9759   9759   9759         9759  \n",
       "skirt                      6380   6380   6380         6380  \n",
       "long sleeve top            5908   5908   5908         5908  \n",
       "shorts                     4322   4322   4322         4322  \n",
       "vest dress                 3403   3403   3403         3403  \n",
       "short sleeve dress         3080   3080   3080         3080  \n",
       "long sleeve outwear        2120   2120   2120         2120  \n",
       "vest                       2099   2099   2099         2099  \n",
       "long sleeve dress          1504   1504   1504         1504  \n",
       "sling dress                1097   1097   1097         1097  \n",
       "sling                       309    309    309          309  \n",
       "short sleeve outwear        143    143    143          143  "
      ]
     },
     "execution_count": 9,
     "metadata": {},
     "output_type": "execute_result"
    }
   ],
   "source": [
    "cnts = df_meta.groupby('category_name').count().sort_values(by='id', ascending=False)\n",
    "cnts"
   ]
  },
  {
   "cell_type": "code",
   "execution_count": 1,
   "id": "bfa2e911",
   "metadata": {},
   "outputs": [],
   "source": [
    "# use the same list used for the Training dataset\n",
    "cats = ['short sleeve top', 'long sleeve top', 'trousers', 'shorts',\n",
    "       'short sleeve dress', 'long sleeve outwear', 'skirt', 'vest dress',\n",
    "       'vest', 'long sleeve dress', 'sling dress']"
   ]
  },
  {
   "cell_type": "code",
   "execution_count": 11,
   "id": "d0a7426b",
   "metadata": {},
   "outputs": [],
   "source": [
    "subset = df_meta[df_meta.category_name.isin(cats)]"
   ]
  },
  {
   "cell_type": "code",
   "execution_count": 12,
   "id": "11d7aaa0",
   "metadata": {},
   "outputs": [
    {
     "data": {
      "text/plain": [
       "1097"
      ]
     },
     "execution_count": 12,
     "metadata": {},
     "output_type": "execute_result"
    }
   ],
   "source": [
    "min_cnt = subset.groupby('category_name').count().min()[0]\n",
    "min_cnt"
   ]
  },
  {
   "cell_type": "code",
   "execution_count": 26,
   "id": "df1ebc32",
   "metadata": {},
   "outputs": [
    {
     "data": {
      "text/plain": [
       "5500"
      ]
     },
     "execution_count": 26,
     "metadata": {},
     "output_type": "execute_result"
    }
   ],
   "source": [
    "# we keep all the data in the validation set for the full dataset\n",
    "# for the smaller dataset, we target 10% of the size of the training dataset\n",
    "samples = subset.groupby('category_name').sample(n=500, random_state=314)\n",
    "len(samples)"
   ]
  },
  {
   "cell_type": "code",
   "execution_count": 27,
   "id": "087a6849",
   "metadata": {},
   "outputs": [],
   "source": [
    "df['id'] = df['filename'].apply(lambda x: x.split('.')[0])"
   ]
  },
  {
   "cell_type": "code",
   "execution_count": 28,
   "id": "325c16f9",
   "metadata": {},
   "outputs": [],
   "source": [
    "#from sklearn.model_selection import train_test_split\n",
    "#train, val = train_test_split(samples, test_size=0.2)\n",
    "#print(len(train),len(val))\n",
    "\n",
    "#For this case, all the data is in the validation set\n",
    "val = samples"
   ]
  },
  {
   "cell_type": "code",
   "execution_count": 29,
   "id": "75bebc5b",
   "metadata": {},
   "outputs": [
    {
     "data": {
      "text/plain": [
       "5500"
      ]
     },
     "execution_count": 29,
     "metadata": {},
     "output_type": "execute_result"
    }
   ],
   "source": [
    "val = pd.merge(df, val, on='id')\n",
    "len(val)"
   ]
  },
  {
   "cell_type": "code",
   "execution_count": 30,
   "id": "35aa9870",
   "metadata": {},
   "outputs": [],
   "source": [
    "#train = pd.merge(df, train, on='id')\n",
    "#train = train[train.folder=='image']\n",
    "#len(train)"
   ]
  },
  {
   "cell_type": "code",
   "execution_count": 31,
   "id": "a8ff639d",
   "metadata": {},
   "outputs": [
    {
     "data": {
      "text/plain": [
       "filename                                                029122.jpg\n",
       "path                          ../../../validation/image/029122.jpg\n",
       "id                                                          029122\n",
       "source                                                        shop\n",
       "scale                                                            1\n",
       "viewpoint                                                        2\n",
       "zoom                                                             1\n",
       "occlusion                                                        1\n",
       "landmarks        [447, 482, 1, 398, 482, 2, 421, 530, 2, 453, 5...\n",
       "bbox                                          [333, 449, 578, 863]\n",
       "style                                                            1\n",
       "category_id                                                     10\n",
       "category_name                                   short sleeve dress\n",
       "Name: 0, dtype: object"
      ]
     },
     "execution_count": 31,
     "metadata": {},
     "output_type": "execute_result"
    }
   ],
   "source": [
    "val.iloc[0]"
   ]
  },
  {
   "cell_type": "code",
   "execution_count": 5,
   "id": "4e566375",
   "metadata": {},
   "outputs": [],
   "source": [
    "root = '../../../'\n",
    "\n",
    "if not os.path.exists(root+'df2'):\n",
    "    os.mkdir(root+'df2')\n",
    "\n",
    "if not os.path.exists(root+'df2/images'):\n",
    "    os.mkdir(root+'df2/images')\n",
    "if not os.path.exists(root+'df2/images/train'):\n",
    "    os.mkdir(root+'df2/images/train')\n",
    "if not os.path.exists(root+'df2/images/val'):\n",
    "    os.mkdir(root+'df2/images/val')\n",
    "if not os.path.exists(root+'df2/images/test'):\n",
    "    os.mkdir(root+'df2/images/test')\n",
    "\n",
    "if not os.path.exists(root+'df2/labels'):\n",
    "    os.mkdir(root+'df2/labels')\n",
    "if not os.path.exists(root+'df2/labels/train'):\n",
    "    os.mkdir(root+'df2/labels/train')\n",
    "if not os.path.exists(root+'df2/labels/val'):\n",
    "    os.mkdir(root+'df2/labels/val')\n",
    "if not os.path.exists(root+'df2/labels/test'):\n",
    "    os.mkdir(root+'df2/labels/test')"
   ]
  },
  {
   "cell_type": "code",
   "execution_count": 35,
   "id": "cbe615aa",
   "metadata": {},
   "outputs": [],
   "source": [
    "target_dim = 640.0\n",
    " \n",
    "def createFiles(data=val, type_='val'):\n",
    "    for i, row in data.iterrows():\n",
    "        try:\n",
    "            filepath = row.path\n",
    "            img = Image.open(filepath)\n",
    "            w_orig = float(img.size[0])\n",
    "            h_orig = float(img.size[1])\n",
    "            img.thumbnail((target_dim, target_dim)) \n",
    "            if 'png' in str(type(img)).lower():\n",
    "                img = img.convert('RGB')\n",
    "            img.save(root+'df2/images/'+type_+'/'+row.filename, 'JPEG', optimize=True)\n",
    "\n",
    "            (x1, y1, x2, y2) = [float(b) for b in row.bbox]\n",
    "            x = round((((x2 - x1)/2) + x1) / w_orig, 4)\n",
    "            y = round((((y2 - y1)/2) + y1) / h_orig, 4)\n",
    "            w = round((x2 - x1) / w_orig, 4)\n",
    "            h = round((y2 - y1) / h_orig, 4)\n",
    "\n",
    "            idx = list(cats).index(row.category_name)\n",
    "            metadata = str(idx) + f' {x} {y} {w} {h}'\n",
    "            fileroot = root+'df2/labels/'+type_+'/'+row.filename.split('.')[0]+'.txt'\n",
    "\n",
    "            f = open(fileroot, 'w')\n",
    "            f.write(metadata)\n",
    "            f.close()\n",
    "            img = None\n",
    "        except:\n",
    "            print('error:', row.path)"
   ]
  },
  {
   "cell_type": "code",
   "execution_count": 36,
   "id": "3517dc4b",
   "metadata": {},
   "outputs": [],
   "source": [
    "#createFiles(train, type_='train')\n",
    "createFiles(val, type_='val')"
   ]
  },
  {
   "cell_type": "code",
   "execution_count": 6,
   "id": "0ab852c8",
   "metadata": {},
   "outputs": [],
   "source": [
    "lines = []\n",
    "lines.append('path: ../df2 # root dir\\n')\n",
    "lines.append('train: images/train\\n')\n",
    "lines.append('val: images/val\\n')\n",
    "lines.append('test:  images/test\\n')\n",
    "\n",
    "lines.append('nc: '+str(len(cats))+' # number of classes\\n')\n",
    "\n",
    "str_classes = \"[ '\" + \"',\\n'\".join(cats) + \"' ]\"\n",
    "\n",
    "lines.append('names: '+str_classes + '\\n')\n",
    "\n",
    "f = open(root+'df2/df2.yaml', 'w')\n",
    "f.writelines(lines)\n",
    "f.close()"
   ]
  },
  {
   "cell_type": "code",
   "execution_count": null,
   "id": "ea42441b",
   "metadata": {},
   "outputs": [],
   "source": []
  }
 ],
 "metadata": {
  "kernelspec": {
   "display_name": "conda_pytorch_latest_p36",
   "language": "python",
   "name": "conda_pytorch_latest_p36"
  },
  "language_info": {
   "codemirror_mode": {
    "name": "ipython",
    "version": 3
   },
   "file_extension": ".py",
   "mimetype": "text/x-python",
   "name": "python",
   "nbconvert_exporter": "python",
   "pygments_lexer": "ipython3",
   "version": "3.6.13"
  }
 },
 "nbformat": 4,
 "nbformat_minor": 5
}
