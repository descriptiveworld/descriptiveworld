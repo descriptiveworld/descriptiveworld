{
 "cells": [
  {
   "cell_type": "markdown",
   "id": "e9cdb987",
   "metadata": {},
   "source": [
    "# Setup of SageMaker Endpoint for DescriptiveWorld computer vision model\n",
    "\n",
    "Authored by Blair Jones, 2021.11.01\n",
    "\n",
    "Model built using yolov5\n",
    "\n",
    "Code inspired by AWS-provided example at: https://aws.amazon.com/blogs/machine-learning/speed-up-yolov4-inference-to-twice-as-fast-on-amazon-sagemaker/\n",
    "\n",
    "\n",
    "\n",
    "### Instructions\n",
    "\n",
    "Before running the notebook, install yolov5 in the Sagemaker root folder using the yolov5 instructions at:  https://github.com/ultralytics/yolov5"
   ]
  },
  {
   "cell_type": "markdown",
   "id": "b9a42e8c",
   "metadata": {},
   "source": [
    "### Setup"
   ]
  },
  {
   "cell_type": "code",
   "execution_count": 1,
   "id": "b342d4b5",
   "metadata": {},
   "outputs": [],
   "source": [
    "import numpy as np\n",
    "import time\n",
    "import json\n",
    "import requests\n",
    "import boto3\n",
    "import os\n",
    "import sagemaker\n",
    "from tqdm.notebook import tqdm"
   ]
  },
  {
   "cell_type": "code",
   "execution_count": 2,
   "id": "3c4886c8",
   "metadata": {},
   "outputs": [],
   "source": [
    "from sagemaker import get_execution_role\n",
    "from sagemaker.session import Session\n",
    "\n",
    "role = get_execution_role()\n",
    "sess = Session()\n",
    "region = sess.boto_region_name\n",
    "bucket = 's3://descriptiveworld-models/CV_Models/'"
   ]
  },
  {
   "cell_type": "code",
   "execution_count": 3,
   "id": "0248e2f8",
   "metadata": {},
   "outputs": [
    {
     "name": "stdout",
     "output_type": "stream",
     "text": [
      "us-west-2\n",
      "s3://descriptiveworld-models/CV_Models/\n"
     ]
    }
   ],
   "source": [
    "print(region)\n",
    "print(bucket)"
   ]
  },
  {
   "cell_type": "code",
   "execution_count": 4,
   "id": "c72bd87c",
   "metadata": {},
   "outputs": [],
   "source": [
    "# ensure that environment chosen for pytorch version >= 1.7 (as of 2021.11.01)"
   ]
  },
  {
   "cell_type": "code",
   "execution_count": 5,
   "id": "5027b040",
   "metadata": {},
   "outputs": [
    {
     "name": "stdout",
     "output_type": "stream",
     "text": [
      "1.7.1\n"
     ]
    }
   ],
   "source": [
    "import torch\n",
    "print(torch.__version__)"
   ]
  },
  {
   "cell_type": "code",
   "execution_count": 6,
   "id": "d98c82ce",
   "metadata": {},
   "outputs": [
    {
     "name": "stdout",
     "output_type": "stream",
     "text": [
      "3.6.13 | packaged by conda-forge | (default, Feb 19 2021, 05:36:01) \n",
      "[GCC 9.3.0]\n"
     ]
    }
   ],
   "source": [
    "import sys\n",
    "print(sys.version)"
   ]
  },
  {
   "cell_type": "markdown",
   "id": "b7377877",
   "metadata": {},
   "source": [
    "### Convert model to Torchscript\n",
    "\n",
    "Run \"aws configure\" at command line to setup aws CLI."
   ]
  },
  {
   "cell_type": "code",
   "execution_count": 8,
   "id": "dd6f987f",
   "metadata": {},
   "outputs": [
    {
     "name": "stdout",
     "output_type": "stream",
     "text": [
      "download: s3://descriptiveworld-models/CV_Models/df2_11_large_20211021/weights/best.pt to ../../yolov5/best.pt\n"
     ]
    }
   ],
   "source": [
    "!aws s3 cp s3://descriptiveworld-models/CV_Models/df2_11_large_20211021/weights/best.pt ../../yolov5/"
   ]
  },
  {
   "cell_type": "code",
   "execution_count": null,
   "id": "72857f8e",
   "metadata": {},
   "outputs": [],
   "source": [
    "%cd ../../yolov5\n",
    "# not necessary to convert to torchscript\n",
    "#!python ./bcj_export.py --weights ./best.pt"
   ]
  },
  {
   "cell_type": "code",
   "execution_count": 133,
   "id": "edf3bd3f",
   "metadata": {},
   "outputs": [],
   "source": [
    "!cp best.pt model.pt"
   ]
  },
  {
   "cell_type": "code",
   "execution_count": 13,
   "id": "780cece9",
   "metadata": {},
   "outputs": [],
   "source": [
    "#!mkdir ./model\n",
    "#!cp ./model.pt ./model/\n",
    "#!mkdir ./model/code"
   ]
  },
  {
   "cell_type": "code",
   "execution_count": 14,
   "id": "50b0f266",
   "metadata": {},
   "outputs": [],
   "source": [
    "!mkdir ./code"
   ]
  },
  {
   "cell_type": "code",
   "execution_count": 183,
   "id": "244addd4",
   "metadata": {},
   "outputs": [],
   "source": [
    "!cp ./utils/ -r ./code/utils/\n",
    "!cp ./models/ -r ./code/models/\n",
    "!cp ./data/ -r ./code/data/\n",
    "!cp ./requirements.txt ./code/\n",
    "!cp ./bcj_sm_ep_detect.py  ./code/"
   ]
  },
  {
   "cell_type": "markdown",
   "id": "fd562a28",
   "metadata": {},
   "source": [
    "#### save model archive to s3"
   ]
  },
  {
   "cell_type": "code",
   "execution_count": 184,
   "id": "b2dbabd2",
   "metadata": {},
   "outputs": [
    {
     "name": "stdout",
     "output_type": "stream",
     "text": [
      "./model.pt\n",
      "upload: ./model.tar.gz to s3://descriptiveworld-models/CV_Models/model.tar.gz\n"
     ]
    }
   ],
   "source": [
    "#!tar -czvf ./currentmodel.tar.gz ./current.torchscript.pt\n",
    "!tar -czvf ./model.tar.gz ./model.pt\n",
    "!aws s3 cp ./model.tar.gz s3://descriptiveworld-models/CV_Models/"
   ]
  },
  {
   "cell_type": "markdown",
   "id": "6642b0f1",
   "metadata": {},
   "source": [
    "### Create the model and endpoint"
   ]
  },
  {
   "cell_type": "code",
   "execution_count": 185,
   "id": "d08b27ed",
   "metadata": {},
   "outputs": [
    {
     "data": {
      "text/plain": [
       "'s3://sagemaker-us-west-2-769212126689/s3://descriptiveworld-models/CV_Models/model.tar.gz'"
      ]
     },
     "execution_count": 185,
     "metadata": {},
     "output_type": "execute_result"
    }
   ],
   "source": [
    "model_archive = './model.tar.gz'\n",
    "prefix = 's3://descriptiveworld-models/CV_Models'\n",
    "model_path = sess.upload_data(path=model_archive, key_prefix=prefix)\n",
    "model_path"
   ]
  },
  {
   "cell_type": "code",
   "execution_count": 186,
   "id": "eda1d973",
   "metadata": {},
   "outputs": [
    {
     "name": "stdout",
     "output_type": "stream",
     "text": [
      "CPU times: user 22 µs, sys: 3 µs, total: 25 µs\n",
      "Wall time: 30.3 µs\n"
     ]
    }
   ],
   "source": [
    "%%time\n",
    "framework_version = '1.7.1'\n",
    "py_version = 'py3'\n",
    "instance_type = 'ml.t2.medium'\n",
    "from sagemaker.pytorch.model import PyTorchModel\n",
    "from sagemaker.predictor import Predictor"
   ]
  },
  {
   "cell_type": "code",
   "execution_count": 187,
   "id": "9528cd61",
   "metadata": {},
   "outputs": [
    {
     "name": "stdout",
     "output_type": "stream",
     "text": [
      "---------!pytorch-inference-2021-11-09-19-52-33-817\n",
      "pytorch-inference-2021-11-09-19-52-34-097\n",
      "CPU times: user 6.78 s, sys: 709 ms, total: 7.49 s\n",
      "Wall time: 4min 40s\n"
     ]
    }
   ],
   "source": [
    "%%time\n",
    "# reference:  https://stackoverflow.com/questions/68150444/aws-sagemaker-fails-loading-pytorch-pth-weights\n",
    "# reference:  https://github.com/aws/sagemaker-python-sdk/blob/master/src/sagemaker/pytorch/model.py\n",
    "# reference:  https://github.com/aws/sagemaker-python-sdk/blob/master/src/sagemaker/model.py\n",
    "\n",
    "sm_model = PyTorchModel(model_data=model_path,\n",
    "                       framework_version=framework_version,\n",
    "                       role=role,\n",
    "                       sagemaker_session=sess,\n",
    "                       entry_point='bcj_sm_ep_detect.py',\n",
    "                       source_dir='code',\n",
    "                       py_version=py_version,\n",
    "                       env={\"COMPILEDMODEL\": 'False', 'MMS_MAX_RESPONSE_SIZE': '100000000', 'MMS_DEFAULT_RESPONSE_TIMEOUT': '500'})\n",
    "dw_predictor = sm_model.deploy(initial_instance_count=1, instance_type=instance_type)\n",
    "print(sm_model.name)\n",
    "print(dw_predictor.endpoint_name)"
   ]
  },
  {
   "cell_type": "markdown",
   "id": "11a02ebe",
   "metadata": {},
   "source": [
    "### Test Endpoint"
   ]
  },
  {
   "cell_type": "code",
   "execution_count": 188,
   "id": "bb9ee7da",
   "metadata": {},
   "outputs": [],
   "source": [
    "client = boto3.client('sagemaker-runtime', region_name=region)\n",
    "sample_img_url = \"https://media.gq.com/photos/60f9c697101cc04fad71e5cf/master/pass/BEST-BASICS-1.jpg\"\n",
    "body = requests.get(sample_img_url).content\n",
    "response = client.invoke_endpoint(EndpointName=dw_predictor.endpoint_name, Body=body, ContentType=content_type)\n",
    "pred_out = response['Body'].read().decode()"
   ]
  },
  {
   "cell_type": "code",
   "execution_count": 189,
   "id": "b528fc76",
   "metadata": {},
   "outputs": [
    {
     "name": "stdout",
     "output_type": "stream",
     "text": [
      "[\n",
      "  {\n",
      "    \"class_num\": 0,\n",
      "    \"class_name\": \"short sleeve top\",\n",
      "    \"bbox\": [\n",
      "      0.1708303540945053,\n",
      "      0.09795788675546646,\n",
      "      0.08408801257610321,\n",
      "      0.13775987923145294\n",
      "    ],\n",
      "    \"conf\": 0.25370076298713684\n",
      "  },\n",
      "  {\n",
      "    \"class_num\": 3,\n",
      "    \"class_name\": \"shorts\",\n",
      "    \"bbox\": [\n",
      "      0.04329350218176842,\n",
      "      0.2529821991920471,\n",
      "      0.07141232490539551,\n",
      "      0.12472016364336014\n",
      "    ],\n",
      "    \"conf\": 0.2839449644088745\n",
      "  },\n",
      "  {\n",
      "    \"class_num\": 1,\n",
      "    \"class_name\": \"trousers\",\n",
      "    \"bbox\": [\n",
      "      0.1281137764453888,\n",
      "      0.23411038517951965,\n",
      "      0.045749299228191376,\n",
      "      0.17297786474227905\n",
      "    ],\n",
      "    \"conf\": 0.30855464935302734\n",
      "  },\n",
      "  {\n",
      "    \"class_num\": 2,\n",
      "    \"class_name\": \"long sleeve top\",\n",
      "    \"bbox\": [\n",
      "      0.21237793564796448,\n",
      "      0.2471497654914856,\n",
      "      0.07431478798389435,\n",
      "      0.14363721013069153\n",
      "    ],\n",
      "    \"conf\": 0.42144688963890076\n",
      "  },\n",
      "  {\n",
      "    \"class_num\": 1,\n",
      "    \"class_name\": \"trousers\",\n",
      "    \"bbox\": [\n",
      "      0.29174095392227173,\n",
      "      0.23663637042045593,\n",
      "      0.04889746010303497,\n",
      "      0.15705642104148865\n",
      "    ],\n",
      "    \"conf\": 0.48048362135887146\n",
      "  },\n",
      "  {\n",
      "    \"class_num\": 2,\n",
      "    \"class_name\": \"long sleeve top\",\n",
      "    \"bbox\": [\n",
      "      0.06161016225814819,\n",
      "      0.10557500272989273,\n",
      "      0.08704441785812378,\n",
      "      0.1642114222049713\n",
      "    ],\n",
      "    \"conf\": 0.4944995045661926\n",
      "  }\n",
      "]\n"
     ]
    }
   ],
   "source": [
    "print(pred_out)"
   ]
  },
  {
   "cell_type": "markdown",
   "id": "065cde25",
   "metadata": {},
   "source": [
    "### Run Inference"
   ]
  },
  {
   "cell_type": "code",
   "execution_count": 100,
   "id": "e5e3b42a",
   "metadata": {},
   "outputs": [
    {
     "data": {
      "application/vnd.jupyter.widget-view+json": {
       "model_id": "a9914631bdff45059a9e8b4a9e6d0b5a",
       "version_major": 2,
       "version_minor": 0
      },
      "text/plain": [
       "  0%|          | 0/1000 [00:00<?, ?it/s]"
      ]
     },
     "metadata": {},
     "output_type": "display_data"
    },
    {
     "ename": "InternalFailure",
     "evalue": "An error occurred (InternalFailure) when calling the InvokeEndpoint operation (reached max retries: 4): An exception occurred while sending request to model. Please contact customer support regarding request ee0b7ab4-917f-40e6-b630-cf0e0d8f2c62.",
     "output_type": "error",
     "traceback": [
      "\u001b[0;31m---------------------------------------------------------------------------\u001b[0m",
      "\u001b[0;31mInternalFailure\u001b[0m                           Traceback (most recent call last)",
      "\u001b[0;32m<timed exec>\u001b[0m in \u001b[0;36m<module>\u001b[0;34m\u001b[0m\n",
      "\u001b[0;32m~/anaconda3/envs/pytorch_latest_p36/lib/python3.6/site-packages/botocore/client.py\u001b[0m in \u001b[0;36m_api_call\u001b[0;34m(self, *args, **kwargs)\u001b[0m\n\u001b[1;32m    386\u001b[0m                     \"%s() only accepts keyword arguments.\" % py_operation_name)\n\u001b[1;32m    387\u001b[0m             \u001b[0;31m# The \"self\" in this scope is referring to the BaseClient.\u001b[0m\u001b[0;34m\u001b[0m\u001b[0;34m\u001b[0m\u001b[0;34m\u001b[0m\u001b[0m\n\u001b[0;32m--> 388\u001b[0;31m             \u001b[0;32mreturn\u001b[0m \u001b[0mself\u001b[0m\u001b[0;34m.\u001b[0m\u001b[0m_make_api_call\u001b[0m\u001b[0;34m(\u001b[0m\u001b[0moperation_name\u001b[0m\u001b[0;34m,\u001b[0m \u001b[0mkwargs\u001b[0m\u001b[0;34m)\u001b[0m\u001b[0;34m\u001b[0m\u001b[0;34m\u001b[0m\u001b[0m\n\u001b[0m\u001b[1;32m    389\u001b[0m \u001b[0;34m\u001b[0m\u001b[0m\n\u001b[1;32m    390\u001b[0m         \u001b[0m_api_call\u001b[0m\u001b[0;34m.\u001b[0m\u001b[0m__name__\u001b[0m \u001b[0;34m=\u001b[0m \u001b[0mstr\u001b[0m\u001b[0;34m(\u001b[0m\u001b[0mpy_operation_name\u001b[0m\u001b[0;34m)\u001b[0m\u001b[0;34m\u001b[0m\u001b[0;34m\u001b[0m\u001b[0m\n",
      "\u001b[0;32m~/anaconda3/envs/pytorch_latest_p36/lib/python3.6/site-packages/botocore/client.py\u001b[0m in \u001b[0;36m_make_api_call\u001b[0;34m(self, operation_name, api_params)\u001b[0m\n\u001b[1;32m    706\u001b[0m             \u001b[0merror_code\u001b[0m \u001b[0;34m=\u001b[0m \u001b[0mparsed_response\u001b[0m\u001b[0;34m.\u001b[0m\u001b[0mget\u001b[0m\u001b[0;34m(\u001b[0m\u001b[0;34m\"Error\"\u001b[0m\u001b[0;34m,\u001b[0m \u001b[0;34m{\u001b[0m\u001b[0;34m}\u001b[0m\u001b[0;34m)\u001b[0m\u001b[0;34m.\u001b[0m\u001b[0mget\u001b[0m\u001b[0;34m(\u001b[0m\u001b[0;34m\"Code\"\u001b[0m\u001b[0;34m)\u001b[0m\u001b[0;34m\u001b[0m\u001b[0;34m\u001b[0m\u001b[0m\n\u001b[1;32m    707\u001b[0m             \u001b[0merror_class\u001b[0m \u001b[0;34m=\u001b[0m \u001b[0mself\u001b[0m\u001b[0;34m.\u001b[0m\u001b[0mexceptions\u001b[0m\u001b[0;34m.\u001b[0m\u001b[0mfrom_code\u001b[0m\u001b[0;34m(\u001b[0m\u001b[0merror_code\u001b[0m\u001b[0;34m)\u001b[0m\u001b[0;34m\u001b[0m\u001b[0;34m\u001b[0m\u001b[0m\n\u001b[0;32m--> 708\u001b[0;31m             \u001b[0;32mraise\u001b[0m \u001b[0merror_class\u001b[0m\u001b[0;34m(\u001b[0m\u001b[0mparsed_response\u001b[0m\u001b[0;34m,\u001b[0m \u001b[0moperation_name\u001b[0m\u001b[0;34m)\u001b[0m\u001b[0;34m\u001b[0m\u001b[0;34m\u001b[0m\u001b[0m\n\u001b[0m\u001b[1;32m    709\u001b[0m         \u001b[0;32melse\u001b[0m\u001b[0;34m:\u001b[0m\u001b[0;34m\u001b[0m\u001b[0;34m\u001b[0m\u001b[0m\n\u001b[1;32m    710\u001b[0m             \u001b[0;32mreturn\u001b[0m \u001b[0mparsed_response\u001b[0m\u001b[0;34m\u001b[0m\u001b[0;34m\u001b[0m\u001b[0m\n",
      "\u001b[0;31mInternalFailure\u001b[0m: An error occurred (InternalFailure) when calling the InvokeEndpoint operation (reached max retries: 4): An exception occurred while sending request to model. Please contact customer support regarding request ee0b7ab4-917f-40e6-b630-cf0e0d8f2c62."
     ]
    }
   ],
   "source": [
    "%%time\n",
    "iters = 1000\n",
    "warmup = 100\n",
    "client = boto3.client('sagemaker-runtime', region_name=region)\n",
    "\n",
    "content_type = 'application/x-image'\n",
    "\n",
    "sample_img_url = \"https://github.com/ultralytics/yolov5/raw/master/data/images/zidane.jpg\"\n",
    "body = requests.get(sample_img_url).content\n",
    "\n",
    "dw_perf = []\n",
    "  \n",
    "for i in tqdm(range(iters)):\n",
    "    t0 = time.time()\n",
    "    response = client.invoke_endpoint(EndpointName=dw_predictor.endpoint_name, Body=body, ContentType=content_type)\n",
    "    t1 = time.time()\n",
    "    #convert to millis\n",
    "    dw_elapsed = (t1-t0)*1000\n",
    "    \n",
    "    if warmup == 0:\n",
    "        dw_perf.append(uncompiled_elapsed)\n",
    "    else:\n",
    "        print(f'warmup ({i}, {iters}) : dw - {dw_elapsed} ms')\n",
    "        warmup = warmup - 1"
   ]
  },
  {
   "cell_type": "code",
   "execution_count": null,
   "id": "aad5f07d",
   "metadata": {},
   "outputs": [],
   "source": []
  }
 ],
 "metadata": {
  "kernelspec": {
   "display_name": "conda_pytorch_latest_p36",
   "language": "python",
   "name": "conda_pytorch_latest_p36"
  },
  "language_info": {
   "codemirror_mode": {
    "name": "ipython",
    "version": 3
   },
   "file_extension": ".py",
   "mimetype": "text/x-python",
   "name": "python",
   "nbconvert_exporter": "python",
   "pygments_lexer": "ipython3",
   "version": "3.6.13"
  }
 },
 "nbformat": 4,
 "nbformat_minor": 5
}
