{
 "cells": [
  {
   "cell_type": "markdown",
   "id": "5d74c4c6",
   "metadata": {},
   "source": [
    "# Setup of SageMaker Endpoint for DescriptiveWorld computer vision model\n",
    "\n",
    "### This version processes Garment, Fabric Pattern and Color\n",
    "\n",
    "Authored by Blair Jones, 2021.11.26\n",
    "\n",
    "Model built using yolov5\n",
    "\n",
    "Code inspired by AWS-provided example at: https://aws.amazon.com/blogs/machine-learning/speed-up-yolov4-inference-to-twice-as-fast-on-amazon-sagemaker/\n",
    "\n",
    "\n",
    "\n",
    "### Instructions\n",
    "\n",
    "Before running the notebook, install yolov5 in the Sagemaker root folder using the yolov5 instructions at:  https://github.com/ultralytics/yolov5\n",
    "\n",
    "and run \"aws configure\" at command line to setup aws CLI."
   ]
  },
  {
   "cell_type": "markdown",
   "id": "6271a67d",
   "metadata": {},
   "source": [
    "### Setup"
   ]
  },
  {
   "cell_type": "code",
   "execution_count": 1,
   "id": "bc908b65",
   "metadata": {},
   "outputs": [],
   "source": [
    "import numpy as np\n",
    "import time\n",
    "import json\n",
    "import requests\n",
    "import boto3\n",
    "import os\n",
    "import sagemaker\n",
    "from tqdm.auto import tqdm\n",
    "from PIL import Image\n",
    "import io\n",
    "\n",
    "from sagemaker.pytorch.model import PyTorchModel\n",
    "from sagemaker.predictor import Predictor"
   ]
  },
  {
   "cell_type": "code",
   "execution_count": 2,
   "id": "6da5a807",
   "metadata": {},
   "outputs": [],
   "source": [
    "from sagemaker import get_execution_role\n",
    "from sagemaker.session import Session\n",
    "\n",
    "role = get_execution_role()\n",
    "sess = Session()\n",
    "region = sess.boto_region_name\n",
    "bucket = 's3://descriptiveworld-models/CV_Models/'"
   ]
  },
  {
   "cell_type": "code",
   "execution_count": 3,
   "id": "c7019b3b",
   "metadata": {},
   "outputs": [
    {
     "name": "stdout",
     "output_type": "stream",
     "text": [
      "us-west-2\n",
      "s3://descriptiveworld-models/CV_Models/\n"
     ]
    }
   ],
   "source": [
    "print(region)\n",
    "print(bucket)"
   ]
  },
  {
   "cell_type": "code",
   "execution_count": 4,
   "id": "7971f24a",
   "metadata": {},
   "outputs": [],
   "source": [
    "# ensure that environment chosen for pytorch version >= 1.7 (as of 2021.11.01)"
   ]
  },
  {
   "cell_type": "code",
   "execution_count": 5,
   "id": "0756c24e",
   "metadata": {},
   "outputs": [
    {
     "name": "stdout",
     "output_type": "stream",
     "text": [
      "1.7.1\n"
     ]
    }
   ],
   "source": [
    "import torch\n",
    "print(torch.__version__)"
   ]
  },
  {
   "cell_type": "code",
   "execution_count": 6,
   "id": "372b3aaa",
   "metadata": {},
   "outputs": [
    {
     "name": "stdout",
     "output_type": "stream",
     "text": [
      "3.6.13 | packaged by conda-forge | (default, Feb 19 2021, 05:36:01) \n",
      "[GCC 9.3.0]\n"
     ]
    }
   ],
   "source": [
    "import sys\n",
    "print(sys.version)"
   ]
  },
  {
   "cell_type": "markdown",
   "id": "5ab8fb23",
   "metadata": {},
   "source": [
    "### Prepare model and code files for packaging"
   ]
  },
  {
   "cell_type": "code",
   "execution_count": 7,
   "id": "8ebcf7d4",
   "metadata": {},
   "outputs": [
    {
     "name": "stdout",
     "output_type": "stream",
     "text": [
      "download: s3://descriptiveworld-models/CV_Models/df2_11_large_20211021/weights/best.pt to ../../yolov5/best.pt\n",
      "download: s3://descriptiveworld-models/CV_Models/fabric1.pt to ../../yolov5/fabric1.pt\n"
     ]
    }
   ],
   "source": [
    "!aws s3 cp s3://descriptiveworld-models/CV_Models/df2_11_large_20211021/weights/best.pt ../../yolov5/\n",
    "!aws s3 cp s3://descriptiveworld-models/CV_Models/fabric1.pt ../../yolov5/"
   ]
  },
  {
   "cell_type": "code",
   "execution_count": 8,
   "id": "2f903641",
   "metadata": {},
   "outputs": [
    {
     "name": "stdout",
     "output_type": "stream",
     "text": [
      "/home/ec2-user/SageMaker/yolov5\n"
     ]
    }
   ],
   "source": [
    "%cd ~/SageMaker/yolov5/"
   ]
  },
  {
   "cell_type": "code",
   "execution_count": 9,
   "id": "47bf5aa5",
   "metadata": {},
   "outputs": [
    {
     "name": "stdout",
     "output_type": "stream",
     "text": [
      "bcj_export.py           Dockerfile                           rename issue.pt\n",
      "bcj_sm_ep_detect.py     dw_endpoint_garment_fabric_color.py  \u001b[0m\u001b[01;32mrequirements.txt\u001b[0m*\n",
      "best.pt                 export.py                            \u001b[01;34mruns\u001b[0m/\n",
      "blank.py                fabric1.pt                           \u001b[01;34ms3:\u001b[0m/\n",
      "\u001b[01;34mcode\u001b[0m/                   hubconf.py                           setup.cfg\n",
      "colorthief.py           LICENSE                              train.py\n",
      "CONTRIBUTING.md         model.pt                             tutorial.ipynb\n",
      "\u001b[01;31mcurrentmodel.tar.gz\u001b[0m     \u001b[01;34mmodels\u001b[0m/                              \u001b[01;34mutils\u001b[0m/\n",
      "current.torchscript.pt  \u001b[01;31mmodel.tar.gz\u001b[0m                         val.py\n",
      "\u001b[01;34mdata\u001b[0m/                   \u001b[01;34m__pycache__\u001b[0m/                         webcolors.py\n",
      "detect.py               README.md                            \u001b[01;34myolov5\u001b[0m/\n"
     ]
    }
   ],
   "source": [
    "ls"
   ]
  },
  {
   "cell_type": "code",
   "execution_count": 10,
   "id": "a0471851",
   "metadata": {},
   "outputs": [],
   "source": [
    "# it is not necessary to convert to torchscript : this was done initially based on vague webpage reference\n",
    "#!python ./bcj_export.py --weights ./best.pt"
   ]
  },
  {
   "cell_type": "code",
   "execution_count": 11,
   "id": "0433d144",
   "metadata": {},
   "outputs": [],
   "source": [
    "!cp best.pt model.pt"
   ]
  },
  {
   "cell_type": "code",
   "execution_count": 12,
   "id": "fe892f55",
   "metadata": {},
   "outputs": [
    {
     "name": "stdout",
     "output_type": "stream",
     "text": [
      "mkdir: cannot create directory ‘./code’: File exists\n"
     ]
    }
   ],
   "source": [
    "!mkdir ./code"
   ]
  },
  {
   "cell_type": "markdown",
   "id": "4f8101f2",
   "metadata": {},
   "source": [
    "## Run everything below this line every time the yolov5 source code changes\n",
    "<div style='color:red'> Run everything below this line every time the yolov5 source code changes </div>"
   ]
  },
  {
   "cell_type": "code",
   "execution_count": 13,
   "id": "12c79130",
   "metadata": {},
   "outputs": [],
   "source": [
    "!cp ./utils/ -r ./code/utils/\n",
    "!cp ./models/ -r ./code/models/\n",
    "!cp ./data/ -r ./code/data/\n",
    "!cp ./requirements.txt ./code/"
   ]
  },
  {
   "cell_type": "markdown",
   "id": "dfdbfaf9",
   "metadata": {},
   "source": [
    "## Run everything below this line every time the Endpoint source code changes\n",
    "<div style='color:red'> \n",
    "    <p>Run everything below this line every time the Endpoint source code changes </p>\n",
    "    <p>Before redeploying the endpoint, use the Sagemaker console to delete:</p>\n",
    "        \n",
    "        - Endpoint\n",
    "        \n",
    "        - Endpoint Configuration\n",
    "        \n",
    "        - Model\n",
    "        \n"
   ]
  },
  {
   "cell_type": "code",
   "execution_count": 32,
   "id": "b081a2e7",
   "metadata": {},
   "outputs": [],
   "source": [
    "# the primary version of the code is in the github repo location\n",
    "# ensure that the latest copy of that file has been copied to the main folder under yolov5\n",
    "!cp ../descriptiveworld/CV/dw_endpoint_garment_fabric_color.py  .\n",
    "!cp ./dw_endpoint_garment_fabric_color.py  ./code/\n",
    "!cp ./fabric1.pt  ./code/"
   ]
  },
  {
   "cell_type": "code",
   "execution_count": 39,
   "id": "1c4d364f",
   "metadata": {},
   "outputs": [
    {
     "name": "stdout",
     "output_type": "stream",
     "text": [
      "./model.pt\n",
      "./fabric1.pt\n",
      "upload: ./model.tar.gz to s3://descriptiveworld-models/CV_Models/model.tar.gz\n"
     ]
    }
   ],
   "source": [
    "# saves model archive to S3\n",
    "!tar -czvf ./model.tar.gz ./model.pt ./fabric1.pt\n",
    "!aws s3 cp ./model.tar.gz s3://descriptiveworld-models/CV_Models/"
   ]
  },
  {
   "cell_type": "markdown",
   "id": "3c5cf1d3",
   "metadata": {},
   "source": [
    "### Create the model and endpoint"
   ]
  },
  {
   "cell_type": "code",
   "execution_count": 40,
   "id": "65e4a2a4",
   "metadata": {},
   "outputs": [
    {
     "data": {
      "text/plain": [
       "'s3://sagemaker-us-west-2-769212126689/s3://descriptiveworld-models/CV_Models/model.tar.gz'"
      ]
     },
     "execution_count": 40,
     "metadata": {},
     "output_type": "execute_result"
    }
   ],
   "source": [
    "model_archive = './model.tar.gz'\n",
    "prefix = 's3://descriptiveworld-models/CV_Models'\n",
    "model_path = sess.upload_data(path=model_archive, key_prefix=prefix)\n",
    "model_path"
   ]
  },
  {
   "cell_type": "markdown",
   "id": "5b5d0037",
   "metadata": {},
   "source": [
    "### Create Model on SageMaker Model with DescriptiveWorld artifacts"
   ]
  },
  {
   "cell_type": "code",
   "execution_count": 41,
   "id": "238bef10",
   "metadata": {},
   "outputs": [
    {
     "name": "stdout",
     "output_type": "stream",
     "text": [
      "CPU times: user 95 µs, sys: 0 ns, total: 95 µs\n",
      "Wall time: 109 µs\n"
     ]
    }
   ],
   "source": [
    "%%time\n",
    "# reference:  https://stackoverflow.com/questions/68150444/aws-sagemaker-fails-loading-pytorch-pth-weights\n",
    "# reference:  https://github.com/aws/sagemaker-python-sdk/blob/master/src/sagemaker/pytorch/model.py\n",
    "# reference:  https://github.com/aws/sagemaker-python-sdk/blob/master/src/sagemaker/model.py\n",
    "\n",
    "framework_version = '1.7.1'\n",
    "py_version = 'py3'\n",
    "\n",
    "sm_model = PyTorchModel(model_data=model_path,\n",
    "                       framework_version=framework_version,\n",
    "                       role=role,\n",
    "                       sagemaker_session=sess,\n",
    "                       entry_point='dw_endpoint_garment_fabric_color.py',\n",
    "                       source_dir='code',\n",
    "                       py_version=py_version,\n",
    "                       env={\"COMPILEDMODEL\": 'False', 'MMS_MAX_RESPONSE_SIZE': '100000000', 'MMS_DEFAULT_RESPONSE_TIMEOUT': '500'})"
   ]
  },
  {
   "cell_type": "markdown",
   "id": "c105525d",
   "metadata": {},
   "source": [
    "### Deploy / Update Endpoint (will create a SageMaker model at same time)\n",
    "\n",
    "As of 17 Nov 2021, the update method does not overwrite the existing endpoint, so recommended usage is to delete the existing endpoint and deploy a new one\n",
    "\n",
    "There are three things that need to be updated/deleted:\n",
    "\n",
    "* SageMaker Inference Model (if the endpoint code, model or code dependencies have changed)\n",
    "* Endpoint Configuration (otherwise the old version will continue to reference old code/model artifacts)\n",
    "* Endpoint (which points to the other 2 items)"
   ]
  },
  {
   "cell_type": "code",
   "execution_count": 42,
   "id": "bd7689b9",
   "metadata": {},
   "outputs": [
    {
     "name": "stdout",
     "output_type": "stream",
     "text": [
      "--------------!\n",
      "pytorch-inference-2021-11-26-14-35-12-422\n",
      "descriptiveworld-Full-SageMaker-EndPoint\n",
      "CPU times: user 9.37 s, sys: 990 ms, total: 10.4 s\n",
      "Wall time: 7min 12s\n"
     ]
    }
   ],
   "source": [
    "%%time\n",
    "# approx runtime:  7-13 minutes\n",
    "instance_type = 'ml.t2.medium'\n",
    "endpoint_name = 'descriptiveworld-Full-SageMaker-EndPoint'\n",
    "\n",
    "# initial deployment of endpoint\n",
    "dw_predictor = sm_model.deploy(initial_instance_count=1, \n",
    "                               instance_type=instance_type,\n",
    "                               endpoint_name=endpoint_name\n",
    "                                )\n",
    "\n",
    "# update an existing endpoint\n",
    "#sagemaker_session = empty_sagemaker_session()\n",
    "# create predictor object\n",
    "#dw_predictor = Predictor(endpoint_name=endpoint_name, sagemaker_session=sagemaker_session)\n",
    "\n",
    "# update endpoint\n",
    "#predictor.update_endpoint(\n",
    "#    model_name=sm_model.name,\n",
    "#    instance_type=instance_type, \n",
    "#    initial_instance_count=1\n",
    "#)\n",
    "\n",
    "\n",
    "print()\n",
    "print(sm_model.name)\n",
    "print(dw_predictor.endpoint_name)"
   ]
  },
  {
   "cell_type": "markdown",
   "id": "ab99ca15",
   "metadata": {},
   "source": [
    "### Test Endpoint"
   ]
  },
  {
   "cell_type": "code",
   "execution_count": 43,
   "id": "ae21fda6",
   "metadata": {},
   "outputs": [
    {
     "name": "stdout",
     "output_type": "stream",
     "text": [
      "CPU times: user 33.5 ms, sys: 2.9 ms, total: 36.4 ms\n",
      "Wall time: 7.15 s\n"
     ]
    }
   ],
   "source": [
    "%%time\n",
    "client = boto3.client('sagemaker-runtime', region_name=region)\n",
    "#sample_img_url = \"https://d2ph5fj80uercy.cloudfront.net/04/cat1600.jpg\"\n",
    "#sample_img_url = \"https://media.gq.com/photos/60f9c697101cc04fad71e5cf/master/pass/BEST-BASICS-1.jpg\" #TOO LARGE\n",
    "sample_img_url =  \"https://c.pxhere.com/photos/9e/86/blue_vest_fashion_male_shirt-1059471.jpg!s\"\n",
    "content_type='JPEG'\n",
    "image_data = requests.get(sample_img_url).content\n",
    "\n",
    "# resize image to max 640x640 px - otherwise image size will cause fatal error for JSON output size\n",
    "im_resize = Image.open(io.BytesIO(image_data))\n",
    "im_resize.thumbnail((640,640))\n",
    "buf = io.BytesIO()\n",
    "im_resize.save(buf, format='JPEG')\n",
    "byte_im = buf.getvalue()\n",
    "\n",
    "response = client.invoke_endpoint(EndpointName=dw_predictor.endpoint_name, Body=byte_im, ContentType=content_type)\n",
    "pred_out = response['Body'].read().decode()"
   ]
  },
  {
   "cell_type": "code",
   "execution_count": 44,
   "id": "353acc64",
   "metadata": {},
   "outputs": [
    {
     "name": "stdout",
     "output_type": "stream",
     "text": [
      "length = 605 \n",
      "\n",
      "{\"source-ref\": \"TBD\", \"num-detected-objects\": 1, \"bounding-box-attribute-name\": {\"image_size\": [{\"width\": 255, \"height\": 340, \"depth\": 3}], \"annotations\": [{\"class_id\": 2, \"left\": 18, \"top\": 14, \"width\": 210, \"height\": 294}], \"fabric_predictions\": [\"plaid_fabric\"], \"color_predictions\": [\"silver\"]}, \"bounding-box-attribute-name-metadata\": {\"objects\": [{\"confidence\": 0.45}], \"class-map\": {\"2\": \"long sleeve top\"}, \"type\": \"descriptiveworld/object-detection\", \"human-annotated\": \"no\", \"creation-date\": \"2021-11-26 14:44:28.309038\", \"job-name\": \"descriptive_world_identify_garments\"}, \"original-image\": \"\"}\n"
     ]
    }
   ],
   "source": [
    "print('length =', len(pred_out), '\\n')\n",
    "print(pred_out)"
   ]
  },
  {
   "cell_type": "markdown",
   "id": "352e4c72",
   "metadata": {},
   "source": [
    "### Run Inference"
   ]
  },
  {
   "cell_type": "code",
   "execution_count": null,
   "id": "88bf1175",
   "metadata": {},
   "outputs": [],
   "source": [
    "%%time\n",
    "iters = 1000\n",
    "warmup = 100\n",
    "client = boto3.client('sagemaker-runtime', region_name=region)\n",
    "\n",
    "content_type = 'application/x-image'\n",
    "\n",
    "sample_img_url = \"https://github.com/ultralytics/yolov5/raw/master/data/images/zidane.jpg\"\n",
    "body = requests.get(sample_img_url).content\n",
    "\n",
    "dw_perf = []\n",
    "  \n",
    "for i in tqdm(range(iters)):\n",
    "    t0 = time.time()\n",
    "    response = client.invoke_endpoint(EndpointName=dw_predictor.endpoint_name, Body=body, ContentType=content_type)\n",
    "    t1 = time.time()\n",
    "    #convert to millis\n",
    "    dw_elapsed = (t1-t0)*1000\n",
    "    \n",
    "    if warmup == 0:\n",
    "        dw_perf.append(uncompiled_elapsed)\n",
    "    else:\n",
    "        print(f'warmup ({i}, {iters}) : dw - {dw_elapsed} ms')\n",
    "        warmup = warmup - 1"
   ]
  },
  {
   "cell_type": "code",
   "execution_count": null,
   "id": "6761d2fc",
   "metadata": {},
   "outputs": [],
   "source": []
  }
 ],
 "metadata": {
  "kernelspec": {
   "display_name": "conda_pytorch_latest_p36",
   "language": "python",
   "name": "conda_pytorch_latest_p36"
  },
  "language_info": {
   "codemirror_mode": {
    "name": "ipython",
    "version": 3
   },
   "file_extension": ".py",
   "mimetype": "text/x-python",
   "name": "python",
   "nbconvert_exporter": "python",
   "pygments_lexer": "ipython3",
   "version": "3.6.13"
  }
 },
 "nbformat": 4,
 "nbformat_minor": 5
}
