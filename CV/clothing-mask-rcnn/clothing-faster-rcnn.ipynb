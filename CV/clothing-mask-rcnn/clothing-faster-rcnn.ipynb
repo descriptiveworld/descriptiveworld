{
 "cells": [
  {
   "cell_type": "code",
   "execution_count": 1,
   "id": "c1be43e2",
   "metadata": {},
   "outputs": [],
   "source": [
    "# setup variables\n",
    "aws_region = 'us-west-2' # aws-region-code e.g. us-east-1\n",
    "s3_bucket = 'descriptiveworld-datasets' # your-s3-bucket-name\n",
    "    "
   ]
  },
  {
   "cell_type": "code",
   "execution_count": 1,
   "id": "bc64be8d",
   "metadata": {},
   "outputs": [
    {
     "name": "stdout",
     "output_type": "stream",
     "text": [
      "/home/ec2-user/SageMaker/descriptiveworld/CV/clothing-mask-rcnn\n"
     ]
    }
   ],
   "source": [
    "!pwd\n",
    "\n"
   ]
  },
  {
   "cell_type": "code",
   "execution_count": null,
   "id": "3eb6c299",
   "metadata": {},
   "outputs": [],
   "source": [
    "# DeepFashion2 Classes (category_id)\n",
    "# 1 represents short sleeve top\n",
    "# 2 represents long sleeve top\n",
    "# 3 represents short sleeve outwear\n",
    "# 4 represents long sleeve outwear\n",
    "# 5 represents vest\n",
    "# 6 represents sling\n",
    "# 7 represents shorts\n",
    "# 8 represents trousers\n",
    "# 9 represents skirt\n",
    "# 10 represents short sleeve dress\n",
    "# 11 represents long sleeve dress\n",
    "# 12 represents vest dress\n",
    "# 13 represents sling dress\n"
   ]
  },
  {
   "cell_type": "code",
   "execution_count": null,
   "id": "1b79e810",
   "metadata": {},
   "outputs": [],
   "source": []
  }
 ],
 "metadata": {
  "kernelspec": {
   "display_name": "conda_tensorflow2_p36",
   "language": "python",
   "name": "conda_tensorflow2_p36"
  },
  "language_info": {
   "codemirror_mode": {
    "name": "ipython",
    "version": 3
   },
   "file_extension": ".py",
   "mimetype": "text/x-python",
   "name": "python",
   "nbconvert_exporter": "python",
   "pygments_lexer": "ipython3",
   "version": "3.6.13"
  }
 },
 "nbformat": 4,
 "nbformat_minor": 5
}
