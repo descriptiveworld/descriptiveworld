{
 "cells": [
  {
   "cell_type": "code",
   "execution_count": 1,
   "metadata": {
    "ExecuteTime": {
     "end_time": "2021-09-25T03:57:11.293296Z",
     "start_time": "2021-09-25T03:57:11.210794Z"
    }
   },
   "outputs": [],
   "source": [
    "import os, json\n",
    "import numpy as np\n",
    "import pandas as pd"
   ]
  },
  {
   "cell_type": "code",
   "execution_count": 2,
   "metadata": {
    "ExecuteTime": {
     "end_time": "2021-09-25T03:57:23.514127Z",
     "start_time": "2021-09-25T03:57:23.511717Z"
    }
   },
   "outputs": [],
   "source": [
    "os.chdir('./train/annos/')"
   ]
  },
  {
   "cell_type": "code",
   "execution_count": 3,
   "metadata": {
    "ExecuteTime": {
     "end_time": "2021-09-25T03:57:25.055505Z",
     "start_time": "2021-09-25T03:57:25.052247Z"
    }
   },
   "outputs": [],
   "source": [
    "path = os.getcwd()"
   ]
  },
  {
   "cell_type": "code",
   "execution_count": 4,
   "metadata": {
    "ExecuteTime": {
     "end_time": "2021-09-25T03:57:26.779225Z",
     "start_time": "2021-09-25T03:57:26.771016Z"
    }
   },
   "outputs": [
    {
     "data": {
      "text/plain": [
       "'/home/jh/FileDrive/Documents/School_Courses/UC_Berkeley/Capstone/Deep_Fashion_2/train/annos'"
      ]
     },
     "execution_count": 4,
     "metadata": {},
     "output_type": "execute_result"
    }
   ],
   "source": [
    "path"
   ]
  },
  {
   "cell_type": "code",
   "execution_count": 5,
   "metadata": {
    "ExecuteTime": {
     "end_time": "2021-09-25T03:57:31.163139Z",
     "start_time": "2021-09-25T03:57:31.109148Z"
    }
   },
   "outputs": [],
   "source": [
    "file_names = os.listdir()"
   ]
  },
  {
   "cell_type": "code",
   "execution_count": 6,
   "metadata": {
    "ExecuteTime": {
     "end_time": "2021-09-25T03:57:34.487989Z",
     "start_time": "2021-09-25T03:57:34.485392Z"
    }
   },
   "outputs": [
    {
     "data": {
      "text/plain": [
       "191953"
      ]
     },
     "execution_count": 6,
     "metadata": {},
     "output_type": "execute_result"
    }
   ],
   "source": [
    "len(file_names)"
   ]
  },
  {
   "cell_type": "code",
   "execution_count": 7,
   "metadata": {
    "ExecuteTime": {
     "end_time": "2021-09-25T03:57:39.196380Z",
     "start_time": "2021-09-25T03:57:39.159552Z"
    }
   },
   "outputs": [
    {
     "data": {
      "text/plain": [
       "['000001.json', '000002.json', '000003.json', '000004.json', '000005.json']"
      ]
     },
     "execution_count": 7,
     "metadata": {},
     "output_type": "execute_result"
    }
   ],
   "source": [
    "file_names.sort()\n",
    "file_names[:5]"
   ]
  },
  {
   "cell_type": "code",
   "execution_count": 8,
   "metadata": {
    "ExecuteTime": {
     "end_time": "2021-09-25T04:37:54.038196Z",
     "start_time": "2021-09-25T03:57:47.511240Z"
    }
   },
   "outputs": [],
   "source": [
    "dfs = [] # an empty list to store the data frames\n",
    "for file in file_names:\n",
    "    data = pd.read_json(path + \"/\" + file, lines=True) # read data frame from json file\n",
    "    dfs.append(data) # append the data frame to the list\n",
    "\n",
    "temp = pd.concat(dfs, ignore_index=True) # concatenate all the data frames in the list."
   ]
  },
  {
   "cell_type": "code",
   "execution_count": 9,
   "metadata": {
    "ExecuteTime": {
     "end_time": "2021-09-25T04:49:24.654132Z",
     "start_time": "2021-09-25T04:49:21.049877Z"
    }
   },
   "outputs": [],
   "source": [
    "# Save the merged dataframe as one file for easier access\n",
    "temp.to_json(\"/home/jh/FileDrive/Documents/School_Courses/UC_Berkeley/Capstone/Deep_Fashion_2/train.json\")"
   ]
  }
 ],
 "metadata": {
  "kernelspec": {
   "display_name": "Python 3",
   "language": "python",
   "name": "python3"
  },
  "language_info": {
   "codemirror_mode": {
    "name": "ipython",
    "version": 3
   },
   "file_extension": ".py",
   "mimetype": "text/x-python",
   "name": "python",
   "nbconvert_exporter": "python",
   "pygments_lexer": "ipython3",
   "version": "3.8.3"
  },
  "varInspector": {
   "cols": {
    "lenName": 16,
    "lenType": 16,
    "lenVar": 40
   },
   "kernels_config": {
    "python": {
     "delete_cmd_postfix": "",
     "delete_cmd_prefix": "del ",
     "library": "var_list.py",
     "varRefreshCmd": "print(var_dic_list())"
    },
    "r": {
     "delete_cmd_postfix": ") ",
     "delete_cmd_prefix": "rm(",
     "library": "var_list.r",
     "varRefreshCmd": "cat(var_dic_list()) "
    }
   },
   "types_to_exclude": [
    "module",
    "function",
    "builtin_function_or_method",
    "instance",
    "_Feature"
   ],
   "window_display": false
  }
 },
 "nbformat": 4,
 "nbformat_minor": 4
}
