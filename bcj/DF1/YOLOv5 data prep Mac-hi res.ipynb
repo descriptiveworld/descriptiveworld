{
 "cells": [
  {
   "cell_type": "code",
   "execution_count": 1,
   "id": "ordered-denver",
   "metadata": {},
   "outputs": [],
   "source": [
    "import gzip\n",
    "import zipfile\n",
    "import pandas as pd\n",
    "import numpy as np\n",
    "import matplotlib.pyplot as plt\n",
    "import cv2\n",
    "from PIL import Image\n",
    "import os\n",
    "import shutil\n",
    "import io"
   ]
  },
  {
   "cell_type": "markdown",
   "id": "brave-warrior",
   "metadata": {},
   "source": [
    "# Inspect full image archive without extracting all files"
   ]
  },
  {
   "cell_type": "code",
   "execution_count": 2,
   "id": "voluntary-military",
   "metadata": {},
   "outputs": [],
   "source": [
    "zipf = zipfile.ZipFile('Img/img_highres.zip') # not using high-res images to simplify data wrangling"
   ]
  },
  {
   "cell_type": "code",
   "execution_count": 3,
   "id": "nutritional-rebound",
   "metadata": {},
   "outputs": [],
   "source": [
    "filenames = zipf.namelist()\n",
    "df = pd.DataFrame([x.split('/') for x in filenames[:]], columns=['root_path', 'product_name', 'filename'])\n",
    "df['path'] = filenames"
   ]
  },
  {
   "cell_type": "code",
   "execution_count": 4,
   "id": "unsigned-sheffield",
   "metadata": {},
   "outputs": [
    {
     "name": "stdout",
     "output_type": "stream",
     "text": [
      "289212\n"
     ]
    },
    {
     "data": {
      "text/html": [
       "<div>\n",
       "<style scoped>\n",
       "    .dataframe tbody tr th:only-of-type {\n",
       "        vertical-align: middle;\n",
       "    }\n",
       "\n",
       "    .dataframe tbody tr th {\n",
       "        vertical-align: top;\n",
       "    }\n",
       "\n",
       "    .dataframe thead th {\n",
       "        text-align: right;\n",
       "    }\n",
       "</style>\n",
       "<table border=\"1\" class=\"dataframe\">\n",
       "  <thead>\n",
       "    <tr style=\"text-align: right;\">\n",
       "      <th></th>\n",
       "      <th>index</th>\n",
       "      <th>root_path</th>\n",
       "      <th>product_name</th>\n",
       "      <th>filename</th>\n",
       "      <th>path</th>\n",
       "    </tr>\n",
       "  </thead>\n",
       "  <tbody>\n",
       "    <tr>\n",
       "      <th>250974</th>\n",
       "      <td>255901</td>\n",
       "      <td>img_highres</td>\n",
       "      <td>Striped_Shaggy_Knit_Sweater</td>\n",
       "      <td>img_00000014.jpg</td>\n",
       "      <td>img_highres/Striped_Shaggy_Knit_Sweater/img_00...</td>\n",
       "    </tr>\n",
       "    <tr>\n",
       "      <th>122107</th>\n",
       "      <td>124372</td>\n",
       "      <td>img_highres</td>\n",
       "      <td>Floral_Lace_Kimono</td>\n",
       "      <td>img_00000025.jpg</td>\n",
       "      <td>img_highres/Floral_Lace_Kimono/img_00000025.jpg</td>\n",
       "    </tr>\n",
       "    <tr>\n",
       "      <th>112589</th>\n",
       "      <td>114694</td>\n",
       "      <td>img_highres</td>\n",
       "      <td>Faux_Leather_Skater_Skirt</td>\n",
       "      <td>img_00000072.jpg</td>\n",
       "      <td>img_highres/Faux_Leather_Skater_Skirt/img_0000...</td>\n",
       "    </tr>\n",
       "    <tr>\n",
       "      <th>283699</th>\n",
       "      <td>289229</td>\n",
       "      <td>img_highres</td>\n",
       "      <td>Windowpane_Print_Blouse</td>\n",
       "      <td>img_00000016.jpg</td>\n",
       "      <td>img_highres/Windowpane_Print_Blouse/img_000000...</td>\n",
       "    </tr>\n",
       "    <tr>\n",
       "      <th>128930</th>\n",
       "      <td>131312</td>\n",
       "      <td>img_highres</td>\n",
       "      <td>Flounced_Sateen_Romper</td>\n",
       "      <td>img_00000022.jpg</td>\n",
       "      <td>img_highres/Flounced_Sateen_Romper/img_0000002...</td>\n",
       "    </tr>\n",
       "    <tr>\n",
       "      <th>44791</th>\n",
       "      <td>45633</td>\n",
       "      <td>img_highres</td>\n",
       "      <td>Chiffon-Paneled_High-Slit_Top</td>\n",
       "      <td>img_00000006.jpg</td>\n",
       "      <td>img_highres/Chiffon-Paneled_High-Slit_Top/img_...</td>\n",
       "    </tr>\n",
       "    <tr>\n",
       "      <th>222682</th>\n",
       "      <td>227046</td>\n",
       "      <td>img_highres</td>\n",
       "      <td>Scoop_Back_Skater_Dress</td>\n",
       "      <td>img_00000011.jpg</td>\n",
       "      <td>img_highres/Scoop_Back_Skater_Dress/img_000000...</td>\n",
       "    </tr>\n",
       "    <tr>\n",
       "      <th>184131</th>\n",
       "      <td>187709</td>\n",
       "      <td>img_highres</td>\n",
       "      <td>Mixed_Print_Maxi_Dress</td>\n",
       "      <td>img_00000003.jpg</td>\n",
       "      <td>img_highres/Mixed_Print_Maxi_Dress/img_0000000...</td>\n",
       "    </tr>\n",
       "    <tr>\n",
       "      <th>43413</th>\n",
       "      <td>44227</td>\n",
       "      <td>img_highres</td>\n",
       "      <td>Chenille_Embroidered_Maxi_Dress</td>\n",
       "      <td>img_00000030.jpg</td>\n",
       "      <td>img_highres/Chenille_Embroidered_Maxi_Dress/im...</td>\n",
       "    </tr>\n",
       "    <tr>\n",
       "      <th>9703</th>\n",
       "      <td>9924</td>\n",
       "      <td>img_highres</td>\n",
       "      <td>Acid_Wash_-_Skinny_Jeans</td>\n",
       "      <td>img_00000055.jpg</td>\n",
       "      <td>img_highres/Acid_Wash_-_Skinny_Jeans/img_00000...</td>\n",
       "    </tr>\n",
       "  </tbody>\n",
       "</table>\n",
       "</div>"
      ],
      "text/plain": [
       "         index    root_path                     product_name  \\\n",
       "250974  255901  img_highres      Striped_Shaggy_Knit_Sweater   \n",
       "122107  124372  img_highres               Floral_Lace_Kimono   \n",
       "112589  114694  img_highres        Faux_Leather_Skater_Skirt   \n",
       "283699  289229  img_highres          Windowpane_Print_Blouse   \n",
       "128930  131312  img_highres           Flounced_Sateen_Romper   \n",
       "44791    45633  img_highres    Chiffon-Paneled_High-Slit_Top   \n",
       "222682  227046  img_highres          Scoop_Back_Skater_Dress   \n",
       "184131  187709  img_highres           Mixed_Print_Maxi_Dress   \n",
       "43413    44227  img_highres  Chenille_Embroidered_Maxi_Dress   \n",
       "9703      9924  img_highres         Acid_Wash_-_Skinny_Jeans   \n",
       "\n",
       "                filename                                               path  \n",
       "250974  img_00000014.jpg  img_highres/Striped_Shaggy_Knit_Sweater/img_00...  \n",
       "122107  img_00000025.jpg    img_highres/Floral_Lace_Kimono/img_00000025.jpg  \n",
       "112589  img_00000072.jpg  img_highres/Faux_Leather_Skater_Skirt/img_0000...  \n",
       "283699  img_00000016.jpg  img_highres/Windowpane_Print_Blouse/img_000000...  \n",
       "128930  img_00000022.jpg  img_highres/Flounced_Sateen_Romper/img_0000002...  \n",
       "44791   img_00000006.jpg  img_highres/Chiffon-Paneled_High-Slit_Top/img_...  \n",
       "222682  img_00000011.jpg  img_highres/Scoop_Back_Skater_Dress/img_000000...  \n",
       "184131  img_00000003.jpg  img_highres/Mixed_Print_Maxi_Dress/img_0000000...  \n",
       "43413   img_00000030.jpg  img_highres/Chenille_Embroidered_Maxi_Dress/im...  \n",
       "9703    img_00000055.jpg  img_highres/Acid_Wash_-_Skinny_Jeans/img_00000...  "
      ]
     },
     "execution_count": 4,
     "metadata": {},
     "output_type": "execute_result"
    }
   ],
   "source": [
    "df = df.dropna()\n",
    "df = df[df.filename != '']\n",
    "df = df.reset_index()\n",
    "print(len(df))\n",
    "df.sample(n=10)"
   ]
  },
  {
   "cell_type": "code",
   "execution_count": 5,
   "id": "activated-number",
   "metadata": {},
   "outputs": [
    {
     "name": "stdout",
     "output_type": "stream",
     "text": [
      "uncompressed size = 31.22 GB\n"
     ]
    }
   ],
   "source": [
    "osize = 0 \n",
    "for item in zipf.infolist():\n",
    "    osize += item.file_size\n",
    "print('uncompressed size =',round(osize/1000000000,2),'GB')"
   ]
  },
  {
   "cell_type": "markdown",
   "id": "growing-richardson",
   "metadata": {},
   "source": [
    "# Basic EDA\n",
    "\n",
    "### Number of product types (each image file is a unique product)"
   ]
  },
  {
   "cell_type": "code",
   "execution_count": 6,
   "id": "minor-undergraduate",
   "metadata": {},
   "outputs": [
    {
     "data": {
      "text/plain": [
       "5620"
      ]
     },
     "execution_count": 6,
     "metadata": {},
     "output_type": "execute_result"
    }
   ],
   "source": [
    "# Number of unique products\n",
    "products = np.unique(df.product_name)\n",
    "len(products)"
   ]
  },
  {
   "cell_type": "code",
   "execution_count": 7,
   "id": "engaged-crash",
   "metadata": {},
   "outputs": [],
   "source": [
    "def flattenTypes(val):\n",
    "    lst = val.split('_')\n",
    "    return lst[-1]"
   ]
  },
  {
   "cell_type": "code",
   "execution_count": 8,
   "id": "classical-hunter",
   "metadata": {},
   "outputs": [
    {
     "name": "stdout",
     "output_type": "stream",
     "text": [
      "46\n"
     ]
    },
    {
     "data": {
      "text/plain": [
       "array(['Anorak', 'Blazer', 'Blouse', 'Bomber', 'Button-Down', 'Caftan',\n",
       "       'Capris', 'Cardigan', 'Chinos', 'Coat', 'Coverup', 'Culottes',\n",
       "       'Cutoffs', 'Dress', 'Flannel', 'Gauchos', 'Halter', 'Henley',\n",
       "       'Hoodie', 'Jacket', 'Jeans', 'Jeggings', 'Jersey', 'Jodhpurs',\n",
       "       'Joggers', 'Jumpsuit', 'Kaftan', 'Kimono', 'Leggings', 'Onesie',\n",
       "       'Parka', 'Peacoat', 'Poncho', 'Robe', 'Romper', 'Sarong', 'Shorts',\n",
       "       'Skirt', 'Sweater', 'Sweatpants', 'Sweatshorts', 'Tank', 'Tee',\n",
       "       'Top', 'Trunks', 'Turtleneck'], dtype=object)"
      ]
     },
     "execution_count": 8,
     "metadata": {},
     "output_type": "execute_result"
    }
   ],
   "source": [
    "df['product_type'] = df.product_name.apply(flattenTypes)\n",
    "all_cats = np.unique(df.product_type)\n",
    "print(len(all_cats))\n",
    "all_cats"
   ]
  },
  {
   "cell_type": "code",
   "execution_count": 9,
   "id": "distinguished-terry",
   "metadata": {
    "scrolled": true
   },
   "outputs": [
    {
     "data": {
      "image/png": "[encoded data removed]",
      "text/plain": [
       "<Figure size 640x480 with 1 Axes>"
      ]
     },
     "metadata": {},
     "output_type": "display_data"
    }
   ],
   "source": [
    "histdata = df.groupby(['product_type']).count()\n",
    "histdata = histdata.sort_values(by='root_path', ascending=False)\n",
    "\n",
    "data = histdata['root_path'][:20]\n",
    "plt.barh(data.index, data.values)\n",
    "plt.title('Distribution of top-20 clothing categories')\n",
    "plt.xticks(rotation = 90)\n",
    "plt.ylabel('Classes')\n",
    "plt.xlabel('Number of samples')\n",
    "plt.show()"
   ]
  },
  {
   "cell_type": "code",
   "execution_count": 10,
   "id": "progressive-granny",
   "metadata": {},
   "outputs": [
    {
     "data": {
      "text/html": [
       "<div>\n",
       "<style scoped>\n",
       "    .dataframe tbody tr th:only-of-type {\n",
       "        vertical-align: middle;\n",
       "    }\n",
       "\n",
       "    .dataframe tbody tr th {\n",
       "        vertical-align: top;\n",
       "    }\n",
       "\n",
       "    .dataframe thead th {\n",
       "        text-align: right;\n",
       "    }\n",
       "</style>\n",
       "<table border=\"1\" class=\"dataframe\">\n",
       "  <thead>\n",
       "    <tr style=\"text-align: right;\">\n",
       "      <th></th>\n",
       "      <th>index</th>\n",
       "      <th>root_path</th>\n",
       "      <th>product_name</th>\n",
       "      <th>filename</th>\n",
       "      <th>path</th>\n",
       "    </tr>\n",
       "    <tr>\n",
       "      <th>product_type</th>\n",
       "      <th></th>\n",
       "      <th></th>\n",
       "      <th></th>\n",
       "      <th></th>\n",
       "      <th></th>\n",
       "    </tr>\n",
       "  </thead>\n",
       "  <tbody>\n",
       "    <tr>\n",
       "      <th>Kaftan</th>\n",
       "      <td>126</td>\n",
       "      <td>126</td>\n",
       "      <td>126</td>\n",
       "      <td>126</td>\n",
       "      <td>126</td>\n",
       "    </tr>\n",
       "    <tr>\n",
       "      <th>Peacoat</th>\n",
       "      <td>97</td>\n",
       "      <td>97</td>\n",
       "      <td>97</td>\n",
       "      <td>97</td>\n",
       "      <td>97</td>\n",
       "    </tr>\n",
       "    <tr>\n",
       "      <th>Capris</th>\n",
       "      <td>77</td>\n",
       "      <td>77</td>\n",
       "      <td>77</td>\n",
       "      <td>77</td>\n",
       "      <td>77</td>\n",
       "    </tr>\n",
       "    <tr>\n",
       "      <th>Onesie</th>\n",
       "      <td>70</td>\n",
       "      <td>70</td>\n",
       "      <td>70</td>\n",
       "      <td>70</td>\n",
       "      <td>70</td>\n",
       "    </tr>\n",
       "    <tr>\n",
       "      <th>Caftan</th>\n",
       "      <td>54</td>\n",
       "      <td>54</td>\n",
       "      <td>54</td>\n",
       "      <td>54</td>\n",
       "      <td>54</td>\n",
       "    </tr>\n",
       "    <tr>\n",
       "      <th>Gauchos</th>\n",
       "      <td>49</td>\n",
       "      <td>49</td>\n",
       "      <td>49</td>\n",
       "      <td>49</td>\n",
       "      <td>49</td>\n",
       "    </tr>\n",
       "    <tr>\n",
       "      <th>Jodhpurs</th>\n",
       "      <td>45</td>\n",
       "      <td>45</td>\n",
       "      <td>45</td>\n",
       "      <td>45</td>\n",
       "      <td>45</td>\n",
       "    </tr>\n",
       "    <tr>\n",
       "      <th>Sarong</th>\n",
       "      <td>32</td>\n",
       "      <td>32</td>\n",
       "      <td>32</td>\n",
       "      <td>32</td>\n",
       "      <td>32</td>\n",
       "    </tr>\n",
       "    <tr>\n",
       "      <th>Halter</th>\n",
       "      <td>17</td>\n",
       "      <td>17</td>\n",
       "      <td>17</td>\n",
       "      <td>17</td>\n",
       "      <td>17</td>\n",
       "    </tr>\n",
       "    <tr>\n",
       "      <th>Coverup</th>\n",
       "      <td>17</td>\n",
       "      <td>17</td>\n",
       "      <td>17</td>\n",
       "      <td>17</td>\n",
       "      <td>17</td>\n",
       "    </tr>\n",
       "  </tbody>\n",
       "</table>\n",
       "</div>"
      ],
      "text/plain": [
       "              index  root_path  product_name  filename  path\n",
       "product_type                                                \n",
       "Kaftan          126        126           126       126   126\n",
       "Peacoat          97         97            97        97    97\n",
       "Capris           77         77            77        77    77\n",
       "Onesie           70         70            70        70    70\n",
       "Caftan           54         54            54        54    54\n",
       "Gauchos          49         49            49        49    49\n",
       "Jodhpurs         45         45            45        45    45\n",
       "Sarong           32         32            32        32    32\n",
       "Halter           17         17            17        17    17\n",
       "Coverup          17         17            17        17    17"
      ]
     },
     "execution_count": 10,
     "metadata": {},
     "output_type": "execute_result"
    }
   ],
   "source": [
    "histdata[histdata['root_path'] < 5000][-10:]"
   ]
  },
  {
   "cell_type": "markdown",
   "id": "alive-server",
   "metadata": {},
   "source": [
    "# Prepare subset of overall data based on specific categories of products"
   ]
  },
  {
   "cell_type": "markdown",
   "id": "consistent-uncertainty",
   "metadata": {},
   "source": [
    "### Sample files in categories"
   ]
  },
  {
   "cell_type": "code",
   "execution_count": 11,
   "id": "nominated-james",
   "metadata": {},
   "outputs": [],
   "source": [
    "df_all = df\n",
    "df_all['product_type'] = df_all.product_type.apply(lambda x: 'Long_Leg' if x in ['Jeans', 'Joggers', 'Sweatpants'] else x)\n",
    "df_all['product_type'] = df_all.product_type.apply(lambda x: 'Long_Sleeve' if x in ['Blouse', 'Sweater', 'Cardigan', 'Hoodie'] else x)"
   ]
  },
  {
   "cell_type": "code",
   "execution_count": 12,
   "id": "annoying-complex",
   "metadata": {},
   "outputs": [],
   "source": [
    "excl = histdata[histdata['root_path'] < 1500]['index'].index.values\n",
    "excl = np.append(excl, ['Coat', 'Shorts', 'Cutoffs', 'Top', 'Skirt','Blazer', 'Jacket', 'Leggings', 'Jumpsuit', 'Romper', 'Kimono'])\n",
    "df_all = df_all[df_all.product_type.apply(lambda x: x not in excl)]"
   ]
  },
  {
   "cell_type": "code",
   "execution_count": 13,
   "id": "australian-photograph",
   "metadata": {},
   "outputs": [
    {
     "data": {
      "image/png": "[encoded data removed]",
      "text/plain": [
       "<Figure size 640x480 with 1 Axes>"
      ]
     },
     "metadata": {},
     "output_type": "display_data"
    }
   ],
   "source": [
    "histdata = df_all.groupby(['product_type']).count()\n",
    "histdata = histdata.sort_values(by='root_path', ascending=False)\n",
    "\n",
    "data = histdata['root_path'][:20]\n",
    "plt.barh(data.index, data.values)\n",
    "plt.title('Distribution of clothing categories after filtering/merging')\n",
    "plt.xticks(rotation = 90)\n",
    "plt.ylabel('Classes')\n",
    "plt.xlabel('Number of samples')\n",
    "plt.show()"
   ]
  },
  {
   "cell_type": "code",
   "execution_count": 14,
   "id": "plain-attribute",
   "metadata": {},
   "outputs": [
    {
     "data": {
      "text/plain": [
       "array(['Dress', 'Long_Leg', 'Long_Sleeve', 'Tank', 'Tee'], dtype=object)"
      ]
     },
     "execution_count": 14,
     "metadata": {},
     "output_type": "execute_result"
    }
   ],
   "source": [
    "cats = np.unique(df_all.product_type)\n",
    "cats"
   ]
  },
  {
   "cell_type": "code",
   "execution_count": 15,
   "id": "stable-government",
   "metadata": {},
   "outputs": [],
   "source": [
    "subset = df_all"
   ]
  },
  {
   "cell_type": "code",
   "execution_count": 16,
   "id": "governing-understanding",
   "metadata": {},
   "outputs": [],
   "source": [
    "# numitems is used to determine the category with the smallest number of items\n",
    "numitems = min(subset.groupby('product_type').count().path)"
   ]
  },
  {
   "cell_type": "code",
   "execution_count": 173,
   "id": "appropriate-tribute",
   "metadata": {},
   "outputs": [
    {
     "data": {
      "text/plain": [
       "65430"
      ]
     },
     "execution_count": 173,
     "metadata": {},
     "output_type": "execute_result"
    }
   ],
   "source": [
    "# then we sample numitems * 90% in each of the cateogries to leave images for later validation and/or testing\n",
    "subsample = subset.groupby('product_type').sample(n=int(numitems*.9))\n",
    "len(subsample)"
   ]
  },
  {
   "cell_type": "markdown",
   "id": "occupational-trustee",
   "metadata": {},
   "source": [
    "### Load the bounding box data and merge with the file list"
   ]
  },
  {
   "cell_type": "code",
   "execution_count": 174,
   "id": "rural-fence",
   "metadata": {},
   "outputs": [
    {
     "data": {
      "text/html": [
       "<div>\n",
       "<style scoped>\n",
       "    .dataframe tbody tr th:only-of-type {\n",
       "        vertical-align: middle;\n",
       "    }\n",
       "\n",
       "    .dataframe tbody tr th {\n",
       "        vertical-align: top;\n",
       "    }\n",
       "\n",
       "    .dataframe thead th {\n",
       "        text-align: right;\n",
       "    }\n",
       "</style>\n",
       "<table border=\"1\" class=\"dataframe\">\n",
       "  <thead>\n",
       "    <tr style=\"text-align: right;\">\n",
       "      <th></th>\n",
       "      <th>path</th>\n",
       "      <th>x1</th>\n",
       "      <th>y1</th>\n",
       "      <th>x2</th>\n",
       "      <th>y2</th>\n",
       "    </tr>\n",
       "  </thead>\n",
       "  <tbody>\n",
       "    <tr>\n",
       "      <th>0</th>\n",
       "      <td>img/Sheer_Pleated-Front_Blouse/img_00000001.jpg</td>\n",
       "      <td>072</td>\n",
       "      <td>079</td>\n",
       "      <td>232</td>\n",
       "      <td>273</td>\n",
       "    </tr>\n",
       "    <tr>\n",
       "      <th>1</th>\n",
       "      <td>img/Sheer_Pleated-Front_Blouse/img_00000002.jpg</td>\n",
       "      <td>067</td>\n",
       "      <td>059</td>\n",
       "      <td>155</td>\n",
       "      <td>161</td>\n",
       "    </tr>\n",
       "    <tr>\n",
       "      <th>2</th>\n",
       "      <td>img/Sheer_Pleated-Front_Blouse/img_00000003.jpg</td>\n",
       "      <td>065</td>\n",
       "      <td>065</td>\n",
       "      <td>156</td>\n",
       "      <td>200</td>\n",
       "    </tr>\n",
       "    <tr>\n",
       "      <th>3</th>\n",
       "      <td>img/Sheer_Pleated-Front_Blouse/img_00000004.jpg</td>\n",
       "      <td>051</td>\n",
       "      <td>062</td>\n",
       "      <td>167</td>\n",
       "      <td>182</td>\n",
       "    </tr>\n",
       "    <tr>\n",
       "      <th>4</th>\n",
       "      <td>img/Sheer_Pleated-Front_Blouse/img_00000005.jpg</td>\n",
       "      <td>046</td>\n",
       "      <td>088</td>\n",
       "      <td>166</td>\n",
       "      <td>262</td>\n",
       "    </tr>\n",
       "  </tbody>\n",
       "</table>\n",
       "</div>"
      ],
      "text/plain": [
       "                                              path   x1   y1   x2   y2\n",
       "0  img/Sheer_Pleated-Front_Blouse/img_00000001.jpg  072  079  232  273\n",
       "1  img/Sheer_Pleated-Front_Blouse/img_00000002.jpg  067  059  155  161\n",
       "2  img/Sheer_Pleated-Front_Blouse/img_00000003.jpg  065  065  156  200\n",
       "3  img/Sheer_Pleated-Front_Blouse/img_00000004.jpg  051  062  167  182\n",
       "4  img/Sheer_Pleated-Front_Blouse/img_00000005.jpg  046  088  166  262"
      ]
     },
     "execution_count": 174,
     "metadata": {},
     "output_type": "execute_result"
    }
   ],
   "source": [
    "# read in the bounding box dataset for all records\n",
    "f = open('Anno_coarse/list_bbox.txt')\n",
    "boxes = f.readlines()\n",
    "boxes = boxes[2:]\n",
    "boxes = [x.replace('\\n', '') for x in boxes]\n",
    "#boxes = [x.replace('img/', 'img_highres/') for x in boxes]\n",
    "boxes = [' '.join(x.split()).split() for x in boxes]\n",
    "df_boxes = pd.DataFrame(boxes, columns=['path', 'x1', 'y1', 'x2', 'y2'])\n",
    "df_boxes.head()"
   ]
  },
  {
   "cell_type": "code",
   "execution_count": 175,
   "id": "circular-district",
   "metadata": {},
   "outputs": [],
   "source": [
    "df_boxes.path = df_boxes.path.apply(lambda x: x.replace('img/', 'img_highres/'))"
   ]
  },
  {
   "cell_type": "code",
   "execution_count": 176,
   "id": "dedicated-trinidad",
   "metadata": {},
   "outputs": [],
   "source": [
    "subsample = subsample.merge(df_boxes, how='inner', on='path')"
   ]
  },
  {
   "cell_type": "code",
   "execution_count": 177,
   "id": "broken-suggestion",
   "metadata": {},
   "outputs": [
    {
     "data": {
      "text/html": [
       "<div>\n",
       "<style scoped>\n",
       "    .dataframe tbody tr th:only-of-type {\n",
       "        vertical-align: middle;\n",
       "    }\n",
       "\n",
       "    .dataframe tbody tr th {\n",
       "        vertical-align: top;\n",
       "    }\n",
       "\n",
       "    .dataframe thead th {\n",
       "        text-align: right;\n",
       "    }\n",
       "</style>\n",
       "<table border=\"1\" class=\"dataframe\">\n",
       "  <thead>\n",
       "    <tr style=\"text-align: right;\">\n",
       "      <th></th>\n",
       "      <th>index</th>\n",
       "      <th>root_path</th>\n",
       "      <th>product_name</th>\n",
       "      <th>filename</th>\n",
       "      <th>path</th>\n",
       "      <th>product_type</th>\n",
       "      <th>x1</th>\n",
       "      <th>y1</th>\n",
       "      <th>x2</th>\n",
       "      <th>y2</th>\n",
       "    </tr>\n",
       "  </thead>\n",
       "  <tbody>\n",
       "  </tbody>\n",
       "</table>\n",
       "</div>"
      ],
      "text/plain": [
       "Empty DataFrame\n",
       "Columns: [index, root_path, product_name, filename, path, product_type, x1, y1, x2, y2]\n",
       "Index: []"
      ]
     },
     "execution_count": 177,
     "metadata": {},
     "output_type": "execute_result"
    }
   ],
   "source": [
    "# clean some discovered errors\n",
    "problem_list = [ 'img_highres/Crinkled_Satin_Halter_Dress/img_00000036.jpg'] # potential DOS bomb\n",
    "subsample[subsample.path.isin(problem_list)]"
   ]
  },
  {
   "cell_type": "code",
   "execution_count": 178,
   "id": "lovely-irish",
   "metadata": {},
   "outputs": [],
   "source": [
    "subsample = subsample.drop(index=6697)"
   ]
  },
  {
   "cell_type": "code",
   "execution_count": 179,
   "id": "operating-lover",
   "metadata": {},
   "outputs": [
    {
     "name": "stdout",
     "output_type": "stream",
     "text": [
      "0\n"
     ]
    },
    {
     "name": "stderr",
     "output_type": "stream",
     "text": [
      "/Users/blairjones/opt/anaconda3/lib/python3.7/site-packages/PIL/TiffImagePlugin.py:772: UserWarning: Possibly corrupt EXIF data.  Expecting to read 8552 bytes but only got 8356. Skipping tag 37500\n",
      "  \"Possibly corrupt EXIF data.  \"\n"
     ]
    },
    {
     "name": "stdout",
     "output_type": "stream",
     "text": [
      "13082\n",
      "26164\n",
      "39246\n",
      "52328\n",
      "65410\n",
      "CPU times: user 50.6 s, sys: 12.5 s, total: 1min 3s\n",
      "Wall time: 1min 48s\n"
     ]
    }
   ],
   "source": [
    "%%time\n",
    "# determine the dimensions of each image\n",
    "# this is necessary for YOLOv5 training, where we have to specify a \"longest\" dimension for the training\n",
    "dims = []\n",
    "cnt=0\n",
    "zipf_lo = zipfile.ZipFile('Img/img.zip')\n",
    "for file in subsample.path.values:\n",
    "    if cnt%int((len(subsample)/5))==0:\n",
    "        print(cnt)\n",
    "    cnt+=1\n",
    "    if 'Striped_A-line_Dress' in file:\n",
    "        continue\n",
    "    i_lo = Image.open(io.BytesIO(zipf_lo.read(file.replace('img_highres/', 'img/'))))\n",
    "    i_hi = Image.open(io.BytesIO(zipf.read(file)))\n",
    "    dims.append([file, *i_lo.size, *i_hi.size])\n",
    "    \n",
    "dims_df = pd.DataFrame(dims, columns=['path', 'lo_w', 'lo_h', 'i_w', 'i_h'])"
   ]
  },
  {
   "cell_type": "code",
   "execution_count": 180,
   "id": "loose-store",
   "metadata": {},
   "outputs": [],
   "source": [
    "subsample = subsample.merge(dims_df, on='path')"
   ]
  },
  {
   "cell_type": "code",
   "execution_count": 181,
   "id": "peaceful-mounting",
   "metadata": {},
   "outputs": [
    {
     "name": "stdout",
     "output_type": "stream",
     "text": [
      "CPU times: user 11.2 s, sys: 166 ms, total: 11.3 s\n",
      "Wall time: 11.4 s\n"
     ]
    }
   ],
   "source": [
    "%%time\n",
    "# rescale from lo-res to hi-res x,y coordinates\n",
    "def rescale_bbox(row):\n",
    "    x1_old, y1_old, x2_old, y2_old, lo_w, lo_h, hi_w, hi_h = [float(x) for x in row[-8:]]\n",
    "    x1_new = x1_old/lo_w * hi_w\n",
    "    y1_new = y1_old/lo_h * hi_h\n",
    "    x2_new = x2_old/lo_w * hi_w\n",
    "    y2_new = y2_old/lo_h * hi_h\n",
    "\n",
    "    row.x1 = int(x1_new)\n",
    "    row.y1 = int(y1_new)\n",
    "    row.x2 = int(x2_new)\n",
    "    row.y2 = int(y2_new)\n",
    "    \n",
    "    return row\n",
    "    \n",
    "subsample = subsample.apply(rescale_bbox, axis=1)\n",
    "subsample = subsample.drop(columns=['lo_w', 'lo_h'])"
   ]
  },
  {
   "cell_type": "markdown",
   "id": "convenient-mandate",
   "metadata": {},
   "source": [
    "### Inspect a few sample images and corresponding bounding boxes"
   ]
  },
  {
   "cell_type": "code",
   "execution_count": 182,
   "id": "applicable-professor",
   "metadata": {},
   "outputs": [
    {
     "data": {
      "image/png": "[encoded data removed]",
      "text/plain": [
       "<Figure size 640x480 with 1 Axes>"
      ]
     },
     "metadata": {},
     "output_type": "display_data"
    }
   ],
   "source": [
    "row = subsample.iloc[0]\n",
    "img = Image.open(io.BytesIO(zipf.read(row[4])))\n",
    "(x1, y1, x2, y2) = [int(x) for x in row[-6:-2]]\n",
    "img = cv2.rectangle(np.array(img), (x1, y1), (x2, y2), (0, 255, 0), 2)\n",
    "plt.imshow(img)\n",
    "plt.show()"
   ]
  },
  {
   "cell_type": "markdown",
   "id": "approved-faculty",
   "metadata": {},
   "source": [
    "### Determine dimensions and remove samples not meeting criteria"
   ]
  },
  {
   "cell_type": "code",
   "execution_count": 183,
   "id": "amber-kazakhstan",
   "metadata": {},
   "outputs": [],
   "source": [
    "target_dim = 640.0"
   ]
  },
  {
   "cell_type": "code",
   "execution_count": 184,
   "id": "rotary-thickness",
   "metadata": {},
   "outputs": [
    {
     "data": {
      "text/plain": [
       "23900"
      ]
     },
     "execution_count": 184,
     "metadata": {},
     "output_type": "execute_result"
    }
   ],
   "source": [
    "# determine which images are outside the range of the \n",
    "toobig = subsample[(subsample['i_w'] > target_dim) | (subsample['i_h'] > target_dim)]\n",
    "len(toobig)"
   ]
  },
  {
   "cell_type": "code",
   "execution_count": 252,
   "id": "opponent-farming",
   "metadata": {},
   "outputs": [
    {
     "name": "stdout",
     "output_type": "stream",
     "text": [
      "CPU times: user 45.2 s, sys: 30.4 s, total: 1min 15s\n",
      "Wall time: 2min 1s\n"
     ]
    }
   ],
   "source": [
    "%%time\n",
    "# Extract all the sample files from the zipped archive to disk\n",
    "filelist = subsample.path.values\n",
    "zipf.extractall(path='fashion/', members=filelist)"
   ]
  },
  {
   "cell_type": "code",
   "execution_count": 254,
   "id": "chubby-stuff",
   "metadata": {},
   "outputs": [
    {
     "name": "stderr",
     "output_type": "stream",
     "text": [
      "/Users/blairjones/opt/anaconda3/lib/python3.7/site-packages/PIL/TiffImagePlugin.py:772: UserWarning: Possibly corrupt EXIF data.  Expecting to read 8552 bytes but only got 8356. Skipping tag 37500\n",
      "  \"Possibly corrupt EXIF data.  \"\n"
     ]
    },
    {
     "name": "stdout",
     "output_type": "stream",
     "text": [
      "CPU times: user 18min 10s, sys: 1min 32s, total: 19min 43s\n",
      "Wall time: 20min 13s\n"
     ]
    }
   ],
   "source": [
    "%%time\n",
    "cnt=0\n",
    "for file in toobig[:].path.values:\n",
    "    if cnt%int((len(toobig)/10))==0:\n",
    "        print(cnt)\n",
    "    cnt+=1\n",
    "    \n",
    "    img = Image.open('fashion/'+file)\n",
    "    img.thumbnail((target_dim, target_dim)) \n",
    "    if 'png' in str(type(img)).lower():\n",
    "        img = img.convert('RGB')\n",
    "    img.save('fashion/'+file, 'JPEG', optimize=True)\n",
    "    \n",
    "    h_new = np.array(img).shape[0]\n",
    "    w_new = np.array(img).shape[1]\n",
    "    \n",
    "    row = subsample.loc[subsample.path==file]\n",
    "    #print(row)\n",
    "    x1_old, y1_old, x2_old, y2_old, i_w, i_h = [float(x) for x in row.values[0][-6:]]\n",
    "    x1_new = int(x1_old/i_w * w_new)\n",
    "    y1_new = int(y1_old/i_h * h_new)\n",
    "    x2_new = int(x2_old/i_w * w_new)\n",
    "    y2_new = int(y2_old/i_h * h_new)\n",
    "    \n",
    "    if False: # for debugging\n",
    "        img = cv2.rectangle(np.array(img), (x1_new, y1_new), (x2_new, y2_new), (0, 255, 0), 2)\n",
    "        plt.imshow(img)\n",
    "        plt.show()\n",
    "\n",
    "    subsample.loc[subsample.path==file, -6:] = x1_new, y1_new, x2_new, y2_new, int(w_new), int(h_new)\n",
    "    \n",
    "    #print(subsample.loc[subsample.path==file])"
   ]
  },
  {
   "cell_type": "markdown",
   "id": "intellectual-mortgage",
   "metadata": {},
   "source": [
    "### Prepare additional fields for YOLOv5 label data format"
   ]
  },
  {
   "cell_type": "code",
   "execution_count": 255,
   "id": "computational-audience",
   "metadata": {},
   "outputs": [
    {
     "data": {
      "text/html": [
       "<div>\n",
       "<style scoped>\n",
       "    .dataframe tbody tr th:only-of-type {\n",
       "        vertical-align: middle;\n",
       "    }\n",
       "\n",
       "    .dataframe tbody tr th {\n",
       "        vertical-align: top;\n",
       "    }\n",
       "\n",
       "    .dataframe thead th {\n",
       "        text-align: right;\n",
       "    }\n",
       "</style>\n",
       "<table border=\"1\" class=\"dataframe\">\n",
       "  <thead>\n",
       "    <tr style=\"text-align: right;\">\n",
       "      <th></th>\n",
       "      <th>index</th>\n",
       "      <th>root_path</th>\n",
       "      <th>product_name</th>\n",
       "      <th>filename</th>\n",
       "      <th>path</th>\n",
       "      <th>product_type</th>\n",
       "      <th>x1</th>\n",
       "      <th>y1</th>\n",
       "      <th>x2</th>\n",
       "      <th>y2</th>\n",
       "      <th>i_w</th>\n",
       "      <th>i_h</th>\n",
       "      <th>x</th>\n",
       "      <th>y</th>\n",
       "      <th>w</th>\n",
       "      <th>h</th>\n",
       "    </tr>\n",
       "  </thead>\n",
       "  <tbody>\n",
       "    <tr>\n",
       "      <th>0</th>\n",
       "      <td>205069</td>\n",
       "      <td>img_highres</td>\n",
       "      <td>Pintucked_Stained_Glass_Print_Dress</td>\n",
       "      <td>img_00000013.jpg</td>\n",
       "      <td>img_highres/Pintucked_Stained_Glass_Print_Dres...</td>\n",
       "      <td>Dress</td>\n",
       "      <td>77</td>\n",
       "      <td>36</td>\n",
       "      <td>159</td>\n",
       "      <td>211</td>\n",
       "      <td>236</td>\n",
       "      <td>295</td>\n",
       "      <td>0.500000</td>\n",
       "      <td>0.418644</td>\n",
       "      <td>0.347458</td>\n",
       "      <td>0.593220</td>\n",
       "    </tr>\n",
       "    <tr>\n",
       "      <th>1</th>\n",
       "      <td>121212</td>\n",
       "      <td>img_highres</td>\n",
       "      <td>Floral_Cap-Sleeved_Dress</td>\n",
       "      <td>img_00000039.jpg</td>\n",
       "      <td>img_highres/Floral_Cap-Sleeved_Dress/img_00000...</td>\n",
       "      <td>Dress</td>\n",
       "      <td>52</td>\n",
       "      <td>119</td>\n",
       "      <td>358</td>\n",
       "      <td>448</td>\n",
       "      <td>361</td>\n",
       "      <td>640</td>\n",
       "      <td>0.567867</td>\n",
       "      <td>0.442969</td>\n",
       "      <td>0.847645</td>\n",
       "      <td>0.514062</td>\n",
       "    </tr>\n",
       "    <tr>\n",
       "      <th>2</th>\n",
       "      <td>197009</td>\n",
       "      <td>img_highres</td>\n",
       "      <td>Out_to_Sea_Maxi_Dress</td>\n",
       "      <td>img_00000037.jpg</td>\n",
       "      <td>img_highres/Out_to_Sea_Maxi_Dress/img_00000037...</td>\n",
       "      <td>Dress</td>\n",
       "      <td>100</td>\n",
       "      <td>83</td>\n",
       "      <td>410</td>\n",
       "      <td>572</td>\n",
       "      <td>424</td>\n",
       "      <td>572</td>\n",
       "      <td>0.601415</td>\n",
       "      <td>0.572552</td>\n",
       "      <td>0.731132</td>\n",
       "      <td>0.854895</td>\n",
       "    </tr>\n",
       "    <tr>\n",
       "      <th>3</th>\n",
       "      <td>200223</td>\n",
       "      <td>img_highres</td>\n",
       "      <td>Paisley_Print_Sun_Dress</td>\n",
       "      <td>img_00000013.jpg</td>\n",
       "      <td>img_highres/Paisley_Print_Sun_Dress/img_000000...</td>\n",
       "      <td>Dress</td>\n",
       "      <td>87</td>\n",
       "      <td>159</td>\n",
       "      <td>394</td>\n",
       "      <td>633</td>\n",
       "      <td>427</td>\n",
       "      <td>640</td>\n",
       "      <td>0.563232</td>\n",
       "      <td>0.618750</td>\n",
       "      <td>0.718970</td>\n",
       "      <td>0.740625</td>\n",
       "    </tr>\n",
       "    <tr>\n",
       "      <th>4</th>\n",
       "      <td>15269</td>\n",
       "      <td>img_highres</td>\n",
       "      <td>Baroque_Jacquard_Layered_Dress</td>\n",
       "      <td>img_00000017.jpg</td>\n",
       "      <td>img_highres/Baroque_Jacquard_Layered_Dress/img...</td>\n",
       "      <td>Dress</td>\n",
       "      <td>76</td>\n",
       "      <td>99</td>\n",
       "      <td>454</td>\n",
       "      <td>633</td>\n",
       "      <td>502</td>\n",
       "      <td>640</td>\n",
       "      <td>0.527888</td>\n",
       "      <td>0.571875</td>\n",
       "      <td>0.752988</td>\n",
       "      <td>0.834375</td>\n",
       "    </tr>\n",
       "  </tbody>\n",
       "</table>\n",
       "</div>"
      ],
      "text/plain": [
       "    index    root_path                         product_name          filename  \\\n",
       "0  205069  img_highres  Pintucked_Stained_Glass_Print_Dress  img_00000013.jpg   \n",
       "1  121212  img_highres             Floral_Cap-Sleeved_Dress  img_00000039.jpg   \n",
       "2  197009  img_highres                Out_to_Sea_Maxi_Dress  img_00000037.jpg   \n",
       "3  200223  img_highres              Paisley_Print_Sun_Dress  img_00000013.jpg   \n",
       "4   15269  img_highres       Baroque_Jacquard_Layered_Dress  img_00000017.jpg   \n",
       "\n",
       "                                                path product_type   x1   y1  \\\n",
       "0  img_highres/Pintucked_Stained_Glass_Print_Dres...        Dress   77   36   \n",
       "1  img_highres/Floral_Cap-Sleeved_Dress/img_00000...        Dress   52  119   \n",
       "2  img_highres/Out_to_Sea_Maxi_Dress/img_00000037...        Dress  100   83   \n",
       "3  img_highres/Paisley_Print_Sun_Dress/img_000000...        Dress   87  159   \n",
       "4  img_highres/Baroque_Jacquard_Layered_Dress/img...        Dress   76   99   \n",
       "\n",
       "    x2   y2  i_w  i_h         x         y         w         h  \n",
       "0  159  211  236  295  0.500000  0.418644  0.347458  0.593220  \n",
       "1  358  448  361  640  0.567867  0.442969  0.847645  0.514062  \n",
       "2  410  572  424  572  0.601415  0.572552  0.731132  0.854895  \n",
       "3  394  633  427  640  0.563232  0.618750  0.718970  0.740625  \n",
       "4  454  633  502  640  0.527888  0.571875  0.752988  0.834375  "
      ]
     },
     "execution_count": 255,
     "metadata": {},
     "output_type": "execute_result"
    }
   ],
   "source": [
    "# calculate the elements needed for the YOLOv5 PyTorch training input labels/\n",
    "subsample.x1 = subsample.x1.astype(int)\n",
    "subsample.y1 = subsample.y1.astype(int)\n",
    "subsample.x2 = subsample.x2.astype(int)\n",
    "subsample.y2 = subsample.y2.astype(int)\n",
    "subsample.i_w = subsample.i_w.astype(int)\n",
    "subsample.i_h = subsample.i_h.astype(int)\n",
    "\n",
    "subsample['x'] = subsample.apply(lambda row: (((row.x2 - row.x1)/2) + row.x1) / row.i_w, axis=1)\n",
    "subsample['y'] = subsample.apply(lambda row: (((row.y2 - row.y1)/2) + row.y1) / row.i_h, axis=1)\n",
    "subsample['w'] = subsample.apply(lambda row: (row.x2 - row.x1) / row.i_w, axis=1)\n",
    "subsample['h'] = subsample.apply(lambda row: (row.y2 - row.y1) / row.i_h, axis=1)\n",
    "subsample.head()"
   ]
  },
  {
   "cell_type": "markdown",
   "id": "afraid-obligation",
   "metadata": {},
   "source": [
    "### Verify reconstruction of bboxes"
   ]
  },
  {
   "cell_type": "code",
   "execution_count": 256,
   "id": "hairy-norman",
   "metadata": {},
   "outputs": [
    {
     "data": {
      "image/png": "[encoded data removed]",
      "text/plain": [
       "<Figure size 640x480 with 1 Axes>"
      ]
     },
     "metadata": {},
     "output_type": "display_data"
    }
   ],
   "source": [
    "# visually inspect some manually chosen random items\n",
    "row = subsample.iloc[5000].values\n",
    "img = cv2.imread('fashion/'+row[4])\n",
    "img = cv2.cvtColor(img, cv2.COLOR_BGR2RGB)\n",
    "(i_w, i_h, x, y, w, h) = row[-6:]\n",
    "# reconstruct the bboxes\n",
    "x1 = int((x-w/2)*i_w)\n",
    "y1 = int((y-h/2)*i_h)\n",
    "x2 = int((x+w/2)*i_w)\n",
    "y2 = int((y+h/2)*i_h)\n",
    "img_bbox = cv2.rectangle(img, (x1, y1), (x2, y2), (0, 255, 0), 2)\n",
    "plt.imshow(img)\n",
    "plt.show()"
   ]
  },
  {
   "cell_type": "markdown",
   "id": "center-concentration",
   "metadata": {},
   "source": [
    "# remove files with too much blank space"
   ]
  },
  {
   "cell_type": "code",
   "execution_count": 258,
   "id": "virtual-relative",
   "metadata": {},
   "outputs": [],
   "source": [
    "#!pip install fast_colorthief"
   ]
  },
  {
   "cell_type": "code",
   "execution_count": 259,
   "id": "developing-saturday",
   "metadata": {},
   "outputs": [],
   "source": [
    "import fast_colorthief\n",
    "from matplotlib.colors import hsv_to_rgb, rgb_to_hsv"
   ]
  },
  {
   "cell_type": "code",
   "execution_count": 269,
   "id": "stable-parking",
   "metadata": {},
   "outputs": [],
   "source": [
    "def excessBlankSpace(file, bbox, sensitivity=5):\n",
    "    # inspired by: https://stackoverflow.com/questions/22588146/tracking-white-color-using-python-opencv\n",
    "    #         and: https://stackoverflow.com/questions/3241929/python-find-dominant-most-common-color-in-an-image\n",
    "    # sensitivity is used to give a range of color space to filter for the background color\n",
    "    img = cv2.imread(file)\n",
    "\n",
    "    frm = img[bbox[1]:bbox[3], bbox[0]:bbox[2]]\n",
    "    \"\"\"\n",
    "        identify area covered by predominant background color within bounding box\n",
    "    \"\"\"\n",
    "    # predominant color\n",
    "    rgba = cv2.cvtColor(frm, cv2.COLOR_BGR2RGBA)\n",
    "    crop_rgb = cv2.cvtColor(frm, cv2.COLOR_BGR2RGB)\n",
    "    pal = fast_colorthief.get_palette(rgba)\n",
    "    dominant_color = pal[0]\n",
    "    \n",
    "    # area covered by predominant color (maskBgnd)\n",
    "    lower = np.array(dominant_color)-sensitivity\n",
    "    upper = np.array(dominant_color)+sensitivity\n",
    "    maskBgnd = cv2.inRange(crop_rgb, lower, upper)\n",
    "\n",
    "    # res is calculated to combine with skin masking for visual verification if desired\n",
    "    maskBgnd_inv = cv2.bitwise_not(maskBgnd)\n",
    "    bgnd = cv2.bitwise_and(frm, frm, mask=maskBgnd_inv)\n",
    "\n",
    "    \"\"\"\n",
    "        identify area covered by skin tones within bounding box\n",
    "    \"\"\"\n",
    "    hsv = cv2.cvtColor(bgnd, cv2.COLOR_BGR2HSV)\n",
    "    lower = np.array([0, 48, 80]) # found on the internet (one of many)\n",
    "    upper = np.array([20, 255, 255]) # found on the internet (one of many)\n",
    "    maskSkin = cv2.inRange(hsv, lower, upper)\n",
    "    \n",
    "    # out is calculated and returned for visual verification if desired\n",
    "    maskSkin_inv = cv2.bitwise_not(maskSkin)    \n",
    "    out = cv2.bitwise_and(bgnd,bgnd, mask= maskSkin_inv)\n",
    "    \n",
    "    #\n",
    "    # output\n",
    "    #\n",
    "    out = cv2.cvtColor(out, cv2.COLOR_BGR2RGB)    \n",
    "    img = cv2.cvtColor(img, cv2.COLOR_BGR2RGB)    \n",
    "    \n",
    "    return img, crop_rgb, maskBgnd, maskSkin, out"
   ]
  },
  {
   "cell_type": "code",
   "execution_count": 270,
   "id": "military-brazil",
   "metadata": {},
   "outputs": [],
   "source": [
    "def plotImg(img, crp, msk, res, bbox):\n",
    "    fig, ax = plt.subplots(1,4)\n",
    "    \n",
    "    # add bbox markup\n",
    "    (x1, y1, x2, y2) = [int(x) for x in bbox]\n",
    "    img_bbox = cv2.rectangle(img, (x1, y1), (x2, y2), (0, 255, 0), 2)\n",
    "    \n",
    "    ax[0].imshow(img_bbox)\n",
    "    ax[1].imshow(crp)\n",
    "    ax[2].imshow(msk)\n",
    "    ax[3].imshow(res)\n",
    "    \n",
    "    plt.show()"
   ]
  },
  {
   "cell_type": "code",
   "execution_count": 271,
   "id": "distinct-firmware",
   "metadata": {},
   "outputs": [
    {
     "name": "stdout",
     "output_type": "stream",
     "text": [
      "0 0\n"
     ]
    },
    {
     "name": "stderr",
     "output_type": "stream",
     "text": [
      "/Users/blairjones/opt/anaconda3/lib/python3.7/site-packages/ipykernel_launcher.py:10: DeprecationWarning: `np.int` is a deprecated alias for the builtin `int`. To silence this warning, use `int` by itself. Doing this will not modify any behavior and is safe. When replacing `np.int`, you may wish to use e.g. `np.int64` or `np.int32` to specify the precision. If you wish to review your current use, check the release note link for additional information.\n",
      "Deprecated in NumPy 1.20; for more details and guidance: https://numpy.org/devdocs/release/1.20.0-notes.html#deprecations\n",
      "  # Remove the CWD from sys.path while we load stuff.\n"
     ]
    },
    {
     "name": "stdout",
     "output_type": "stream",
     "text": [
      "6541 65\n",
      "13082 153\n",
      "19623 245\n",
      "26164 352\n",
      "32705 464\n",
      "39246 552\n",
      "45787 665\n",
      "52328 770\n",
      "58869 926\n",
      "65410 1068\n",
      "CPU times: user 3min 43s, sys: 1min 1s, total: 4min 44s\n",
      "Wall time: 4min 47s\n"
     ]
    }
   ],
   "source": [
    "%%time\n",
    "outsized_bbox_list = []\n",
    "cnt=0\n",
    "for i, item in subsample.iterrows():\n",
    "    if cnt%(int(len(subsample)/10))==0: # because tqdm is not working :(\n",
    "        print(cnt, len(outsized_bbox_list))\n",
    "        pass\n",
    "    cnt+=1\n",
    "   \n",
    "    file = 'fashion/'+item.path\n",
    "    bbox = np.array(item[-10:-6], np.int)\n",
    "    img, crp, msk1, msk2, res = excessBlankSpace(file, bbox, sensitivity=30)\n",
    "\n",
    "    # calculate % of bbox occupied by non-desirable \n",
    "    # features (predominant background color or skin)\n",
    "    box_size = (bbox[2] - bbox[0]) * (bbox[3] - bbox[1])\n",
    "    msk1_size = msk1[msk1==255].shape\n",
    "    msk2_size = msk2[msk2==255].shape\n",
    "    bad_content = max(msk1_size, msk2_size)\n",
    "    content_ratio = np.round(bad_content[0]/box_size, 2)\n",
    "\n",
    "    if content_ratio > .8:\n",
    "        #plotImg(img, crp, msk1, res, bbox) # useful for testing on small sample\n",
    "        #print(box_size, bad_content[0], bad_ratio) # useful for testing on small sample\n",
    "        outsized_bbox_list.append(item.path)\n"
   ]
  },
  {
   "cell_type": "code",
   "execution_count": 272,
   "id": "shaped-greene",
   "metadata": {},
   "outputs": [
    {
     "name": "stdout",
     "output_type": "stream",
     "text": [
      "% of images with poor bbox-ing = 1.6\n"
     ]
    }
   ],
   "source": [
    "print('% of images with poor bbox-ing =', round(len(outsized_bbox_list) / len(subsample), 3)*100)"
   ]
  },
  {
   "cell_type": "markdown",
   "id": "straight-hartford",
   "metadata": {},
   "source": [
    "### Identify invalid filenames (those with . in pathname)"
   ]
  },
  {
   "cell_type": "code",
   "execution_count": 273,
   "id": "satellite-tongue",
   "metadata": {},
   "outputs": [
    {
     "data": {
      "text/plain": [
       "1304"
      ]
     },
     "execution_count": 273,
     "metadata": {},
     "output_type": "execute_result"
    }
   ],
   "source": [
    "to_remove = outsized_bbox_list\n",
    "for x in subsample.path.values[:]:\n",
    "    tmp = x.split('.')\n",
    "    if len(tmp) > 2:\n",
    "        to_remove.append(x)\n",
    "to_remove = set(to_remove)\n",
    "len(to_remove)"
   ]
  },
  {
   "cell_type": "code",
   "execution_count": 274,
   "id": "universal-stamp",
   "metadata": {},
   "outputs": [
    {
     "data": {
      "text/plain": [
       "64110"
      ]
     },
     "execution_count": 274,
     "metadata": {},
     "output_type": "execute_result"
    }
   ],
   "source": [
    "subsample = subsample[~subsample.path.isin(to_remove)]\n",
    "for file in to_remove:\n",
    "    os.remove('fashion/'+file)\n",
    "len(subsample)"
   ]
  },
  {
   "cell_type": "code",
   "execution_count": 277,
   "id": "mental-rubber",
   "metadata": {},
   "outputs": [
    {
     "data": {
      "text/html": [
       "<div>\n",
       "<style scoped>\n",
       "    .dataframe tbody tr th:only-of-type {\n",
       "        vertical-align: middle;\n",
       "    }\n",
       "\n",
       "    .dataframe tbody tr th {\n",
       "        vertical-align: top;\n",
       "    }\n",
       "\n",
       "    .dataframe thead th {\n",
       "        text-align: right;\n",
       "    }\n",
       "</style>\n",
       "<table border=\"1\" class=\"dataframe\">\n",
       "  <thead>\n",
       "    <tr style=\"text-align: right;\">\n",
       "      <th></th>\n",
       "      <th>index</th>\n",
       "      <th>root_path</th>\n",
       "      <th>product_name</th>\n",
       "      <th>filename</th>\n",
       "      <th>path</th>\n",
       "      <th>x1</th>\n",
       "      <th>y1</th>\n",
       "      <th>x2</th>\n",
       "      <th>y2</th>\n",
       "      <th>i_w</th>\n",
       "      <th>i_h</th>\n",
       "      <th>x</th>\n",
       "      <th>y</th>\n",
       "      <th>w</th>\n",
       "      <th>h</th>\n",
       "    </tr>\n",
       "    <tr>\n",
       "      <th>product_type</th>\n",
       "      <th></th>\n",
       "      <th></th>\n",
       "      <th></th>\n",
       "      <th></th>\n",
       "      <th></th>\n",
       "      <th></th>\n",
       "      <th></th>\n",
       "      <th></th>\n",
       "      <th></th>\n",
       "      <th></th>\n",
       "      <th></th>\n",
       "      <th></th>\n",
       "      <th></th>\n",
       "      <th></th>\n",
       "      <th></th>\n",
       "    </tr>\n",
       "  </thead>\n",
       "  <tbody>\n",
       "    <tr>\n",
       "      <th>Dress</th>\n",
       "      <td>12917</td>\n",
       "      <td>12917</td>\n",
       "      <td>12917</td>\n",
       "      <td>12917</td>\n",
       "      <td>12917</td>\n",
       "      <td>12917</td>\n",
       "      <td>12917</td>\n",
       "      <td>12917</td>\n",
       "      <td>12917</td>\n",
       "      <td>12917</td>\n",
       "      <td>12917</td>\n",
       "      <td>12917</td>\n",
       "      <td>12917</td>\n",
       "      <td>12917</td>\n",
       "      <td>12917</td>\n",
       "    </tr>\n",
       "    <tr>\n",
       "      <th>Long_Leg</th>\n",
       "      <td>12823</td>\n",
       "      <td>12823</td>\n",
       "      <td>12823</td>\n",
       "      <td>12823</td>\n",
       "      <td>12823</td>\n",
       "      <td>12823</td>\n",
       "      <td>12823</td>\n",
       "      <td>12823</td>\n",
       "      <td>12823</td>\n",
       "      <td>12823</td>\n",
       "      <td>12823</td>\n",
       "      <td>12823</td>\n",
       "      <td>12823</td>\n",
       "      <td>12823</td>\n",
       "      <td>12823</td>\n",
       "    </tr>\n",
       "    <tr>\n",
       "      <th>Long_Sleeve</th>\n",
       "      <td>12871</td>\n",
       "      <td>12871</td>\n",
       "      <td>12871</td>\n",
       "      <td>12871</td>\n",
       "      <td>12871</td>\n",
       "      <td>12871</td>\n",
       "      <td>12871</td>\n",
       "      <td>12871</td>\n",
       "      <td>12871</td>\n",
       "      <td>12871</td>\n",
       "      <td>12871</td>\n",
       "      <td>12871</td>\n",
       "      <td>12871</td>\n",
       "      <td>12871</td>\n",
       "      <td>12871</td>\n",
       "    </tr>\n",
       "    <tr>\n",
       "      <th>Tank</th>\n",
       "      <td>12852</td>\n",
       "      <td>12852</td>\n",
       "      <td>12852</td>\n",
       "      <td>12852</td>\n",
       "      <td>12852</td>\n",
       "      <td>12852</td>\n",
       "      <td>12852</td>\n",
       "      <td>12852</td>\n",
       "      <td>12852</td>\n",
       "      <td>12852</td>\n",
       "      <td>12852</td>\n",
       "      <td>12852</td>\n",
       "      <td>12852</td>\n",
       "      <td>12852</td>\n",
       "      <td>12852</td>\n",
       "    </tr>\n",
       "    <tr>\n",
       "      <th>Tee</th>\n",
       "      <td>12647</td>\n",
       "      <td>12647</td>\n",
       "      <td>12647</td>\n",
       "      <td>12647</td>\n",
       "      <td>12647</td>\n",
       "      <td>12647</td>\n",
       "      <td>12647</td>\n",
       "      <td>12647</td>\n",
       "      <td>12647</td>\n",
       "      <td>12647</td>\n",
       "      <td>12647</td>\n",
       "      <td>12647</td>\n",
       "      <td>12647</td>\n",
       "      <td>12647</td>\n",
       "      <td>12647</td>\n",
       "    </tr>\n",
       "  </tbody>\n",
       "</table>\n",
       "</div>"
      ],
      "text/plain": [
       "              index  root_path  product_name  filename   path     x1     y1  \\\n",
       "product_type                                                                  \n",
       "Dress         12917      12917         12917     12917  12917  12917  12917   \n",
       "Long_Leg      12823      12823         12823     12823  12823  12823  12823   \n",
       "Long_Sleeve   12871      12871         12871     12871  12871  12871  12871   \n",
       "Tank          12852      12852         12852     12852  12852  12852  12852   \n",
       "Tee           12647      12647         12647     12647  12647  12647  12647   \n",
       "\n",
       "                 x2     y2    i_w    i_h      x      y      w      h  \n",
       "product_type                                                          \n",
       "Dress         12917  12917  12917  12917  12917  12917  12917  12917  \n",
       "Long_Leg      12823  12823  12823  12823  12823  12823  12823  12823  \n",
       "Long_Sleeve   12871  12871  12871  12871  12871  12871  12871  12871  \n",
       "Tank          12852  12852  12852  12852  12852  12852  12852  12852  \n",
       "Tee           12647  12647  12647  12647  12647  12647  12647  12647  "
      ]
     },
     "execution_count": 277,
     "metadata": {},
     "output_type": "execute_result"
    }
   ],
   "source": [
    "subsample.groupby('product_type').count()"
   ]
  },
  {
   "cell_type": "markdown",
   "id": "novel-alias",
   "metadata": {},
   "source": [
    "### Create label/*.txt and data.yaml files"
   ]
  },
  {
   "cell_type": "code",
   "execution_count": 279,
   "id": "wanted-suicide",
   "metadata": {},
   "outputs": [],
   "source": [
    "# create 1 label file for each image\n",
    "for i, entry in subsample.iterrows():\n",
    "    # see YOLOv5 pytorch data format:  class x_center y_center width height\n",
    "    idx = list(cats).index(entry.product_type)\n",
    "    metadata = str(idx)+' ' + ' '.join([str(round(x,3)) for x in entry.iloc[-4:]])    \n",
    "    filepath = entry.path.split('.')[0]\n",
    "    fileroot = 'fashion/labels/'+filepath\n",
    "    \n",
    "    if not os.path.exists(os.path.dirname(fileroot)):\n",
    "        try:\n",
    "            os.makedirs(os.path.dirname(fileroot))\n",
    "        except: # Guard against race condition\n",
    "            print(problem)\n",
    "            raise\n",
    "    \n",
    "    f = open(fileroot+'.txt', 'w')\n",
    "    f.write(metadata)\n",
    "    f.close()"
   ]
  },
  {
   "cell_type": "code",
   "execution_count": 280,
   "id": "collect-organizer",
   "metadata": {},
   "outputs": [],
   "source": [
    "lines = []\n",
    "lines.append('path: ../datasets/fashion # root dir\\n')\n",
    "lines.append('train: images/train\\n')\n",
    "lines.append('val: images/val\\n')\n",
    "lines.append('test:  # test images (optional)\\n')\n",
    "\n",
    "lines.append('nc: '+str(len(cats))+' # number of classes\\n')\n",
    "\n",
    "str_classes = \"[ '\" + \"',\\n'\".join(cats) + \"' ]\"\n",
    "\n",
    "lines.append('names: '+str_classes + '\\n')\n",
    "\n",
    "f = open('fashion/fashion.yaml', 'w')\n",
    "f.writelines(lines)\n",
    "f.close()"
   ]
  },
  {
   "cell_type": "markdown",
   "id": "essential-steel",
   "metadata": {},
   "source": [
    "# Split into Train/Val"
   ]
  },
  {
   "cell_type": "code",
   "execution_count": 281,
   "id": "lucky-perfume",
   "metadata": {},
   "outputs": [],
   "source": [
    "from sklearn.model_selection import train_test_split\n",
    "\n",
    "train, val = train_test_split(subsample, test_size=0.2, random_state=314)"
   ]
  },
  {
   "cell_type": "code",
   "execution_count": 282,
   "id": "acute-population",
   "metadata": {},
   "outputs": [],
   "source": [
    "if not os.path.exists('fashion/images'):\n",
    "    os.mkdir('fashion/images')\n",
    "if not os.path.exists('fashion/images/train'):\n",
    "    os.mkdir('fashion/images/train')\n",
    "if not os.path.exists('fashion/images/val'):\n",
    "    os.mkdir('fashion/images/val')\n",
    "\n",
    "if not os.path.exists('fashion/labels'):\n",
    "    os.mkdir('fashion/labels')\n",
    "if not os.path.exists('fashion/labels/train'):\n",
    "    os.mkdir('fashion/labels/train')\n",
    "if not os.path.exists('fashion/labels/val'):\n",
    "    os.mkdir('fashion/labels/val')"
   ]
  },
  {
   "cell_type": "code",
   "execution_count": 283,
   "id": "mineral-schedule",
   "metadata": {},
   "outputs": [],
   "source": [
    "for i, file in val.iterrows():\n",
    "    base=file.path\n",
    "    src = 'fashion/'+base\n",
    "    dest = 'fashion/images/val/'+base.replace('img_highres/', '')\n",
    "    folder = 'fashion/images/val/' + '/'.join(base.split('/')[1:-1])\n",
    "    if not os.path.exists(folder):\n",
    "        os.mkdir(folder)\n",
    "    try:\n",
    "        shutil.move(src, dest)\n",
    "    except:\n",
    "        print('error on ',src)\n",
    "\n",
    "    lbl_base = base.split('.')[0]+'.txt'\n",
    "    lbl_src = 'fashion/labels/'+lbl_base\n",
    "    lbl_dest = 'fashion/labels/val/'+lbl_base.replace('img_highres/', '')\n",
    "    folder = 'fashion/labels/val/' + '/'.join(base.split('/')[1:-1])\n",
    "    if not os.path.exists(folder):\n",
    "        os.mkdir(folder)\n",
    "    try:\n",
    "        shutil.move(lbl_src, lbl_dest)\n",
    "    except:\n",
    "        print('error on ',src)"
   ]
  },
  {
   "cell_type": "markdown",
   "id": "valuable-holder",
   "metadata": {},
   "source": [
    "# Cleanup remaining paths and create .zip for YOLOv5 training"
   ]
  },
  {
   "cell_type": "code",
   "execution_count": 284,
   "id": "adjacent-uganda",
   "metadata": {},
   "outputs": [],
   "source": [
    "!mv fashion/img_highres/* fashion/images/train\n",
    "!rm -r fashion/img_highres"
   ]
  },
  {
   "cell_type": "code",
   "execution_count": 285,
   "id": "nuclear-pricing",
   "metadata": {},
   "outputs": [],
   "source": [
    "!mv fashion/labels/img_highres/* fashion/labels/train\n",
    "!rm -r fashion/labels/img_highres"
   ]
  },
  {
   "cell_type": "code",
   "execution_count": 289,
   "id": "registered-glossary",
   "metadata": {},
   "outputs": [
    {
     "data": {
      "text/plain": [
       "128220"
      ]
     },
     "execution_count": 289,
     "metadata": {},
     "output_type": "execute_result"
    }
   ],
   "source": [
    "len(subsample) * 2"
   ]
  },
  {
   "cell_type": "code",
   "execution_count": 288,
   "id": "hydraulic-diabetes",
   "metadata": {},
   "outputs": [
    {
     "name": "stdout",
     "output_type": "stream",
     "text": [
      "  128222\r\n"
     ]
    }
   ],
   "source": [
    "!find fashion/ -type f | wc -l"
   ]
  },
  {
   "cell_type": "code",
   "execution_count": 290,
   "id": "further-assignment",
   "metadata": {},
   "outputs": [],
   "source": [
    "!zip -r -q fashion.zip fashion"
   ]
  },
  {
   "cell_type": "markdown",
   "id": "cross-friday",
   "metadata": {},
   "source": [
    "# Next\n",
    "\n",
    "- Load the zip file to the yolov5/pytorch training environment in path datasets/ (to create).\n",
    "- Unzip the file\n",
    "- Copy or move the .yaml file to the path yolov5/data/ (expected by train.py from yolov5).  This path is available after running the setup notebook cell which clones the yolov5 repo."
   ]
  },
  {
   "cell_type": "code",
   "execution_count": null,
   "id": "sexual-encyclopedia",
   "metadata": {},
   "outputs": [],
   "source": []
  }
 ],
 "metadata": {
  "kernelspec": {
   "display_name": "Python 3",
   "language": "python",
   "name": "python3"
  },
  "language_info": {
   "codemirror_mode": {
    "name": "ipython",
    "version": 3
   },
   "file_extension": ".py",
   "mimetype": "text/x-python",
   "name": "python",
   "nbconvert_exporter": "python",
   "pygments_lexer": "ipython3",
   "version": "3.7.4"
  }
 },
 "nbformat": 4,
 "nbformat_minor": 5
}
