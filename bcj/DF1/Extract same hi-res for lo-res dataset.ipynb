{
 "cells": [
  {
   "cell_type": "code",
   "execution_count": 39,
   "id": "organizational-place",
   "metadata": {},
   "outputs": [],
   "source": [
    "import zipfile\n",
    "import pandas as pd\n",
    "import numpy as np\n",
    "import matplotlib.pyplot as plt\n",
    "import cv2\n",
    "from PIL import Image\n",
    "import os\n",
    "import shutil\n",
    "import io\n",
    "from tqdm.notebook import tqdm"
   ]
  },
  {
   "cell_type": "code",
   "execution_count": 2,
   "id": "american-subcommittee",
   "metadata": {},
   "outputs": [],
   "source": [
    "zipf = zipfile.ZipFile('Img/img_highres.zip')"
   ]
  },
  {
   "cell_type": "code",
   "execution_count": 3,
   "id": "precise-machine",
   "metadata": {},
   "outputs": [],
   "source": [
    "filenames = zipf.namelist()\n",
    "df = pd.DataFrame([x.split('/') for x in filenames[:]], columns=['root_path', 'product_name', 'filename'])\n",
    "df['path'] = filenames"
   ]
  },
  {
   "cell_type": "code",
   "execution_count": 4,
   "id": "sweet-prediction",
   "metadata": {},
   "outputs": [
    {
     "name": "stdout",
     "output_type": "stream",
     "text": [
      "289212\n"
     ]
    },
    {
     "data": {
      "text/html": [
       "<div>\n",
       "<style scoped>\n",
       "    .dataframe tbody tr th:only-of-type {\n",
       "        vertical-align: middle;\n",
       "    }\n",
       "\n",
       "    .dataframe tbody tr th {\n",
       "        vertical-align: top;\n",
       "    }\n",
       "\n",
       "    .dataframe thead th {\n",
       "        text-align: right;\n",
       "    }\n",
       "</style>\n",
       "<table border=\"1\" class=\"dataframe\">\n",
       "  <thead>\n",
       "    <tr style=\"text-align: right;\">\n",
       "      <th></th>\n",
       "      <th>index</th>\n",
       "      <th>root_path</th>\n",
       "      <th>product_name</th>\n",
       "      <th>filename</th>\n",
       "      <th>path</th>\n",
       "    </tr>\n",
       "  </thead>\n",
       "  <tbody>\n",
       "    <tr>\n",
       "      <th>26447</th>\n",
       "      <td>26954</td>\n",
       "      <td>img_highres</td>\n",
       "      <td>Bow-Front_Woven_Top</td>\n",
       "      <td>img_00000020.jpg</td>\n",
       "      <td>img_highres/Bow-Front_Woven_Top/img_00000020.jpg</td>\n",
       "    </tr>\n",
       "    <tr>\n",
       "      <th>206238</th>\n",
       "      <td>210279</td>\n",
       "      <td>img_highres</td>\n",
       "      <td>Pleated_Woven_Mini_Skirt</td>\n",
       "      <td>img_00000019.jpg</td>\n",
       "      <td>img_highres/Pleated_Woven_Mini_Skirt/img_00000...</td>\n",
       "    </tr>\n",
       "  </tbody>\n",
       "</table>\n",
       "</div>"
      ],
      "text/plain": [
       "         index    root_path              product_name          filename  \\\n",
       "26447    26954  img_highres       Bow-Front_Woven_Top  img_00000020.jpg   \n",
       "206238  210279  img_highres  Pleated_Woven_Mini_Skirt  img_00000019.jpg   \n",
       "\n",
       "                                                     path  \n",
       "26447    img_highres/Bow-Front_Woven_Top/img_00000020.jpg  \n",
       "206238  img_highres/Pleated_Woven_Mini_Skirt/img_00000...  "
      ]
     },
     "execution_count": 4,
     "metadata": {},
     "output_type": "execute_result"
    }
   ],
   "source": [
    "df = df.dropna()\n",
    "df = df[df.filename != '']\n",
    "df = df.reset_index()\n",
    "print(len(df))\n",
    "df.sample(n=2)"
   ]
  },
  {
   "cell_type": "code",
   "execution_count": 40,
   "id": "bottom-birth",
   "metadata": {},
   "outputs": [
    {
     "data": {
      "application/vnd.jupyter.widget-view+json": {
       "model_id": "90be623e02574a7790fb08bd3e0aeacb",
       "version_major": 2,
       "version_minor": 0
      },
      "text/plain": [
       "  0%|          | 0/1174 [00:00<?, ?it/s]"
      ]
     },
     "metadata": {},
     "output_type": "display_data"
    }
   ],
   "source": [
    "target_dim= 640.0\n",
    "\n",
    "#root_path = 'df1_train_2_16k_hires/fashion/images/train'\n",
    "#root_label = 'df1_train_2_16k_hires/fashion/labels/train'\n",
    "\n",
    "root_path = 'df1_train_2_16k_hires/fashion/images/val'\n",
    "root_label = 'df1_train_2_16k_hires/fashion/labels/val'\n",
    "\n",
    "for sub_path in tqdm(os.listdir(root_path)):\n",
    "    if 'DS_' not in sub_path:\n",
    "        for filename in os.listdir(root_path+'/'+sub_path)[:]:\n",
    "            if 'jpg' in filename.split('.')[1]:\n",
    "                tmp = Image.open(root_path+'/'+sub_path+'/'+filename)\n",
    "                i_w = tmp.size[0]\n",
    "                i_h = tmp.size[1]\n",
    "                \n",
    "                img = Image.open(io.BytesIO(zipf.read('img_highres/'+sub_path+'/'+filename)))\n",
    "                img.thumbnail((target_dim, target_dim)) \n",
    "                if 'png' in str(type(img)).lower():\n",
    "                    img = img.convert('RGB')\n",
    "                img.save(root_path+'/'+sub_path+'/'+filename, 'JPEG', optimize=True)\n",
    "                #print(sub_path, filename)\n"
   ]
  },
  {
   "cell_type": "code",
   "execution_count": null,
   "id": "based-olympus",
   "metadata": {},
   "outputs": [],
   "source": []
  }
 ],
 "metadata": {
  "kernelspec": {
   "display_name": "Python 3",
   "language": "python",
   "name": "python3"
  },
  "language_info": {
   "codemirror_mode": {
    "name": "ipython",
    "version": 3
   },
   "file_extension": ".py",
   "mimetype": "text/x-python",
   "name": "python",
   "nbconvert_exporter": "python",
   "pygments_lexer": "ipython3",
   "version": "3.7.4"
  }
 },
 "nbformat": 4,
 "nbformat_minor": 5
}
