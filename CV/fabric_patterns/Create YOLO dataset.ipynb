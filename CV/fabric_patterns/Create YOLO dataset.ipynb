{
 "cells": [
  {
   "cell_type": "code",
   "execution_count": 66,
   "id": "modular-vision",
   "metadata": {},
   "outputs": [],
   "source": [
    "from PIL import Image\n",
    "import os\n",
    "import shutil\n",
    "from os.path import isfile\n",
    "from tqdm.notebook import tqdm"
   ]
  },
  {
   "cell_type": "code",
   "execution_count": 29,
   "id": "critical-merit",
   "metadata": {},
   "outputs": [
    {
     "data": {
      "application/vnd.jupyter.widget-view+json": {
       "model_id": "96b18fe65db74eca9bf97c60cb5a52d2",
       "version_major": 2,
       "version_minor": 0
      },
      "text/plain": [
       "  0%|          | 0/7 [00:00<?, ?it/s]"
      ]
     },
     "metadata": {},
     "output_type": "display_data"
    },
    {
     "data": {
      "application/vnd.jupyter.widget-view+json": {
       "model_id": "",
       "version_major": 2,
       "version_minor": 0
      },
      "text/plain": [
       "  0%|          | 0/293 [00:00<?, ?it/s]"
      ]
     },
     "metadata": {},
     "output_type": "display_data"
    },
    {
     "data": {
      "application/vnd.jupyter.widget-view+json": {
       "model_id": "",
       "version_major": 2,
       "version_minor": 0
      },
      "text/plain": [
       "  0%|          | 0/461 [00:00<?, ?it/s]"
      ]
     },
     "metadata": {},
     "output_type": "display_data"
    },
    {
     "data": {
      "application/vnd.jupyter.widget-view+json": {
       "model_id": "",
       "version_major": 2,
       "version_minor": 0
      },
      "text/plain": [
       "  0%|          | 0/417 [00:00<?, ?it/s]"
      ]
     },
     "metadata": {},
     "output_type": "display_data"
    },
    {
     "data": {
      "application/vnd.jupyter.widget-view+json": {
       "model_id": "",
       "version_major": 2,
       "version_minor": 0
      },
      "text/plain": [
       "  0%|          | 0/504 [00:00<?, ?it/s]"
      ]
     },
     "metadata": {},
     "output_type": "display_data"
    },
    {
     "data": {
      "application/vnd.jupyter.widget-view+json": {
       "model_id": "",
       "version_major": 2,
       "version_minor": 0
      },
      "text/plain": [
       "  0%|          | 0/667 [00:00<?, ?it/s]"
      ]
     },
     "metadata": {},
     "output_type": "display_data"
    },
    {
     "data": {
      "application/vnd.jupyter.widget-view+json": {
       "model_id": "",
       "version_major": 2,
       "version_minor": 0
      },
      "text/plain": [
       "  0%|          | 0/874 [00:00<?, ?it/s]"
      ]
     },
     "metadata": {},
     "output_type": "display_data"
    },
    {
     "data": {
      "application/vnd.jupyter.widget-view+json": {
       "model_id": "",
       "version_major": 2,
       "version_minor": 0
      },
      "text/plain": [
       "  0%|          | 0/515 [00:00<?, ?it/s]"
      ]
     },
     "metadata": {},
     "output_type": "display_data"
    }
   ],
   "source": [
    "# reformat images to 320x320 max\n",
    "root_path = 'fabric/images/'\n",
    "target_dim = 320.0\n",
    "\n",
    "folders = os.listdir(root_path)\n",
    "folders = [f for f in folders if not isfile(f)]\n",
    "\n",
    "all_images = []\n",
    "all_labels = []\n",
    "\n",
    "for folder in tqdm(folders[:]):\n",
    "    #print(folder)\n",
    "    if 'DS_' not in folder:\n",
    "        for file in tqdm(os.listdir(root_path+folder)[:], leave=0):\n",
    "#            print(file)\n",
    "            filename = file.split('.')\n",
    "            if (len(filename)<2):\n",
    "                continue\n",
    "            if ('jpg' not in filename[1]):\n",
    "                continue\n",
    "                \n",
    "            img = Image.open(root_path+folder+'/'+file)\n",
    "            img.thumbnail((target_dim, target_dim)) \n",
    "            if 'png' in str(type(img)).lower():\n",
    "                img = img.convert('RGB')\n",
    "            img.save(root_path+folder+'/'+file, 'JPEG', optimize=True)\n",
    "            all_images.append(root_path+'/'+folder+'/'+file)\n",
    "\n",
    "            idx = list(folders).index(folder)\n",
    "            metadata = str(idx)+' 0.5 0.5 1.0 1.0' # use full image\n",
    "            filelabel = 'fabric/labels/'+folder+'/'+filename[0]+'.txt'\n",
    "            f = open(filelabel, 'w')\n",
    "            f.write(metadata)\n",
    "            f.close()\n",
    "            all_labels.append('fabric/labels/'+folder+'/'+filename[0]+'.txt')"
   ]
  },
  {
   "cell_type": "code",
   "execution_count": 30,
   "id": "fabulous-rings",
   "metadata": {},
   "outputs": [],
   "source": [
    "lines = []\n",
    "lines.append('path: ../datasets/fabric # root dir\\n')\n",
    "lines.append('train: images/train\\n')\n",
    "lines.append('val: images/val\\n')\n",
    "lines.append('test:  # test images (optional)\\n')\n",
    "\n",
    "lines.append('nc: '+str(len(folders))+' # number of classes\\n')\n",
    "\n",
    "str_classes = \"[ '\" + \"',\\n'\".join(folders) + \"' ]\"\n",
    "\n",
    "lines.append('names: '+str_classes + '\\n')\n",
    "\n",
    "f = open('fabric/fabric.yaml', 'w')\n",
    "f.writelines(lines)\n",
    "f.close()"
   ]
  },
  {
   "cell_type": "code",
   "execution_count": 32,
   "id": "hybrid-tender",
   "metadata": {},
   "outputs": [],
   "source": [
    "from sklearn.model_selection import train_test_split\n",
    "\n",
    "train_images, val_images, train_labels, val_labels = train_test_split(all_images, all_labels, test_size=0.2, random_state=314)"
   ]
  },
  {
   "cell_type": "code",
   "execution_count": 67,
   "id": "built-superintendent",
   "metadata": {},
   "outputs": [],
   "source": [
    "def moveFiles(files, type_='images/', dest_='train/'):\n",
    "    for file in files:\n",
    "        dest_name = file.replace(type_, type_+dest_)        \n",
    "\n",
    "        root_folder = '/'.join(file.split('/')[:-2])+'/'+dest_\n",
    "        if not os.path.exists(root_folder):\n",
    "            os.mkdir(root_folder)\n",
    "\n",
    "        folder = '/'.join(file.split('/')[:-1])\n",
    "        folder = folder.replace(type_, type_+dest_)        \n",
    "        if not os.path.exists(folder):\n",
    "            os.mkdir(folder)\n",
    "            \n",
    "        try:\n",
    "            shutil.move(file, dest_name)\n",
    "        except:\n",
    "            print('error on ',file)"
   ]
  },
  {
   "cell_type": "code",
   "execution_count": 69,
   "id": "ecological-accent",
   "metadata": {},
   "outputs": [],
   "source": [
    "#moveFiles(train_images, type_='images/', dest_='train/')\n",
    "moveFiles(train_labels, type_='labels/', dest_='train/')\n",
    "moveFiles(val_images, type_='images/', dest_='val/')\n",
    "moveFiles(val_labels, type_='labels/', dest_='val/')"
   ]
  },
  {
   "cell_type": "code",
   "execution_count": null,
   "id": "exact-municipality",
   "metadata": {},
   "outputs": [],
   "source": []
  }
 ],
 "metadata": {
  "kernelspec": {
   "display_name": "Python 3",
   "language": "python",
   "name": "python3"
  },
  "language_info": {
   "codemirror_mode": {
    "name": "ipython",
    "version": 3
   },
   "file_extension": ".py",
   "mimetype": "text/x-python",
   "name": "python",
   "nbconvert_exporter": "python",
   "pygments_lexer": "ipython3",
   "version": "3.7.4"
  }
 },
 "nbformat": 4,
 "nbformat_minor": 5
}
