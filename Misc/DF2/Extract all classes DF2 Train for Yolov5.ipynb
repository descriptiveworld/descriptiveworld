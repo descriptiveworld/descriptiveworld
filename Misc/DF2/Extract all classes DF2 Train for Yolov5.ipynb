{
 "cells": [
  {
   "cell_type": "code",
   "execution_count": 2,
   "id": "cardiac-burns",
   "metadata": {},
   "outputs": [],
   "source": [
    "import gzip\n",
    "import zipfile\n",
    "import pandas as pd\n",
    "import numpy as np\n",
    "import matplotlib.pyplot as plt\n",
    "import cv2\n",
    "from tqdm.notebook import tqdm\n",
    "from PIL import Image\n",
    "import os\n",
    "import shutil\n",
    "import json\n",
    "import io"
   ]
  },
  {
   "cell_type": "markdown",
   "id": "prospective-queensland",
   "metadata": {},
   "source": [
    "# Inspect full image archive without extracting all files"
   ]
  },
  {
   "cell_type": "code",
   "execution_count": 3,
   "id": "coastal-ready",
   "metadata": {},
   "outputs": [
    {
     "name": "stdout",
     "output_type": "stream",
     "text": [
      "CPU times: user 2.92 s, sys: 119 ms, total: 3.04 s\n",
      "Wall time: 3.05 s\n"
     ]
    }
   ],
   "source": [
    "%%time\n",
    "_pwd = b'2019Deepfashion2**'\n",
    "zipf = zipfile.ZipFile('train.zip')"
   ]
  },
  {
   "cell_type": "code",
   "execution_count": 4,
   "id": "attended-warehouse",
   "metadata": {},
   "outputs": [],
   "source": [
    "filenames = zipf.namelist()\n",
    "df = pd.DataFrame([x.split('/') for x in filenames[:]], columns=['root_path', 'folder', 'filename'])\n",
    "df['path'] = filenames"
   ]
  },
  {
   "cell_type": "code",
   "execution_count": 5,
   "id": "appropriate-audience",
   "metadata": {},
   "outputs": [
    {
     "name": "stdout",
     "output_type": "stream",
     "text": [
      "383922\n"
     ]
    },
    {
     "data": {
      "text/html": [
       "<div>\n",
       "<style scoped>\n",
       "    .dataframe tbody tr th:only-of-type {\n",
       "        vertical-align: middle;\n",
       "    }\n",
       "\n",
       "    .dataframe tbody tr th {\n",
       "        vertical-align: top;\n",
       "    }\n",
       "\n",
       "    .dataframe thead th {\n",
       "        text-align: right;\n",
       "    }\n",
       "</style>\n",
       "<table border=\"1\" class=\"dataframe\">\n",
       "  <thead>\n",
       "    <tr style=\"text-align: right;\">\n",
       "      <th></th>\n",
       "      <th>index</th>\n",
       "      <th>root_path</th>\n",
       "      <th>folder</th>\n",
       "      <th>filename</th>\n",
       "      <th>path</th>\n",
       "    </tr>\n",
       "  </thead>\n",
       "  <tbody>\n",
       "    <tr>\n",
       "      <th>22538</th>\n",
       "      <td>22540</td>\n",
       "      <td>train</td>\n",
       "      <td>annos</td>\n",
       "      <td>125308.json</td>\n",
       "      <td>train/annos/125308.json</td>\n",
       "    </tr>\n",
       "    <tr>\n",
       "      <th>18865</th>\n",
       "      <td>18867</td>\n",
       "      <td>train</td>\n",
       "      <td>annos</td>\n",
       "      <td>173086.json</td>\n",
       "      <td>train/annos/173086.json</td>\n",
       "    </tr>\n",
       "    <tr>\n",
       "      <th>286515</th>\n",
       "      <td>286518</td>\n",
       "      <td>train</td>\n",
       "      <td>image</td>\n",
       "      <td>093810.jpg</td>\n",
       "      <td>train/image/093810.jpg</td>\n",
       "    </tr>\n",
       "    <tr>\n",
       "      <th>79160</th>\n",
       "      <td>79162</td>\n",
       "      <td>train</td>\n",
       "      <td>annos</td>\n",
       "      <td>032988.json</td>\n",
       "      <td>train/annos/032988.json</td>\n",
       "    </tr>\n",
       "    <tr>\n",
       "      <th>94723</th>\n",
       "      <td>94725</td>\n",
       "      <td>train</td>\n",
       "      <td>annos</td>\n",
       "      <td>161403.json</td>\n",
       "      <td>train/annos/161403.json</td>\n",
       "    </tr>\n",
       "  </tbody>\n",
       "</table>\n",
       "</div>"
      ],
      "text/plain": [
       "         index root_path folder     filename                     path\n",
       "22538    22540     train  annos  125308.json  train/annos/125308.json\n",
       "18865    18867     train  annos  173086.json  train/annos/173086.json\n",
       "286515  286518     train  image   093810.jpg   train/image/093810.jpg\n",
       "79160    79162     train  annos  032988.json  train/annos/032988.json\n",
       "94723    94725     train  annos  161403.json  train/annos/161403.json"
      ]
     },
     "execution_count": 5,
     "metadata": {},
     "output_type": "execute_result"
    }
   ],
   "source": [
    "df = df.dropna()\n",
    "df = df[df.filename != '']\n",
    "df = df.reset_index()\n",
    "print(len(df))\n",
    "df.sample(n=5)"
   ]
  },
  {
   "cell_type": "code",
   "execution_count": 6,
   "id": "tired-mozambique",
   "metadata": {},
   "outputs": [
    {
     "name": "stdout",
     "output_type": "stream",
     "text": [
      "uncompressed size = 10.89 GB\n"
     ]
    }
   ],
   "source": [
    "osize = 0 \n",
    "for item in zipf.infolist():\n",
    "    osize += item.file_size\n",
    "print('uncompressed size =',round(osize/1000000000,2),'GB')"
   ]
  },
  {
   "cell_type": "markdown",
   "id": "deluxe-atlanta",
   "metadata": {},
   "source": [
    "# Basic EDA\n"
   ]
  },
  {
   "cell_type": "code",
   "execution_count": 7,
   "id": "marine-feature",
   "metadata": {},
   "outputs": [],
   "source": [
    "samples = df[df['folder']=='image']['path'].sample(10)"
   ]
  },
  {
   "cell_type": "code",
   "execution_count": 8,
   "id": "excited-edgar",
   "metadata": {},
   "outputs": [
    {
     "data": {
      "text/plain": [
       "338005    train/image/177571.jpg\n",
       "286334    train/image/080875.jpg\n",
       "322223    train/image/039213.jpg\n",
       "280676    train/image/153294.jpg\n",
       "273765    train/image/170564.jpg\n",
       "328827    train/image/178560.jpg\n",
       "223051    train/image/189672.jpg\n",
       "212081    train/image/037504.jpg\n",
       "213114    train/image/039709.jpg\n",
       "285039    train/image/030160.jpg\n",
       "Name: path, dtype: object"
      ]
     },
     "execution_count": 8,
     "metadata": {},
     "output_type": "execute_result"
    }
   ],
   "source": [
    "samples"
   ]
  },
  {
   "cell_type": "code",
   "execution_count": 9,
   "id": "weighted-people",
   "metadata": {},
   "outputs": [],
   "source": [
    "samples = df[df['folder']=='image']['path'].sample(10)\n",
    "annos = []\n",
    "bboxes = []\n",
    "images = []\n",
    "for file in samples[:1]: \n",
    "    anno = zipf.read(file.replace('.jpg','.json').replace('/image/','/annos/'), pwd=_pwd)\n",
    "    anno = json.loads(str(anno)[2:-1])\n",
    "    annos.append(anno)\n",
    "    \n",
    "    bbox = anno['item1']['bounding_box']\n",
    "    bboxes.append(bbox)\n",
    "    \n",
    "    img = Image.open(io.BytesIO(zipf.read(file, pwd=_pwd)))\n",
    "    images.append(img)"
   ]
  },
  {
   "cell_type": "code",
   "execution_count": 10,
   "id": "sensitive-settlement",
   "metadata": {},
   "outputs": [],
   "source": [
    "annos = []\n",
    "bboxes = []\n",
    "images = []\n",
    "for file in samples[:1]: \n",
    "    anno = zipf.read(file.replace('.jpg','.json').replace('/image/','/annos/'), pwd=_pwd)\n",
    "    anno = json.loads(str(anno)[2:-1])\n",
    "    annos.append(anno)\n",
    "    \n",
    "    bbox = anno['item1']['bounding_box']\n",
    "    bboxes.append(bbox)\n",
    "    \n",
    "    img = Image.open(io.BytesIO(zipf.read(file, pwd=_pwd)))\n",
    "    images.append(img)"
   ]
  },
  {
   "cell_type": "code",
   "execution_count": 11,
   "id": "covered-first",
   "metadata": {},
   "outputs": [],
   "source": [
    "#anno['item1'].keys()\n",
    "#dict_keys(['segmentation', 'scale', 'viewpoint', 'zoom_in', 'landmarks', 'style', 'bounding_box', 'category_id', 'occlusion', 'category_name'])"
   ]
  },
  {
   "cell_type": "code",
   "execution_count": 12,
   "id": "light-edwards",
   "metadata": {},
   "outputs": [],
   "source": [
    "if False:\n",
    "    segs = anno['item1']['segmentation'][0]\n",
    "    segs_arr = np.array([str(x).split('.') for x in segs])\n",
    "\n",
    "    marks = []\n",
    "    for idx in range(0,len(anno['item1']['landmarks']),3):\n",
    "        x = anno['item1']['landmarks'][idx]\n",
    "        y = anno['item1']['landmarks'][idx+1]\n",
    "        if not(x==0 & y==0):\n",
    "            marks.append([x,y])\n",
    "    marks_arr = np.array(marks)\n",
    "    #marks_arr = marks_arr[marks_arr[:, 0].argsort()]"
   ]
  },
  {
   "cell_type": "markdown",
   "id": "square-conducting",
   "metadata": {},
   "source": [
    "### Inspect a few sample images and corresponding bounding boxes"
   ]
  },
  {
   "cell_type": "code",
   "execution_count": 14,
   "id": "hindu-pepper",
   "metadata": {},
   "outputs": [
    {
     "data": {
      "image/png": "[encoded data removed]",
      "text/plain": [
       "<Figure size 640x480 with 1 Axes>"
      ]
     },
     "metadata": {},
     "output_type": "display_data"
    }
   ],
   "source": [
    "for img, bbox in zip(images, bboxes):\n",
    "    (x1, y1, x2, y2) = bbox\n",
    "    img_bbox = cv2.rectangle(np.array(img), (x1, y1), (x2, y2), (0, 255, 0), 2)\n",
    "    plt.imshow(img_bbox)\n",
    "    plt.show()"
   ]
  },
  {
   "cell_type": "markdown",
   "id": "convenient-shareware",
   "metadata": {},
   "source": [
    "# Examine classes"
   ]
  },
  {
   "cell_type": "code",
   "execution_count": 15,
   "id": "cleared-sculpture",
   "metadata": {},
   "outputs": [
    {
     "name": "stdout",
     "output_type": "stream",
     "text": [
      "# rows 191961\n"
     ]
    },
    {
     "data": {
      "application/vnd.jupyter.widget-view+json": {
       "model_id": "3e1dd62234a045d0964b93a517866915",
       "version_major": 2,
       "version_minor": 0
      },
      "text/plain": [
       "0it [00:00, ?it/s]"
      ]
     },
     "metadata": {},
     "output_type": "display_data"
    },
    {
     "name": "stdout",
     "output_type": "stream",
     "text": [
      "CPU times: user 2min 35s, sys: 2.39 s, total: 2min 37s\n",
      "Wall time: 2min 37s\n"
     ]
    }
   ],
   "source": [
    "%%time\n",
    "\n",
    "ids = []\n",
    "sources = []\n",
    "scales = []\n",
    "viewpoints = []\n",
    "zooms = []\n",
    "occlusions = []\n",
    "landmarks = []\n",
    "bboxes = []\n",
    "styles = []\n",
    "category_ids = []\n",
    "category_names = []\n",
    "annos = df[df['folder']=='annos']\n",
    "print('# rows', len(annos))\n",
    "for idx, row in tqdm(annos.iterrows()): \n",
    "    file = row.path\n",
    "    anno = zipf.read(file, pwd=_pwd)\n",
    "    anno = json.loads(str(anno)[2:-1])\n",
    "    \n",
    "    for key in anno.keys():\n",
    "        if 'item' in key:\n",
    "            ids.append(row.filename.split('.')[0])\n",
    "            sources.append(anno['source'])\n",
    "            #anno.keys() => dict_keys(['segmentation', 'scale', 'viewpoint', 'zoom_in', 'landmarks', 'style', 'bounding_box', 'category_id', 'occlusion', 'category_name'])\n",
    "            scales.append(anno[key]['scale'])\n",
    "            viewpoints.append(anno[key]['viewpoint'])\n",
    "            zooms.append(anno[key]['zoom_in'])\n",
    "            occlusions.append(anno[key]['occlusion'])\n",
    "            landmarks.append(anno[key]['landmarks'])\n",
    "            bboxes.append(anno[key]['bounding_box'])\n",
    "            styles.append(anno[key]['style'])\n",
    "            category_ids.append(anno[key]['category_id'])\n",
    "            category_names.append(anno[key]['category_name'])    "
   ]
  },
  {
   "cell_type": "code",
   "execution_count": 16,
   "id": "minus-baking",
   "metadata": {},
   "outputs": [
    {
     "name": "stdout",
     "output_type": "stream",
     "text": [
      "312186\n"
     ]
    },
    {
     "data": {
      "text/html": [
       "<div>\n",
       "<style scoped>\n",
       "    .dataframe tbody tr th:only-of-type {\n",
       "        vertical-align: middle;\n",
       "    }\n",
       "\n",
       "    .dataframe tbody tr th {\n",
       "        vertical-align: top;\n",
       "    }\n",
       "\n",
       "    .dataframe thead th {\n",
       "        text-align: right;\n",
       "    }\n",
       "</style>\n",
       "<table border=\"1\" class=\"dataframe\">\n",
       "  <thead>\n",
       "    <tr style=\"text-align: right;\">\n",
       "      <th></th>\n",
       "      <th>id</th>\n",
       "      <th>source</th>\n",
       "      <th>scale</th>\n",
       "      <th>viewpoint</th>\n",
       "      <th>zoom</th>\n",
       "      <th>occlusion</th>\n",
       "      <th>landmarks</th>\n",
       "      <th>bbox</th>\n",
       "      <th>style</th>\n",
       "      <th>category_id</th>\n",
       "      <th>category_name</th>\n",
       "    </tr>\n",
       "  </thead>\n",
       "  <tbody>\n",
       "    <tr>\n",
       "      <th>0</th>\n",
       "      <td>024410</td>\n",
       "      <td>user</td>\n",
       "      <td>3</td>\n",
       "      <td>1</td>\n",
       "      <td>2</td>\n",
       "      <td>1</td>\n",
       "      <td>[211, 148, 2, 122, 90, 2, 152, 168, 2, 219, 18...</td>\n",
       "      <td>[2, 78, 452, 694]</td>\n",
       "      <td>1</td>\n",
       "      <td>5</td>\n",
       "      <td>vest</td>\n",
       "    </tr>\n",
       "    <tr>\n",
       "      <th>1</th>\n",
       "      <td>024334</td>\n",
       "      <td>shop</td>\n",
       "      <td>2</td>\n",
       "      <td>2</td>\n",
       "      <td>1</td>\n",
       "      <td>2</td>\n",
       "      <td>[317, 114, 1, 242, 134, 2, 280, 170, 2, 363, 1...</td>\n",
       "      <td>[65, 57, 616, 589]</td>\n",
       "      <td>1</td>\n",
       "      <td>1</td>\n",
       "      <td>short sleeve top</td>\n",
       "    </tr>\n",
       "    <tr>\n",
       "      <th>2</th>\n",
       "      <td>024334</td>\n",
       "      <td>shop</td>\n",
       "      <td>3</td>\n",
       "      <td>2</td>\n",
       "      <td>1</td>\n",
       "      <td>1</td>\n",
       "      <td>[391, 261, 1, 310, 288, 2, 347, 288, 2, 395, 2...</td>\n",
       "      <td>[176, 57, 721, 928]</td>\n",
       "      <td>2</td>\n",
       "      <td>13</td>\n",
       "      <td>sling dress</td>\n",
       "    </tr>\n",
       "    <tr>\n",
       "      <th>3</th>\n",
       "      <td>024330</td>\n",
       "      <td>user</td>\n",
       "      <td>3</td>\n",
       "      <td>2</td>\n",
       "      <td>2</td>\n",
       "      <td>2</td>\n",
       "      <td>[271, 68, 1, 0, 0, 0, 187, 54, 2, 257, 109, 2,...</td>\n",
       "      <td>[2, 1, 465, 606]</td>\n",
       "      <td>1</td>\n",
       "      <td>1</td>\n",
       "      <td>short sleeve top</td>\n",
       "    </tr>\n",
       "    <tr>\n",
       "      <th>4</th>\n",
       "      <td>024330</td>\n",
       "      <td>user</td>\n",
       "      <td>3</td>\n",
       "      <td>2</td>\n",
       "      <td>2</td>\n",
       "      <td>1</td>\n",
       "      <td>[226, 115, 1, 92, 63, 2, 169, 99, 2, 223, 124,...</td>\n",
       "      <td>[35, 0, 467, 623]</td>\n",
       "      <td>2</td>\n",
       "      <td>13</td>\n",
       "      <td>sling dress</td>\n",
       "    </tr>\n",
       "  </tbody>\n",
       "</table>\n",
       "</div>"
      ],
      "text/plain": [
       "       id source  scale  viewpoint  zoom  occlusion  \\\n",
       "0  024410   user      3          1     2          1   \n",
       "1  024334   shop      2          2     1          2   \n",
       "2  024334   shop      3          2     1          1   \n",
       "3  024330   user      3          2     2          2   \n",
       "4  024330   user      3          2     2          1   \n",
       "\n",
       "                                           landmarks                 bbox  \\\n",
       "0  [211, 148, 2, 122, 90, 2, 152, 168, 2, 219, 18...    [2, 78, 452, 694]   \n",
       "1  [317, 114, 1, 242, 134, 2, 280, 170, 2, 363, 1...   [65, 57, 616, 589]   \n",
       "2  [391, 261, 1, 310, 288, 2, 347, 288, 2, 395, 2...  [176, 57, 721, 928]   \n",
       "3  [271, 68, 1, 0, 0, 0, 187, 54, 2, 257, 109, 2,...     [2, 1, 465, 606]   \n",
       "4  [226, 115, 1, 92, 63, 2, 169, 99, 2, 223, 124,...    [35, 0, 467, 623]   \n",
       "\n",
       "   style  category_id     category_name  \n",
       "0      1            5              vest  \n",
       "1      1            1  short sleeve top  \n",
       "2      2           13       sling dress  \n",
       "3      1            1  short sleeve top  \n",
       "4      2           13       sling dress  "
      ]
     },
     "execution_count": 16,
     "metadata": {},
     "output_type": "execute_result"
    }
   ],
   "source": [
    "df_meta_all = pd.DataFrame(data=zip(ids, sources, scales, viewpoints, zooms, occlusions, landmarks, bboxes, styles, category_ids, category_names), columns=['id', 'source', 'scale', 'viewpoint', 'zoom', 'occlusion', 'landmarks', 'bbox', 'style', 'category_id', 'category_name'])\n",
    "print(len(df_meta_all))\n",
    "df_meta_all[:5]"
   ]
  },
  {
   "cell_type": "code",
   "execution_count": 17,
   "id": "bright-horse",
   "metadata": {},
   "outputs": [],
   "source": [
    "df_meta = df_meta_all.copy()"
   ]
  },
  {
   "cell_type": "markdown",
   "id": "certain-relaxation",
   "metadata": {},
   "source": [
    "## Reference:  https://github.com/switchablenorms/DeepFashion2\n",
    "\n",
    "Key fields:\n",
    "\n",
    "- source: a string, where 'shop' indicates that the image is from commercial store while 'user' indicates that the image is taken by users.\n",
    "\n",
    "- scale: a number, where 1 represents small scale, 2 represents modest scale and 3 represents large scale.\n",
    "\n",
    "- occlusion: a number, where 1 represents slight occlusion(including no occlusion), 2 represents medium occlusion and 3 represents heavy occlusion.\n",
    "\n",
    "- zoom_in: a number, where 1 represents no zoom-in, 2 represents medium zoom-in and 3 represents lagre zoom-in.\n",
    "\n",
    "- viewpoint: a number, where 1 represents no wear, 2 represents frontal viewpoint and 3 represents side or back viewpoint.\n",
    "\n",
    "First pass of training YOLOv5 on DF1 indicates that results including 'user' photos is very poor due to extreme viewing angles (down in mirror at jeans), heavy occlusion, etc.\n",
    "\n",
    "Therefore, now filtering out 'poor quality' images."
   ]
  },
  {
   "cell_type": "code",
   "execution_count": 18,
   "id": "voluntary-knowing",
   "metadata": {},
   "outputs": [],
   "source": [
    "df_meta = df_meta[(df_meta.source=='shop') & (df_meta.scale>1) & \n",
    "                  (df_meta.occlusion<2) & (df_meta.zoom<2) & \n",
    "                  (df_meta.viewpoint<3)]"
   ]
  },
  {
   "cell_type": "code",
   "execution_count": 20,
   "id": "union-pathology",
   "metadata": {},
   "outputs": [
    {
     "data": {
      "text/html": [
       "<div>\n",
       "<style scoped>\n",
       "    .dataframe tbody tr th:only-of-type {\n",
       "        vertical-align: middle;\n",
       "    }\n",
       "\n",
       "    .dataframe tbody tr th {\n",
       "        vertical-align: top;\n",
       "    }\n",
       "\n",
       "    .dataframe thead th {\n",
       "        text-align: right;\n",
       "    }\n",
       "</style>\n",
       "<table border=\"1\" class=\"dataframe\">\n",
       "  <thead>\n",
       "    <tr style=\"text-align: right;\">\n",
       "      <th></th>\n",
       "      <th>id</th>\n",
       "      <th>source</th>\n",
       "      <th>scale</th>\n",
       "      <th>viewpoint</th>\n",
       "      <th>zoom</th>\n",
       "      <th>occlusion</th>\n",
       "      <th>landmarks</th>\n",
       "      <th>bbox</th>\n",
       "      <th>style</th>\n",
       "      <th>category_id</th>\n",
       "    </tr>\n",
       "    <tr>\n",
       "      <th>category_name</th>\n",
       "      <th></th>\n",
       "      <th></th>\n",
       "      <th></th>\n",
       "      <th></th>\n",
       "      <th></th>\n",
       "      <th></th>\n",
       "      <th></th>\n",
       "      <th></th>\n",
       "      <th></th>\n",
       "      <th></th>\n",
       "    </tr>\n",
       "  </thead>\n",
       "  <tbody>\n",
       "    <tr>\n",
       "      <th>short sleeve top</th>\n",
       "      <td>11200</td>\n",
       "      <td>11200</td>\n",
       "      <td>11200</td>\n",
       "      <td>11200</td>\n",
       "      <td>11200</td>\n",
       "      <td>11200</td>\n",
       "      <td>11200</td>\n",
       "      <td>11200</td>\n",
       "      <td>11200</td>\n",
       "      <td>11200</td>\n",
       "    </tr>\n",
       "    <tr>\n",
       "      <th>long sleeve top</th>\n",
       "      <td>6080</td>\n",
       "      <td>6080</td>\n",
       "      <td>6080</td>\n",
       "      <td>6080</td>\n",
       "      <td>6080</td>\n",
       "      <td>6080</td>\n",
       "      <td>6080</td>\n",
       "      <td>6080</td>\n",
       "      <td>6080</td>\n",
       "      <td>6080</td>\n",
       "    </tr>\n",
       "    <tr>\n",
       "      <th>trousers</th>\n",
       "      <td>5010</td>\n",
       "      <td>5010</td>\n",
       "      <td>5010</td>\n",
       "      <td>5010</td>\n",
       "      <td>5010</td>\n",
       "      <td>5010</td>\n",
       "      <td>5010</td>\n",
       "      <td>5010</td>\n",
       "      <td>5010</td>\n",
       "      <td>5010</td>\n",
       "    </tr>\n",
       "    <tr>\n",
       "      <th>shorts</th>\n",
       "      <td>3911</td>\n",
       "      <td>3911</td>\n",
       "      <td>3911</td>\n",
       "      <td>3911</td>\n",
       "      <td>3911</td>\n",
       "      <td>3911</td>\n",
       "      <td>3911</td>\n",
       "      <td>3911</td>\n",
       "      <td>3911</td>\n",
       "      <td>3911</td>\n",
       "    </tr>\n",
       "    <tr>\n",
       "      <th>short sleeve dress</th>\n",
       "      <td>3115</td>\n",
       "      <td>3115</td>\n",
       "      <td>3115</td>\n",
       "      <td>3115</td>\n",
       "      <td>3115</td>\n",
       "      <td>3115</td>\n",
       "      <td>3115</td>\n",
       "      <td>3115</td>\n",
       "      <td>3115</td>\n",
       "      <td>3115</td>\n",
       "    </tr>\n",
       "    <tr>\n",
       "      <th>long sleeve outwear</th>\n",
       "      <td>3004</td>\n",
       "      <td>3004</td>\n",
       "      <td>3004</td>\n",
       "      <td>3004</td>\n",
       "      <td>3004</td>\n",
       "      <td>3004</td>\n",
       "      <td>3004</td>\n",
       "      <td>3004</td>\n",
       "      <td>3004</td>\n",
       "      <td>3004</td>\n",
       "    </tr>\n",
       "    <tr>\n",
       "      <th>skirt</th>\n",
       "      <td>2998</td>\n",
       "      <td>2998</td>\n",
       "      <td>2998</td>\n",
       "      <td>2998</td>\n",
       "      <td>2998</td>\n",
       "      <td>2998</td>\n",
       "      <td>2998</td>\n",
       "      <td>2998</td>\n",
       "      <td>2998</td>\n",
       "      <td>2998</td>\n",
       "    </tr>\n",
       "    <tr>\n",
       "      <th>vest dress</th>\n",
       "      <td>2451</td>\n",
       "      <td>2451</td>\n",
       "      <td>2451</td>\n",
       "      <td>2451</td>\n",
       "      <td>2451</td>\n",
       "      <td>2451</td>\n",
       "      <td>2451</td>\n",
       "      <td>2451</td>\n",
       "      <td>2451</td>\n",
       "      <td>2451</td>\n",
       "    </tr>\n",
       "    <tr>\n",
       "      <th>vest</th>\n",
       "      <td>2170</td>\n",
       "      <td>2170</td>\n",
       "      <td>2170</td>\n",
       "      <td>2170</td>\n",
       "      <td>2170</td>\n",
       "      <td>2170</td>\n",
       "      <td>2170</td>\n",
       "      <td>2170</td>\n",
       "      <td>2170</td>\n",
       "      <td>2170</td>\n",
       "    </tr>\n",
       "    <tr>\n",
       "      <th>long sleeve dress</th>\n",
       "      <td>1702</td>\n",
       "      <td>1702</td>\n",
       "      <td>1702</td>\n",
       "      <td>1702</td>\n",
       "      <td>1702</td>\n",
       "      <td>1702</td>\n",
       "      <td>1702</td>\n",
       "      <td>1702</td>\n",
       "      <td>1702</td>\n",
       "      <td>1702</td>\n",
       "    </tr>\n",
       "    <tr>\n",
       "      <th>sling dress</th>\n",
       "      <td>1312</td>\n",
       "      <td>1312</td>\n",
       "      <td>1312</td>\n",
       "      <td>1312</td>\n",
       "      <td>1312</td>\n",
       "      <td>1312</td>\n",
       "      <td>1312</td>\n",
       "      <td>1312</td>\n",
       "      <td>1312</td>\n",
       "      <td>1312</td>\n",
       "    </tr>\n",
       "    <tr>\n",
       "      <th>sling</th>\n",
       "      <td>255</td>\n",
       "      <td>255</td>\n",
       "      <td>255</td>\n",
       "      <td>255</td>\n",
       "      <td>255</td>\n",
       "      <td>255</td>\n",
       "      <td>255</td>\n",
       "      <td>255</td>\n",
       "      <td>255</td>\n",
       "      <td>255</td>\n",
       "    </tr>\n",
       "    <tr>\n",
       "      <th>short sleeve outwear</th>\n",
       "      <td>123</td>\n",
       "      <td>123</td>\n",
       "      <td>123</td>\n",
       "      <td>123</td>\n",
       "      <td>123</td>\n",
       "      <td>123</td>\n",
       "      <td>123</td>\n",
       "      <td>123</td>\n",
       "      <td>123</td>\n",
       "      <td>123</td>\n",
       "    </tr>\n",
       "  </tbody>\n",
       "</table>\n",
       "</div>"
      ],
      "text/plain": [
       "                         id  source  scale  viewpoint   zoom  occlusion  \\\n",
       "category_name                                                             \n",
       "short sleeve top      11200   11200  11200      11200  11200      11200   \n",
       "long sleeve top        6080    6080   6080       6080   6080       6080   \n",
       "trousers               5010    5010   5010       5010   5010       5010   \n",
       "shorts                 3911    3911   3911       3911   3911       3911   \n",
       "short sleeve dress     3115    3115   3115       3115   3115       3115   \n",
       "long sleeve outwear    3004    3004   3004       3004   3004       3004   \n",
       "skirt                  2998    2998   2998       2998   2998       2998   \n",
       "vest dress             2451    2451   2451       2451   2451       2451   \n",
       "vest                   2170    2170   2170       2170   2170       2170   \n",
       "long sleeve dress      1702    1702   1702       1702   1702       1702   \n",
       "sling dress            1312    1312   1312       1312   1312       1312   \n",
       "sling                   255     255    255        255    255        255   \n",
       "short sleeve outwear    123     123    123        123    123        123   \n",
       "\n",
       "                      landmarks   bbox  style  category_id  \n",
       "category_name                                               \n",
       "short sleeve top          11200  11200  11200        11200  \n",
       "long sleeve top            6080   6080   6080         6080  \n",
       "trousers                   5010   5010   5010         5010  \n",
       "shorts                     3911   3911   3911         3911  \n",
       "short sleeve dress         3115   3115   3115         3115  \n",
       "long sleeve outwear        3004   3004   3004         3004  \n",
       "skirt                      2998   2998   2998         2998  \n",
       "vest dress                 2451   2451   2451         2451  \n",
       "vest                       2170   2170   2170         2170  \n",
       "long sleeve dress          1702   1702   1702         1702  \n",
       "sling dress                1312   1312   1312         1312  \n",
       "sling                       255    255    255          255  \n",
       "short sleeve outwear        123    123    123          123  "
      ]
     },
     "execution_count": 20,
     "metadata": {},
     "output_type": "execute_result"
    }
   ],
   "source": [
    "cnts = df_meta.groupby('category_name').count().sort_values(by='id', ascending=False)\n",
    "cnts"
   ]
  },
  {
   "cell_type": "code",
   "execution_count": 25,
   "id": "neural-plate",
   "metadata": {},
   "outputs": [
    {
     "data": {
      "text/plain": [
       "array(['short sleeve top', 'long sleeve top', 'trousers', 'shorts',\n",
       "       'short sleeve dress', 'long sleeve outwear', 'skirt', 'vest dress',\n",
       "       'vest', 'long sleeve dress', 'sling dress'], dtype=object)"
      ]
     },
     "execution_count": 25,
     "metadata": {},
     "output_type": "execute_result"
    }
   ],
   "source": [
    "cats = cnts[cnts.id > 1000].index.values\n",
    "cats"
   ]
  },
  {
   "cell_type": "code",
   "execution_count": 26,
   "id": "mediterranean-study",
   "metadata": {},
   "outputs": [],
   "source": [
    "subset = df_meta[df_meta.category_name.isin(cats)]"
   ]
  },
  {
   "cell_type": "code",
   "execution_count": 27,
   "id": "forbidden-ambassador",
   "metadata": {},
   "outputs": [
    {
     "data": {
      "text/plain": [
       "1312"
      ]
     },
     "execution_count": 27,
     "metadata": {},
     "output_type": "execute_result"
    }
   ],
   "source": [
    "min_cnt = subset.groupby('category_name').count().min()[0]\n",
    "min_cnt"
   ]
  },
  {
   "cell_type": "code",
   "execution_count": 28,
   "id": "controversial-spread",
   "metadata": {},
   "outputs": [
    {
     "data": {
      "text/plain": [
       "14432"
      ]
     },
     "execution_count": 28,
     "metadata": {},
     "output_type": "execute_result"
    }
   ],
   "source": [
    "samples = subset.groupby('category_name').sample(n=min_cnt, random_state=314)\n",
    "len(samples)"
   ]
  },
  {
   "cell_type": "code",
   "execution_count": 29,
   "id": "metric-objective",
   "metadata": {},
   "outputs": [],
   "source": [
    "df['id'] = df['filename'].apply(lambda x: x.split('.')[0])"
   ]
  },
  {
   "cell_type": "code",
   "execution_count": 30,
   "id": "framed-tongue",
   "metadata": {},
   "outputs": [],
   "source": [
    "#from sklearn.model_selection import train_test_split\n",
    "#train, val = train_test_split(samples, test_size=0.2)\n",
    "#print(len(train),len(val))\n",
    "\n",
    "#For this case, all the data is in the training set\n",
    "train = samples"
   ]
  },
  {
   "cell_type": "code",
   "execution_count": 31,
   "id": "primary-thumb",
   "metadata": {},
   "outputs": [],
   "source": [
    "#val = pd.merge(df, val, on='id')\n",
    "#val = val[val.folder=='image']\n",
    "#len(val)"
   ]
  },
  {
   "cell_type": "code",
   "execution_count": 32,
   "id": "friendly-forth",
   "metadata": {},
   "outputs": [
    {
     "data": {
      "text/plain": [
       "14432"
      ]
     },
     "execution_count": 32,
     "metadata": {},
     "output_type": "execute_result"
    }
   ],
   "source": [
    "train = pd.merge(df, train, on='id')\n",
    "train = train[train.folder=='image']\n",
    "len(train)"
   ]
  },
  {
   "cell_type": "code",
   "execution_count": 33,
   "id": "overall-peoples",
   "metadata": {},
   "outputs": [
    {
     "data": {
      "text/plain": [
       "index                                                       273017\n",
       "root_path                                                    train\n",
       "folder                                                       image\n",
       "filename                                                024334.jpg\n",
       "path                                        train/image/024334.jpg\n",
       "id                                                          024334\n",
       "source                                                        shop\n",
       "scale                                                            3\n",
       "viewpoint                                                        2\n",
       "zoom                                                             1\n",
       "occlusion                                                        1\n",
       "landmarks        [391, 261, 1, 310, 288, 2, 347, 288, 2, 395, 2...\n",
       "bbox                                           [176, 57, 721, 928]\n",
       "style                                                            2\n",
       "category_id                                                     13\n",
       "category_name                                          sling dress\n",
       "Name: 1, dtype: object"
      ]
     },
     "execution_count": 33,
     "metadata": {},
     "output_type": "execute_result"
    }
   ],
   "source": [
    "train.iloc[0]"
   ]
  },
  {
   "cell_type": "code",
   "execution_count": 34,
   "id": "precise-phase",
   "metadata": {},
   "outputs": [],
   "source": [
    "if not os.path.exists('df2'):\n",
    "    os.mkdir('df2')\n",
    "\n",
    "if not os.path.exists('df2/images'):\n",
    "    os.mkdir('df2/images')\n",
    "if not os.path.exists('df2/images/train'):\n",
    "    os.mkdir('df2/images/train')\n",
    "if not os.path.exists('df2/images/val'):\n",
    "    os.mkdir('df2/images/val')\n",
    "\n",
    "if not os.path.exists('df2/labels'):\n",
    "    os.mkdir('df2/labels')\n",
    "if not os.path.exists('df2/labels/train'):\n",
    "    os.mkdir('df2/labels/train')\n",
    "if not os.path.exists('df2/labels/val'):\n",
    "    os.mkdir('df2/labels/val')"
   ]
  },
  {
   "cell_type": "code",
   "execution_count": 37,
   "id": "committed-dividend",
   "metadata": {},
   "outputs": [],
   "source": [
    "def createFiles(data=train, type_='train'):\n",
    "    target_dim = 640.0\n",
    "    for i, row in tqdm(data.iterrows()):\n",
    "        filepath = row.path\n",
    "        img = Image.open(io.BytesIO(zipf.read(filepath, pwd=_pwd)))\n",
    "        w_orig = float(img.size[0])\n",
    "        h_orig = float(img.size[1])\n",
    "        img.thumbnail((target_dim, target_dim)) \n",
    "        if 'png' in str(type(img)).lower():\n",
    "            img = img.convert('RGB')\n",
    "        img.save('df2/images/'+type_+'/'+row.filename, 'JPEG', optimize=True)\n",
    "\n",
    "        (x1, y1, x2, y2) = [float(b) for b in row.bbox]\n",
    "        x = round((((x2 - x1)/2) + x1) / w_orig, 4)\n",
    "        y = round((((y2 - y1)/2) + y1) / h_orig, 4)\n",
    "        w = round((x2 - x1) / w_orig, 4)\n",
    "        h = round((y2 - y1) / h_orig, 4)\n",
    "\n",
    "        idx = list(cats).index(row.category_name)\n",
    "        metadata = str(idx) + f' {x} {y} {w} {h}'\n",
    "        fileroot = 'df2/labels/'+type_+'/'+row.filename.split('.')[0]+'.txt'\n",
    "\n",
    "        f = open(fileroot, 'w')\n",
    "        f.write(metadata)\n",
    "        f.close()"
   ]
  },
  {
   "cell_type": "code",
   "execution_count": 38,
   "id": "brief-honolulu",
   "metadata": {},
   "outputs": [
    {
     "data": {
      "application/vnd.jupyter.widget-view+json": {
       "model_id": "c4c50e361daf417891fc4300ac6e2c0d",
       "version_major": 2,
       "version_minor": 0
      },
      "text/plain": [
       "0it [00:00, ?it/s]"
      ]
     },
     "metadata": {},
     "output_type": "display_data"
    }
   ],
   "source": [
    "createFiles(train, type_='train')\n",
    "#createFiles(val, type_='val')"
   ]
  },
  {
   "cell_type": "code",
   "execution_count": 207,
   "id": "increased-concrete",
   "metadata": {},
   "outputs": [],
   "source": [
    "lines = []\n",
    "lines.append('path: ../datasets/df2 # root dir\\n')\n",
    "lines.append('train: images/train\\n')\n",
    "lines.append('val: images/val\\n')\n",
    "lines.append('test:  # test images (optional)\\n')\n",
    "\n",
    "lines.append('nc: '+str(len(cats))+' # number of classes\\n')\n",
    "\n",
    "str_classes = \"[ '\" + \"',\\n'\".join(cats) + \"' ]\"\n",
    "\n",
    "lines.append('names: '+str_classes + '\\n')\n",
    "\n",
    "f = open('df2/df2.yaml', 'w')\n",
    "f.writelines(lines)\n",
    "f.close()"
   ]
  },
  {
   "cell_type": "markdown",
   "id": "german-raleigh",
   "metadata": {},
   "source": [
    "# These lines used for debugging"
   ]
  },
  {
   "cell_type": "code",
   "execution_count": 223,
   "id": "approximate-spell",
   "metadata": {},
   "outputs": [
    {
     "ename": "AttributeError",
     "evalue": "'Series' object has no attribute 'path'",
     "output_type": "error",
     "traceback": [
      "\u001b[0;31m---------------------------------------------------------------------------\u001b[0m",
      "\u001b[0;31mAttributeError\u001b[0m                            Traceback (most recent call last)",
      "\u001b[0;32m<ipython-input-223-3a67344078d3>\u001b[0m in \u001b[0;36m<module>\u001b[0;34m\u001b[0m\n\u001b[1;32m      1\u001b[0m \u001b[0mrow\u001b[0m \u001b[0;34m=\u001b[0m \u001b[0mdf_meta_all\u001b[0m\u001b[0;34m.\u001b[0m\u001b[0msample\u001b[0m\u001b[0;34m(\u001b[0m\u001b[0;36m1\u001b[0m\u001b[0;34m)\u001b[0m\u001b[0;34m.\u001b[0m\u001b[0miloc\u001b[0m\u001b[0;34m[\u001b[0m\u001b[0;36m0\u001b[0m\u001b[0;34m]\u001b[0m\u001b[0;34m\u001b[0m\u001b[0;34m\u001b[0m\u001b[0m\n\u001b[0;32m----> 2\u001b[0;31m \u001b[0mimg\u001b[0m \u001b[0;34m=\u001b[0m \u001b[0mImage\u001b[0m\u001b[0;34m.\u001b[0m\u001b[0mopen\u001b[0m\u001b[0;34m(\u001b[0m\u001b[0mio\u001b[0m\u001b[0;34m.\u001b[0m\u001b[0mBytesIO\u001b[0m\u001b[0;34m(\u001b[0m\u001b[0mzipf\u001b[0m\u001b[0;34m.\u001b[0m\u001b[0mread\u001b[0m\u001b[0;34m(\u001b[0m\u001b[0mrow\u001b[0m\u001b[0;34m.\u001b[0m\u001b[0mpath\u001b[0m\u001b[0;34m,\u001b[0m \u001b[0mpwd\u001b[0m\u001b[0;34m=\u001b[0m\u001b[0m_pwd\u001b[0m\u001b[0;34m)\u001b[0m\u001b[0;34m)\u001b[0m\u001b[0;34m)\u001b[0m\u001b[0;34m\u001b[0m\u001b[0;34m\u001b[0m\u001b[0m\n\u001b[0m\u001b[1;32m      3\u001b[0m \u001b[0;34m(\u001b[0m\u001b[0mx1\u001b[0m\u001b[0;34m,\u001b[0m \u001b[0my1\u001b[0m\u001b[0;34m,\u001b[0m \u001b[0mx2\u001b[0m\u001b[0;34m,\u001b[0m \u001b[0my2\u001b[0m\u001b[0;34m)\u001b[0m \u001b[0;34m=\u001b[0m \u001b[0mrow\u001b[0m\u001b[0;34m.\u001b[0m\u001b[0mbbox\u001b[0m\u001b[0;34m\u001b[0m\u001b[0;34m\u001b[0m\u001b[0m\n\u001b[1;32m      4\u001b[0m \u001b[0mimg\u001b[0m \u001b[0;34m=\u001b[0m \u001b[0mcv2\u001b[0m\u001b[0;34m.\u001b[0m\u001b[0mrectangle\u001b[0m\u001b[0;34m(\u001b[0m\u001b[0mnp\u001b[0m\u001b[0;34m.\u001b[0m\u001b[0marray\u001b[0m\u001b[0;34m(\u001b[0m\u001b[0mimg\u001b[0m\u001b[0;34m)\u001b[0m\u001b[0;34m,\u001b[0m \u001b[0;34m(\u001b[0m\u001b[0mx1\u001b[0m\u001b[0;34m,\u001b[0m \u001b[0my1\u001b[0m\u001b[0;34m)\u001b[0m\u001b[0;34m,\u001b[0m \u001b[0;34m(\u001b[0m\u001b[0mx2\u001b[0m\u001b[0;34m,\u001b[0m \u001b[0my2\u001b[0m\u001b[0;34m)\u001b[0m\u001b[0;34m,\u001b[0m \u001b[0;34m(\u001b[0m\u001b[0;36m0\u001b[0m\u001b[0;34m,\u001b[0m \u001b[0;36m255\u001b[0m\u001b[0;34m,\u001b[0m \u001b[0;36m0\u001b[0m\u001b[0;34m)\u001b[0m\u001b[0;34m,\u001b[0m \u001b[0;36m2\u001b[0m\u001b[0;34m)\u001b[0m\u001b[0;34m\u001b[0m\u001b[0;34m\u001b[0m\u001b[0m\n\u001b[1;32m      5\u001b[0m \u001b[0mplt\u001b[0m\u001b[0;34m.\u001b[0m\u001b[0mimshow\u001b[0m\u001b[0;34m(\u001b[0m\u001b[0mimg\u001b[0m\u001b[0;34m)\u001b[0m\u001b[0;34m\u001b[0m\u001b[0;34m\u001b[0m\u001b[0m\n",
      "\u001b[0;32m~/opt/anaconda3/lib/python3.7/site-packages/pandas/core/generic.py\u001b[0m in \u001b[0;36m__getattr__\u001b[0;34m(self, name)\u001b[0m\n\u001b[1;32m   5485\u001b[0m         ):\n\u001b[1;32m   5486\u001b[0m             \u001b[0;32mreturn\u001b[0m \u001b[0mself\u001b[0m\u001b[0;34m[\u001b[0m\u001b[0mname\u001b[0m\u001b[0;34m]\u001b[0m\u001b[0;34m\u001b[0m\u001b[0;34m\u001b[0m\u001b[0m\n\u001b[0;32m-> 5487\u001b[0;31m         \u001b[0;32mreturn\u001b[0m \u001b[0mobject\u001b[0m\u001b[0;34m.\u001b[0m\u001b[0m__getattribute__\u001b[0m\u001b[0;34m(\u001b[0m\u001b[0mself\u001b[0m\u001b[0;34m,\u001b[0m \u001b[0mname\u001b[0m\u001b[0;34m)\u001b[0m\u001b[0;34m\u001b[0m\u001b[0;34m\u001b[0m\u001b[0m\n\u001b[0m\u001b[1;32m   5488\u001b[0m \u001b[0;34m\u001b[0m\u001b[0m\n\u001b[1;32m   5489\u001b[0m     \u001b[0;32mdef\u001b[0m \u001b[0m__setattr__\u001b[0m\u001b[0;34m(\u001b[0m\u001b[0mself\u001b[0m\u001b[0;34m,\u001b[0m \u001b[0mname\u001b[0m\u001b[0;34m:\u001b[0m \u001b[0mstr\u001b[0m\u001b[0;34m,\u001b[0m \u001b[0mvalue\u001b[0m\u001b[0;34m)\u001b[0m \u001b[0;34m->\u001b[0m \u001b[0;32mNone\u001b[0m\u001b[0;34m:\u001b[0m\u001b[0;34m\u001b[0m\u001b[0;34m\u001b[0m\u001b[0m\n",
      "\u001b[0;31mAttributeError\u001b[0m: 'Series' object has no attribute 'path'"
     ]
    }
   ],
   "source": [
    "bbox_ = df_meta_all[df_meta_all.id=='000908'].bbox\n",
    "path_ = 'train/image/000908.jpg'\n",
    "img = Image.open(io.BytesIO(zipf.read(path_, pwd=_pwd)))\n",
    "(x1, y1, x2, y2) = bbox_\n",
    "img = cv2.rectangle(np.array(img), (x1, y1), (x2, y2), (0, 255, 0), 2)\n",
    "plt.imshow(img)\n",
    "print(row.category_name)\n",
    "plt.show()"
   ]
  },
  {
   "cell_type": "code",
   "execution_count": 212,
   "id": "centered-network",
   "metadata": {},
   "outputs": [
    {
     "data": {
      "text/plain": [
       "index                                                       213175\n",
       "root_path                                                    train\n",
       "folder                                                       image\n",
       "filename                                                027196.jpg\n",
       "path                                        train/image/027196.jpg\n",
       "id                                                          027196\n",
       "source                                                        shop\n",
       "scale                                                            2\n",
       "viewpoint                                                        2\n",
       "zoom                                                             1\n",
       "occlusion                                                        1\n",
       "landmarks        [412, 22, 1, 334, 32, 1, 347, 75, 2, 408, 80, ...\n",
       "bbox                                           [153, 13, 654, 450]\n",
       "style                                                            2\n",
       "category_id                                                      1\n",
       "category_name                                     short sleeve top\n",
       "Name: 11061, dtype: object"
      ]
     },
     "execution_count": 212,
     "metadata": {},
     "output_type": "execute_result"
    }
   ],
   "source": [
    "row"
   ]
  },
  {
   "cell_type": "code",
   "execution_count": 229,
   "id": "peripheral-delivery",
   "metadata": {},
   "outputs": [
    {
     "data": {
      "text/html": [
       "<div>\n",
       "<style scoped>\n",
       "    .dataframe tbody tr th:only-of-type {\n",
       "        vertical-align: middle;\n",
       "    }\n",
       "\n",
       "    .dataframe tbody tr th {\n",
       "        vertical-align: top;\n",
       "    }\n",
       "\n",
       "    .dataframe thead th {\n",
       "        text-align: right;\n",
       "    }\n",
       "</style>\n",
       "<table border=\"1\" class=\"dataframe\">\n",
       "  <thead>\n",
       "    <tr style=\"text-align: right;\">\n",
       "      <th></th>\n",
       "      <th>index</th>\n",
       "      <th>root_path</th>\n",
       "      <th>folder</th>\n",
       "      <th>filename</th>\n",
       "      <th>path</th>\n",
       "      <th>id</th>\n",
       "      <th>source</th>\n",
       "      <th>scale</th>\n",
       "      <th>viewpoint</th>\n",
       "      <th>zoom</th>\n",
       "      <th>occlusion</th>\n",
       "      <th>landmarks</th>\n",
       "      <th>bbox</th>\n",
       "      <th>style</th>\n",
       "      <th>category_id</th>\n",
       "      <th>category_name</th>\n",
       "    </tr>\n",
       "  </thead>\n",
       "  <tbody>\n",
       "    <tr>\n",
       "      <th>1775</th>\n",
       "      <td>338250</td>\n",
       "      <td>train</td>\n",
       "      <td>image</td>\n",
       "      <td>035148.jpg</td>\n",
       "      <td>train/image/035148.jpg</td>\n",
       "      <td>035148</td>\n",
       "      <td>shop</td>\n",
       "      <td>2</td>\n",
       "      <td>2</td>\n",
       "      <td>1</td>\n",
       "      <td>1</td>\n",
       "      <td>[247, 110, 1, 235, 107, 2, 239, 113, 2, 245, 1...</td>\n",
       "      <td>[155, 103, 297, 256]</td>\n",
       "      <td>1</td>\n",
       "      <td>2</td>\n",
       "      <td>long sleeve top</td>\n",
       "    </tr>\n",
       "  </tbody>\n",
       "</table>\n",
       "</div>"
      ],
      "text/plain": [
       "       index root_path folder    filename                    path      id  \\\n",
       "1775  338250     train  image  035148.jpg  train/image/035148.jpg  035148   \n",
       "\n",
       "     source  scale  viewpoint  zoom  occlusion  \\\n",
       "1775   shop      2          2     1          1   \n",
       "\n",
       "                                              landmarks                  bbox  \\\n",
       "1775  [247, 110, 1, 235, 107, 2, 239, 113, 2, 245, 1...  [155, 103, 297, 256]   \n",
       "\n",
       "      style  category_id    category_name  \n",
       "1775      1            2  long sleeve top  "
      ]
     },
     "execution_count": 229,
     "metadata": {},
     "output_type": "execute_result"
    }
   ],
   "source": [
    "train[train.filename=='035148.jpg']"
   ]
  },
  {
   "cell_type": "code",
   "execution_count": 232,
   "id": "valid-filter",
   "metadata": {},
   "outputs": [
    {
     "data": {
      "text/plain": [
       "(496, 328)"
      ]
     },
     "execution_count": 232,
     "metadata": {},
     "output_type": "execute_result"
    }
   ],
   "source": [
    "Image.open(io.BytesIO(zipf.read('train/image/035148.jpg', pwd=_pwd))).size\n",
    "\n"
   ]
  },
  {
   "cell_type": "code",
   "execution_count": null,
   "id": "executive-liability",
   "metadata": {},
   "outputs": [],
   "source": []
  }
 ],
 "metadata": {
  "kernelspec": {
   "display_name": "Python 3",
   "language": "python",
   "name": "python3"
  },
  "language_info": {
   "codemirror_mode": {
    "name": "ipython",
    "version": 3
   },
   "file_extension": ".py",
   "mimetype": "text/x-python",
   "name": "python",
   "nbconvert_exporter": "python",
   "pygments_lexer": "ipython3",
   "version": "3.7.4"
  }
 },
 "nbformat": 4,
 "nbformat_minor": 5
}
