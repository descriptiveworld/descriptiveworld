{
 "cells": [
  {
   "cell_type": "code",
   "execution_count": 1,
   "id": "unsigned-tribute",
   "metadata": {},
   "outputs": [],
   "source": [
    "import gzip\n",
    "import zipfile\n",
    "import pandas as pd\n",
    "import numpy as np\n",
    "import matplotlib.pyplot as plt\n",
    "import cv2\n",
    "from tqdm.notebook import tqdm\n",
    "from PIL import Image\n",
    "import os\n",
    "import shutil\n",
    "import json\n",
    "import io"
   ]
  },
  {
   "cell_type": "markdown",
   "id": "operating-wilson",
   "metadata": {},
   "source": [
    "# Inspect full image archive without extracting all files"
   ]
  },
  {
   "cell_type": "code",
   "execution_count": 2,
   "id": "requested-minority",
   "metadata": {},
   "outputs": [
    {
     "name": "stdout",
     "output_type": "stream",
     "text": [
      "CPU times: user 469 ms, sys: 18.1 ms, total: 487 ms\n",
      "Wall time: 487 ms\n"
     ]
    }
   ],
   "source": [
    "%%time\n",
    "_pwd = b'2019Deepfashion2**'\n",
    "zipf = zipfile.ZipFile('validation.zip')"
   ]
  },
  {
   "cell_type": "code",
   "execution_count": 3,
   "id": "graduate-taiwan",
   "metadata": {},
   "outputs": [],
   "source": [
    "filenames = zipf.namelist()\n",
    "df = pd.DataFrame([x.split('/') for x in filenames[:]], columns=['root_path', 'folder', 'filename'])\n",
    "df['path'] = filenames"
   ]
  },
  {
   "cell_type": "code",
   "execution_count": 4,
   "id": "international-cartoon",
   "metadata": {},
   "outputs": [
    {
     "name": "stdout",
     "output_type": "stream",
     "text": [
      "64306\n"
     ]
    },
    {
     "data": {
      "text/html": [
       "<div>\n",
       "<style scoped>\n",
       "    .dataframe tbody tr th:only-of-type {\n",
       "        vertical-align: middle;\n",
       "    }\n",
       "\n",
       "    .dataframe tbody tr th {\n",
       "        vertical-align: top;\n",
       "    }\n",
       "\n",
       "    .dataframe thead th {\n",
       "        text-align: right;\n",
       "    }\n",
       "</style>\n",
       "<table border=\"1\" class=\"dataframe\">\n",
       "  <thead>\n",
       "    <tr style=\"text-align: right;\">\n",
       "      <th></th>\n",
       "      <th>index</th>\n",
       "      <th>root_path</th>\n",
       "      <th>folder</th>\n",
       "      <th>filename</th>\n",
       "      <th>path</th>\n",
       "    </tr>\n",
       "  </thead>\n",
       "  <tbody>\n",
       "    <tr>\n",
       "      <th>22173</th>\n",
       "      <td>22175</td>\n",
       "      <td>validation</td>\n",
       "      <td>annos</td>\n",
       "      <td>007187.json</td>\n",
       "      <td>validation/annos/007187.json</td>\n",
       "    </tr>\n",
       "    <tr>\n",
       "      <th>26721</th>\n",
       "      <td>26723</td>\n",
       "      <td>validation</td>\n",
       "      <td>annos</td>\n",
       "      <td>020865.json</td>\n",
       "      <td>validation/annos/020865.json</td>\n",
       "    </tr>\n",
       "    <tr>\n",
       "      <th>42040</th>\n",
       "      <td>42043</td>\n",
       "      <td>validation</td>\n",
       "      <td>image</td>\n",
       "      <td>030570.jpg</td>\n",
       "      <td>validation/image/030570.jpg</td>\n",
       "    </tr>\n",
       "    <tr>\n",
       "      <th>60671</th>\n",
       "      <td>60674</td>\n",
       "      <td>validation</td>\n",
       "      <td>image</td>\n",
       "      <td>014111.jpg</td>\n",
       "      <td>validation/image/014111.jpg</td>\n",
       "    </tr>\n",
       "    <tr>\n",
       "      <th>6326</th>\n",
       "      <td>6328</td>\n",
       "      <td>validation</td>\n",
       "      <td>annos</td>\n",
       "      <td>011360.json</td>\n",
       "      <td>validation/annos/011360.json</td>\n",
       "    </tr>\n",
       "  </tbody>\n",
       "</table>\n",
       "</div>"
      ],
      "text/plain": [
       "       index   root_path folder     filename                          path\n",
       "22173  22175  validation  annos  007187.json  validation/annos/007187.json\n",
       "26721  26723  validation  annos  020865.json  validation/annos/020865.json\n",
       "42040  42043  validation  image   030570.jpg   validation/image/030570.jpg\n",
       "60671  60674  validation  image   014111.jpg   validation/image/014111.jpg\n",
       "6326    6328  validation  annos  011360.json  validation/annos/011360.json"
      ]
     },
     "execution_count": 4,
     "metadata": {},
     "output_type": "execute_result"
    }
   ],
   "source": [
    "df = df.dropna()\n",
    "df = df[df.filename != '']\n",
    "df = df.reset_index()\n",
    "print(len(df))\n",
    "df.sample(n=5)"
   ]
  },
  {
   "cell_type": "code",
   "execution_count": 5,
   "id": "agreed-fitness",
   "metadata": {},
   "outputs": [
    {
     "name": "stdout",
     "output_type": "stream",
     "text": [
      "uncompressed size = 1.95 GB\n"
     ]
    }
   ],
   "source": [
    "osize = 0 \n",
    "for item in zipf.infolist():\n",
    "    osize += item.file_size\n",
    "print('uncompressed size =',round(osize/1000000000,2),'GB')"
   ]
  },
  {
   "cell_type": "markdown",
   "id": "electronic-venue",
   "metadata": {},
   "source": [
    "# Basic EDA\n"
   ]
  },
  {
   "cell_type": "code",
   "execution_count": 6,
   "id": "reliable-capital",
   "metadata": {},
   "outputs": [],
   "source": [
    "samples = df[df['folder']=='image']['path'].sample(10)"
   ]
  },
  {
   "cell_type": "code",
   "execution_count": 7,
   "id": "deadly-steel",
   "metadata": {},
   "outputs": [
    {
     "data": {
      "text/plain": [
       "51095    validation/image/026321.jpg\n",
       "47736    validation/image/016672.jpg\n",
       "56618    validation/image/018476.jpg\n",
       "59939    validation/image/029092.jpg\n",
       "52146    validation/image/002110.jpg\n",
       "55479    validation/image/013526.jpg\n",
       "36004    validation/image/030793.jpg\n",
       "61789    validation/image/020550.jpg\n",
       "47076    validation/image/029142.jpg\n",
       "61367    validation/image/009361.jpg\n",
       "Name: path, dtype: object"
      ]
     },
     "execution_count": 7,
     "metadata": {},
     "output_type": "execute_result"
    }
   ],
   "source": [
    "samples"
   ]
  },
  {
   "cell_type": "code",
   "execution_count": 8,
   "id": "worldwide-yugoslavia",
   "metadata": {},
   "outputs": [],
   "source": [
    "samples = df[df['folder']=='image']['path'].sample(10)\n",
    "annos = []\n",
    "bboxes = []\n",
    "images = []\n",
    "for file in samples[:1]: \n",
    "    anno = zipf.read(file.replace('.jpg','.json').replace('/image/','/annos/'), pwd=_pwd)\n",
    "    anno = json.loads(str(anno)[2:-1])\n",
    "    annos.append(anno)\n",
    "    \n",
    "    bbox = anno['item1']['bounding_box']\n",
    "    bboxes.append(bbox)\n",
    "    \n",
    "    img = Image.open(io.BytesIO(zipf.read(file, pwd=_pwd)))\n",
    "    images.append(img)"
   ]
  },
  {
   "cell_type": "code",
   "execution_count": 9,
   "id": "extraordinary-ladder",
   "metadata": {},
   "outputs": [],
   "source": [
    "annos = []\n",
    "bboxes = []\n",
    "images = []\n",
    "for file in samples[:1]: \n",
    "    anno = zipf.read(file.replace('.jpg','.json').replace('/image/','/annos/'), pwd=_pwd)\n",
    "    anno = json.loads(str(anno)[2:-1])\n",
    "    annos.append(anno)\n",
    "    \n",
    "    bbox = anno['item1']['bounding_box']\n",
    "    bboxes.append(bbox)\n",
    "    \n",
    "    img = Image.open(io.BytesIO(zipf.read(file, pwd=_pwd)))\n",
    "    images.append(img)"
   ]
  },
  {
   "cell_type": "code",
   "execution_count": 10,
   "id": "concerned-visitor",
   "metadata": {},
   "outputs": [],
   "source": [
    "#anno['item1'].keys()\n",
    "#dict_keys(['segmentation', 'scale', 'viewpoint', 'zoom_in', 'landmarks', 'style', 'bounding_box', 'category_id', 'occlusion', 'category_name'])"
   ]
  },
  {
   "cell_type": "code",
   "execution_count": 11,
   "id": "numerous-juvenile",
   "metadata": {},
   "outputs": [],
   "source": [
    "if False:\n",
    "    segs = anno['item1']['segmentation'][0]\n",
    "    segs_arr = np.array([str(x).split('.') for x in segs])\n",
    "\n",
    "    marks = []\n",
    "    for idx in range(0,len(anno['item1']['landmarks']),3):\n",
    "        x = anno['item1']['landmarks'][idx]\n",
    "        y = anno['item1']['landmarks'][idx+1]\n",
    "        if not(x==0 & y==0):\n",
    "            marks.append([x,y])\n",
    "    marks_arr = np.array(marks)\n",
    "    #marks_arr = marks_arr[marks_arr[:, 0].argsort()]"
   ]
  },
  {
   "cell_type": "markdown",
   "id": "engaging-title",
   "metadata": {},
   "source": [
    "### Inspect a few sample images and corresponding bounding boxes"
   ]
  },
  {
   "cell_type": "code",
   "execution_count": 14,
   "id": "acute-surrey",
   "metadata": {},
   "outputs": [
    {
     "data": {
      "image/png": "[encoded data removed]",
      "text/plain": [
       "<Figure size 640x480 with 1 Axes>"
      ]
     },
     "metadata": {},
     "output_type": "display_data"
    }
   ],
   "source": [
    "for img, bbox in zip(images, bboxes):\n",
    "    (x1, y1, x2, y2) = bbox\n",
    "    img_bbox = cv2.rectangle(np.array(img), (x1, y1), (x2, y2), (0, 255, 0), 2)\n",
    "    plt.imshow(img_bbox)\n",
    "    plt.show()"
   ]
  },
  {
   "cell_type": "markdown",
   "id": "regional-intellectual",
   "metadata": {},
   "source": [
    "# Examine classes"
   ]
  },
  {
   "cell_type": "code",
   "execution_count": 15,
   "id": "major-variety",
   "metadata": {},
   "outputs": [
    {
     "name": "stdout",
     "output_type": "stream",
     "text": [
      "# rows 32153\n"
     ]
    },
    {
     "data": {
      "application/vnd.jupyter.widget-view+json": {
       "model_id": "dcd7ddeae3fc41c7bfc1abdb69816ad5",
       "version_major": 2,
       "version_minor": 0
      },
      "text/plain": [
       "0it [00:00, ?it/s]"
      ]
     },
     "metadata": {},
     "output_type": "display_data"
    },
    {
     "name": "stdout",
     "output_type": "stream",
     "text": [
      "CPU times: user 1min 57s, sys: 1.29 s, total: 1min 58s\n",
      "Wall time: 1min 59s\n"
     ]
    }
   ],
   "source": [
    "%%time\n",
    "\n",
    "ids = []\n",
    "sources = []\n",
    "scales = []\n",
    "viewpoints = []\n",
    "zooms = []\n",
    "occlusions = []\n",
    "landmarks = []\n",
    "bboxes = []\n",
    "styles = []\n",
    "category_ids = []\n",
    "category_names = []\n",
    "annos = df[df['folder']=='annos']\n",
    "print('# rows', len(annos))\n",
    "for idx, row in tqdm(annos.iterrows()): \n",
    "    file = row.path\n",
    "    anno = zipf.read(file, pwd=_pwd)\n",
    "    anno = json.loads(str(anno)[2:-1])\n",
    "    \n",
    "    for key in anno.keys():\n",
    "        if 'item' in key:\n",
    "            ids.append(row.filename.split('.')[0])\n",
    "            sources.append(anno['source'])\n",
    "            #anno.keys() => dict_keys(['segmentation', 'scale', 'viewpoint', 'zoom_in', 'landmarks', 'style', 'bounding_box', 'category_id', 'occlusion', 'category_name'])\n",
    "            scales.append(anno[key]['scale'])\n",
    "            viewpoints.append(anno[key]['viewpoint'])\n",
    "            zooms.append(anno[key]['zoom_in'])\n",
    "            occlusions.append(anno[key]['occlusion'])\n",
    "            landmarks.append(anno[key]['landmarks'])\n",
    "            bboxes.append(anno[key]['bounding_box'])\n",
    "            styles.append(anno[key]['style'])\n",
    "            category_ids.append(anno[key]['category_id'])\n",
    "            category_names.append(anno[key]['category_name'])    "
   ]
  },
  {
   "cell_type": "code",
   "execution_count": 16,
   "id": "expensive-oakland",
   "metadata": {},
   "outputs": [
    {
     "name": "stdout",
     "output_type": "stream",
     "text": [
      "52490\n"
     ]
    },
    {
     "data": {
      "text/html": [
       "<div>\n",
       "<style scoped>\n",
       "    .dataframe tbody tr th:only-of-type {\n",
       "        vertical-align: middle;\n",
       "    }\n",
       "\n",
       "    .dataframe tbody tr th {\n",
       "        vertical-align: top;\n",
       "    }\n",
       "\n",
       "    .dataframe thead th {\n",
       "        text-align: right;\n",
       "    }\n",
       "</style>\n",
       "<table border=\"1\" class=\"dataframe\">\n",
       "  <thead>\n",
       "    <tr style=\"text-align: right;\">\n",
       "      <th></th>\n",
       "      <th>id</th>\n",
       "      <th>source</th>\n",
       "      <th>scale</th>\n",
       "      <th>viewpoint</th>\n",
       "      <th>zoom</th>\n",
       "      <th>occlusion</th>\n",
       "      <th>landmarks</th>\n",
       "      <th>bbox</th>\n",
       "      <th>style</th>\n",
       "      <th>category_id</th>\n",
       "      <th>category_name</th>\n",
       "    </tr>\n",
       "  </thead>\n",
       "  <tbody>\n",
       "    <tr>\n",
       "      <th>0</th>\n",
       "      <td>003690</td>\n",
       "      <td>user</td>\n",
       "      <td>1</td>\n",
       "      <td>3</td>\n",
       "      <td>1</td>\n",
       "      <td>1</td>\n",
       "      <td>[245, 94, 1, 266, 91, 1, 0, 0, 0, 0, 0, 0, 0, ...</td>\n",
       "      <td>[170, 88, 336, 246]</td>\n",
       "      <td>0</td>\n",
       "      <td>2</td>\n",
       "      <td>long sleeve top</td>\n",
       "    </tr>\n",
       "    <tr>\n",
       "      <th>1</th>\n",
       "      <td>003690</td>\n",
       "      <td>user</td>\n",
       "      <td>1</td>\n",
       "      <td>3</td>\n",
       "      <td>1</td>\n",
       "      <td>1</td>\n",
       "      <td>[305, 229, 1, 261, 237, 2, 224, 244, 2, 327, 3...</td>\n",
       "      <td>[210, 219, 331, 419]</td>\n",
       "      <td>1</td>\n",
       "      <td>9</td>\n",
       "      <td>skirt</td>\n",
       "    </tr>\n",
       "    <tr>\n",
       "      <th>2</th>\n",
       "      <td>003690</td>\n",
       "      <td>user</td>\n",
       "      <td>2</td>\n",
       "      <td>3</td>\n",
       "      <td>1</td>\n",
       "      <td>3</td>\n",
       "      <td>[302, 228, 1, 260, 234, 1, 222, 237, 1, 323, 3...</td>\n",
       "      <td>[209, 226, 325, 590]</td>\n",
       "      <td>0</td>\n",
       "      <td>8</td>\n",
       "      <td>trousers</td>\n",
       "    </tr>\n",
       "    <tr>\n",
       "      <th>3</th>\n",
       "      <td>003648</td>\n",
       "      <td>user</td>\n",
       "      <td>1</td>\n",
       "      <td>2</td>\n",
       "      <td>3</td>\n",
       "      <td>2</td>\n",
       "      <td>[191, 516, 1, 205, 567, 1, 0, 0, 0, 91, 514, 2...</td>\n",
       "      <td>[0, 505, 240, 623]</td>\n",
       "      <td>0</td>\n",
       "      <td>8</td>\n",
       "      <td>trousers</td>\n",
       "    </tr>\n",
       "    <tr>\n",
       "      <th>4</th>\n",
       "      <td>003648</td>\n",
       "      <td>user</td>\n",
       "      <td>3</td>\n",
       "      <td>3</td>\n",
       "      <td>2</td>\n",
       "      <td>1</td>\n",
       "      <td>[219, 80, 2, 248, 79, 1, 0, 0, 0, 0, 0, 0, 0, ...</td>\n",
       "      <td>[0, 75, 440, 623]</td>\n",
       "      <td>3</td>\n",
       "      <td>1</td>\n",
       "      <td>short sleeve top</td>\n",
       "    </tr>\n",
       "  </tbody>\n",
       "</table>\n",
       "</div>"
      ],
      "text/plain": [
       "       id source  scale  viewpoint  zoom  occlusion  \\\n",
       "0  003690   user      1          3     1          1   \n",
       "1  003690   user      1          3     1          1   \n",
       "2  003690   user      2          3     1          3   \n",
       "3  003648   user      1          2     3          2   \n",
       "4  003648   user      3          3     2          1   \n",
       "\n",
       "                                           landmarks                  bbox  \\\n",
       "0  [245, 94, 1, 266, 91, 1, 0, 0, 0, 0, 0, 0, 0, ...   [170, 88, 336, 246]   \n",
       "1  [305, 229, 1, 261, 237, 2, 224, 244, 2, 327, 3...  [210, 219, 331, 419]   \n",
       "2  [302, 228, 1, 260, 234, 1, 222, 237, 1, 323, 3...  [209, 226, 325, 590]   \n",
       "3  [191, 516, 1, 205, 567, 1, 0, 0, 0, 91, 514, 2...    [0, 505, 240, 623]   \n",
       "4  [219, 80, 2, 248, 79, 1, 0, 0, 0, 0, 0, 0, 0, ...     [0, 75, 440, 623]   \n",
       "\n",
       "   style  category_id     category_name  \n",
       "0      0            2   long sleeve top  \n",
       "1      1            9             skirt  \n",
       "2      0            8          trousers  \n",
       "3      0            8          trousers  \n",
       "4      3            1  short sleeve top  "
      ]
     },
     "execution_count": 16,
     "metadata": {},
     "output_type": "execute_result"
    }
   ],
   "source": [
    "df_meta_all = pd.DataFrame(data=zip(ids, sources, scales, viewpoints, zooms, occlusions, landmarks, bboxes, styles, category_ids, category_names), columns=['id', 'source', 'scale', 'viewpoint', 'zoom', 'occlusion', 'landmarks', 'bbox', 'style', 'category_id', 'category_name'])\n",
    "print(len(df_meta_all))\n",
    "df_meta_all[:5]"
   ]
  },
  {
   "cell_type": "code",
   "execution_count": 17,
   "id": "accepted-giant",
   "metadata": {},
   "outputs": [],
   "source": [
    "df_meta = df_meta_all.copy()"
   ]
  },
  {
   "cell_type": "markdown",
   "id": "medium-heating",
   "metadata": {},
   "source": [
    "## Reference:  https://github.com/switchablenorms/DeepFashion2\n",
    "\n",
    "Key fields:\n",
    "\n",
    "- source: a string, where 'shop' indicates that the image is from commercial store while 'user' indicates that the image is taken by users.\n",
    "\n",
    "- scale: a number, where 1 represents small scale, 2 represents modest scale and 3 represents large scale.\n",
    "\n",
    "- occlusion: a number, where 1 represents slight occlusion(including no occlusion), 2 represents medium occlusion and 3 represents heavy occlusion.\n",
    "\n",
    "- zoom_in: a number, where 1 represents no zoom-in, 2 represents medium zoom-in and 3 represents lagre zoom-in.\n",
    "\n",
    "- viewpoint: a number, where 1 represents no wear, 2 represents frontal viewpoint and 3 represents side or back viewpoint.\n",
    "\n",
    "First pass of training YOLOv5 on DF1 indicates that results including 'user' photos is very poor due to extreme viewing angles (down in mirror at jeans), heavy occlusion, etc.\n",
    "\n",
    "Therefore, now filtering out 'poor quality' images."
   ]
  },
  {
   "cell_type": "code",
   "execution_count": 18,
   "id": "found-ghost",
   "metadata": {},
   "outputs": [],
   "source": [
    "df_meta = df_meta[(df_meta.source=='shop') & (df_meta.scale>1) & \n",
    "                  (df_meta.occlusion<2) & (df_meta.zoom<2) & \n",
    "                  (df_meta.viewpoint<3)]"
   ]
  },
  {
   "cell_type": "code",
   "execution_count": 20,
   "id": "bored-psychology",
   "metadata": {},
   "outputs": [
    {
     "data": {
      "text/html": [
       "<div>\n",
       "<style scoped>\n",
       "    .dataframe tbody tr th:only-of-type {\n",
       "        vertical-align: middle;\n",
       "    }\n",
       "\n",
       "    .dataframe tbody tr th {\n",
       "        vertical-align: top;\n",
       "    }\n",
       "\n",
       "    .dataframe thead th {\n",
       "        text-align: right;\n",
       "    }\n",
       "</style>\n",
       "<table border=\"1\" class=\"dataframe\">\n",
       "  <thead>\n",
       "    <tr style=\"text-align: right;\">\n",
       "      <th></th>\n",
       "      <th>id</th>\n",
       "      <th>source</th>\n",
       "      <th>scale</th>\n",
       "      <th>viewpoint</th>\n",
       "      <th>zoom</th>\n",
       "      <th>occlusion</th>\n",
       "      <th>landmarks</th>\n",
       "      <th>bbox</th>\n",
       "      <th>style</th>\n",
       "      <th>category_id</th>\n",
       "    </tr>\n",
       "    <tr>\n",
       "      <th>category_name</th>\n",
       "      <th></th>\n",
       "      <th></th>\n",
       "      <th></th>\n",
       "      <th></th>\n",
       "      <th></th>\n",
       "      <th></th>\n",
       "      <th></th>\n",
       "      <th></th>\n",
       "      <th></th>\n",
       "      <th></th>\n",
       "    </tr>\n",
       "  </thead>\n",
       "  <tbody>\n",
       "    <tr>\n",
       "      <th>short sleeve top</th>\n",
       "      <td>2729</td>\n",
       "      <td>2729</td>\n",
       "      <td>2729</td>\n",
       "      <td>2729</td>\n",
       "      <td>2729</td>\n",
       "      <td>2729</td>\n",
       "      <td>2729</td>\n",
       "      <td>2729</td>\n",
       "      <td>2729</td>\n",
       "      <td>2729</td>\n",
       "    </tr>\n",
       "    <tr>\n",
       "      <th>long sleeve top</th>\n",
       "      <td>978</td>\n",
       "      <td>978</td>\n",
       "      <td>978</td>\n",
       "      <td>978</td>\n",
       "      <td>978</td>\n",
       "      <td>978</td>\n",
       "      <td>978</td>\n",
       "      <td>978</td>\n",
       "      <td>978</td>\n",
       "      <td>978</td>\n",
       "    </tr>\n",
       "    <tr>\n",
       "      <th>skirt</th>\n",
       "      <td>724</td>\n",
       "      <td>724</td>\n",
       "      <td>724</td>\n",
       "      <td>724</td>\n",
       "      <td>724</td>\n",
       "      <td>724</td>\n",
       "      <td>724</td>\n",
       "      <td>724</td>\n",
       "      <td>724</td>\n",
       "      <td>724</td>\n",
       "    </tr>\n",
       "    <tr>\n",
       "      <th>short sleeve dress</th>\n",
       "      <td>675</td>\n",
       "      <td>675</td>\n",
       "      <td>675</td>\n",
       "      <td>675</td>\n",
       "      <td>675</td>\n",
       "      <td>675</td>\n",
       "      <td>675</td>\n",
       "      <td>675</td>\n",
       "      <td>675</td>\n",
       "      <td>675</td>\n",
       "    </tr>\n",
       "    <tr>\n",
       "      <th>long sleeve outwear</th>\n",
       "      <td>478</td>\n",
       "      <td>478</td>\n",
       "      <td>478</td>\n",
       "      <td>478</td>\n",
       "      <td>478</td>\n",
       "      <td>478</td>\n",
       "      <td>478</td>\n",
       "      <td>478</td>\n",
       "      <td>478</td>\n",
       "      <td>478</td>\n",
       "    </tr>\n",
       "    <tr>\n",
       "      <th>vest dress</th>\n",
       "      <td>444</td>\n",
       "      <td>444</td>\n",
       "      <td>444</td>\n",
       "      <td>444</td>\n",
       "      <td>444</td>\n",
       "      <td>444</td>\n",
       "      <td>444</td>\n",
       "      <td>444</td>\n",
       "      <td>444</td>\n",
       "      <td>444</td>\n",
       "    </tr>\n",
       "    <tr>\n",
       "      <th>shorts</th>\n",
       "      <td>290</td>\n",
       "      <td>290</td>\n",
       "      <td>290</td>\n",
       "      <td>290</td>\n",
       "      <td>290</td>\n",
       "      <td>290</td>\n",
       "      <td>290</td>\n",
       "      <td>290</td>\n",
       "      <td>290</td>\n",
       "      <td>290</td>\n",
       "    </tr>\n",
       "    <tr>\n",
       "      <th>long sleeve dress</th>\n",
       "      <td>289</td>\n",
       "      <td>289</td>\n",
       "      <td>289</td>\n",
       "      <td>289</td>\n",
       "      <td>289</td>\n",
       "      <td>289</td>\n",
       "      <td>289</td>\n",
       "      <td>289</td>\n",
       "      <td>289</td>\n",
       "      <td>289</td>\n",
       "    </tr>\n",
       "    <tr>\n",
       "      <th>trousers</th>\n",
       "      <td>286</td>\n",
       "      <td>286</td>\n",
       "      <td>286</td>\n",
       "      <td>286</td>\n",
       "      <td>286</td>\n",
       "      <td>286</td>\n",
       "      <td>286</td>\n",
       "      <td>286</td>\n",
       "      <td>286</td>\n",
       "      <td>286</td>\n",
       "    </tr>\n",
       "    <tr>\n",
       "      <th>vest</th>\n",
       "      <td>279</td>\n",
       "      <td>279</td>\n",
       "      <td>279</td>\n",
       "      <td>279</td>\n",
       "      <td>279</td>\n",
       "      <td>279</td>\n",
       "      <td>279</td>\n",
       "      <td>279</td>\n",
       "      <td>279</td>\n",
       "      <td>279</td>\n",
       "    </tr>\n",
       "    <tr>\n",
       "      <th>sling dress</th>\n",
       "      <td>240</td>\n",
       "      <td>240</td>\n",
       "      <td>240</td>\n",
       "      <td>240</td>\n",
       "      <td>240</td>\n",
       "      <td>240</td>\n",
       "      <td>240</td>\n",
       "      <td>240</td>\n",
       "      <td>240</td>\n",
       "      <td>240</td>\n",
       "    </tr>\n",
       "    <tr>\n",
       "      <th>sling</th>\n",
       "      <td>46</td>\n",
       "      <td>46</td>\n",
       "      <td>46</td>\n",
       "      <td>46</td>\n",
       "      <td>46</td>\n",
       "      <td>46</td>\n",
       "      <td>46</td>\n",
       "      <td>46</td>\n",
       "      <td>46</td>\n",
       "      <td>46</td>\n",
       "    </tr>\n",
       "    <tr>\n",
       "      <th>short sleeve outwear</th>\n",
       "      <td>40</td>\n",
       "      <td>40</td>\n",
       "      <td>40</td>\n",
       "      <td>40</td>\n",
       "      <td>40</td>\n",
       "      <td>40</td>\n",
       "      <td>40</td>\n",
       "      <td>40</td>\n",
       "      <td>40</td>\n",
       "      <td>40</td>\n",
       "    </tr>\n",
       "  </tbody>\n",
       "</table>\n",
       "</div>"
      ],
      "text/plain": [
       "                        id  source  scale  viewpoint  zoom  occlusion  \\\n",
       "category_name                                                           \n",
       "short sleeve top      2729    2729   2729       2729  2729       2729   \n",
       "long sleeve top        978     978    978        978   978        978   \n",
       "skirt                  724     724    724        724   724        724   \n",
       "short sleeve dress     675     675    675        675   675        675   \n",
       "long sleeve outwear    478     478    478        478   478        478   \n",
       "vest dress             444     444    444        444   444        444   \n",
       "shorts                 290     290    290        290   290        290   \n",
       "long sleeve dress      289     289    289        289   289        289   \n",
       "trousers               286     286    286        286   286        286   \n",
       "vest                   279     279    279        279   279        279   \n",
       "sling dress            240     240    240        240   240        240   \n",
       "sling                   46      46     46         46    46         46   \n",
       "short sleeve outwear    40      40     40         40    40         40   \n",
       "\n",
       "                      landmarks  bbox  style  category_id  \n",
       "category_name                                              \n",
       "short sleeve top           2729  2729   2729         2729  \n",
       "long sleeve top             978   978    978          978  \n",
       "skirt                       724   724    724          724  \n",
       "short sleeve dress          675   675    675          675  \n",
       "long sleeve outwear         478   478    478          478  \n",
       "vest dress                  444   444    444          444  \n",
       "shorts                      290   290    290          290  \n",
       "long sleeve dress           289   289    289          289  \n",
       "trousers                    286   286    286          286  \n",
       "vest                        279   279    279          279  \n",
       "sling dress                 240   240    240          240  \n",
       "sling                        46    46     46           46  \n",
       "short sleeve outwear         40    40     40           40  "
      ]
     },
     "execution_count": 20,
     "metadata": {},
     "output_type": "execute_result"
    }
   ],
   "source": [
    "cnts = df_meta.groupby('category_name').count().sort_values(by='id', ascending=False)\n",
    "cnts"
   ]
  },
  {
   "cell_type": "code",
   "execution_count": 21,
   "id": "another-beijing",
   "metadata": {},
   "outputs": [],
   "source": [
    "# use the same list used for the Training dataset\n",
    "cats = ['short sleeve top', 'long sleeve top', 'trousers', 'shorts',\n",
    "       'short sleeve dress', 'long sleeve outwear', 'skirt', 'vest dress',\n",
    "       'vest', 'long sleeve dress', 'sling dress']"
   ]
  },
  {
   "cell_type": "code",
   "execution_count": 22,
   "id": "champion-twelve",
   "metadata": {},
   "outputs": [],
   "source": [
    "subset = df_meta[df_meta.category_name.isin(cats)]"
   ]
  },
  {
   "cell_type": "code",
   "execution_count": 23,
   "id": "sunset-teaching",
   "metadata": {},
   "outputs": [
    {
     "data": {
      "text/plain": [
       "240"
      ]
     },
     "execution_count": 23,
     "metadata": {},
     "output_type": "execute_result"
    }
   ],
   "source": [
    "min_cnt = subset.groupby('category_name').count().min()[0]\n",
    "min_cnt"
   ]
  },
  {
   "cell_type": "code",
   "execution_count": 24,
   "id": "desirable-momentum",
   "metadata": {},
   "outputs": [
    {
     "data": {
      "text/plain": [
       "7412"
      ]
     },
     "execution_count": 24,
     "metadata": {},
     "output_type": "execute_result"
    }
   ],
   "source": [
    "# we keep all the data in the validation set\n",
    "samples = subset\n",
    "len(samples)"
   ]
  },
  {
   "cell_type": "code",
   "execution_count": 25,
   "id": "pediatric-survivor",
   "metadata": {},
   "outputs": [],
   "source": [
    "df['id'] = df['filename'].apply(lambda x: x.split('.')[0])"
   ]
  },
  {
   "cell_type": "code",
   "execution_count": 26,
   "id": "wound-heath",
   "metadata": {},
   "outputs": [],
   "source": [
    "#from sklearn.model_selection import train_test_split\n",
    "#train, val = train_test_split(samples, test_size=0.2)\n",
    "#print(len(train),len(val))\n",
    "\n",
    "#For this case, all the data is in the validation set\n",
    "val = samples"
   ]
  },
  {
   "cell_type": "code",
   "execution_count": 27,
   "id": "brown-processing",
   "metadata": {},
   "outputs": [
    {
     "data": {
      "text/plain": [
       "7412"
      ]
     },
     "execution_count": 27,
     "metadata": {},
     "output_type": "execute_result"
    }
   ],
   "source": [
    "val = pd.merge(df, val, on='id')\n",
    "val = val[val.folder=='image']\n",
    "len(val)"
   ]
  },
  {
   "cell_type": "code",
   "execution_count": 28,
   "id": "precise-chosen",
   "metadata": {},
   "outputs": [],
   "source": [
    "#train = pd.merge(df, train, on='id')\n",
    "#train = train[train.folder=='image']\n",
    "#len(train)"
   ]
  },
  {
   "cell_type": "code",
   "execution_count": 29,
   "id": "golden-wallpaper",
   "metadata": {},
   "outputs": [
    {
     "data": {
      "text/plain": [
       "index                                                        41586\n",
       "root_path                                               validation\n",
       "folder                                                       image\n",
       "filename                                                012190.jpg\n",
       "path                                   validation/image/012190.jpg\n",
       "id                                                          012190\n",
       "source                                                        shop\n",
       "scale                                                            2\n",
       "viewpoint                                                        2\n",
       "zoom                                                             1\n",
       "occlusion                                                        1\n",
       "landmarks        [299, 65, 2, 399, 80, 2, 504, 46, 1, 277, 297,...\n",
       "bbox                                           [259, 38, 547, 860]\n",
       "style                                                            2\n",
       "category_id                                                      8\n",
       "category_name                                             trousers\n",
       "Name: 1, dtype: object"
      ]
     },
     "execution_count": 29,
     "metadata": {},
     "output_type": "execute_result"
    }
   ],
   "source": [
    "val.iloc[0]"
   ]
  },
  {
   "cell_type": "code",
   "execution_count": 30,
   "id": "equal-jewelry",
   "metadata": {},
   "outputs": [],
   "source": [
    "if not os.path.exists('df2'):\n",
    "    os.mkdir('df2')\n",
    "\n",
    "if not os.path.exists('df2/images'):\n",
    "    os.mkdir('df2/images')\n",
    "if not os.path.exists('df2/images/train'):\n",
    "    os.mkdir('df2/images/train')\n",
    "if not os.path.exists('df2/images/val'):\n",
    "    os.mkdir('df2/images/val')\n",
    "\n",
    "if not os.path.exists('df2/labels'):\n",
    "    os.mkdir('df2/labels')\n",
    "if not os.path.exists('df2/labels/train'):\n",
    "    os.mkdir('df2/labels/train')\n",
    "if not os.path.exists('df2/labels/val'):\n",
    "    os.mkdir('df2/labels/val')"
   ]
  },
  {
   "cell_type": "code",
   "execution_count": 32,
   "id": "ultimate-heating",
   "metadata": {},
   "outputs": [],
   "source": [
    "def createFiles(data=val, type_='val'):\n",
    "    target_dim = 640.0\n",
    "    for i, row in tqdm(data.iterrows()):\n",
    "        filepath = row.path\n",
    "        img = Image.open(io.BytesIO(zipf.read(filepath, pwd=_pwd)))\n",
    "        w_orig = float(img.size[0])\n",
    "        h_orig = float(img.size[1])\n",
    "        img.thumbnail((target_dim, target_dim)) \n",
    "        if 'png' in str(type(img)).lower():\n",
    "            img = img.convert('RGB')\n",
    "        img.save('df2/images/'+type_+'/'+row.filename, 'JPEG', optimize=True)\n",
    "\n",
    "        (x1, y1, x2, y2) = [float(b) for b in row.bbox]\n",
    "        x = round((((x2 - x1)/2) + x1) / w_orig, 4)\n",
    "        y = round((((y2 - y1)/2) + y1) / h_orig, 4)\n",
    "        w = round((x2 - x1) / w_orig, 4)\n",
    "        h = round((y2 - y1) / h_orig, 4)\n",
    "\n",
    "        idx = list(cats).index(row.category_name)\n",
    "        metadata = str(idx) + f' {x} {y} {w} {h}'\n",
    "        fileroot = 'df2/labels/'+type_+'/'+row.filename.split('.')[0]+'.txt'\n",
    "\n",
    "        f = open(fileroot, 'w')\n",
    "        f.write(metadata)\n",
    "        f.close()"
   ]
  },
  {
   "cell_type": "code",
   "execution_count": 33,
   "id": "nervous-makeup",
   "metadata": {},
   "outputs": [
    {
     "data": {
      "application/vnd.jupyter.widget-view+json": {
       "model_id": "ca1ba819559748669a887e906daca718",
       "version_major": 2,
       "version_minor": 0
      },
      "text/plain": [
       "0it [00:00, ?it/s]"
      ]
     },
     "metadata": {},
     "output_type": "display_data"
    }
   ],
   "source": [
    "#createFiles(train, type_='train')\n",
    "createFiles(val, type_='val')"
   ]
  },
  {
   "cell_type": "code",
   "execution_count": 34,
   "id": "amended-british",
   "metadata": {},
   "outputs": [],
   "source": [
    "lines = []\n",
    "lines.append('path: ../datasets/df2 # root dir\\n')\n",
    "lines.append('train: images/train\\n')\n",
    "lines.append('val: images/val\\n')\n",
    "lines.append('test:  # test images (optional)\\n')\n",
    "\n",
    "lines.append('nc: '+str(len(cats))+' # number of classes\\n')\n",
    "\n",
    "str_classes = \"[ '\" + \"',\\n'\".join(cats) + \"' ]\"\n",
    "\n",
    "lines.append('names: '+str_classes + '\\n')\n",
    "\n",
    "f = open('df2/df2.yaml', 'w')\n",
    "f.writelines(lines)\n",
    "f.close()"
   ]
  },
  {
   "cell_type": "markdown",
   "id": "aquatic-mongolia",
   "metadata": {},
   "source": [
    "# These lines used for debugging"
   ]
  },
  {
   "cell_type": "code",
   "execution_count": 223,
   "id": "embedded-hamburg",
   "metadata": {},
   "outputs": [
    {
     "ename": "AttributeError",
     "evalue": "'Series' object has no attribute 'path'",
     "output_type": "error",
     "traceback": [
      "\u001b[0;31m---------------------------------------------------------------------------\u001b[0m",
      "\u001b[0;31mAttributeError\u001b[0m                            Traceback (most recent call last)",
      "\u001b[0;32m<ipython-input-223-3a67344078d3>\u001b[0m in \u001b[0;36m<module>\u001b[0;34m\u001b[0m\n\u001b[1;32m      1\u001b[0m \u001b[0mrow\u001b[0m \u001b[0;34m=\u001b[0m \u001b[0mdf_meta_all\u001b[0m\u001b[0;34m.\u001b[0m\u001b[0msample\u001b[0m\u001b[0;34m(\u001b[0m\u001b[0;36m1\u001b[0m\u001b[0;34m)\u001b[0m\u001b[0;34m.\u001b[0m\u001b[0miloc\u001b[0m\u001b[0;34m[\u001b[0m\u001b[0;36m0\u001b[0m\u001b[0;34m]\u001b[0m\u001b[0;34m\u001b[0m\u001b[0;34m\u001b[0m\u001b[0m\n\u001b[0;32m----> 2\u001b[0;31m \u001b[0mimg\u001b[0m \u001b[0;34m=\u001b[0m \u001b[0mImage\u001b[0m\u001b[0;34m.\u001b[0m\u001b[0mopen\u001b[0m\u001b[0;34m(\u001b[0m\u001b[0mio\u001b[0m\u001b[0;34m.\u001b[0m\u001b[0mBytesIO\u001b[0m\u001b[0;34m(\u001b[0m\u001b[0mzipf\u001b[0m\u001b[0;34m.\u001b[0m\u001b[0mread\u001b[0m\u001b[0;34m(\u001b[0m\u001b[0mrow\u001b[0m\u001b[0;34m.\u001b[0m\u001b[0mpath\u001b[0m\u001b[0;34m,\u001b[0m \u001b[0mpwd\u001b[0m\u001b[0;34m=\u001b[0m\u001b[0m_pwd\u001b[0m\u001b[0;34m)\u001b[0m\u001b[0;34m)\u001b[0m\u001b[0;34m)\u001b[0m\u001b[0;34m\u001b[0m\u001b[0;34m\u001b[0m\u001b[0m\n\u001b[0m\u001b[1;32m      3\u001b[0m \u001b[0;34m(\u001b[0m\u001b[0mx1\u001b[0m\u001b[0;34m,\u001b[0m \u001b[0my1\u001b[0m\u001b[0;34m,\u001b[0m \u001b[0mx2\u001b[0m\u001b[0;34m,\u001b[0m \u001b[0my2\u001b[0m\u001b[0;34m)\u001b[0m \u001b[0;34m=\u001b[0m \u001b[0mrow\u001b[0m\u001b[0;34m.\u001b[0m\u001b[0mbbox\u001b[0m\u001b[0;34m\u001b[0m\u001b[0;34m\u001b[0m\u001b[0m\n\u001b[1;32m      4\u001b[0m \u001b[0mimg\u001b[0m \u001b[0;34m=\u001b[0m \u001b[0mcv2\u001b[0m\u001b[0;34m.\u001b[0m\u001b[0mrectangle\u001b[0m\u001b[0;34m(\u001b[0m\u001b[0mnp\u001b[0m\u001b[0;34m.\u001b[0m\u001b[0marray\u001b[0m\u001b[0;34m(\u001b[0m\u001b[0mimg\u001b[0m\u001b[0;34m)\u001b[0m\u001b[0;34m,\u001b[0m \u001b[0;34m(\u001b[0m\u001b[0mx1\u001b[0m\u001b[0;34m,\u001b[0m \u001b[0my1\u001b[0m\u001b[0;34m)\u001b[0m\u001b[0;34m,\u001b[0m \u001b[0;34m(\u001b[0m\u001b[0mx2\u001b[0m\u001b[0;34m,\u001b[0m \u001b[0my2\u001b[0m\u001b[0;34m)\u001b[0m\u001b[0;34m,\u001b[0m \u001b[0;34m(\u001b[0m\u001b[0;36m0\u001b[0m\u001b[0;34m,\u001b[0m \u001b[0;36m255\u001b[0m\u001b[0;34m,\u001b[0m \u001b[0;36m0\u001b[0m\u001b[0;34m)\u001b[0m\u001b[0;34m,\u001b[0m \u001b[0;36m2\u001b[0m\u001b[0;34m)\u001b[0m\u001b[0;34m\u001b[0m\u001b[0;34m\u001b[0m\u001b[0m\n\u001b[1;32m      5\u001b[0m \u001b[0mplt\u001b[0m\u001b[0;34m.\u001b[0m\u001b[0mimshow\u001b[0m\u001b[0;34m(\u001b[0m\u001b[0mimg\u001b[0m\u001b[0;34m)\u001b[0m\u001b[0;34m\u001b[0m\u001b[0;34m\u001b[0m\u001b[0m\n",
      "\u001b[0;32m~/opt/anaconda3/lib/python3.7/site-packages/pandas/core/generic.py\u001b[0m in \u001b[0;36m__getattr__\u001b[0;34m(self, name)\u001b[0m\n\u001b[1;32m   5485\u001b[0m         ):\n\u001b[1;32m   5486\u001b[0m             \u001b[0;32mreturn\u001b[0m \u001b[0mself\u001b[0m\u001b[0;34m[\u001b[0m\u001b[0mname\u001b[0m\u001b[0;34m]\u001b[0m\u001b[0;34m\u001b[0m\u001b[0;34m\u001b[0m\u001b[0m\n\u001b[0;32m-> 5487\u001b[0;31m         \u001b[0;32mreturn\u001b[0m \u001b[0mobject\u001b[0m\u001b[0;34m.\u001b[0m\u001b[0m__getattribute__\u001b[0m\u001b[0;34m(\u001b[0m\u001b[0mself\u001b[0m\u001b[0;34m,\u001b[0m \u001b[0mname\u001b[0m\u001b[0;34m)\u001b[0m\u001b[0;34m\u001b[0m\u001b[0;34m\u001b[0m\u001b[0m\n\u001b[0m\u001b[1;32m   5488\u001b[0m \u001b[0;34m\u001b[0m\u001b[0m\n\u001b[1;32m   5489\u001b[0m     \u001b[0;32mdef\u001b[0m \u001b[0m__setattr__\u001b[0m\u001b[0;34m(\u001b[0m\u001b[0mself\u001b[0m\u001b[0;34m,\u001b[0m \u001b[0mname\u001b[0m\u001b[0;34m:\u001b[0m \u001b[0mstr\u001b[0m\u001b[0;34m,\u001b[0m \u001b[0mvalue\u001b[0m\u001b[0;34m)\u001b[0m \u001b[0;34m->\u001b[0m \u001b[0;32mNone\u001b[0m\u001b[0;34m:\u001b[0m\u001b[0;34m\u001b[0m\u001b[0;34m\u001b[0m\u001b[0m\n",
      "\u001b[0;31mAttributeError\u001b[0m: 'Series' object has no attribute 'path'"
     ]
    }
   ],
   "source": [
    "bbox_ = df_meta_all[df_meta_all.id=='000908'].bbox\n",
    "path_ = 'train/image/000908.jpg'\n",
    "img = Image.open(io.BytesIO(zipf.read(path_, pwd=_pwd)))\n",
    "(x1, y1, x2, y2) = bbox_\n",
    "img = cv2.rectangle(np.array(img), (x1, y1), (x2, y2), (0, 255, 0), 2)\n",
    "plt.imshow(img)\n",
    "print(row.category_name)\n",
    "plt.show()"
   ]
  },
  {
   "cell_type": "code",
   "execution_count": 212,
   "id": "brown-baker",
   "metadata": {},
   "outputs": [
    {
     "data": {
      "text/plain": [
       "index                                                       213175\n",
       "root_path                                                    train\n",
       "folder                                                       image\n",
       "filename                                                027196.jpg\n",
       "path                                        train/image/027196.jpg\n",
       "id                                                          027196\n",
       "source                                                        shop\n",
       "scale                                                            2\n",
       "viewpoint                                                        2\n",
       "zoom                                                             1\n",
       "occlusion                                                        1\n",
       "landmarks        [412, 22, 1, 334, 32, 1, 347, 75, 2, 408, 80, ...\n",
       "bbox                                           [153, 13, 654, 450]\n",
       "style                                                            2\n",
       "category_id                                                      1\n",
       "category_name                                     short sleeve top\n",
       "Name: 11061, dtype: object"
      ]
     },
     "execution_count": 212,
     "metadata": {},
     "output_type": "execute_result"
    }
   ],
   "source": [
    "row"
   ]
  },
  {
   "cell_type": "code",
   "execution_count": 229,
   "id": "removable-innocent",
   "metadata": {},
   "outputs": [
    {
     "data": {
      "text/html": [
       "<div>\n",
       "<style scoped>\n",
       "    .dataframe tbody tr th:only-of-type {\n",
       "        vertical-align: middle;\n",
       "    }\n",
       "\n",
       "    .dataframe tbody tr th {\n",
       "        vertical-align: top;\n",
       "    }\n",
       "\n",
       "    .dataframe thead th {\n",
       "        text-align: right;\n",
       "    }\n",
       "</style>\n",
       "<table border=\"1\" class=\"dataframe\">\n",
       "  <thead>\n",
       "    <tr style=\"text-align: right;\">\n",
       "      <th></th>\n",
       "      <th>index</th>\n",
       "      <th>root_path</th>\n",
       "      <th>folder</th>\n",
       "      <th>filename</th>\n",
       "      <th>path</th>\n",
       "      <th>id</th>\n",
       "      <th>source</th>\n",
       "      <th>scale</th>\n",
       "      <th>viewpoint</th>\n",
       "      <th>zoom</th>\n",
       "      <th>occlusion</th>\n",
       "      <th>landmarks</th>\n",
       "      <th>bbox</th>\n",
       "      <th>style</th>\n",
       "      <th>category_id</th>\n",
       "      <th>category_name</th>\n",
       "    </tr>\n",
       "  </thead>\n",
       "  <tbody>\n",
       "    <tr>\n",
       "      <th>1775</th>\n",
       "      <td>338250</td>\n",
       "      <td>train</td>\n",
       "      <td>image</td>\n",
       "      <td>035148.jpg</td>\n",
       "      <td>train/image/035148.jpg</td>\n",
       "      <td>035148</td>\n",
       "      <td>shop</td>\n",
       "      <td>2</td>\n",
       "      <td>2</td>\n",
       "      <td>1</td>\n",
       "      <td>1</td>\n",
       "      <td>[247, 110, 1, 235, 107, 2, 239, 113, 2, 245, 1...</td>\n",
       "      <td>[155, 103, 297, 256]</td>\n",
       "      <td>1</td>\n",
       "      <td>2</td>\n",
       "      <td>long sleeve top</td>\n",
       "    </tr>\n",
       "  </tbody>\n",
       "</table>\n",
       "</div>"
      ],
      "text/plain": [
       "       index root_path folder    filename                    path      id  \\\n",
       "1775  338250     train  image  035148.jpg  train/image/035148.jpg  035148   \n",
       "\n",
       "     source  scale  viewpoint  zoom  occlusion  \\\n",
       "1775   shop      2          2     1          1   \n",
       "\n",
       "                                              landmarks                  bbox  \\\n",
       "1775  [247, 110, 1, 235, 107, 2, 239, 113, 2, 245, 1...  [155, 103, 297, 256]   \n",
       "\n",
       "      style  category_id    category_name  \n",
       "1775      1            2  long sleeve top  "
      ]
     },
     "execution_count": 229,
     "metadata": {},
     "output_type": "execute_result"
    }
   ],
   "source": [
    "train[train.filename=='035148.jpg']"
   ]
  },
  {
   "cell_type": "code",
   "execution_count": 232,
   "id": "returning-netscape",
   "metadata": {},
   "outputs": [
    {
     "data": {
      "text/plain": [
       "(496, 328)"
      ]
     },
     "execution_count": 232,
     "metadata": {},
     "output_type": "execute_result"
    }
   ],
   "source": [
    "Image.open(io.BytesIO(zipf.read('train/image/035148.jpg', pwd=_pwd))).size\n",
    "\n"
   ]
  },
  {
   "cell_type": "code",
   "execution_count": null,
   "id": "greenhouse-municipality",
   "metadata": {},
   "outputs": [],
   "source": []
  }
 ],
 "metadata": {
  "kernelspec": {
   "display_name": "Python 3",
   "language": "python",
   "name": "python3"
  },
  "language_info": {
   "codemirror_mode": {
    "name": "ipython",
    "version": 3
   },
   "file_extension": ".py",
   "mimetype": "text/x-python",
   "name": "python",
   "nbconvert_exporter": "python",
   "pygments_lexer": "ipython3",
   "version": "3.7.4"
  }
 },
 "nbformat": 4,
 "nbformat_minor": 5
}
