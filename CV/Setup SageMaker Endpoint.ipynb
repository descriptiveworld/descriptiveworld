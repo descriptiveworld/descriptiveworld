{
 "cells": [
  {
   "cell_type": "markdown",
   "id": "6a2d5848",
   "metadata": {},
   "source": [
    "# Setup of SageMaker Endpoint for DescriptiveWorld computer vision model\n",
    "\n",
    "Authored by Blair Jones, 2021.11.01\n",
    "\n",
    "Model built using yolov5\n",
    "\n",
    "Code inspired by AWS-provided example at: https://aws.amazon.com/blogs/machine-learning/speed-up-yolov4-inference-to-twice-as-fast-on-amazon-sagemaker/\n",
    "\n",
    "\n",
    "\n",
    "### Instructions\n",
    "\n",
    "Before running the notebook, install yolov5 in the Sagemaker root folder using the yolov5 instructions at:  https://github.com/ultralytics/yolov5\n",
    "\n",
    "and run \"aws configure\" at command line to setup aws CLI."
   ]
  },
  {
   "cell_type": "markdown",
   "id": "c752fe3a",
   "metadata": {},
   "source": [
    "### Setup"
   ]
  },
  {
   "cell_type": "code",
   "execution_count": 1,
   "id": "b35fa55e",
   "metadata": {},
   "outputs": [],
   "source": [
    "import numpy as np\n",
    "import time\n",
    "import json\n",
    "import requests\n",
    "import boto3\n",
    "import os\n",
    "import sagemaker\n",
    "from tqdm.notebook import tqdm"
   ]
  },
  {
   "cell_type": "code",
   "execution_count": 3,
   "id": "050b2234",
   "metadata": {},
   "outputs": [],
   "source": [
    "from sagemaker import get_execution_role\n",
    "from sagemaker.session import Session\n",
    "\n",
    "role = get_execution_role()\n",
    "sess = Session()\n",
    "region = sess.boto_region_name\n",
    "bucket = 's3://descriptiveworld-models/CV_Models/'"
   ]
  },
  {
   "cell_type": "code",
   "execution_count": 4,
   "id": "4d2567c3",
   "metadata": {},
   "outputs": [
    {
     "name": "stdout",
     "output_type": "stream",
     "text": [
      "us-west-2\n",
      "s3://descriptiveworld-models/CV_Models/\n"
     ]
    }
   ],
   "source": [
    "print(region)\n",
    "print(bucket)"
   ]
  },
  {
   "cell_type": "code",
   "execution_count": 5,
   "id": "70d0d63d",
   "metadata": {},
   "outputs": [],
   "source": [
    "# ensure that environment chosen for pytorch version >= 1.7 (as of 2021.11.01)"
   ]
  },
  {
   "cell_type": "code",
   "execution_count": 6,
   "id": "13e86f4d",
   "metadata": {},
   "outputs": [
    {
     "name": "stdout",
     "output_type": "stream",
     "text": [
      "1.7.1\n"
     ]
    }
   ],
   "source": [
    "import torch\n",
    "print(torch.__version__)"
   ]
  },
  {
   "cell_type": "code",
   "execution_count": 7,
   "id": "50780458",
   "metadata": {},
   "outputs": [
    {
     "name": "stdout",
     "output_type": "stream",
     "text": [
      "3.6.13 | packaged by conda-forge | (default, Feb 19 2021, 05:36:01) \n",
      "[GCC 9.3.0]\n"
     ]
    }
   ],
   "source": [
    "import sys\n",
    "print(sys.version)"
   ]
  },
  {
   "cell_type": "markdown",
   "id": "46d607d1",
   "metadata": {},
   "source": [
    "### Convert model to Torchscript"
   ]
  },
  {
   "cell_type": "code",
   "execution_count": null,
   "id": "76250815",
   "metadata": {},
   "outputs": [],
   "source": [
    "!aws s3 cp s3://descriptiveworld-models/CV_Models/df2_11_large_20211021/weights/best.pt ../../yolov5/"
   ]
  },
  {
   "cell_type": "code",
   "execution_count": 8,
   "id": "7c816821",
   "metadata": {},
   "outputs": [
    {
     "name": "stdout",
     "output_type": "stream",
     "text": [
      "/home/ec2-user/SageMaker/yolov5\n"
     ]
    }
   ],
   "source": [
    "%cd ../../yolov5\n",
    "# not necessary to convert to torchscript\n",
    "#!python ./bcj_export.py --weights ./best.pt"
   ]
  },
  {
   "cell_type": "code",
   "execution_count": null,
   "id": "76866da0",
   "metadata": {},
   "outputs": [],
   "source": [
    "!cp best.pt model.pt"
   ]
  },
  {
   "cell_type": "code",
   "execution_count": null,
   "id": "26856e35",
   "metadata": {},
   "outputs": [],
   "source": [
    "#!mkdir ./model\n",
    "#!cp ./model.pt ./model/\n",
    "#!mkdir ./model/code"
   ]
  },
  {
   "cell_type": "code",
   "execution_count": null,
   "id": "30af75c2",
   "metadata": {},
   "outputs": [],
   "source": [
    "!mkdir ./code"
   ]
  },
  {
   "cell_type": "code",
   "execution_count": null,
   "id": "0d78a31e",
   "metadata": {},
   "outputs": [],
   "source": [
    "!cp ./utils/ -r ./code/utils/\n",
    "!cp ./models/ -r ./code/models/\n",
    "!cp ./data/ -r ./code/data/\n",
    "!cp ./requirements.txt ./code/"
   ]
  },
  {
   "cell_type": "code",
   "execution_count": 9,
   "id": "99c23bbb",
   "metadata": {},
   "outputs": [],
   "source": [
    "!cp ./bcj_sm_ep_detect.py  ./code/"
   ]
  },
  {
   "cell_type": "markdown",
   "id": "c9533af0",
   "metadata": {},
   "source": [
    "#### save model archive to s3"
   ]
  },
  {
   "cell_type": "code",
   "execution_count": 10,
   "id": "aa92017b",
   "metadata": {},
   "outputs": [
    {
     "name": "stdout",
     "output_type": "stream",
     "text": [
      "./model.pt\n",
      "upload: ./model.tar.gz to s3://descriptiveworld-models/CV_Models/model.tar.gz\n"
     ]
    }
   ],
   "source": [
    "#!tar -czvf ./currentmodel.tar.gz ./current.torchscript.pt\n",
    "!tar -czvf ./model.tar.gz ./model.pt\n",
    "!aws s3 cp ./model.tar.gz s3://descriptiveworld-models/CV_Models/"
   ]
  },
  {
   "cell_type": "markdown",
   "id": "e6f9bfdb",
   "metadata": {},
   "source": [
    "### Create the model and endpoint"
   ]
  },
  {
   "cell_type": "code",
   "execution_count": 11,
   "id": "ed8a40ef",
   "metadata": {},
   "outputs": [
    {
     "data": {
      "text/plain": [
       "'s3://sagemaker-us-west-2-769212126689/s3://descriptiveworld-models/CV_Models/model.tar.gz'"
      ]
     },
     "execution_count": 11,
     "metadata": {},
     "output_type": "execute_result"
    }
   ],
   "source": [
    "model_archive = './model.tar.gz'\n",
    "prefix = 's3://descriptiveworld-models/CV_Models'\n",
    "model_path = sess.upload_data(path=model_archive, key_prefix=prefix)\n",
    "model_path"
   ]
  },
  {
   "cell_type": "code",
   "execution_count": 12,
   "id": "02d39e11",
   "metadata": {},
   "outputs": [
    {
     "name": "stdout",
     "output_type": "stream",
     "text": [
      "CPU times: user 8.33 ms, sys: 0 ns, total: 8.33 ms\n",
      "Wall time: 14.5 ms\n"
     ]
    }
   ],
   "source": [
    "%%time\n",
    "framework_version = '1.7.1'\n",
    "py_version = 'py3'\n",
    "instance_type = 'ml.t2.medium'\n",
    "from sagemaker.pytorch.model import PyTorchModel\n",
    "from sagemaker.predictor import Predictor"
   ]
  },
  {
   "cell_type": "code",
   "execution_count": null,
   "id": "6c5aaf8e",
   "metadata": {},
   "outputs": [
    {
     "name": "stdout",
     "output_type": "stream",
     "text": [
      "-----------!pytorch-inference-2021-11-15-14-11-50-590\n",
      "pytorch-inference-2021-11-15-14-11-50-874\n",
      "CPU times: user 7.12 s, sys: 755 ms, total: 7.88 s\n",
      "Wall time: 5min 40s\n"
     ]
    }
   ],
   "source": [
    "%%time\n",
    "# reference:  https://stackoverflow.com/questions/68150444/aws-sagemaker-fails-loading-pytorch-pth-weights\n",
    "# reference:  https://github.com/aws/sagemaker-python-sdk/blob/master/src/sagemaker/pytorch/model.py\n",
    "# reference:  https://github.com/aws/sagemaker-python-sdk/blob/master/src/sagemaker/model.py\n",
    "\n",
    "sm_model = PyTorchModel(model_data=model_path,\n",
    "                       framework_version=framework_version,\n",
    "                       role=role,\n",
    "                       sagemaker_session=sess,\n",
    "                       entry_point='bcj_sm_ep_detect.py',\n",
    "                       source_dir='code',\n",
    "                       py_version=py_version,\n",
    "                       env={\"COMPILEDMODEL\": 'False', 'MMS_MAX_RESPONSE_SIZE': '100000000', 'MMS_DEFAULT_RESPONSE_TIMEOUT': '500'})\n",
    "\n",
    "dw_predictor = sm_model.deploy(initial_instance_count=1, \n",
    "                               instance_type=instance_type, \n",
    "                               endpoint_name='descriptiveworld-SageMaker-EndPoint')\n",
    "\n",
    "print(sm_model.name)\n",
    "print(dw_predictor.endpoint_name)"
   ]
  },
  {
   "cell_type": "markdown",
   "id": "6098872d",
   "metadata": {},
   "source": [
    "### Test Endpoint"
   ]
  },
  {
   "cell_type": "code",
   "execution_count": 15,
   "id": "f154e89a",
   "metadata": {},
   "outputs": [],
   "source": [
    "client = boto3.client('sagemaker-runtime', region_name=region)\n",
    "sample_img_url = \"https://media.gq.com/photos/60f9c697101cc04fad71e5cf/master/pass/BEST-BASICS-1.jpg\"\n",
    "content_type='JPEG'\n",
    "body = requests.get(sample_img_url).content\n",
    "response = client.invoke_endpoint(EndpointName=dw_predictor.endpoint_name, Body=body, ContentType=content_type)\n",
    "pred_out = response['Body'].read().decode()"
   ]
  },
  {
   "cell_type": "code",
   "execution_count": 16,
   "id": "38847bff",
   "metadata": {},
   "outputs": [
    {
     "name": "stdout",
     "output_type": "stream",
     "text": [
      "{\"source-ref\": \"TBD\", \"num-detected-objects\": 6, \"bounding-box-attribute-name\": {\"image_size\": [{\"width\": 2000, \"height\": 1125, \"depth\": 3}], \"annotations\": [{\"class_id\": 0, \"left\": 805, \"top\": 65, \"width\": 524, \"height\": 483}, {\"class_id\": 3, \"left\": 47, \"top\": 633, \"width\": 446, \"height\": 438}, {\"class_id\": 1, \"left\": 657, \"top\": 481, \"width\": 286, \"height\": 608}, {\"class_id\": 2, \"left\": 1094, \"top\": 579, \"width\": 465, \"height\": 505}, {\"class_id\": 1, \"left\": 1671, \"top\": 518, \"width\": 305, \"height\": 552}, {\"class_id\": 2, \"left\": 112, \"top\": 45, \"width\": 544, \"height\": 577}]}, \"bounding-box-attribute-name-metadata\": {\"objects\": [{\"confidence\": 0.25}, {\"confidence\": 0.28}, {\"confidence\": 0.31}, {\"confidence\": 0.42}, {\"confidence\": 0.48}, {\"confidence\": 0.49}], \"class-map\": {\"0\": \"short sleeve top\", \"3\": \"shorts\", \"1\": \"trousers\", \"2\": \"long sleeve top\"}, \"type\": \"descriptiveworld/object-detection\", \"human-annotated\": \"no\", \"creation-date\": \"2021-11-15 14:18:49.785599\", \"job-name\": \"descriptive_world_identify_garments\"}}\n"
     ]
    }
   ],
   "source": [
    "print(pred_out)"
   ]
  },
  {
   "cell_type": "markdown",
   "id": "f2c2a508",
   "metadata": {},
   "source": [
    "### Run Inference"
   ]
  },
  {
   "cell_type": "code",
   "execution_count": null,
   "id": "6bb97af1",
   "metadata": {},
   "outputs": [],
   "source": [
    "%%time\n",
    "iters = 1000\n",
    "warmup = 100\n",
    "client = boto3.client('sagemaker-runtime', region_name=region)\n",
    "\n",
    "content_type = 'application/x-image'\n",
    "\n",
    "sample_img_url = \"https://github.com/ultralytics/yolov5/raw/master/data/images/zidane.jpg\"\n",
    "body = requests.get(sample_img_url).content\n",
    "\n",
    "dw_perf = []\n",
    "  \n",
    "for i in tqdm(range(iters)):\n",
    "    t0 = time.time()\n",
    "    response = client.invoke_endpoint(EndpointName=dw_predictor.endpoint_name, Body=body, ContentType=content_type)\n",
    "    t1 = time.time()\n",
    "    #convert to millis\n",
    "    dw_elapsed = (t1-t0)*1000\n",
    "    \n",
    "    if warmup == 0:\n",
    "        dw_perf.append(uncompiled_elapsed)\n",
    "    else:\n",
    "        print(f'warmup ({i}, {iters}) : dw - {dw_elapsed} ms')\n",
    "        warmup = warmup - 1"
   ]
  },
  {
   "cell_type": "code",
   "execution_count": null,
   "id": "54823c3b",
   "metadata": {},
   "outputs": [],
   "source": []
  }
 ],
 "metadata": {
  "kernelspec": {
   "display_name": "conda_pytorch_latest_p36",
   "language": "python",
   "name": "conda_pytorch_latest_p36"
  },
  "language_info": {
   "codemirror_mode": {
    "name": "ipython",
    "version": 3
   },
   "file_extension": ".py",
   "mimetype": "text/x-python",
   "name": "python",
   "nbconvert_exporter": "python",
   "pygments_lexer": "ipython3",
   "version": "3.6.13"
  }
 },
 "nbformat": 4,
 "nbformat_minor": 5
}
