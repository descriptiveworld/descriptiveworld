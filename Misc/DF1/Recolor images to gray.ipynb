{
 "cells": [
  {
   "cell_type": "code",
   "execution_count": 1,
   "id": "mechanical-giving",
   "metadata": {},
   "outputs": [],
   "source": [
    "import os\n",
    "import cv2\n",
    "import matplotlib.pyplot as plt"
   ]
  },
  {
   "cell_type": "code",
   "execution_count": 17,
   "id": "signal-capitol",
   "metadata": {},
   "outputs": [],
   "source": [
    "#root_path = 'df1_train_2_data_lo_res_gray/fashion/images/train'\n",
    "root_path = 'df1_train_2_data_lo_res_gray/fashion/images/val'\n",
    "for sub_path in os.listdir(root_path):\n",
    "    if 'DS_' not in sub_path:\n",
    "        for filename in os.listdir(root_path+'/'+sub_path)[:]:\n",
    "            if 'jpg' in filename.split('.')[1]:\n",
    "                img = cv2.imread(root_path+'/'+sub_path+'/'+filename)\n",
    "                img = cv2.cvtColor(img, cv2.COLOR_BGR2GRAY)\n",
    "                cv2.imwrite(root_path+'/'+sub_path+'/'+filename, img)"
   ]
  },
  {
   "cell_type": "code",
   "execution_count": null,
   "id": "remarkable-static",
   "metadata": {},
   "outputs": [],
   "source": [
    "plt.imshow(cv2.cvtColor(img, cv2.COLOR_BGR2RGB))\n",
    "plt.show()"
   ]
  },
  {
   "cell_type": "code",
   "execution_count": null,
   "id": "bridal-davis",
   "metadata": {},
   "outputs": [],
   "source": []
  }
 ],
 "metadata": {
  "kernelspec": {
   "display_name": "Python 3",
   "language": "python",
   "name": "python3"
  },
  "language_info": {
   "codemirror_mode": {
    "name": "ipython",
    "version": 3
   },
   "file_extension": ".py",
   "mimetype": "text/x-python",
   "name": "python",
   "nbconvert_exporter": "python",
   "pygments_lexer": "ipython3",
   "version": "3.7.4"
  }
 },
 "nbformat": 4,
 "nbformat_minor": 5
}
