{
 "cells": [
  {
   "cell_type": "code",
   "execution_count": 3,
   "id": "06d8f46a",
   "metadata": {},
   "outputs": [],
   "source": [
    "#pip install DuckDuckGoImages"
   ]
  },
  {
   "cell_type": "markdown",
   "id": "be55567a",
   "metadata": {},
   "source": [
    "From:  https://github.com/JorgePoblete/DuckDuckGoImages"
   ]
  },
  {
   "cell_type": "code",
   "execution_count": 26,
   "id": "0743b994",
   "metadata": {},
   "outputs": [],
   "source": [
    "import DuckDuckGoImages as ddg\n",
    "from PIL import Image\n",
    "import os\n",
    "import numpy as np"
   ]
  },
  {
   "cell_type": "code",
   "execution_count": 38,
   "id": "ba295bcb",
   "metadata": {},
   "outputs": [],
   "source": [
    "patterns = [\n",
    "#    'plaid',\n",
    "#    'striped',\n",
    "#    'zigzag',\n",
    "#    'polka dot',\n",
    "    'floral',\n",
    "    'paisley',\n",
    "    'geometric',\n",
    "    'camouflage',\n",
    "    'lace',\n",
    "    'plain'\n",
    "]"
   ]
  },
  {
   "cell_type": "code",
   "execution_count": 44,
   "id": "653b27fc",
   "metadata": {},
   "outputs": [
    {
     "data": {
      "text/plain": [
       "'plain fabric'"
      ]
     },
     "execution_count": 44,
     "metadata": {},
     "output_type": "execute_result"
    }
   ],
   "source": [
    "if 'pla' in search:\n",
    "    search.replace('fab', '-dot fab')\n",
    "search"
   ]
  },
  {
   "cell_type": "code",
   "execution_count": 40,
   "id": "4df40406",
   "metadata": {},
   "outputs": [],
   "source": [
    "num_to_scrape = 1000\n",
    "for pattern in patterns:\n",
    "    search=pattern+' fabric'\n",
    "    folder_name = '_'.join(search.split())\n",
    "    if 'geometric' in search:\n",
    "        search = search.replace('fabric', '-dot fabric')\n",
    "    ddg.download(search, folder=folder_name, max_urls=num_to_scrape, parallel=True, thumbnails=True)"
   ]
  },
  {
   "cell_type": "code",
   "execution_count": 19,
   "id": "e6f99e8a",
   "metadata": {},
   "outputs": [],
   "source": [
    "files = os.listdir(folder_name)"
   ]
  },
  {
   "cell_type": "code",
   "execution_count": 20,
   "id": "7861dc8d",
   "metadata": {},
   "outputs": [],
   "source": [
    "img_sizes = []\n",
    "for file in files:\n",
    "    if 'jpg' in file.split('.')[1]:\n",
    "        img = Image.open(folder_name+'/'+file)\n",
    "        img_sizes.append(img.size)"
   ]
  },
  {
   "cell_type": "code",
   "execution_count": 35,
   "id": "82895617",
   "metadata": {},
   "outputs": [
    {
     "ename": "AttributeError",
     "evalue": "'numpy.ndarray' object has no attribute 'groupby'",
     "output_type": "error",
     "traceback": [
      "\u001b[0;31m---------------------------------------------------------------------------\u001b[0m",
      "\u001b[0;31mAttributeError\u001b[0m                            Traceback (most recent call last)",
      "\u001b[0;32m<ipython-input-35-a176dd65896b>\u001b[0m in \u001b[0;36m<module>\u001b[0;34m\u001b[0m\n\u001b[0;32m----> 1\u001b[0;31m \u001b[0mnp\u001b[0m\u001b[0;34m.\u001b[0m\u001b[0marray\u001b[0m\u001b[0;34m(\u001b[0m\u001b[0mimg_sizes\u001b[0m\u001b[0;34m)\u001b[0m\u001b[0;34m[\u001b[0m\u001b[0;34m:\u001b[0m\u001b[0;34m,\u001b[0m\u001b[0;36m0\u001b[0m\u001b[0;34m]\u001b[0m\u001b[0;34m.\u001b[0m\u001b[0mgroupby\u001b[0m\u001b[0;34m(\u001b[0m\u001b[0;34m)\u001b[0m\u001b[0;34m\u001b[0m\u001b[0;34m\u001b[0m\u001b[0m\n\u001b[0m",
      "\u001b[0;31mAttributeError\u001b[0m: 'numpy.ndarray' object has no attribute 'groupby'"
     ]
    }
   ],
   "source": [
    "np.array(img_sizes)[:,0]"
   ]
  },
  {
   "cell_type": "code",
   "execution_count": 31,
   "id": "43cab6a7",
   "metadata": {},
   "outputs": [
    {
     "data": {
      "text/plain": [
       "array([694, 474, 536, ..., 474, 677, 416])"
      ]
     },
     "execution_count": 31,
     "metadata": {},
     "output_type": "execute_result"
    }
   ],
   "source": [
    "np.array(img_sizes)[:,1]"
   ]
  },
  {
   "cell_type": "code",
   "execution_count": null,
   "id": "95f390c0",
   "metadata": {},
   "outputs": [],
   "source": []
  }
 ],
 "metadata": {
  "kernelspec": {
   "display_name": "conda_pytorch_latest_p36",
   "language": "python",
   "name": "conda_pytorch_latest_p36"
  },
  "language_info": {
   "codemirror_mode": {
    "name": "ipython",
    "version": 3
   },
   "file_extension": ".py",
   "mimetype": "text/x-python",
   "name": "python",
   "nbconvert_exporter": "python",
   "pygments_lexer": "ipython3",
   "version": "3.6.13"
  }
 },
 "nbformat": 4,
 "nbformat_minor": 5
}
