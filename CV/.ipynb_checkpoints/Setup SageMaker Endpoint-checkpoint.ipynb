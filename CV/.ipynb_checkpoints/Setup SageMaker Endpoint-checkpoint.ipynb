{
 "cells": [
  {
   "cell_type": "markdown",
   "id": "c3432753",
   "metadata": {},
   "source": [
    "# Setup of SageMaker Endpoint for DescriptiveWorld computer vision model\n",
    "\n",
    "Authored by Blair Jones, 2021.11.01\n",
    "\n",
    "Model built using yolov5\n",
    "\n",
    "Code inspired by AWS-provided example at: https://aws.amazon.com/blogs/machine-learning/speed-up-yolov4-inference-to-twice-as-fast-on-amazon-sagemaker/\n",
    "\n",
    "\n",
    "\n",
    "### Instructions\n",
    "\n",
    "Before running the notebook, install yolov5 in the Sagemaker root folder using the yolov5 instructions at:  https://github.com/ultralytics/yolov5\n",
    "\n",
    "and run \"aws configure\" at command line to setup aws CLI."
   ]
  },
  {
   "cell_type": "markdown",
   "id": "1e190532",
   "metadata": {},
   "source": [
    "### Setup"
   ]
  },
  {
   "cell_type": "code",
   "execution_count": 138,
   "id": "66e20db8",
   "metadata": {},
   "outputs": [],
   "source": [
    "import numpy as np\n",
    "import time\n",
    "import json\n",
    "import requests\n",
    "import boto3\n",
    "import os\n",
    "import sagemaker\n",
    "from tqdm.notebook import tqdm\n",
    "from PIL import Image\n",
    "import io\n",
    "\n",
    "from sagemaker.pytorch.model import PyTorchModel\n",
    "from sagemaker.predictor import Predictor"
   ]
  },
  {
   "cell_type": "code",
   "execution_count": 139,
   "id": "3a1b4603",
   "metadata": {},
   "outputs": [],
   "source": [
    "from sagemaker import get_execution_role\n",
    "from sagemaker.session import Session\n",
    "\n",
    "role = get_execution_role()\n",
    "sess = Session()\n",
    "region = sess.boto_region_name\n",
    "bucket = 's3://descriptiveworld-models/CV_Models/'"
   ]
  },
  {
   "cell_type": "code",
   "execution_count": 140,
   "id": "9362da67",
   "metadata": {},
   "outputs": [
    {
     "name": "stdout",
     "output_type": "stream",
     "text": [
      "us-west-2\n",
      "s3://descriptiveworld-models/CV_Models/\n"
     ]
    }
   ],
   "source": [
    "print(region)\n",
    "print(bucket)"
   ]
  },
  {
   "cell_type": "code",
   "execution_count": 141,
   "id": "492363d1",
   "metadata": {},
   "outputs": [],
   "source": [
    "# ensure that environment chosen for pytorch version >= 1.7 (as of 2021.11.01)"
   ]
  },
  {
   "cell_type": "code",
   "execution_count": 142,
   "id": "1dda95f2",
   "metadata": {},
   "outputs": [
    {
     "name": "stdout",
     "output_type": "stream",
     "text": [
      "1.7.1\n"
     ]
    }
   ],
   "source": [
    "import torch\n",
    "print(torch.__version__)"
   ]
  },
  {
   "cell_type": "code",
   "execution_count": 143,
   "id": "24d03db7",
   "metadata": {},
   "outputs": [
    {
     "name": "stdout",
     "output_type": "stream",
     "text": [
      "3.6.13 | packaged by conda-forge | (default, Feb 19 2021, 05:36:01) \n",
      "[GCC 9.3.0]\n"
     ]
    }
   ],
   "source": [
    "import sys\n",
    "print(sys.version)"
   ]
  },
  {
   "cell_type": "markdown",
   "id": "f68ac647",
   "metadata": {},
   "source": [
    "### Prepare model and code files for packaging"
   ]
  },
  {
   "cell_type": "code",
   "execution_count": 144,
   "id": "c5ff5c1e",
   "metadata": {},
   "outputs": [
    {
     "name": "stdout",
     "output_type": "stream",
     "text": [
      "download: s3://descriptiveworld-models/CV_Models/df2_11_large_20211021/weights/best.pt to ../../yolov5/best.pt\n"
     ]
    }
   ],
   "source": [
    "!aws s3 cp s3://descriptiveworld-models/CV_Models/df2_11_large_20211021/weights/best.pt ../../yolov5/"
   ]
  },
  {
   "cell_type": "code",
   "execution_count": 145,
   "id": "fb01f4f8",
   "metadata": {},
   "outputs": [
    {
     "name": "stdout",
     "output_type": "stream",
     "text": [
      "/home/ec2-user/SageMaker/yolov5\n"
     ]
    }
   ],
   "source": [
    "%cd ~/SageMaker/yolov5/"
   ]
  },
  {
   "cell_type": "code",
   "execution_count": 146,
   "id": "e7b20768",
   "metadata": {},
   "outputs": [
    {
     "name": "stdout",
     "output_type": "stream",
     "text": [
      "bcj_export.py        current.torchscript.pt  model.pt           setup.cfg\n",
      "bcj_sm_ep_detect.py  \u001b[0m\u001b[01;34mdata\u001b[0m/                   \u001b[01;34mmodels\u001b[0m/            train.py\n",
      "best.pt              detect.py               \u001b[01;31mmodel.tar.gz\u001b[0m       tutorial.ipynb\n",
      "blank.py             Dockerfile              README.md          \u001b[01;34mutils\u001b[0m/\n",
      "\u001b[01;34mcode\u001b[0m/                export.py               \u001b[01;32mrequirements.txt\u001b[0m*  val.py\n",
      "CONTRIBUTING.md      hubconf.py              \u001b[01;34mruns\u001b[0m/              \u001b[01;34myolov5\u001b[0m/\n",
      "\u001b[01;31mcurrentmodel.tar.gz\u001b[0m  LICENSE                 \u001b[01;34ms3:\u001b[0m/\n"
     ]
    }
   ],
   "source": [
    "ls"
   ]
  },
  {
   "cell_type": "code",
   "execution_count": 147,
   "id": "a216e589",
   "metadata": {},
   "outputs": [],
   "source": [
    "# it is not necessary to convert to torchscript : this was done initially based on vague webpage reference\n",
    "#!python ./bcj_export.py --weights ./best.pt"
   ]
  },
  {
   "cell_type": "code",
   "execution_count": 148,
   "id": "7a82a60f",
   "metadata": {},
   "outputs": [],
   "source": [
    "!cp best.pt model.pt"
   ]
  },
  {
   "cell_type": "code",
   "execution_count": 149,
   "id": "cd8eefbf",
   "metadata": {},
   "outputs": [
    {
     "name": "stdout",
     "output_type": "stream",
     "text": [
      "mkdir: cannot create directory ‘./code’: File exists\n"
     ]
    }
   ],
   "source": [
    "!mkdir ./code"
   ]
  },
  {
   "cell_type": "markdown",
   "id": "7d9c2ec1",
   "metadata": {},
   "source": [
    "## Run everything below this line every time the yolov5 source code changes\n",
    "<div style='color:red'> Run everything below this line every time the yolov5 source code changes </div>"
   ]
  },
  {
   "cell_type": "code",
   "execution_count": 150,
   "id": "c766fa95",
   "metadata": {},
   "outputs": [],
   "source": [
    "!cp ./utils/ -r ./code/utils/\n",
    "!cp ./models/ -r ./code/models/\n",
    "!cp ./data/ -r ./code/data/\n",
    "#!cp ./requirements.txt ./code/ # this file was customized to include special libraries needed by DW"
   ]
  },
  {
   "cell_type": "markdown",
   "id": "28dbeaa7",
   "metadata": {},
   "source": [
    "## Run everything below this line every time the Endpoint source code changes\n",
    "<div style='color:red'> \n",
    "    <p>Run everything below this line every time the Endpoint source code changes </p>\n",
    "    <p>Before redeploying the endpoint, use the Sagemaker console to delete:</p>\n",
    "        \n",
    "        - Endpoint\n",
    "        \n",
    "        - Endpoint Configuration\n",
    "        \n",
    "        - Model\n",
    "        \n"
   ]
  },
  {
   "cell_type": "code",
   "execution_count": 157,
   "id": "7198e6e9",
   "metadata": {},
   "outputs": [],
   "source": [
    "# the primary version of the code is in the github repo location\n",
    "# ensure that the latest copy of that file has been copied to the main folder under yolov5\n",
    "!cp ../descriptiveworld/CV/bcj_sm_ep_detect.py  .\n",
    "!cp ./bcj_sm_ep_detect.py  ./code/"
   ]
  },
  {
   "cell_type": "code",
   "execution_count": 158,
   "id": "fedaabcc",
   "metadata": {},
   "outputs": [
    {
     "name": "stdout",
     "output_type": "stream",
     "text": [
      "./model.pt\n",
      "upload: ./model.tar.gz to s3://descriptiveworld-models/CV_Models/model.tar.gz\n"
     ]
    }
   ],
   "source": [
    "# saves model archive to S3\n",
    "!tar -czvf ./model.tar.gz ./model.pt\n",
    "!aws s3 cp ./model.tar.gz s3://descriptiveworld-models/CV_Models/"
   ]
  },
  {
   "cell_type": "markdown",
   "id": "ccf7b69d",
   "metadata": {},
   "source": [
    "### Create the model and endpoint"
   ]
  },
  {
   "cell_type": "code",
   "execution_count": 159,
   "id": "a61f400c",
   "metadata": {},
   "outputs": [
    {
     "data": {
      "text/plain": [
       "'s3://sagemaker-us-west-2-769212126689/s3://descriptiveworld-models/CV_Models/model.tar.gz'"
      ]
     },
     "execution_count": 159,
     "metadata": {},
     "output_type": "execute_result"
    }
   ],
   "source": [
    "model_archive = './model.tar.gz'\n",
    "prefix = 's3://descriptiveworld-models/CV_Models'\n",
    "model_path = sess.upload_data(path=model_archive, key_prefix=prefix)\n",
    "model_path"
   ]
  },
  {
   "cell_type": "markdown",
   "id": "7f841108",
   "metadata": {},
   "source": [
    "### Create Model on SageMaker Model with DescriptiveWorld artifacts"
   ]
  },
  {
   "cell_type": "code",
   "execution_count": 160,
   "id": "668b14f7",
   "metadata": {},
   "outputs": [
    {
     "name": "stdout",
     "output_type": "stream",
     "text": [
      "CPU times: user 62 µs, sys: 8 µs, total: 70 µs\n",
      "Wall time: 74.1 µs\n"
     ]
    }
   ],
   "source": [
    "%%time\n",
    "# reference:  https://stackoverflow.com/questions/68150444/aws-sagemaker-fails-loading-pytorch-pth-weights\n",
    "# reference:  https://github.com/aws/sagemaker-python-sdk/blob/master/src/sagemaker/pytorch/model.py\n",
    "# reference:  https://github.com/aws/sagemaker-python-sdk/blob/master/src/sagemaker/model.py\n",
    "\n",
    "framework_version = '1.7.1'\n",
    "py_version = 'py3'\n",
    "\n",
    "sm_model = PyTorchModel(model_data=model_path,\n",
    "                       framework_version=framework_version,\n",
    "                       role=role,\n",
    "                       sagemaker_session=sess,\n",
    "                       entry_point='bcj_sm_ep_detect.py',\n",
    "                       source_dir='code',\n",
    "                       py_version=py_version,\n",
    "                       env={\"COMPILEDMODEL\": 'False', 'MMS_MAX_RESPONSE_SIZE': '100000000', 'MMS_DEFAULT_RESPONSE_TIMEOUT': '500'})"
   ]
  },
  {
   "cell_type": "markdown",
   "id": "82061a30",
   "metadata": {},
   "source": [
    "### Deploy / Update Endpoint (will create a SageMaker model at same time)\n",
    "\n",
    "As of 17 Nov 2021, the update method does not overwrite the existing endpoint, so recommended usage is to delete the existing endpoint and deploy a new one\n",
    "\n",
    "There are three things that need to be updated/deleted:\n",
    "\n",
    "* SageMaker Inference Model (if the endpoint code, model or code dependencies have changed)\n",
    "* Endpoint Configuration (otherwise the old version will continue to reference old code/model artifacts)\n",
    "* Endpoint (which points to the other 2 items)"
   ]
  },
  {
   "cell_type": "code",
   "execution_count": 161,
   "id": "0358b805",
   "metadata": {},
   "outputs": [
    {
     "name": "stdout",
     "output_type": "stream",
     "text": [
      "-------------!\n",
      "pytorch-inference-2021-11-23-18-01-20-230\n",
      "descriptiveworld-SageMaker-EndPoint\n",
      "CPU times: user 7.2 s, sys: 742 ms, total: 7.94 s\n",
      "Wall time: 6min 40s\n"
     ]
    }
   ],
   "source": [
    "%%time\n",
    "instance_type = 'ml.t2.medium'\n",
    "endpoint_name = 'descriptiveworld-SageMaker-EndPoint'\n",
    "\n",
    "# initial deployment of endpoint\n",
    "dw_predictor = sm_model.deploy(initial_instance_count=1, \n",
    "                               instance_type=instance_type,\n",
    "                               endpoint_name=endpoint_name\n",
    "                                )\n",
    "\n",
    "# update an existing endpoint\n",
    "#sagemaker_session = empty_sagemaker_session()\n",
    "# create predictor object\n",
    "#dw_predictor = Predictor(endpoint_name=endpoint_name, sagemaker_session=sagemaker_session)\n",
    "\n",
    "# update endpoint\n",
    "#predictor.update_endpoint(\n",
    "#    model_name=sm_model.name,\n",
    "#    instance_type=instance_type, \n",
    "#    initial_instance_count=1\n",
    "#)\n",
    "\n",
    "\n",
    "print()\n",
    "print(sm_model.name)\n",
    "print(dw_predictor.endpoint_name)"
   ]
  },
  {
   "cell_type": "markdown",
   "id": "9c8451ff",
   "metadata": {},
   "source": [
    "### Test Endpoint"
   ]
  },
  {
   "cell_type": "code",
   "execution_count": 162,
   "id": "4af54d63",
   "metadata": {},
   "outputs": [
    {
     "name": "stdout",
     "output_type": "stream",
     "text": [
      "CPU times: user 38.8 ms, sys: 0 ns, total: 38.8 ms\n",
      "Wall time: 7.41 s\n"
     ]
    }
   ],
   "source": [
    "%%time\n",
    "client = boto3.client('sagemaker-runtime', region_name=region)\n",
    "#sample_img_url = \"https://d2ph5fj80uercy.cloudfront.net/04/cat1600.jpg\"\n",
    "#sample_img_url = \"https://media.gq.com/photos/60f9c697101cc04fad71e5cf/master/pass/BEST-BASICS-1.jpg\" #TOO LARGE\n",
    "sample_img_url =  \"https://c.pxhere.com/photos/9e/86/blue_vest_fashion_male_shirt-1059471.jpg!s\"\n",
    "content_type='JPEG'\n",
    "image_data = requests.get(sample_img_url).content\n",
    "\n",
    "# resize image to max 640x640 px - otherwise image size will cause fatal error for JSON output size\n",
    "im_resize = Image.open(io.BytesIO(image_data))\n",
    "im_resize.thumbnail((640,640))\n",
    "buf = io.BytesIO()\n",
    "im_resize.save(buf, format='JPEG')\n",
    "byte_im = buf.getvalue()\n",
    "\n",
    "response = client.invoke_endpoint(EndpointName=dw_predictor.endpoint_name, Body=byte_im, ContentType=content_type)\n",
    "pred_out = response['Body'].read().decode()"
   ]
  },
  {
   "cell_type": "code",
   "execution_count": 163,
   "id": "ab395386",
   "metadata": {},
   "outputs": [
    {
     "name": "stdout",
     "output_type": "stream",
     "text": [
      "length = 532 \n",
      "\n",
      "{\"source-ref\": \"TBD\", \"num-detected-objects\": 1, \"bounding-box-attribute-name\": {\"image_size\": [{\"width\": 255, \"height\": 340, \"depth\": 3}], \"annotations\": [{\"class_id\": 2, \"left\": 18, \"top\": 14, \"width\": 210, \"height\": 294}]}, \"bounding-box-attribute-name-metadata\": {\"objects\": [{\"confidence\": 0.45}], \"class-map\": {\"2\": \"long sleeve top\"}, \"type\": \"descriptiveworld/object-detection\", \"human-annotated\": \"no\", \"creation-date\": \"2021-11-23 18:08:23.859244\", \"job-name\": \"descriptive_world_identify_garments\"}, \"original-image\": \"\"}\n"
     ]
    }
   ],
   "source": [
    "print('length =', len(pred_out), '\\n')\n",
    "print(pred_out)"
   ]
  },
  {
   "cell_type": "markdown",
   "id": "6a7c9db9",
   "metadata": {},
   "source": [
    "### Run Inference"
   ]
  },
  {
   "cell_type": "code",
   "execution_count": null,
   "id": "9e1fc12f",
   "metadata": {},
   "outputs": [],
   "source": [
    "%%time\n",
    "iters = 1000\n",
    "warmup = 100\n",
    "client = boto3.client('sagemaker-runtime', region_name=region)\n",
    "\n",
    "content_type = 'application/x-image'\n",
    "\n",
    "sample_img_url = \"https://github.com/ultralytics/yolov5/raw/master/data/images/zidane.jpg\"\n",
    "body = requests.get(sample_img_url).content\n",
    "\n",
    "dw_perf = []\n",
    "  \n",
    "for i in tqdm(range(iters)):\n",
    "    t0 = time.time()\n",
    "    response = client.invoke_endpoint(EndpointName=dw_predictor.endpoint_name, Body=body, ContentType=content_type)\n",
    "    t1 = time.time()\n",
    "    #convert to millis\n",
    "    dw_elapsed = (t1-t0)*1000\n",
    "    \n",
    "    if warmup == 0:\n",
    "        dw_perf.append(uncompiled_elapsed)\n",
    "    else:\n",
    "        print(f'warmup ({i}, {iters}) : dw - {dw_elapsed} ms')\n",
    "        warmup = warmup - 1"
   ]
  },
  {
   "cell_type": "code",
   "execution_count": null,
   "id": "e6dedb82",
   "metadata": {},
   "outputs": [],
   "source": []
  }
 ],
 "metadata": {
  "kernelspec": {
   "display_name": "conda_pytorch_latest_p36",
   "language": "python",
   "name": "conda_pytorch_latest_p36"
  },
  "language_info": {
   "codemirror_mode": {
    "name": "ipython",
    "version": 3
   },
   "file_extension": ".py",
   "mimetype": "text/x-python",
   "name": "python",
   "nbconvert_exporter": "python",
   "pygments_lexer": "ipython3",
   "version": "3.6.13"
  }
 },
 "nbformat": 4,
 "nbformat_minor": 5
}
