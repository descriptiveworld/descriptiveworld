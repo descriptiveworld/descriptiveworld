{
 "cells": [
  {
   "cell_type": "code",
   "execution_count": 1,
   "id": "8c08a658",
   "metadata": {},
   "outputs": [
    {
     "name": "stdout",
     "output_type": "stream",
     "text": [
      "/home/ec2-user/SageMaker\n"
     ]
    }
   ],
   "source": [
    "%cd ~/SageMaker"
   ]
  },
  {
   "cell_type": "code",
   "execution_count": 4,
   "id": "6ddd7eff",
   "metadata": {},
   "outputs": [
    {
     "name": "stdout",
     "output_type": "stream",
     "text": [
      "fatal: destination path 'yolov5' already exists and is not an empty directory.\n",
      "/home/ec2-user/SageMaker/yolov5\n",
      "\u001b[31mERROR: pip's dependency resolver does not currently take into account all the packages that are installed. This behaviour is the source of the following dependency conflicts.\n",
      "fastai 1.0.61 requires nvidia-ml-py3, which is not installed.\u001b[0m\n",
      "\u001b[33mWARNING: You are using pip version 21.2.4; however, version 21.3 is available.\n",
      "You should consider upgrading via the '/home/ec2-user/anaconda3/envs/pytorch_p36/bin/python -m pip install --upgrade pip' command.\u001b[0m\n",
      "Note: you may need to restart the kernel to use updated packages.\n"
     ]
    }
   ],
   "source": [
    "!git clone https://github.com/ultralytics/yolov5  # clone repo\n",
    "%cd yolov5\n",
    "%pip install -qr requirements.txt  # install dependencies"
   ]
  },
  {
   "cell_type": "code",
   "execution_count": 2,
   "id": "24cdc3f8",
   "metadata": {},
   "outputs": [
    {
     "name": "stdout",
     "output_type": "stream",
     "text": [
      "Setup complete. Using torch 1.9.1+cu102 (Tesla T4)\n"
     ]
    }
   ],
   "source": [
    "import torch\n",
    "from IPython.display import Image, clear_output  # to display images\n",
    "\n",
    "clear_output()\n",
    "print(f\"Setup complete. Using torch {torch.__version__} ({torch.cuda.get_device_properties(0).name if torch.cuda.is_available() else 'CPU'})\")"
   ]
  },
  {
   "cell_type": "code",
   "execution_count": 3,
   "id": "7318cb3e",
   "metadata": {},
   "outputs": [
    {
     "name": "stdout",
     "output_type": "stream",
     "text": [
      "Your runtime has 133.7 gigabytes of available RAM\n",
      "\n"
     ]
    }
   ],
   "source": [
    "from psutil import virtual_memory\n",
    "ram_gb = virtual_memory().total / 1e9\n",
    "print('Your runtime has {:.1f} gigabytes of available RAM\\n'.format(ram_gb))"
   ]
  },
  {
   "cell_type": "code",
   "execution_count": 6,
   "id": "fb338da0",
   "metadata": {},
   "outputs": [
    {
     "name": "stdout",
     "output_type": "stream",
     "text": [
      "/home/ec2-user/SageMaker/yolov5\n"
     ]
    }
   ],
   "source": [
    "%cd yolov5"
   ]
  },
  {
   "cell_type": "code",
   "execution_count": 7,
   "id": "a3ead880",
   "metadata": {},
   "outputs": [],
   "source": [
    "!cp ../df2/df2.yaml ./data/"
   ]
  },
  {
   "cell_type": "code",
   "execution_count": null,
   "id": "c9ee073a",
   "metadata": {},
   "outputs": [
    {
     "name": "stdout",
     "output_type": "stream",
     "text": [
      "\u001b[34m\u001b[1mtrain: \u001b[0mweights=yolov5s.pt, cfg=, data=df2.yaml, hyp=data/hyps/hyp.scratch.yaml, epochs=30, batch_size=48, imgsz=640, rect=True, resume=False, nosave=False, noval=False, noautoanchor=False, evolve=None, bucket=, cache=ram, image_weights=False, device=, multi_scale=False, single_cls=False, adam=False, sync_bn=False, workers=8, project=./runs/df2, name=exp, exist_ok=False, quad=False, linear_lr=False, label_smoothing=0.0, patience=100, freeze=0, save_period=-1, local_rank=-1, entity=None, upload_dataset=False, bbox_interval=-1, artifact_alias=latest\n",
      "\u001b[34m\u001b[1mgithub: \u001b[0mup to date with https://github.com/ultralytics/yolov5 ✅\n",
      "YOLOv5 🚀 v6.0-17-g752d97d torch 1.9.1+cu102 CUDA:0 (Tesla T4, 15109.75MB)\n",
      "\n",
      "\u001b[34m\u001b[1mhyperparameters: \u001b[0mlr0=0.01, lrf=0.1, momentum=0.937, weight_decay=0.0005, warmup_epochs=3.0, warmup_momentum=0.8, warmup_bias_lr=0.1, box=0.05, cls=0.5, cls_pw=1.0, obj=1.0, obj_pw=1.0, iou_t=0.2, anchor_t=4.0, fl_gamma=0.0, hsv_h=0.015, hsv_s=0.7, hsv_v=0.4, degrees=0.0, translate=0.1, scale=0.5, shear=0.0, perspective=0.0, flipud=0.0, fliplr=0.5, mosaic=1.0, mixup=0.0, copy_paste=0.0\n",
      "\u001b[34m\u001b[1mWeights & Biases: \u001b[0mrun 'pip install wandb' to automatically track and visualize YOLOv5 🚀 runs (RECOMMENDED)\n",
      "\u001b[34m\u001b[1mTensorBoard: \u001b[0mStart with 'tensorboard --logdir runs/df2', view at http://localhost:6006/\n",
      "Overriding model.yaml nc=80 with nc=11\n",
      "\n",
      "                 from  n    params  module                                  arguments                     \n",
      "  0                -1  1      3520  models.common.Conv                      [3, 32, 6, 2, 2]              \n",
      "  1                -1  1     18560  models.common.Conv                      [32, 64, 3, 2]                \n",
      "  2                -1  1     18816  models.common.C3                        [64, 64, 1]                   \n",
      "  3                -1  1     73984  models.common.Conv                      [64, 128, 3, 2]               \n",
      "  4                -1  2    115712  models.common.C3                        [128, 128, 2]                 \n",
      "  5                -1  1    295424  models.common.Conv                      [128, 256, 3, 2]              \n",
      "  6                -1  3    625152  models.common.C3                        [256, 256, 3]                 \n",
      "  7                -1  1   1180672  models.common.Conv                      [256, 512, 3, 2]              \n",
      "  8                -1  1   1182720  models.common.C3                        [512, 512, 1]                 \n",
      "  9                -1  1    656896  models.common.SPPF                      [512, 512, 5]                 \n",
      " 10                -1  1    131584  models.common.Conv                      [512, 256, 1, 1]              \n",
      " 11                -1  1         0  torch.nn.modules.upsampling.Upsample    [None, 2, 'nearest']          \n",
      " 12           [-1, 6]  1         0  models.common.Concat                    [1]                           \n",
      " 13                -1  1    361984  models.common.C3                        [512, 256, 1, False]          \n",
      " 14                -1  1     33024  models.common.Conv                      [256, 128, 1, 1]              \n",
      " 15                -1  1         0  torch.nn.modules.upsampling.Upsample    [None, 2, 'nearest']          \n",
      " 16           [-1, 4]  1         0  models.common.Concat                    [1]                           \n",
      " 17                -1  1     90880  models.common.C3                        [256, 128, 1, False]          \n",
      " 18                -1  1    147712  models.common.Conv                      [128, 128, 3, 2]              \n",
      " 19          [-1, 14]  1         0  models.common.Concat                    [1]                           \n",
      " 20                -1  1    296448  models.common.C3                        [256, 256, 1, False]          \n",
      " 21                -1  1    590336  models.common.Conv                      [256, 256, 3, 2]              \n",
      " 22          [-1, 10]  1         0  models.common.Concat                    [1]                           \n",
      " 23                -1  1   1182720  models.common.C3                        [512, 512, 1, False]          \n",
      " 24      [17, 20, 23]  1     43152  models.yolo.Detect                      [11, [[10, 13, 16, 30, 33, 23], [30, 61, 62, 45, 59, 119], [116, 90, 156, 198, 373, 326]], [128, 256, 512]]\n",
      "Model Summary: 270 layers, 7049296 parameters, 7049296 gradients, 15.9 GFLOPs\n",
      "\n",
      "Transferred 343/349 items from yolov5s.pt\n",
      "Scaled weight_decay = 0.000375\n",
      "\u001b[34m\u001b[1moptimizer:\u001b[0m SGD with parameter groups 57 weight, 60 weight (no decay), 60 bias\n",
      "\u001b[34m\u001b[1mtrain: \u001b[0mScanning '../df2/labels/train.cache' images and labels... 57300 found, 0 \u001b[0m\n",
      "/home/ec2-user/SageMaker/yolov5/utils/datasets.py:465: RuntimeWarning: invalid value encountered in true_divide\n",
      "  ar = s[:, 1] / s[:, 0]  # aspect ratio\n",
      "\u001b[34m\u001b[1mtrain: \u001b[0mCaching images (52.2GB ram): 100%|█| 57300/57300 [00:29<00:00, 1962.33it/\u001b[0m\n",
      "\u001b[34m\u001b[1mval: \u001b[0mScanning '../df2/labels/val.cache' images and labels... 5323 found, 0 missi\u001b[0m\u001b[34m\u001b[1mval: \u001b[0mWARNING: ../df2/images/val/000003.jpg: ignoring corrupt image/label: non-normalized or out of bounds coordinates [     1.2404]\n",
      "\u001b[34m\u001b[1mval: \u001b[0mWARNING: ../df2/images/val/000005.jpg: ignoring corrupt image/label: non-normalized or out of bounds coordinates [     1.1474]\n",
      "\u001b[34m\u001b[1mval: \u001b[0mWARNING: ../df2/images/val/000011.jpg: ignoring corrupt image/label: non-normalized or out of bounds coordinates [      1.121]\n",
      "\u001b[34m\u001b[1mval: \u001b[0mWARNING: ../df2/images/val/000029.jpg: ignoring corrupt image/label: non-normalized or out of bounds coordinates [     1.0374]\n",
      "\u001b[34m\u001b[1mval: \u001b[0mWARNING: ../df2/images/val/000100.jpg: ignoring corrupt image/label: non-normalized or out of bounds coordinates [     1.4032]\n",
      "\u001b[34m\u001b[1mval: \u001b[0mWARNING: ../df2/images/val/000140.jpg: ignoring corrupt image/label: non-normalized or out of bounds coordinates [     1.0107      1.3558]\n",
      "\u001b[34m\u001b[1mval: \u001b[0mWARNING: ../df2/images/val/000147.jpg: ignoring corrupt image/label: non-normalized or out of bounds coordinates [     1.0684      1.1635]\n",
      "\u001b[34m\u001b[1mval: \u001b[0mWARNING: ../df2/images/val/000169.jpg: ignoring corrupt image/label: non-normalized or out of bounds coordinates [     1.2981]\n",
      "\u001b[34m\u001b[1mval: \u001b[0mWARNING: ../df2/images/val/000219.jpg: ignoring corrupt image/label: non-normalized or out of bounds coordinates [     1.0016]\n",
      "\u001b[34m\u001b[1mval: \u001b[0mWARNING: ../df2/images/val/000262.jpg: ignoring corrupt image/label: non-normalized or out of bounds coordinates [     1.4615       1.187]\n",
      "\u001b[34m\u001b[1mval: \u001b[0mWARNING: ../df2/images/val/000288.jpg: ignoring corrupt image/label: non-normalized or out of bounds coordinates [     1.3208]\n",
      "\u001b[34m\u001b[1mval: \u001b[0mWARNING: ../df2/images/val/000298.jpg: ignoring corrupt image/label: non-normalized or out of bounds coordinates [     1.3181      1.0107      1.3926]\n",
      "\u001b[34m\u001b[1mval: \u001b[0mWARNING: ../df2/images/val/000309.jpg: ignoring corrupt image/label: non-normalized or out of bounds coordinates [     1.0417]\n",
      "\u001b[34m\u001b[1mval: \u001b[0mWARNING: ../df2/images/val/000315.jpg: ignoring corrupt image/label: non-normalized or out of bounds coordinates [     2.0356]\n",
      "\u001b[34m\u001b[1mval: \u001b[0mWARNING: ../df2/images/val/000342.jpg: ignoring corrupt image/label: non-normalized or out of bounds coordinates [     1.0949       1.162]\n",
      "\u001b[34m\u001b[1mval: \u001b[0mWARNING: ../df2/images/val/000358.jpg: ignoring corrupt image/label: non-normalized or out of bounds coordinates [     1.1755       1.165      2.3509]\n",
      "\u001b[34m\u001b[1mval: \u001b[0mWARNING: ../df2/images/val/000372.jpg: ignoring corrupt image/label: non-normalized or out of bounds coordinates [     1.0569]\n",
      "\u001b[34m\u001b[1mval: \u001b[0mWARNING: ../df2/images/val/000385.jpg: ignoring corrupt image/label: non-normalized or out of bounds coordinates [     1.0087]\n",
      "\u001b[34m\u001b[1mval: \u001b[0mWARNING: ../df2/images/val/000389.jpg: ignoring corrupt image/label: non-normalized or out of bounds coordinates [     1.3365]\n",
      "\u001b[34m\u001b[1mval: \u001b[0mWARNING: ../df2/images/val/000406.jpg: ignoring corrupt image/label: non-normalized or out of bounds coordinates [     1.0627]\n",
      "\u001b[34m\u001b[1mval: \u001b[0mWARNING: ../df2/images/val/000423.jpg: ignoring corrupt image/label: non-normalized or out of bounds coordinates [      1.008]\n",
      "\u001b[34m\u001b[1mval: \u001b[0mWARNING: ../df2/images/val/000452.jpg: ignoring corrupt image/label: non-normalized or out of bounds coordinates [     1.0533]\n",
      "\u001b[34m\u001b[1mval: \u001b[0mWARNING: ../df2/images/val/000458.jpg: ignoring corrupt image/label: non-normalized or out of bounds coordinates [     1.1274]\n",
      "\u001b[34m\u001b[1mval: \u001b[0mWARNING: ../df2/images/val/000461.jpg: ignoring corrupt image/label: non-normalized or out of bounds coordinates [     1.3734]\n",
      "\u001b[34m\u001b[1mval: \u001b[0mWARNING: ../df2/images/val/000472.jpg: ignoring corrupt image/label: non-normalized or out of bounds coordinates [     1.5071]\n",
      "\u001b[34m\u001b[1mval: \u001b[0mWARNING: ../df2/images/val/000487.jpg: ignoring corrupt image/label: non-normalized or out of bounds coordinates [     1.9791      1.3726]\n",
      "\u001b[34m\u001b[1mval: \u001b[0mWARNING: ../df2/images/val/000563.jpg: ignoring corrupt image/label: non-normalized or out of bounds coordinates [     1.1442]\n",
      "\u001b[34m\u001b[1mval: \u001b[0mWARNING: ../df2/images/val/000568.jpg: ignoring corrupt image/label: non-normalized or out of bounds coordinates [     1.3196]\n",
      "\u001b[34m\u001b[1mval: \u001b[0mWARNING: ../df2/images/val/000577.jpg: ignoring corrupt image/label: non-normalized or out of bounds coordinates [     1.1944]\n",
      "\u001b[34m\u001b[1mval: \u001b[0mWARNING: ../df2/images/val/000593.jpg: ignoring corrupt image/label: non-normalized or out of bounds coordinates [      1.521      1.7564      1.8282]\n",
      "\u001b[34m\u001b[1mval: \u001b[0mWARNING: ../df2/images/val/000601.jpg: ignoring corrupt image/label: non-normalized or out of bounds coordinates [     1.1004]\n",
      "\u001b[34m\u001b[1mval: \u001b[0mWARNING: ../df2/images/val/000602.jpg: ignoring corrupt image/label: non-normalized or out of bounds coordinates [     1.1207]\n",
      "\u001b[34m\u001b[1mval: \u001b[0mWARNING: ../df2/images/val/000612.jpg: ignoring corrupt image/label: non-normalized or out of bounds coordinates [     1.7617      1.1863]\n",
      "\u001b[34m\u001b[1mval: \u001b[0mWARNING: ../df2/images/val/000613.jpg: ignoring corrupt image/label: non-normalized or out of bounds coordinates [     1.0897      1.0337]\n",
      "\u001b[34m\u001b[1mval: \u001b[0mWARNING: ../df2/images/val/000623.jpg: ignoring corrupt image/label: non-normalized or out of bounds coordinates [     1.0459]\n",
      "\u001b[34m\u001b[1mval: \u001b[0mWARNING: ../df2/images/val/000627.jpg: ignoring corrupt image/label: non-normalized or out of bounds coordinates [     1.5726]\n",
      "\u001b[34m\u001b[1mval: \u001b[0mWARNING: ../df2/images/val/000630.jpg: ignoring corrupt image/label: non-normalized or out of bounds coordinates [     1.1605]\n",
      "\u001b[34m\u001b[1mval: \u001b[0mWARNING: ../df2/images/val/000640.jpg: ignoring corrupt image/label: non-normalized or out of bounds coordinates [     1.6838      1.1054]\n",
      "\u001b[34m\u001b[1mval: \u001b[0mWARNING: ../df2/images/val/000655.jpg: ignoring corrupt image/label: non-normalized or out of bounds coordinates [     1.1343]\n",
      "\u001b[34m\u001b[1mval: \u001b[0mWARNING: ../df2/images/val/000672.jpg: ignoring corrupt image/label: non-normalized or out of bounds coordinates [     1.0962]\n",
      "\u001b[34m\u001b[1mval: \u001b[0mWARNING: ../df2/images/val/000689.jpg: ignoring corrupt image/label: non-normalized or out of bounds coordinates [      1.274]\n",
      "\u001b[34m\u001b[1mval: \u001b[0mWARNING: ../df2/images/val/000719.jpg: ignoring corrupt image/label: non-normalized or out of bounds coordinates [     1.0154      1.0438      1.0121]\n",
      "\u001b[34m\u001b[1mval: \u001b[0mWARNING: ../df2/images/val/000766.jpg: ignoring corrupt image/label: non-normalized or out of bounds coordinates [     1.0114]\n",
      "\u001b[34m\u001b[1mval: \u001b[0mWARNING: ../df2/images/val/000767.jpg: ignoring corrupt image/label: non-normalized or out of bounds coordinates [     1.1026]\n",
      "\u001b[34m\u001b[1mval: \u001b[0mWARNING: ../df2/images/val/000770.jpg: ignoring corrupt image/label: non-normalized or out of bounds coordinates [     1.3986]\n",
      "\u001b[34m\u001b[1mval: \u001b[0mWARNING: ../df2/images/val/000795.jpg: ignoring corrupt image/label: non-normalized or out of bounds coordinates [     1.0192]\n",
      "\u001b[34m\u001b[1mval: \u001b[0mWARNING: ../df2/images/val/000817.jpg: ignoring corrupt image/label: non-normalized or out of bounds coordinates [      1.129]\n",
      "\u001b[34m\u001b[1mval: \u001b[0mWARNING: ../df2/images/val/000824.jpg: ignoring corrupt image/label: non-normalized or out of bounds coordinates [     1.2539]\n",
      "\u001b[34m\u001b[1mval: \u001b[0mWARNING: ../df2/images/val/000854.jpg: ignoring corrupt image/label: non-normalized or out of bounds coordinates [     1.1656]\n",
      "\u001b[34m\u001b[1mval: \u001b[0mWARNING: ../df2/images/val/000874.jpg: ignoring corrupt image/label: non-normalized or out of bounds coordinates [     1.3285]\n",
      "\u001b[34m\u001b[1mval: \u001b[0mWARNING: ../df2/images/val/000884.jpg: ignoring corrupt image/label: non-normalized or out of bounds coordinates [     1.3386]\n",
      "\u001b[34m\u001b[1mval: \u001b[0mWARNING: ../df2/images/val/000948.jpg: ignoring corrupt image/label: non-normalized or out of bounds coordinates [     1.2452]\n",
      "\u001b[34m\u001b[1mval: \u001b[0mWARNING: ../df2/images/val/000980.jpg: ignoring corrupt image/label: non-normalized or out of bounds coordinates [     1.1346]\n",
      "\u001b[34m\u001b[1mval: \u001b[0mWARNING: ../df2/images/val/001027.jpg: ignoring corrupt image/label: non-normalized or out of bounds coordinates [     1.2244        1.52]\n",
      "\u001b[34m\u001b[1mval: \u001b[0mWARNING: ../df2/images/val/001035.jpg: ignoring corrupt image/label: non-normalized or out of bounds coordinates [     1.3337]\n",
      "\u001b[34m\u001b[1mval: \u001b[0mWARNING: ../df2/images/val/001039.jpg: ignoring corrupt image/label: non-normalized or out of bounds coordinates [     1.0192      1.1843]\n",
      "\u001b[34m\u001b[1mval: \u001b[0mWARNING: ../df2/images/val/001042.jpg: ignoring corrupt image/label: non-normalized or out of bounds coordinates [     1.2204      1.2457]\n",
      "\u001b[34m\u001b[1mval: \u001b[0mWARNING: ../df2/images/val/001048.jpg: ignoring corrupt image/label: non-normalized or out of bounds coordinates [     1.4231]\n",
      "\u001b[34m\u001b[1mval: \u001b[0mWARNING: ../df2/images/val/001049.jpg: ignoring corrupt image/label: non-normalized or out of bounds coordinates [     1.4087]\n",
      "\u001b[34m\u001b[1mval: \u001b[0mWARNING: ../df2/images/val/001050.jpg: ignoring corrupt image/label: non-normalized or out of bounds coordinates [     1.7719      1.3248]\n",
      "\u001b[34m\u001b[1mval: \u001b[0mWARNING: ../df2/images/val/001052.jpg: ignoring corrupt image/label: non-normalized or out of bounds coordinates [     1.0406]\n",
      "\u001b[34m\u001b[1mval: \u001b[0mWARNING: ../df2/images/val/001059.jpg: ignoring corrupt image/label: non-normalized or out of bounds coordinates [     1.2572]\n",
      "\u001b[34m\u001b[1mval: \u001b[0mWARNING: ../df2/images/val/001072.jpg: ignoring corrupt image/label: non-normalized or out of bounds coordinates [     1.0342      1.2201]\n",
      "\u001b[34m\u001b[1mval: \u001b[0mWARNING: ../df2/images/val/001073.jpg: ignoring corrupt image/label: non-normalized or out of bounds coordinates [     1.6011]\n",
      "\u001b[34m\u001b[1mval: \u001b[0mWARNING: ../df2/images/val/001077.jpg: ignoring corrupt image/label: non-normalized or out of bounds coordinates [     1.1816]\n",
      "\u001b[34m\u001b[1mval: \u001b[0mWARNING: ../df2/images/val/001115.jpg: ignoring corrupt image/label: non-normalized or out of bounds coordinates [     1.0876      1.1496]\n",
      "\u001b[34m\u001b[1mval: \u001b[0mWARNING: ../df2/images/val/001145.jpg: ignoring corrupt image/label: non-normalized or out of bounds coordinates [     1.5249      1.3911]\n",
      "\u001b[34m\u001b[1mval: \u001b[0mWARNING: ../df2/images/val/001157.jpg: ignoring corrupt image/label: non-normalized or out of bounds coordinates [     1.3105      1.1047]\n",
      "\u001b[34m\u001b[1mval: \u001b[0mWARNING: ../df2/images/val/001165.jpg: ignoring corrupt image/label: non-normalized or out of bounds coordinates [     1.2447]\n",
      "\u001b[34m\u001b[1mval: \u001b[0mWARNING: ../df2/images/val/001166.jpg: ignoring corrupt image/label: non-normalized or out of bounds coordinates [     1.0954]\n",
      "\u001b[34m\u001b[1mval: \u001b[0mWARNING: ../df2/images/val/001168.jpg: ignoring corrupt image/label: non-normalized or out of bounds coordinates [     1.5812       1.654      1.7607]\n",
      "\u001b[34m\u001b[1mval: \u001b[0mWARNING: ../df2/images/val/001183.jpg: ignoring corrupt image/label: non-normalized or out of bounds coordinates [     1.2436]\n",
      "\u001b[34m\u001b[1mval: \u001b[0mWARNING: ../df2/images/val/001210.jpg: ignoring corrupt image/label: non-normalized or out of bounds coordinates [     1.2548      1.2319]\n",
      "\u001b[34m\u001b[1mval: \u001b[0mWARNING: ../df2/images/val/001241.jpg: ignoring corrupt image/label: non-normalized or out of bounds coordinates [     1.2806      1.7853]\n",
      "\u001b[34m\u001b[1mval: \u001b[0mWARNING: ../df2/images/val/001319.jpg: ignoring corrupt image/label: non-normalized or out of bounds coordinates [     1.0662]\n",
      "\u001b[34m\u001b[1mval: \u001b[0mWARNING: ../df2/images/val/001320.jpg: ignoring corrupt image/label: non-normalized or out of bounds coordinates [     1.5513]\n",
      "\u001b[34m\u001b[1mval: \u001b[0mWARNING: ../df2/images/val/001337.jpg: ignoring corrupt image/label: non-normalized or out of bounds coordinates [      1.298        1.54]\n",
      "\u001b[34m\u001b[1mval: \u001b[0mWARNING: ../df2/images/val/001344.jpg: ignoring corrupt image/label: non-normalized or out of bounds coordinates [      1.215]\n",
      "\u001b[34m\u001b[1mval: \u001b[0mWARNING: ../df2/images/val/001345.jpg: ignoring corrupt image/label: non-normalized or out of bounds coordinates [      1.359]\n",
      "\u001b[34m\u001b[1mval: \u001b[0mWARNING: ../df2/images/val/001348.jpg: ignoring corrupt image/label: non-normalized or out of bounds coordinates [     1.0112]\n",
      "\u001b[34m\u001b[1mval: \u001b[0mWARNING: ../df2/images/val/001365.jpg: ignoring corrupt image/label: non-normalized or out of bounds coordinates [     1.2165]\n",
      "\u001b[34m\u001b[1mval: \u001b[0mWARNING: ../df2/images/val/001378.jpg: ignoring corrupt image/label: non-normalized or out of bounds coordinates [     1.3633]\n",
      "\u001b[34m\u001b[1mval: \u001b[0mWARNING: ../df2/images/val/001403.jpg: ignoring corrupt image/label: non-normalized or out of bounds coordinates [     1.2086      1.9393      1.4503      2.1082]\n",
      "\u001b[34m\u001b[1mval: \u001b[0mWARNING: ../df2/images/val/001405.jpg: ignoring corrupt image/label: non-normalized or out of bounds coordinates [     1.3291       1.133]\n",
      "\u001b[34m\u001b[1mval: \u001b[0mWARNING: ../df2/images/val/001413.jpg: ignoring corrupt image/label: non-normalized or out of bounds coordinates [      1.004]\n",
      "\u001b[34m\u001b[1mval: \u001b[0mWARNING: ../df2/images/val/001415.jpg: ignoring corrupt image/label: non-normalized or out of bounds coordinates [     1.1282]\n",
      "\u001b[34m\u001b[1mval: \u001b[0mWARNING: ../df2/images/val/001428.jpg: ignoring corrupt image/label: non-normalized or out of bounds coordinates [     1.0833]\n",
      "\u001b[34m\u001b[1mval: \u001b[0mWARNING: ../df2/images/val/001435.jpg: ignoring corrupt image/label: non-normalized or out of bounds coordinates [     2.1254]\n",
      "\u001b[34m\u001b[1mval: \u001b[0mWARNING: ../df2/images/val/001439.jpg: ignoring corrupt image/label: non-normalized or out of bounds coordinates [     1.3421]\n",
      "\u001b[34m\u001b[1mval: \u001b[0mScanning '../df2/labels/val.cache' images and labels... 5323 found, 0 missi\u001b[0m\n",
      "\u001b[34m\u001b[1mval: \u001b[0mCaching images (4.8GB ram): 100%|████| 5234/5234 [00:03<00:00, 1743.83it/s]\u001b[0m\n",
      "Plotting labels... \n",
      "\n",
      "\u001b[34m\u001b[1mautoanchor: \u001b[0mAnalyzing anchors... anchors/target = 3.34, Best Possible Recall (BPR) = 1.0000\n",
      "Image sizes 640 train, 640 val\n",
      "Using 8 dataloader workers\n",
      "Logging results to \u001b[1mruns/df2/exp2\u001b[0m\n",
      "Starting training for 30 epochs...\n",
      "\n",
      "     Epoch   gpu_mem       box       obj       cls    labels  img_size\n",
      "      0/29     10.3G   0.03939   0.01128   0.04291        34       256: 100%|█| \n",
      "               Class     Images     Labels          P          R     mAP@.5 mAP@\n",
      "                 all       5234       5234     0.0482      0.306     0.0598     0.0282\n",
      "\n",
      "     Epoch   gpu_mem       box       obj       cls    labels  img_size\n",
      "      1/29     8.43G    0.0358  0.009875   0.03739        34       256: 100%|█| \n",
      "               Class     Images     Labels          P          R     mAP@.5 mAP@\n",
      "                 all       5234       5234     0.0502      0.233     0.0549     0.0269\n",
      "\n",
      "     Epoch   gpu_mem       box       obj       cls    labels  img_size\n",
      "      2/29     8.43G   0.03626  0.009136    0.0379        48       480:  41%|▍| "
     ]
    }
   ],
   "source": [
    "%%time\n",
    "# Train YOLOv5s\n",
    "!python train.py --img 640 --batch 64 --epochs 1 --rect --project ./runs/df2_all --data df2_all.yaml --weights yolov5s.pt"
   ]
  },
  {
   "cell_type": "code",
   "execution_count": null,
   "id": "1797421c",
   "metadata": {},
   "outputs": [],
   "source": []
  }
 ],
 "metadata": {
  "kernelspec": {
   "display_name": "conda_pytorch_p36",
   "language": "python",
   "name": "conda_pytorch_p36"
  },
  "language_info": {
   "codemirror_mode": {
    "name": "ipython",
    "version": 3
   },
   "file_extension": ".py",
   "mimetype": "text/x-python",
   "name": "python",
   "nbconvert_exporter": "python",
   "pygments_lexer": "ipython3",
   "version": "3.6.13"
  }
 },
 "nbformat": 4,
 "nbformat_minor": 5
}
