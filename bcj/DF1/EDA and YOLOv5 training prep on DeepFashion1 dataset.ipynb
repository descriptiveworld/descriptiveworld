{
 "cells": [
  {
   "cell_type": "code",
   "execution_count": 9,
   "id": "0857b2fb",
   "metadata": {},
   "outputs": [],
   "source": [
    "import gzip\n",
    "import zipfile\n",
    "import pandas as pd\n",
    "import numpy as np\n",
    "import matplotlib.pyplot as plt\n",
    "import cv2\n",
    "from PIL import Image\n",
    "import os\n",
    "import shutil"
   ]
  },
  {
   "cell_type": "markdown",
   "id": "f005ffea",
   "metadata": {},
   "source": [
    "# Example of directly accessing S3 from notebook (did not scale well for extracting files)"
   ]
  },
  {
   "cell_type": "code",
   "execution_count": 3,
   "id": "67486026",
   "metadata": {},
   "outputs": [],
   "source": [
    "# Example for opening a bucket as a filesystem and viewing the contents\n",
    "if False:\n",
    "    import s3fs # for attaching S3 bucket to notebook\n",
    "    fs = s3fs.S3FileSystem(anon=False, key='<key>', secret='<secret>')\n",
    "    fs.ls('s3://bucket/path/')"
   ]
  },
  {
   "cell_type": "code",
   "execution_count": 4,
   "id": "0ff234b1",
   "metadata": {},
   "outputs": [],
   "source": [
    "# Example code for loading data from S3 into the notebook\n",
    "if False:\n",
    "    bucket='my-bucket'\n",
    "    data_key = 'train.csv'\n",
    "    data_location = 's3://{}/{}'.format(bucket, data_key)\n",
    "    pd.read_csv(data_location)"
   ]
  },
  {
   "cell_type": "code",
   "execution_count": 5,
   "id": "db273ee4",
   "metadata": {},
   "outputs": [],
   "source": [
    "# Example for opening a file for read\n",
    "if False:\n",
    "    img_file = fs.open('s3://descriptiveworld-datasets/DeepFashion1/Img/img.zip', 'rb')"
   ]
  },
  {
   "cell_type": "markdown",
   "id": "47afc5e9",
   "metadata": {},
   "source": [
    "# Copy files from S3 bucket to notebook EC2 instance"
   ]
  },
  {
   "cell_type": "markdown",
   "id": "0b9ce582",
   "metadata": {},
   "source": []
  },
  {
   "cell_type": "code",
   "execution_count": 57,
   "id": "a3b94a4b",
   "metadata": {},
   "outputs": [],
   "source": [
    "# run only the first time the instance is created and launched\n",
    "#!mkdir ../../../DeepFashion1\n",
    "#!cd ../../../DeepFashion1"
   ]
  },
  {
   "cell_type": "code",
   "execution_count": null,
   "id": "4964226f",
   "metadata": {},
   "outputs": [],
   "source": [
    "# setup aws CLI with personal credentials\n",
    "# this command may be easier to run from a terminal session instead of notebook\n",
    "#!aws configure"
   ]
  },
  {
   "cell_type": "code",
   "execution_count": null,
   "id": "86ca2e28",
   "metadata": {},
   "outputs": [],
   "source": [
    "# copy the DF1 bucket from S3 to this instance\n",
    "#!aws s3 cp s3://descriptiveworld-datasets/DeepFashion1/ . --recursive"
   ]
  },
  {
   "cell_type": "code",
   "execution_count": 10,
   "id": "fdb1d472",
   "metadata": {},
   "outputs": [
    {
     "name": "stdout",
     "output_type": "stream",
     "text": [
      "Anno_coarse  Anno_fine\tEval  Img  README.txt  temp\n"
     ]
    }
   ],
   "source": [
    "!ls ../../../DeepFashion1"
   ]
  },
  {
   "cell_type": "markdown",
   "id": "3c163c59",
   "metadata": {},
   "source": [
    "# Inspect full image archive without extracting all files"
   ]
  },
  {
   "cell_type": "code",
   "execution_count": 11,
   "id": "365f880b",
   "metadata": {},
   "outputs": [],
   "source": [
    "pre_path = '../../../DeepFashion1/'"
   ]
  },
  {
   "cell_type": "code",
   "execution_count": 12,
   "id": "7dba8229",
   "metadata": {},
   "outputs": [],
   "source": [
    "zipf = zipfile.ZipFile(pre_path+'Img/img.zip') # not using high-res images to simplify data wrangling"
   ]
  },
  {
   "cell_type": "code",
   "execution_count": 13,
   "id": "14ed85d9",
   "metadata": {},
   "outputs": [],
   "source": [
    "filenames = zipf.namelist()\n",
    "df = pd.DataFrame([x.split('/') for x in filenames[:]], columns=['root_path', 'product_name', 'filename'])\n",
    "df['path'] = filenames"
   ]
  },
  {
   "cell_type": "code",
   "execution_count": 14,
   "id": "6eaa2b43",
   "metadata": {},
   "outputs": [
    {
     "name": "stdout",
     "output_type": "stream",
     "text": [
      "289229\n"
     ]
    },
    {
     "data": {
      "text/html": [
       "<div>\n",
       "<style scoped>\n",
       "    .dataframe tbody tr th:only-of-type {\n",
       "        vertical-align: middle;\n",
       "    }\n",
       "\n",
       "    .dataframe tbody tr th {\n",
       "        vertical-align: top;\n",
       "    }\n",
       "\n",
       "    .dataframe thead th {\n",
       "        text-align: right;\n",
       "    }\n",
       "</style>\n",
       "<table border=\"1\" class=\"dataframe\">\n",
       "  <thead>\n",
       "    <tr style=\"text-align: right;\">\n",
       "      <th></th>\n",
       "      <th>index</th>\n",
       "      <th>root_path</th>\n",
       "      <th>product_name</th>\n",
       "      <th>filename</th>\n",
       "      <th>path</th>\n",
       "    </tr>\n",
       "  </thead>\n",
       "  <tbody>\n",
       "    <tr>\n",
       "      <th>2457</th>\n",
       "      <td>2517</td>\n",
       "      <td>img</td>\n",
       "      <td>Abstract_Geo-Embroidered_Shorts</td>\n",
       "      <td>img_00000005.jpg</td>\n",
       "      <td>img/Abstract_Geo-Embroidered_Shorts/img_000000...</td>\n",
       "    </tr>\n",
       "    <tr>\n",
       "      <th>248562</th>\n",
       "      <td>253451</td>\n",
       "      <td>img</td>\n",
       "      <td>Striped_Linen_Ringer_Tee</td>\n",
       "      <td>img_00000017.jpg</td>\n",
       "      <td>img/Striped_Linen_Ringer_Tee/img_00000017.jpg</td>\n",
       "    </tr>\n",
       "    <tr>\n",
       "      <th>38403</th>\n",
       "      <td>39136</td>\n",
       "      <td>img</td>\n",
       "      <td>Cable_Knit_Fringe_Cardigan</td>\n",
       "      <td>img_00000023.jpg</td>\n",
       "      <td>img/Cable_Knit_Fringe_Cardigan/img_00000023.jpg</td>\n",
       "    </tr>\n",
       "    <tr>\n",
       "      <th>55920</th>\n",
       "      <td>56956</td>\n",
       "      <td>img</td>\n",
       "      <td>Classic_Wash_Overall_Shorts</td>\n",
       "      <td>img_00000006.jpg</td>\n",
       "      <td>img/Classic_Wash_Overall_Shorts/img_00000006.jpg</td>\n",
       "    </tr>\n",
       "    <tr>\n",
       "      <th>183864</th>\n",
       "      <td>187438</td>\n",
       "      <td>img</td>\n",
       "      <td>Mixed_Media_Knit_Tee</td>\n",
       "      <td>img_00000012.jpg</td>\n",
       "      <td>img/Mixed_Media_Knit_Tee/img_00000012.jpg</td>\n",
       "    </tr>\n",
       "    <tr>\n",
       "      <th>122379</th>\n",
       "      <td>124649</td>\n",
       "      <td>img</td>\n",
       "      <td>Floral_Lace_Overlay_Dress</td>\n",
       "      <td>img_00000033.jpg</td>\n",
       "      <td>img/Floral_Lace_Overlay_Dress/img_00000033.jpg</td>\n",
       "    </tr>\n",
       "    <tr>\n",
       "      <th>72245</th>\n",
       "      <td>73605</td>\n",
       "      <td>img</td>\n",
       "      <td>Crochet_Cover-Up_Tank</td>\n",
       "      <td>img_00000043.jpg</td>\n",
       "      <td>img/Crochet_Cover-Up_Tank/img_00000043.jpg</td>\n",
       "    </tr>\n",
       "    <tr>\n",
       "      <th>84785</th>\n",
       "      <td>86375</td>\n",
       "      <td>img</td>\n",
       "      <td>Denim_Utility_Romper</td>\n",
       "      <td>img_00000019.jpg</td>\n",
       "      <td>img/Denim_Utility_Romper/img_00000019.jpg</td>\n",
       "    </tr>\n",
       "    <tr>\n",
       "      <th>123020</th>\n",
       "      <td>125299</td>\n",
       "      <td>img</td>\n",
       "      <td>Floral_Lace_Skater_Skirt</td>\n",
       "      <td>img_00000033.jpg</td>\n",
       "      <td>img/Floral_Lace_Skater_Skirt/img_00000033.jpg</td>\n",
       "    </tr>\n",
       "    <tr>\n",
       "      <th>118155</th>\n",
       "      <td>120355</td>\n",
       "      <td>img</td>\n",
       "      <td>Floral_A-Line_Midi_Skirt</td>\n",
       "      <td>img_00000054.jpg</td>\n",
       "      <td>img/Floral_A-Line_Midi_Skirt/img_00000054.jpg</td>\n",
       "    </tr>\n",
       "  </tbody>\n",
       "</table>\n",
       "</div>"
      ],
      "text/plain": [
       "         index root_path                     product_name          filename  \\\n",
       "2457      2517       img  Abstract_Geo-Embroidered_Shorts  img_00000005.jpg   \n",
       "248562  253451       img         Striped_Linen_Ringer_Tee  img_00000017.jpg   \n",
       "38403    39136       img       Cable_Knit_Fringe_Cardigan  img_00000023.jpg   \n",
       "55920    56956       img      Classic_Wash_Overall_Shorts  img_00000006.jpg   \n",
       "183864  187438       img             Mixed_Media_Knit_Tee  img_00000012.jpg   \n",
       "122379  124649       img        Floral_Lace_Overlay_Dress  img_00000033.jpg   \n",
       "72245    73605       img            Crochet_Cover-Up_Tank  img_00000043.jpg   \n",
       "84785    86375       img             Denim_Utility_Romper  img_00000019.jpg   \n",
       "123020  125299       img         Floral_Lace_Skater_Skirt  img_00000033.jpg   \n",
       "118155  120355       img         Floral_A-Line_Midi_Skirt  img_00000054.jpg   \n",
       "\n",
       "                                                     path  \n",
       "2457    img/Abstract_Geo-Embroidered_Shorts/img_000000...  \n",
       "248562      img/Striped_Linen_Ringer_Tee/img_00000017.jpg  \n",
       "38403     img/Cable_Knit_Fringe_Cardigan/img_00000023.jpg  \n",
       "55920    img/Classic_Wash_Overall_Shorts/img_00000006.jpg  \n",
       "183864          img/Mixed_Media_Knit_Tee/img_00000012.jpg  \n",
       "122379     img/Floral_Lace_Overlay_Dress/img_00000033.jpg  \n",
       "72245          img/Crochet_Cover-Up_Tank/img_00000043.jpg  \n",
       "84785           img/Denim_Utility_Romper/img_00000019.jpg  \n",
       "123020      img/Floral_Lace_Skater_Skirt/img_00000033.jpg  \n",
       "118155      img/Floral_A-Line_Midi_Skirt/img_00000054.jpg  "
      ]
     },
     "execution_count": 14,
     "metadata": {},
     "output_type": "execute_result"
    }
   ],
   "source": [
    "df = df.dropna()\n",
    "df = df[df.filename != '']\n",
    "df = df.reset_index()\n",
    "print(len(df))\n",
    "df.sample(n=10)"
   ]
  },
  {
   "cell_type": "code",
   "execution_count": 15,
   "id": "a055d26e",
   "metadata": {},
   "outputs": [
    {
     "name": "stdout",
     "output_type": "stream",
     "text": [
      "uncompressed size = 2.74 GB\n"
     ]
    }
   ],
   "source": [
    "osize = 0 \n",
    "for item in zipf.infolist():\n",
    "    osize += item.file_size\n",
    "print('uncompressed size =',round(osize/1000000000,2),'GB')"
   ]
  },
  {
   "cell_type": "markdown",
   "id": "abe11b18",
   "metadata": {},
   "source": [
    "# Basic EDA\n",
    "\n",
    "### Number of product types (each image file is a unique product)"
   ]
  },
  {
   "cell_type": "code",
   "execution_count": 16,
   "id": "e3925d5a",
   "metadata": {},
   "outputs": [
    {
     "data": {
      "text/plain": [
       "5621"
      ]
     },
     "execution_count": 16,
     "metadata": {},
     "output_type": "execute_result"
    }
   ],
   "source": [
    "# Number of unique products\n",
    "products = np.unique(df.product_name)\n",
    "len(products)"
   ]
  },
  {
   "cell_type": "code",
   "execution_count": 17,
   "id": "13cf50bb",
   "metadata": {},
   "outputs": [],
   "source": [
    "def flattenTypes(val):\n",
    "    lst = val.split('_')\n",
    "    return lst[-1]"
   ]
  },
  {
   "cell_type": "code",
   "execution_count": 18,
   "id": "63283f6c",
   "metadata": {},
   "outputs": [
    {
     "name": "stdout",
     "output_type": "stream",
     "text": [
      "46\n"
     ]
    },
    {
     "data": {
      "text/plain": [
       "array(['Anorak', 'Blazer', 'Blouse', 'Bomber', 'Button-Down', 'Caftan',\n",
       "       'Capris', 'Cardigan', 'Chinos', 'Coat', 'Coverup', 'Culottes',\n",
       "       'Cutoffs', 'Dress', 'Flannel', 'Gauchos', 'Halter', 'Henley',\n",
       "       'Hoodie', 'Jacket', 'Jeans', 'Jeggings', 'Jersey', 'Jodhpurs',\n",
       "       'Joggers', 'Jumpsuit', 'Kaftan', 'Kimono', 'Leggings', 'Onesie',\n",
       "       'Parka', 'Peacoat', 'Poncho', 'Robe', 'Romper', 'Sarong', 'Shorts',\n",
       "       'Skirt', 'Sweater', 'Sweatpants', 'Sweatshorts', 'Tank', 'Tee',\n",
       "       'Top', 'Trunks', 'Turtleneck'], dtype=object)"
      ]
     },
     "execution_count": 18,
     "metadata": {},
     "output_type": "execute_result"
    }
   ],
   "source": [
    "df['product_type'] = df.product_name.apply(flattenTypes)\n",
    "all_cats = np.unique(df.product_type)\n",
    "print(len(all_cats))\n",
    "all_cats"
   ]
  },
  {
   "cell_type": "code",
   "execution_count": 19,
   "id": "b7725173",
   "metadata": {
    "scrolled": true
   },
   "outputs": [
    {
     "data": {
      "image/png": "[encoded data removed]",
      "text/plain": [
       "<Figure size 432x288 with 1 Axes>"
      ]
     },
     "metadata": {
      "needs_background": "light"
     },
     "output_type": "display_data"
    }
   ],
   "source": [
    "histdata = df.groupby(['product_type']).count()\n",
    "histdata = histdata.sort_values(by='root_path', ascending=False)\n",
    "\n",
    "data = histdata['root_path'][:20]\n",
    "plt.barh(data.index, data.values)\n",
    "plt.title('Distribution of top-20 clothing categories')\n",
    "plt.xticks(rotation = 90)\n",
    "plt.ylabel('Classes')\n",
    "plt.xlabel('Number of samples')\n",
    "plt.show()"
   ]
  },
  {
   "cell_type": "code",
   "execution_count": 56,
   "id": "45bf7fcb",
   "metadata": {},
   "outputs": [
    {
     "data": {
      "text/html": [
       "<div>\n",
       "<style scoped>\n",
       "    .dataframe tbody tr th:only-of-type {\n",
       "        vertical-align: middle;\n",
       "    }\n",
       "\n",
       "    .dataframe tbody tr th {\n",
       "        vertical-align: top;\n",
       "    }\n",
       "\n",
       "    .dataframe thead th {\n",
       "        text-align: right;\n",
       "    }\n",
       "</style>\n",
       "<table border=\"1\" class=\"dataframe\">\n",
       "  <thead>\n",
       "    <tr style=\"text-align: right;\">\n",
       "      <th></th>\n",
       "      <th>index</th>\n",
       "      <th>root_path</th>\n",
       "      <th>product_name</th>\n",
       "      <th>filename</th>\n",
       "      <th>path</th>\n",
       "    </tr>\n",
       "    <tr>\n",
       "      <th>product_type</th>\n",
       "      <th></th>\n",
       "      <th></th>\n",
       "      <th></th>\n",
       "      <th></th>\n",
       "      <th></th>\n",
       "    </tr>\n",
       "  </thead>\n",
       "  <tbody>\n",
       "    <tr>\n",
       "      <th>Dress</th>\n",
       "      <td>72158</td>\n",
       "      <td>72158</td>\n",
       "      <td>72158</td>\n",
       "      <td>72158</td>\n",
       "      <td>72158</td>\n",
       "    </tr>\n",
       "    <tr>\n",
       "      <th>Tee</th>\n",
       "      <td>36887</td>\n",
       "      <td>36887</td>\n",
       "      <td>36887</td>\n",
       "      <td>36887</td>\n",
       "      <td>36887</td>\n",
       "    </tr>\n",
       "    <tr>\n",
       "      <th>Blouse</th>\n",
       "      <td>24562</td>\n",
       "      <td>24562</td>\n",
       "      <td>24562</td>\n",
       "      <td>24562</td>\n",
       "      <td>24562</td>\n",
       "    </tr>\n",
       "    <tr>\n",
       "      <th>Shorts</th>\n",
       "      <td>19666</td>\n",
       "      <td>19666</td>\n",
       "      <td>19666</td>\n",
       "      <td>19666</td>\n",
       "      <td>19666</td>\n",
       "    </tr>\n",
       "    <tr>\n",
       "      <th>Tank</th>\n",
       "      <td>15429</td>\n",
       "      <td>15429</td>\n",
       "      <td>15429</td>\n",
       "      <td>15429</td>\n",
       "      <td>15429</td>\n",
       "    </tr>\n",
       "    <tr>\n",
       "      <th>Skirt</th>\n",
       "      <td>14773</td>\n",
       "      <td>14773</td>\n",
       "      <td>14773</td>\n",
       "      <td>14773</td>\n",
       "      <td>14773</td>\n",
       "    </tr>\n",
       "    <tr>\n",
       "      <th>Cardigan</th>\n",
       "      <td>13311</td>\n",
       "      <td>13311</td>\n",
       "      <td>13311</td>\n",
       "      <td>13311</td>\n",
       "      <td>13311</td>\n",
       "    </tr>\n",
       "    <tr>\n",
       "      <th>Sweater</th>\n",
       "      <td>13123</td>\n",
       "      <td>13123</td>\n",
       "      <td>13123</td>\n",
       "      <td>13123</td>\n",
       "      <td>13123</td>\n",
       "    </tr>\n",
       "    <tr>\n",
       "      <th>Jacket</th>\n",
       "      <td>10467</td>\n",
       "      <td>10467</td>\n",
       "      <td>10467</td>\n",
       "      <td>10467</td>\n",
       "      <td>10467</td>\n",
       "    </tr>\n",
       "    <tr>\n",
       "      <th>Top</th>\n",
       "      <td>10078</td>\n",
       "      <td>10078</td>\n",
       "      <td>10078</td>\n",
       "      <td>10078</td>\n",
       "      <td>10078</td>\n",
       "    </tr>\n",
       "    <tr>\n",
       "      <th>Blazer</th>\n",
       "      <td>7497</td>\n",
       "      <td>7497</td>\n",
       "      <td>7497</td>\n",
       "      <td>7497</td>\n",
       "      <td>7497</td>\n",
       "    </tr>\n",
       "    <tr>\n",
       "      <th>Romper</th>\n",
       "      <td>7408</td>\n",
       "      <td>7408</td>\n",
       "      <td>7408</td>\n",
       "      <td>7408</td>\n",
       "      <td>7408</td>\n",
       "    </tr>\n",
       "    <tr>\n",
       "      <th>Jeans</th>\n",
       "      <td>7076</td>\n",
       "      <td>7076</td>\n",
       "      <td>7076</td>\n",
       "      <td>7076</td>\n",
       "      <td>7076</td>\n",
       "    </tr>\n",
       "    <tr>\n",
       "      <th>Jumpsuit</th>\n",
       "      <td>6153</td>\n",
       "      <td>6153</td>\n",
       "      <td>6153</td>\n",
       "      <td>6153</td>\n",
       "      <td>6153</td>\n",
       "    </tr>\n",
       "    <tr>\n",
       "      <th>Leggings</th>\n",
       "      <td>5013</td>\n",
       "      <td>5013</td>\n",
       "      <td>5013</td>\n",
       "      <td>5013</td>\n",
       "      <td>5013</td>\n",
       "    </tr>\n",
       "    <tr>\n",
       "      <th>Joggers</th>\n",
       "      <td>4416</td>\n",
       "      <td>4416</td>\n",
       "      <td>4416</td>\n",
       "      <td>4416</td>\n",
       "      <td>4416</td>\n",
       "    </tr>\n",
       "    <tr>\n",
       "      <th>Hoodie</th>\n",
       "      <td>4048</td>\n",
       "      <td>4048</td>\n",
       "      <td>4048</td>\n",
       "      <td>4048</td>\n",
       "      <td>4048</td>\n",
       "    </tr>\n",
       "    <tr>\n",
       "      <th>Sweatpants</th>\n",
       "      <td>3048</td>\n",
       "      <td>3048</td>\n",
       "      <td>3048</td>\n",
       "      <td>3048</td>\n",
       "      <td>3048</td>\n",
       "    </tr>\n",
       "    <tr>\n",
       "      <th>Kimono</th>\n",
       "      <td>2294</td>\n",
       "      <td>2294</td>\n",
       "      <td>2294</td>\n",
       "      <td>2294</td>\n",
       "      <td>2294</td>\n",
       "    </tr>\n",
       "    <tr>\n",
       "      <th>Coat</th>\n",
       "      <td>2120</td>\n",
       "      <td>2120</td>\n",
       "      <td>2120</td>\n",
       "      <td>2120</td>\n",
       "      <td>2120</td>\n",
       "    </tr>\n",
       "    <tr>\n",
       "      <th>Cutoffs</th>\n",
       "      <td>1669</td>\n",
       "      <td>1669</td>\n",
       "      <td>1669</td>\n",
       "      <td>1669</td>\n",
       "      <td>1669</td>\n",
       "    </tr>\n",
       "    <tr>\n",
       "      <th>Sweatshorts</th>\n",
       "      <td>1106</td>\n",
       "      <td>1106</td>\n",
       "      <td>1106</td>\n",
       "      <td>1106</td>\n",
       "      <td>1106</td>\n",
       "    </tr>\n",
       "  </tbody>\n",
       "</table>\n",
       "</div>"
      ],
      "text/plain": [
       "              index  root_path  product_name  filename   path\n",
       "product_type                                                 \n",
       "Dress         72158      72158         72158     72158  72158\n",
       "Tee           36887      36887         36887     36887  36887\n",
       "Blouse        24562      24562         24562     24562  24562\n",
       "Shorts        19666      19666         19666     19666  19666\n",
       "Tank          15429      15429         15429     15429  15429\n",
       "Skirt         14773      14773         14773     14773  14773\n",
       "Cardigan      13311      13311         13311     13311  13311\n",
       "Sweater       13123      13123         13123     13123  13123\n",
       "Jacket        10467      10467         10467     10467  10467\n",
       "Top           10078      10078         10078     10078  10078\n",
       "Blazer         7497       7497          7497      7497   7497\n",
       "Romper         7408       7408          7408      7408   7408\n",
       "Jeans          7076       7076          7076      7076   7076\n",
       "Jumpsuit       6153       6153          6153      6153   6153\n",
       "Leggings       5013       5013          5013      5013   5013\n",
       "Joggers        4416       4416          4416      4416   4416\n",
       "Hoodie         4048       4048          4048      4048   4048\n",
       "Sweatpants     3048       3048          3048      3048   3048\n",
       "Kimono         2294       2294          2294      2294   2294\n",
       "Coat           2120       2120          2120      2120   2120\n",
       "Cutoffs        1669       1669          1669      1669   1669\n",
       "Sweatshorts    1106       1106          1106      1106   1106"
      ]
     },
     "execution_count": 56,
     "metadata": {},
     "output_type": "execute_result"
    }
   ],
   "source": [
    "histdata[histdata['root_path'] > 1000]"
   ]
  },
  {
   "cell_type": "markdown",
   "id": "3c7778cf",
   "metadata": {},
   "source": [
    "### Load the bounding box data and merge with the file list"
   ]
  },
  {
   "cell_type": "code",
   "execution_count": 26,
   "id": "184810b4",
   "metadata": {},
   "outputs": [
    {
     "data": {
      "text/html": [
       "<div>\n",
       "<style scoped>\n",
       "    .dataframe tbody tr th:only-of-type {\n",
       "        vertical-align: middle;\n",
       "    }\n",
       "\n",
       "    .dataframe tbody tr th {\n",
       "        vertical-align: top;\n",
       "    }\n",
       "\n",
       "    .dataframe thead th {\n",
       "        text-align: right;\n",
       "    }\n",
       "</style>\n",
       "<table border=\"1\" class=\"dataframe\">\n",
       "  <thead>\n",
       "    <tr style=\"text-align: right;\">\n",
       "      <th></th>\n",
       "      <th>path</th>\n",
       "      <th>x1</th>\n",
       "      <th>y1</th>\n",
       "      <th>x2</th>\n",
       "      <th>y2</th>\n",
       "    </tr>\n",
       "  </thead>\n",
       "  <tbody>\n",
       "    <tr>\n",
       "      <th>0</th>\n",
       "      <td>img/Sheer_Pleated-Front_Blouse/img_00000001.jpg</td>\n",
       "      <td>072</td>\n",
       "      <td>079</td>\n",
       "      <td>232</td>\n",
       "      <td>273</td>\n",
       "    </tr>\n",
       "    <tr>\n",
       "      <th>1</th>\n",
       "      <td>img/Sheer_Pleated-Front_Blouse/img_00000002.jpg</td>\n",
       "      <td>067</td>\n",
       "      <td>059</td>\n",
       "      <td>155</td>\n",
       "      <td>161</td>\n",
       "    </tr>\n",
       "    <tr>\n",
       "      <th>2</th>\n",
       "      <td>img/Sheer_Pleated-Front_Blouse/img_00000003.jpg</td>\n",
       "      <td>065</td>\n",
       "      <td>065</td>\n",
       "      <td>156</td>\n",
       "      <td>200</td>\n",
       "    </tr>\n",
       "    <tr>\n",
       "      <th>3</th>\n",
       "      <td>img/Sheer_Pleated-Front_Blouse/img_00000004.jpg</td>\n",
       "      <td>051</td>\n",
       "      <td>062</td>\n",
       "      <td>167</td>\n",
       "      <td>182</td>\n",
       "    </tr>\n",
       "    <tr>\n",
       "      <th>4</th>\n",
       "      <td>img/Sheer_Pleated-Front_Blouse/img_00000005.jpg</td>\n",
       "      <td>046</td>\n",
       "      <td>088</td>\n",
       "      <td>166</td>\n",
       "      <td>262</td>\n",
       "    </tr>\n",
       "  </tbody>\n",
       "</table>\n",
       "</div>"
      ],
      "text/plain": [
       "                                              path   x1   y1   x2   y2\n",
       "0  img/Sheer_Pleated-Front_Blouse/img_00000001.jpg  072  079  232  273\n",
       "1  img/Sheer_Pleated-Front_Blouse/img_00000002.jpg  067  059  155  161\n",
       "2  img/Sheer_Pleated-Front_Blouse/img_00000003.jpg  065  065  156  200\n",
       "3  img/Sheer_Pleated-Front_Blouse/img_00000004.jpg  051  062  167  182\n",
       "4  img/Sheer_Pleated-Front_Blouse/img_00000005.jpg  046  088  166  262"
      ]
     },
     "execution_count": 26,
     "metadata": {},
     "output_type": "execute_result"
    }
   ],
   "source": [
    "# read in the bounding box dataset for all records\n",
    "f = open(pre_path+'/Anno_coarse/list_bbox.txt', 'rt')\n",
    "boxes = f.readlines()\n",
    "boxes = boxes[2:]\n",
    "boxes = [x.replace('\\n', '') for x in boxes]\n",
    "#boxes = [x.replace('img/', 'img_highres/') for x in boxes]\n",
    "boxes = [' '.join(x.split()).split() for x in boxes]\n",
    "df_boxes = pd.DataFrame(boxes, columns=['path', 'x1', 'y1', 'x2', 'y2'])\n",
    "df_boxes.head()"
   ]
  },
  {
   "cell_type": "code",
   "execution_count": 27,
   "id": "c1489244",
   "metadata": {},
   "outputs": [
    {
     "data": {
      "text/html": [
       "<div>\n",
       "<style scoped>\n",
       "    .dataframe tbody tr th:only-of-type {\n",
       "        vertical-align: middle;\n",
       "    }\n",
       "\n",
       "    .dataframe tbody tr th {\n",
       "        vertical-align: top;\n",
       "    }\n",
       "\n",
       "    .dataframe thead th {\n",
       "        text-align: right;\n",
       "    }\n",
       "</style>\n",
       "<table border=\"1\" class=\"dataframe\">\n",
       "  <thead>\n",
       "    <tr style=\"text-align: right;\">\n",
       "      <th></th>\n",
       "      <th>index</th>\n",
       "      <th>root_path</th>\n",
       "      <th>product_name</th>\n",
       "      <th>filename</th>\n",
       "      <th>path</th>\n",
       "      <th>product_type</th>\n",
       "      <th>x1</th>\n",
       "      <th>y1</th>\n",
       "      <th>x2</th>\n",
       "      <th>y2</th>\n",
       "    </tr>\n",
       "  </thead>\n",
       "  <tbody>\n",
       "    <tr>\n",
       "      <th>190117</th>\n",
       "      <td>193818</td>\n",
       "      <td>img</td>\n",
       "      <td>Open-Front_Collarless_Blazer</td>\n",
       "      <td>img_00000013.jpg</td>\n",
       "      <td>img/Open-Front_Collarless_Blazer/img_00000013.jpg</td>\n",
       "      <td>Blazer</td>\n",
       "      <td>102</td>\n",
       "      <td>043</td>\n",
       "      <td>176</td>\n",
       "      <td>149</td>\n",
       "    </tr>\n",
       "    <tr>\n",
       "      <th>59930</th>\n",
       "      <td>61045</td>\n",
       "      <td>img</td>\n",
       "      <td>Colorblock_Athletic_Tank</td>\n",
       "      <td>img_00000033.jpg</td>\n",
       "      <td>img/Colorblock_Athletic_Tank/img_00000033.jpg</td>\n",
       "      <td>Tank</td>\n",
       "      <td>008</td>\n",
       "      <td>001</td>\n",
       "      <td>178</td>\n",
       "      <td>300</td>\n",
       "    </tr>\n",
       "    <tr>\n",
       "      <th>22839</th>\n",
       "      <td>23283</td>\n",
       "      <td>img</td>\n",
       "      <td>Belted_Utility_Romper</td>\n",
       "      <td>img_00000031.jpg</td>\n",
       "      <td>img/Belted_Utility_Romper/img_00000031.jpg</td>\n",
       "      <td>Romper</td>\n",
       "      <td>056</td>\n",
       "      <td>049</td>\n",
       "      <td>181</td>\n",
       "      <td>276</td>\n",
       "    </tr>\n",
       "    <tr>\n",
       "      <th>91844</th>\n",
       "      <td>93572</td>\n",
       "      <td>img</td>\n",
       "      <td>Dotted_Chiffon_Blouse</td>\n",
       "      <td>img_00000008.jpg</td>\n",
       "      <td>img/Dotted_Chiffon_Blouse/img_00000008.jpg</td>\n",
       "      <td>Blouse</td>\n",
       "      <td>001</td>\n",
       "      <td>038</td>\n",
       "      <td>210</td>\n",
       "      <td>246</td>\n",
       "    </tr>\n",
       "    <tr>\n",
       "      <th>105291</th>\n",
       "      <td>107273</td>\n",
       "      <td>img</td>\n",
       "      <td>Epic_Weekend_Muscle_Tee</td>\n",
       "      <td>img_00000013.jpg</td>\n",
       "      <td>img/Epic_Weekend_Muscle_Tee/img_00000013.jpg</td>\n",
       "      <td>Tee</td>\n",
       "      <td>028</td>\n",
       "      <td>038</td>\n",
       "      <td>172</td>\n",
       "      <td>244</td>\n",
       "    </tr>\n",
       "  </tbody>\n",
       "</table>\n",
       "</div>"
      ],
      "text/plain": [
       "         index root_path                  product_name          filename  \\\n",
       "190117  193818       img  Open-Front_Collarless_Blazer  img_00000013.jpg   \n",
       "59930    61045       img      Colorblock_Athletic_Tank  img_00000033.jpg   \n",
       "22839    23283       img         Belted_Utility_Romper  img_00000031.jpg   \n",
       "91844    93572       img         Dotted_Chiffon_Blouse  img_00000008.jpg   \n",
       "105291  107273       img       Epic_Weekend_Muscle_Tee  img_00000013.jpg   \n",
       "\n",
       "                                                     path product_type   x1  \\\n",
       "190117  img/Open-Front_Collarless_Blazer/img_00000013.jpg       Blazer  102   \n",
       "59930       img/Colorblock_Athletic_Tank/img_00000033.jpg         Tank  008   \n",
       "22839          img/Belted_Utility_Romper/img_00000031.jpg       Romper  056   \n",
       "91844          img/Dotted_Chiffon_Blouse/img_00000008.jpg       Blouse  001   \n",
       "105291       img/Epic_Weekend_Muscle_Tee/img_00000013.jpg          Tee  028   \n",
       "\n",
       "         y1   x2   y2  \n",
       "190117  043  176  149  \n",
       "59930   001  178  300  \n",
       "22839   049  181  276  \n",
       "91844   038  210  246  \n",
       "105291  038  172  244  "
      ]
     },
     "execution_count": 27,
     "metadata": {},
     "output_type": "execute_result"
    }
   ],
   "source": [
    "df_all = df.merge(df_boxes, on='path')\n",
    "df_all.sample(5)"
   ]
  },
  {
   "cell_type": "markdown",
   "id": "b016c5ee",
   "metadata": {},
   "source": [
    "### Inspect a few sample images and corresponding bounding boxes"
   ]
  },
  {
   "cell_type": "code",
   "execution_count": 28,
   "id": "d5abd8c3",
   "metadata": {},
   "outputs": [],
   "source": [
    "toplot = df_all[df_all.product_name=='Scalloped_Halter_Dress'][:10]"
   ]
  },
  {
   "cell_type": "code",
   "execution_count": 30,
   "id": "1412ecaa",
   "metadata": {},
   "outputs": [],
   "source": [
    "# extract sample images from archive to disk\n",
    "filelist = toplot.path.values\n",
    "zipf.extractall(path=pre_path+'temp/', members=filelist)"
   ]
  },
  {
   "cell_type": "code",
   "execution_count": 31,
   "id": "c40ebfab",
   "metadata": {},
   "outputs": [
    {
     "data": {
      "image/png": "[encoded data removed]",
      "text/plain": [
       "<Figure size 432x288 with 1 Axes>"
      ]
     },
     "metadata": {
      "needs_background": "light"
     },
     "output_type": "display_data"
    }
   ],
   "source": [
    "row = toplot.iloc[8].values\n",
    "img = cv2.imread(pre_path+'temp/'+row[4])\n",
    "img = cv2.cvtColor(img, cv2.COLOR_BGR2RGB)\n",
    "(x1, y1, x2, y2) = [int(x) for x in row[-4:]]\n",
    "img_bbox = cv2.rectangle(img, (x1, y1), (x2, y2), (0, 255, 0), 2)\n",
    "plt.imshow(img)\n",
    "plt.show()"
   ]
  },
  {
   "cell_type": "markdown",
   "id": "002bca26",
   "metadata": {},
   "source": [
    "# Prepare subset of overall data based on specific categories of products"
   ]
  },
  {
   "cell_type": "markdown",
   "id": "4f686f86",
   "metadata": {},
   "source": [
    "### Sample files in categories"
   ]
  },
  {
   "cell_type": "code",
   "execution_count": 32,
   "id": "7eaeb873",
   "metadata": {},
   "outputs": [],
   "source": [
    "cats = ['Tee', 'Blouse', 'Shorts', 'Jeans']\n",
    "subset = df_all[df_all.product_type.isin(cats)]"
   ]
  },
  {
   "cell_type": "code",
   "execution_count": 33,
   "id": "592e5a5f",
   "metadata": {},
   "outputs": [],
   "source": [
    "# numitems is used to determine the category with the smallest number of items\n",
    "numitems = min(subset.groupby('product_type').count().path)"
   ]
  },
  {
   "cell_type": "code",
   "execution_count": 34,
   "id": "de40631f",
   "metadata": {},
   "outputs": [
    {
     "data": {
      "text/plain": [
       "19812"
      ]
     },
     "execution_count": 34,
     "metadata": {},
     "output_type": "execute_result"
    }
   ],
   "source": [
    "# then we sample numitems * 70% in each of the cateogries to leave images for later validation and/or testing\n",
    "subsample = subset.groupby('product_type').sample(n=int(numitems*.7))\n",
    "len(subsample)"
   ]
  },
  {
   "cell_type": "code",
   "execution_count": 35,
   "id": "fcbad634",
   "metadata": {},
   "outputs": [],
   "source": [
    "# Extract all the sample files from the zipped archive to disk\n",
    "filelist = subsample.path.values\n",
    "zipf.extractall(path=pre_path+'fashion/', members=filelist)"
   ]
  },
  {
   "cell_type": "markdown",
   "id": "abcb3ded",
   "metadata": {},
   "source": [
    "### Determine dimensions and remove samples not meeting criteria"
   ]
  },
  {
   "cell_type": "code",
   "execution_count": 36,
   "id": "9fed46ec",
   "metadata": {},
   "outputs": [],
   "source": [
    "# determine the dimensions of each image\n",
    "# this is necessary for YOLOv5 training, where we have to specify a \"longest\" dimension for the training\n",
    "dims = []\n",
    "for file in filelist[:]:\n",
    "    i = Image.open(pre_path+'fashion/'+file)\n",
    "    dims.append([*i.size])\n",
    "dims_df = pd.DataFrame(dims, columns=['i_w', 'i_h'])"
   ]
  },
  {
   "cell_type": "code",
   "execution_count": 37,
   "id": "0233e1f3",
   "metadata": {},
   "outputs": [
    {
     "name": "stdout",
     "output_type": "stream",
     "text": [
      "      i_h\n",
      "i_w      \n",
      "300  5939\n",
      "       i_w\n",
      "i_h       \n",
      "300  14434\n"
     ]
    }
   ],
   "source": [
    "most_common_w = dims_df.groupby('i_w').count().sort_values(by='i_h', ascending=False).iloc[:1]\n",
    "most_common_h = dims_df.groupby('i_h').count().sort_values(by='i_w', ascending=False).iloc[:1]\n",
    "print(most_common_w)\n",
    "print(most_common_h)"
   ]
  },
  {
   "cell_type": "code",
   "execution_count": 38,
   "id": "daef59ef",
   "metadata": {},
   "outputs": [],
   "source": [
    "most_common_dim = 300"
   ]
  },
  {
   "cell_type": "code",
   "execution_count": 39,
   "id": "983f2414",
   "metadata": {},
   "outputs": [],
   "source": [
    "subsample = pd.concat([subsample.reset_index(drop=True), dims_df.reset_index(drop=True)], axis=1)"
   ]
  },
  {
   "cell_type": "code",
   "execution_count": 40,
   "id": "05c47525",
   "metadata": {},
   "outputs": [
    {
     "name": "stdout",
     "output_type": "stream",
     "text": [
      "1290 2584\n"
     ]
    }
   ],
   "source": [
    "# determine which images are outside the range of the \n",
    "toobig = subsample[(subsample['i_w'] > most_common_dim) | (subsample['i_h'] > most_common_dim)]\n",
    "toosmall = subsample[(subsample['i_w'] < most_common_dim) & (subsample['i_h'] < most_common_dim)]\n",
    "print(len(toobig), len(toosmall))"
   ]
  },
  {
   "cell_type": "code",
   "execution_count": 41,
   "id": "f96d49dd",
   "metadata": {},
   "outputs": [
    {
     "data": {
      "text/plain": [
       "product_type\n",
       "Blouse    1052\n",
       "Jeans      784\n",
       "Shorts    1016\n",
       "Tee       1022\n",
       "Name: path, dtype: int64"
      ]
     },
     "execution_count": 41,
     "metadata": {},
     "output_type": "execute_result"
    }
   ],
   "source": [
    "toobig.groupby('product_type').count()['path'] + toosmall.groupby('product_type').count()['path']"
   ]
  },
  {
   "cell_type": "code",
   "execution_count": 42,
   "id": "03aab05b",
   "metadata": {},
   "outputs": [
    {
     "data": {
      "text/html": [
       "<div>\n",
       "<style scoped>\n",
       "    .dataframe tbody tr th:only-of-type {\n",
       "        vertical-align: middle;\n",
       "    }\n",
       "\n",
       "    .dataframe tbody tr th {\n",
       "        vertical-align: top;\n",
       "    }\n",
       "\n",
       "    .dataframe thead th {\n",
       "        text-align: right;\n",
       "    }\n",
       "</style>\n",
       "<table border=\"1\" class=\"dataframe\">\n",
       "  <thead>\n",
       "    <tr style=\"text-align: right;\">\n",
       "      <th></th>\n",
       "      <th>index</th>\n",
       "      <th>root_path</th>\n",
       "      <th>product_name</th>\n",
       "      <th>filename</th>\n",
       "      <th>path</th>\n",
       "      <th>product_type</th>\n",
       "      <th>x1</th>\n",
       "      <th>y1</th>\n",
       "      <th>x2</th>\n",
       "      <th>y2</th>\n",
       "      <th>i_w</th>\n",
       "      <th>i_h</th>\n",
       "    </tr>\n",
       "  </thead>\n",
       "  <tbody>\n",
       "    <tr>\n",
       "      <th>0</th>\n",
       "      <td>72036</td>\n",
       "      <td>img</td>\n",
       "      <td>Crochet-Trimmed_Blouse</td>\n",
       "      <td>img_00000065.jpg</td>\n",
       "      <td>img/Crochet-Trimmed_Blouse/img_00000065.jpg</td>\n",
       "      <td>Blouse</td>\n",
       "      <td>090</td>\n",
       "      <td>088</td>\n",
       "      <td>229</td>\n",
       "      <td>250</td>\n",
       "      <td>300</td>\n",
       "      <td>300</td>\n",
       "    </tr>\n",
       "    <tr>\n",
       "      <th>2</th>\n",
       "      <td>242538</td>\n",
       "      <td>img</td>\n",
       "      <td>Split-Back_Pleated_Blouse</td>\n",
       "      <td>img_00000028.jpg</td>\n",
       "      <td>img/Split-Back_Pleated_Blouse/img_00000028.jpg</td>\n",
       "      <td>Blouse</td>\n",
       "      <td>006</td>\n",
       "      <td>024</td>\n",
       "      <td>198</td>\n",
       "      <td>300</td>\n",
       "      <td>200</td>\n",
       "      <td>300</td>\n",
       "    </tr>\n",
       "    <tr>\n",
       "      <th>3</th>\n",
       "      <td>118811</td>\n",
       "      <td>img</td>\n",
       "      <td>Flat_Collar_Woven_Blouse</td>\n",
       "      <td>img_00000007.jpg</td>\n",
       "      <td>img/Flat_Collar_Woven_Blouse/img_00000007.jpg</td>\n",
       "      <td>Blouse</td>\n",
       "      <td>040</td>\n",
       "      <td>060</td>\n",
       "      <td>135</td>\n",
       "      <td>300</td>\n",
       "      <td>205</td>\n",
       "      <td>300</td>\n",
       "    </tr>\n",
       "    <tr>\n",
       "      <th>4</th>\n",
       "      <td>191987</td>\n",
       "      <td>img</td>\n",
       "      <td>Off-The-Shoulder_Blouse</td>\n",
       "      <td>img_00000155.jpg</td>\n",
       "      <td>img/Off-The-Shoulder_Blouse/img_00000155.jpg</td>\n",
       "      <td>Blouse</td>\n",
       "      <td>170</td>\n",
       "      <td>116</td>\n",
       "      <td>295</td>\n",
       "      <td>237</td>\n",
       "      <td>300</td>\n",
       "      <td>270</td>\n",
       "    </tr>\n",
       "    <tr>\n",
       "      <th>5</th>\n",
       "      <td>240757</td>\n",
       "      <td>img</td>\n",
       "      <td>Southwestern_Print_Blouse</td>\n",
       "      <td>img_00000020.jpg</td>\n",
       "      <td>img/Southwestern_Print_Blouse/img_00000020.jpg</td>\n",
       "      <td>Blouse</td>\n",
       "      <td>029</td>\n",
       "      <td>061</td>\n",
       "      <td>267</td>\n",
       "      <td>228</td>\n",
       "      <td>300</td>\n",
       "      <td>300</td>\n",
       "    </tr>\n",
       "  </tbody>\n",
       "</table>\n",
       "</div>"
      ],
      "text/plain": [
       "    index root_path               product_name          filename  \\\n",
       "0   72036       img     Crochet-Trimmed_Blouse  img_00000065.jpg   \n",
       "2  242538       img  Split-Back_Pleated_Blouse  img_00000028.jpg   \n",
       "3  118811       img   Flat_Collar_Woven_Blouse  img_00000007.jpg   \n",
       "4  191987       img    Off-The-Shoulder_Blouse  img_00000155.jpg   \n",
       "5  240757       img  Southwestern_Print_Blouse  img_00000020.jpg   \n",
       "\n",
       "                                             path product_type   x1   y1   x2  \\\n",
       "0     img/Crochet-Trimmed_Blouse/img_00000065.jpg       Blouse  090  088  229   \n",
       "2  img/Split-Back_Pleated_Blouse/img_00000028.jpg       Blouse  006  024  198   \n",
       "3   img/Flat_Collar_Woven_Blouse/img_00000007.jpg       Blouse  040  060  135   \n",
       "4    img/Off-The-Shoulder_Blouse/img_00000155.jpg       Blouse  170  116  295   \n",
       "5  img/Southwestern_Print_Blouse/img_00000020.jpg       Blouse  029  061  267   \n",
       "\n",
       "    y2  i_w  i_h  \n",
       "0  250  300  300  \n",
       "2  300  200  300  \n",
       "3  300  205  300  \n",
       "4  237  300  270  \n",
       "5  228  300  300  "
      ]
     },
     "execution_count": 42,
     "metadata": {},
     "output_type": "execute_result"
    }
   ],
   "source": [
    "subsample = subsample[~subsample.path.isin(toobig.path)]\n",
    "subsample = subsample[~subsample.path.isin(toosmall.path)]\n",
    "subsample.head()"
   ]
  },
  {
   "cell_type": "code",
   "execution_count": 43,
   "id": "bae198ce",
   "metadata": {},
   "outputs": [
    {
     "data": {
      "text/plain": [
       "product_type\n",
       "Blouse    3901\n",
       "Jeans     4169\n",
       "Shorts    3937\n",
       "Tee       3931\n",
       "Name: path, dtype: int64"
      ]
     },
     "execution_count": 43,
     "metadata": {},
     "output_type": "execute_result"
    }
   ],
   "source": [
    "# is it still balanced across classes?\n",
    "subsample.groupby('product_type').count()['path']"
   ]
  },
  {
   "cell_type": "code",
   "execution_count": 44,
   "id": "5c90e8c9",
   "metadata": {},
   "outputs": [],
   "source": [
    "# remove images from disk that are not within required size (300px on one or more dimensions)\n",
    "for file in toobig.path.values:\n",
    "    os.remove(pre_path+'fashion/'+file)\n",
    "    \n",
    "for file in toosmall.path.values:\n",
    "    os.remove(pre_path+'fashion/'+file)"
   ]
  },
  {
   "cell_type": "markdown",
   "id": "6c97f081",
   "metadata": {},
   "source": [
    "### Prepare additional fields for YOLOv5 label data format"
   ]
  },
  {
   "cell_type": "code",
   "execution_count": 45,
   "id": "7173c1d7",
   "metadata": {},
   "outputs": [
    {
     "data": {
      "text/html": [
       "<div>\n",
       "<style scoped>\n",
       "    .dataframe tbody tr th:only-of-type {\n",
       "        vertical-align: middle;\n",
       "    }\n",
       "\n",
       "    .dataframe tbody tr th {\n",
       "        vertical-align: top;\n",
       "    }\n",
       "\n",
       "    .dataframe thead th {\n",
       "        text-align: right;\n",
       "    }\n",
       "</style>\n",
       "<table border=\"1\" class=\"dataframe\">\n",
       "  <thead>\n",
       "    <tr style=\"text-align: right;\">\n",
       "      <th></th>\n",
       "      <th>index</th>\n",
       "      <th>root_path</th>\n",
       "      <th>product_name</th>\n",
       "      <th>filename</th>\n",
       "      <th>path</th>\n",
       "      <th>product_type</th>\n",
       "      <th>x1</th>\n",
       "      <th>y1</th>\n",
       "      <th>x2</th>\n",
       "      <th>y2</th>\n",
       "      <th>i_w</th>\n",
       "      <th>i_h</th>\n",
       "      <th>x</th>\n",
       "      <th>y</th>\n",
       "      <th>w</th>\n",
       "      <th>h</th>\n",
       "    </tr>\n",
       "  </thead>\n",
       "  <tbody>\n",
       "    <tr>\n",
       "      <th>0</th>\n",
       "      <td>72036</td>\n",
       "      <td>img</td>\n",
       "      <td>Crochet-Trimmed_Blouse</td>\n",
       "      <td>img_00000065.jpg</td>\n",
       "      <td>img/Crochet-Trimmed_Blouse/img_00000065.jpg</td>\n",
       "      <td>Blouse</td>\n",
       "      <td>90</td>\n",
       "      <td>88</td>\n",
       "      <td>229</td>\n",
       "      <td>250</td>\n",
       "      <td>300</td>\n",
       "      <td>300</td>\n",
       "      <td>0.531667</td>\n",
       "      <td>0.563333</td>\n",
       "      <td>0.463333</td>\n",
       "      <td>0.540000</td>\n",
       "    </tr>\n",
       "    <tr>\n",
       "      <th>2</th>\n",
       "      <td>242538</td>\n",
       "      <td>img</td>\n",
       "      <td>Split-Back_Pleated_Blouse</td>\n",
       "      <td>img_00000028.jpg</td>\n",
       "      <td>img/Split-Back_Pleated_Blouse/img_00000028.jpg</td>\n",
       "      <td>Blouse</td>\n",
       "      <td>6</td>\n",
       "      <td>24</td>\n",
       "      <td>198</td>\n",
       "      <td>300</td>\n",
       "      <td>200</td>\n",
       "      <td>300</td>\n",
       "      <td>0.510000</td>\n",
       "      <td>0.540000</td>\n",
       "      <td>0.960000</td>\n",
       "      <td>0.920000</td>\n",
       "    </tr>\n",
       "    <tr>\n",
       "      <th>3</th>\n",
       "      <td>118811</td>\n",
       "      <td>img</td>\n",
       "      <td>Flat_Collar_Woven_Blouse</td>\n",
       "      <td>img_00000007.jpg</td>\n",
       "      <td>img/Flat_Collar_Woven_Blouse/img_00000007.jpg</td>\n",
       "      <td>Blouse</td>\n",
       "      <td>40</td>\n",
       "      <td>60</td>\n",
       "      <td>135</td>\n",
       "      <td>300</td>\n",
       "      <td>205</td>\n",
       "      <td>300</td>\n",
       "      <td>0.426829</td>\n",
       "      <td>0.600000</td>\n",
       "      <td>0.463415</td>\n",
       "      <td>0.800000</td>\n",
       "    </tr>\n",
       "    <tr>\n",
       "      <th>4</th>\n",
       "      <td>191987</td>\n",
       "      <td>img</td>\n",
       "      <td>Off-The-Shoulder_Blouse</td>\n",
       "      <td>img_00000155.jpg</td>\n",
       "      <td>img/Off-The-Shoulder_Blouse/img_00000155.jpg</td>\n",
       "      <td>Blouse</td>\n",
       "      <td>170</td>\n",
       "      <td>116</td>\n",
       "      <td>295</td>\n",
       "      <td>237</td>\n",
       "      <td>300</td>\n",
       "      <td>270</td>\n",
       "      <td>0.775000</td>\n",
       "      <td>0.653704</td>\n",
       "      <td>0.416667</td>\n",
       "      <td>0.448148</td>\n",
       "    </tr>\n",
       "    <tr>\n",
       "      <th>5</th>\n",
       "      <td>240757</td>\n",
       "      <td>img</td>\n",
       "      <td>Southwestern_Print_Blouse</td>\n",
       "      <td>img_00000020.jpg</td>\n",
       "      <td>img/Southwestern_Print_Blouse/img_00000020.jpg</td>\n",
       "      <td>Blouse</td>\n",
       "      <td>29</td>\n",
       "      <td>61</td>\n",
       "      <td>267</td>\n",
       "      <td>228</td>\n",
       "      <td>300</td>\n",
       "      <td>300</td>\n",
       "      <td>0.493333</td>\n",
       "      <td>0.481667</td>\n",
       "      <td>0.793333</td>\n",
       "      <td>0.556667</td>\n",
       "    </tr>\n",
       "  </tbody>\n",
       "</table>\n",
       "</div>"
      ],
      "text/plain": [
       "    index root_path               product_name          filename  \\\n",
       "0   72036       img     Crochet-Trimmed_Blouse  img_00000065.jpg   \n",
       "2  242538       img  Split-Back_Pleated_Blouse  img_00000028.jpg   \n",
       "3  118811       img   Flat_Collar_Woven_Blouse  img_00000007.jpg   \n",
       "4  191987       img    Off-The-Shoulder_Blouse  img_00000155.jpg   \n",
       "5  240757       img  Southwestern_Print_Blouse  img_00000020.jpg   \n",
       "\n",
       "                                             path product_type   x1   y1   x2  \\\n",
       "0     img/Crochet-Trimmed_Blouse/img_00000065.jpg       Blouse   90   88  229   \n",
       "2  img/Split-Back_Pleated_Blouse/img_00000028.jpg       Blouse    6   24  198   \n",
       "3   img/Flat_Collar_Woven_Blouse/img_00000007.jpg       Blouse   40   60  135   \n",
       "4    img/Off-The-Shoulder_Blouse/img_00000155.jpg       Blouse  170  116  295   \n",
       "5  img/Southwestern_Print_Blouse/img_00000020.jpg       Blouse   29   61  267   \n",
       "\n",
       "    y2  i_w  i_h         x         y         w         h  \n",
       "0  250  300  300  0.531667  0.563333  0.463333  0.540000  \n",
       "2  300  200  300  0.510000  0.540000  0.960000  0.920000  \n",
       "3  300  205  300  0.426829  0.600000  0.463415  0.800000  \n",
       "4  237  300  270  0.775000  0.653704  0.416667  0.448148  \n",
       "5  228  300  300  0.493333  0.481667  0.793333  0.556667  "
      ]
     },
     "execution_count": 45,
     "metadata": {},
     "output_type": "execute_result"
    }
   ],
   "source": [
    "# calculate the elements needed for the YOLOv5 PyTorch training input labels/\n",
    "subsample.x1 = subsample.x1.astype(int)\n",
    "subsample.y1 = subsample.y1.astype(int)\n",
    "subsample.x2 = subsample.x2.astype(int)\n",
    "subsample.y2 = subsample.y2.astype(int)\n",
    "subsample.i_w = subsample.i_w.astype(int)\n",
    "subsample.i_h = subsample.i_h.astype(int)\n",
    "\n",
    "subsample['x'] = subsample.apply(lambda row: (((row.x2 - row.x1)/2) + row.x1) / row.i_w, axis=1)\n",
    "subsample['y'] = subsample.apply(lambda row: (((row.y2 - row.y1)/2) + row.y1) / row.i_h, axis=1)\n",
    "subsample['w'] = subsample.apply(lambda row: (row.x2 - row.x1) / row.i_w, axis=1)\n",
    "subsample['h'] = subsample.apply(lambda row: (row.y2 - row.y1) / row.i_h, axis=1)\n",
    "subsample.head()"
   ]
  },
  {
   "cell_type": "markdown",
   "id": "b9f0e310",
   "metadata": {},
   "source": [
    "### Verify reconstruction of bboxes"
   ]
  },
  {
   "cell_type": "code",
   "execution_count": 46,
   "id": "42f75eac",
   "metadata": {},
   "outputs": [
    {
     "data": {
      "image/png": "[encoded data removed]",
      "text/plain": [
       "<Figure size 432x288 with 1 Axes>"
      ]
     },
     "metadata": {
      "needs_background": "light"
     },
     "output_type": "display_data"
    }
   ],
   "source": [
    "# visually inspect some manually chosen random items\n",
    "row = subsample.iloc[5000].values\n",
    "img = cv2.imread(pre_path+'fashion/'+row[4])\n",
    "img = cv2.cvtColor(img, cv2.COLOR_BGR2RGB)\n",
    "(i_w, i_h, x, y, w, h) = row[-6:]\n",
    "# reconstruct the bboxes\n",
    "x1 = int((x-w/2)*i_w)\n",
    "y1 = int((y-h/2)*i_h)\n",
    "x2 = int((x+w/2)*i_w)\n",
    "y2 = int((y+h/2)*i_h)\n",
    "img_bbox = cv2.rectangle(img, (x1, y1), (x2, y2), (0, 255, 0), 2)\n",
    "plt.imshow(img)\n",
    "plt.show()"
   ]
  },
  {
   "cell_type": "markdown",
   "id": "cbac5fc5",
   "metadata": {},
   "source": [
    "### Create label/*.txt and data.yaml files"
   ]
  },
  {
   "cell_type": "code",
   "execution_count": 47,
   "id": "656cdbd5",
   "metadata": {},
   "outputs": [],
   "source": [
    "# create 1 label file for each image\n",
    "for i, entry in subsample.iterrows():\n",
    "    # see YOLOv5 pytorch data format:  class x_center y_center width height\n",
    "    idx = cats.index(entry.product_type)\n",
    "    metadata = str(idx)+' ' + ' '.join([str(round(x,3)) for x in entry.iloc[-4:]])    \n",
    "    filepath = entry.path.split('.')[0]\n",
    "    fileroot = pre_path+'fashion/labels/'+filepath\n",
    "    \n",
    "    if not os.path.exists(os.path.dirname(fileroot)):\n",
    "        try:\n",
    "            os.makedirs(os.path.dirname(fileroot))\n",
    "        except: # Guard against race condition\n",
    "            print(problem)\n",
    "            raise\n",
    "    \n",
    "    f = open(fileroot+'.txt', 'w')\n",
    "    f.write(metadata)\n",
    "    f.close()"
   ]
  },
  {
   "cell_type": "code",
   "execution_count": 48,
   "id": "b059a8ad",
   "metadata": {},
   "outputs": [],
   "source": [
    "lines = []\n",
    "lines.append('path: ../datasets/fashion # root dir\\n')\n",
    "lines.append('train: images/train\\n')\n",
    "lines.append('val: images/val\\n')\n",
    "lines.append('test:  # test images (optional)\\n')\n",
    "\n",
    "lines.append('nc: '+str(len(cats))+' # number of classes\\n')\n",
    "\n",
    "str_classes = \"[ '\" + \"',\\n'\".join(cats) + \"' ]\"\n",
    "\n",
    "lines.append('names: '+str_classes + '\\n')\n",
    "\n",
    "f = open(pre_path+'fashion/fashion.yaml', 'w')\n",
    "f.writelines(lines)\n",
    "f.close()"
   ]
  },
  {
   "cell_type": "markdown",
   "id": "aa1ad6d5",
   "metadata": {},
   "source": [
    "# Split into Train/Val"
   ]
  },
  {
   "cell_type": "code",
   "execution_count": 49,
   "id": "bbc0a094",
   "metadata": {},
   "outputs": [],
   "source": [
    "from sklearn.model_selection import train_test_split\n",
    "\n",
    "train, val = train_test_split(subsample, test_size=0.2)"
   ]
  },
  {
   "cell_type": "code",
   "execution_count": 50,
   "id": "86af3bee",
   "metadata": {},
   "outputs": [],
   "source": [
    "if not os.path.exists(pre_path+'fashion/images'):\n",
    "    os.mkdir(pre_path+'fashion/images')\n",
    "if not os.path.exists(pre_path+'fashion/images/train'):\n",
    "    os.mkdir(pre_path+'fashion/images/train')\n",
    "if not os.path.exists(pre_path+'fashion/images/val'):\n",
    "    os.mkdir(pre_path+'fashion/images/val')\n",
    "\n",
    "if not os.path.exists(pre_path+'fashion/labels'):\n",
    "    os.mkdir(pre_path+'fashion/labels')\n",
    "if not os.path.exists(pre_path+'fashion/labels/train'):\n",
    "    os.mkdir(pre_path+'fashion/labels/train')\n",
    "if not os.path.exists(pre_path+'fashion/labels/val'):\n",
    "    os.mkdir(pre_path+'fashion/labels/val')"
   ]
  },
  {
   "cell_type": "code",
   "execution_count": 51,
   "id": "8e5cb91e",
   "metadata": {},
   "outputs": [
    {
     "name": "stdout",
     "output_type": "stream",
     "text": [
      "error on  ../../../DeepFashion1/fashion/img/L.A.T.H.C._Graphic_Drawstring_Shorts/img_00000005.jpg\n",
      "error on  ../../../DeepFashion1/fashion/img/L.A.T.H.C._Graphic_Drawstring_Shorts/img_00000031.jpg\n",
      "error on  ../../../DeepFashion1/fashion/img/L.A._Graphic_Tee/img_00000035.jpg\n",
      "error on  ../../../DeepFashion1/fashion/img/L.A.T.H.C._Graphic_Drawstring_Shorts/img_00000027.jpg\n",
      "error on  ../../../DeepFashion1/fashion/img/L.A._Graphic_Tee/img_00000059.jpg\n",
      "error on  ../../../DeepFashion1/fashion/img/L.A.T.H.C._Abstract_Print_Tee/img_00000008.jpg\n",
      "error on  ../../../DeepFashion1/fashion/img/L.A._Graphic_Tee/img_00000023.jpg\n"
     ]
    }
   ],
   "source": [
    "for i, file in val.iterrows():\n",
    "    base=file.path\n",
    "    src = pre_path+'fashion/'+base\n",
    "    dest = pre_path+'fashion/images/val/'+base.replace('img/', '')\n",
    "    folder = pre_path+'fashion/images/val/' + '/'.join(base.split('/')[1:-1])\n",
    "    if not os.path.exists(folder):\n",
    "        os.mkdir(folder)\n",
    "    try:\n",
    "        shutil.move(src, dest)\n",
    "    except:\n",
    "        print('error on ',src)\n",
    "\n",
    "    lbl_base = base.split('.')[0]+'.txt'\n",
    "    lbl_src = pre_path+'fashion/labels/'+lbl_base\n",
    "    lbl_dest = pre_path+'fashion/labels/val/'+lbl_base.replace('img/', '')\n",
    "    folder = pre_path+'fashion/labels/val/' + '/'.join(base.split('/')[1:-1])\n",
    "    if not os.path.exists(folder):\n",
    "        os.mkdir(folder)\n",
    "    try:\n",
    "        shutil.move(lbl_src, lbl_dest)\n",
    "    except:\n",
    "        print('error on ',src)"
   ]
  },
  {
   "cell_type": "markdown",
   "id": "c8892d11",
   "metadata": {},
   "source": [
    "# Cleanup remaining paths and create .zip for YOLOv5 training"
   ]
  },
  {
   "cell_type": "code",
   "execution_count": 53,
   "id": "4680bad4",
   "metadata": {},
   "outputs": [],
   "source": [
    "!mv ../../../DeepFashion1/fashion/img/* ../../../DeepFashion1/fashion/images/train\n",
    "!rm -r ../../../DeepFashion1/fashion/img"
   ]
  },
  {
   "cell_type": "code",
   "execution_count": 54,
   "id": "0c0663e6",
   "metadata": {},
   "outputs": [],
   "source": [
    "!mv ../../../DeepFashion1/fashion/labels/img/* ../../../DeepFashion1/fashion/labels/train\n",
    "!rm -r ../../../DeepFashion1/fashion/labels/img"
   ]
  },
  {
   "cell_type": "code",
   "execution_count": 55,
   "id": "40e4e873",
   "metadata": {},
   "outputs": [],
   "source": [
    "!zip -r -q ../../../DeepFashion1/fashion.zip ../../../DeepFashion1/fashion"
   ]
  },
  {
   "cell_type": "markdown",
   "id": "dbd4aab2",
   "metadata": {},
   "source": [
    "# Next\n",
    "\n",
    "- Load the zip file to the yolov5/pytorch training environment in path datasets/ (to create).\n",
    "- Unzip the file\n",
    "- Copy or move the .yaml file to the path yolov5/data/ (expected by train.py from yolov5).  This path is available after running the setup notebook cell which clones the yolov5 repo."
   ]
  },
  {
   "cell_type": "code",
   "execution_count": null,
   "id": "2194e493",
   "metadata": {},
   "outputs": [],
   "source": []
  }
 ],
 "metadata": {
  "kernelspec": {
   "display_name": "conda_python3",
   "language": "python",
   "name": "conda_python3"
  },
  "language_info": {
   "codemirror_mode": {
    "name": "ipython",
    "version": 3
   },
   "file_extension": ".py",
   "mimetype": "text/x-python",
   "name": "python",
   "nbconvert_exporter": "python",
   "pygments_lexer": "ipython3",
   "version": "3.6.13"
  }
 },
 "nbformat": 4,
 "nbformat_minor": 5
}
