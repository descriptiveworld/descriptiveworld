{
 "cells": [
  {
   "cell_type": "code",
   "execution_count": 4,
   "id": "ready-electricity",
   "metadata": {},
   "outputs": [],
   "source": [
    "import zipfile\n",
    "import pandas as pd\n",
    "import numpy as np\n",
    "import matplotlib.pyplot as plt\n",
    "import cv2\n",
    "from PIL import Image\n",
    "import os\n",
    "import shutil\n",
    "import io\n",
    "from tqdm.notebook import tqdm"
   ]
  },
  {
   "cell_type": "code",
   "execution_count": 5,
   "id": "distinguished-disposition",
   "metadata": {},
   "outputs": [],
   "source": [
    "root_path = 'fashion/images/test/'"
   ]
  },
  {
   "cell_type": "code",
   "execution_count": 9,
   "id": "bottom-accent",
   "metadata": {},
   "outputs": [
    {
     "data": {
      "application/vnd.jupyter.widget-view+json": {
       "model_id": "5a0d92f5bb994205b770b3b898f84c77",
       "version_major": 2,
       "version_minor": 0
      },
      "text/plain": [
       "  0%|          | 0/1123 [00:00<?, ?it/s]"
      ]
     },
     "metadata": {},
     "output_type": "display_data"
    }
   ],
   "source": [
    "target_dim= 640.0\n",
    "\n",
    "for sub_path in tqdm(os.listdir(root_path)):\n",
    "    if 'DS_' not in sub_path:\n",
    "        for filename in os.listdir(root_path+'/'+sub_path)[:]:\n",
    "            if 'jpg' in filename.split('.')[1]:\n",
    "                img = Image.open(root_path+'/'+sub_path+'/'+filename)\n",
    "                img.thumbnail((target_dim,target_dim))\n",
    "                if 'png' in str(type(img)).lower():\n",
    "                    img = img.convert('RGB')\n",
    "                img.save(root_path+'/'+sub_path+'/'+filename, 'JPEG', optimize=True)\n",
    "                #print(sub_path, filename)\n"
   ]
  },
  {
   "cell_type": "code",
   "execution_count": 13,
   "id": "connected-maine",
   "metadata": {},
   "outputs": [
    {
     "data": {
      "application/vnd.jupyter.widget-view+json": {
       "model_id": "938f305a703246318630e55ab8801d95",
       "version_major": 2,
       "version_minor": 0
      },
      "text/plain": [
       "  0%|          | 0/1123 [00:00<?, ?it/s]"
      ]
     },
     "metadata": {},
     "output_type": "display_data"
    }
   ],
   "source": [
    "for sub_path in tqdm(os.listdir(root_path)):\n",
    "    if 'DS_' not in sub_path:\n",
    "        for filename in os.listdir(root_path+'/'+sub_path)[:]:\n",
    "            if 'jpg' in filename.split('.')[1]:\n",
    "                img = Image.open(root_path+'/'+sub_path+'/'+filename)\n",
    "                #print(img.size)\n",
    "                if (img.size[0]>640) | (img.size[1]>640):\n",
    "                    print(subpath, filename)\n",
    "\n"
   ]
  },
  {
   "cell_type": "code",
   "execution_count": null,
   "id": "indonesian-cooler",
   "metadata": {},
   "outputs": [],
   "source": []
  }
 ],
 "metadata": {
  "kernelspec": {
   "display_name": "Python 3",
   "language": "python",
   "name": "python3"
  },
  "language_info": {
   "codemirror_mode": {
    "name": "ipython",
    "version": 3
   },
   "file_extension": ".py",
   "mimetype": "text/x-python",
   "name": "python",
   "nbconvert_exporter": "python",
   "pygments_lexer": "ipython3",
   "version": "3.7.4"
  }
 },
 "nbformat": 4,
 "nbformat_minor": 5
}
